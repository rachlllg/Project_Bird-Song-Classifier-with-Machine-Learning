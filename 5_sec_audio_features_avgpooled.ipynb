{
  "nbformat": 4,
  "nbformat_minor": 0,
  "metadata": {
    "colab": {
      "provenance": [],
      "collapsed_sections": [
        "90O0BIHuRxlJ"
      ],
      "authorship_tag": "ABX9TyM9qAJYaCLALeIMtvyWLMUz",
      "include_colab_link": true
    },
    "kernelspec": {
      "name": "python3",
      "display_name": "Python 3"
    },
    "language_info": {
      "name": "python"
    }
  },
  "cells": [
    {
      "cell_type": "markdown",
      "metadata": {
        "id": "view-in-github",
        "colab_type": "text"
      },
      "source": [
        "<a href=\"https://colab.research.google.com/github/rachlllg/Project_Bird-Song-Classifier-with-Machine-Learning/blob/main/5_sec_audio_features_avgpooled.ipynb\" target=\"_parent\"><img src=\"https://colab.research.google.com/assets/colab-badge.svg\" alt=\"Open In Colab\"/></a>"
      ]
    },
    {
      "cell_type": "markdown",
      "source": [
        "# Import Libraries"
      ],
      "metadata": {
        "id": "5zrthhgToPKO"
      }
    },
    {
      "cell_type": "code",
      "execution_count": null,
      "metadata": {
        "colab": {
          "base_uri": "https://localhost:8080/"
        },
        "id": "36VGGMQ2oFwv",
        "outputId": "0242058a-1af9-4e36-9dbc-f3f1ac002023"
      },
      "outputs": [
        {
          "output_type": "stream",
          "name": "stdout",
          "text": [
            "Drive already mounted at /content/drive; to attempt to forcibly remount, call drive.mount(\"/content/drive\", force_remount=True).\n"
          ]
        }
      ],
      "source": [
        "# for drive access\n",
        "from google.colab import drive\n",
        "drive.mount('/content/drive')\n",
        "\n",
        "# standard libraries\n",
        "import numpy as np\n",
        "import pandas as pd\n",
        "import pickle\n",
        "import time\n",
        "\n",
        "# for audio\n",
        "import librosa\n",
        "\n",
        "# for preprocessing\n",
        "from sklearn.preprocessing import LabelEncoder\n",
        "from sklearn.preprocessing import MinMaxScaler\n",
        "from sklearn.preprocessing import OneHotEncoder\n",
        "import tensorflow as tf\n",
        "\n",
        "# for saving the label & features to disk\n",
        "import pickle"
      ]
    },
    {
      "cell_type": "markdown",
      "source": [
        "# Self Defined Class Methods For Feature Extraction"
      ],
      "metadata": {
        "id": "90O0BIHuRxlJ"
      }
    },
    {
      "cell_type": "code",
      "source": [
        "class Extraction:\n",
        "\n",
        "  def __init__(self,\n",
        "               train_df,\n",
        "               val_df,\n",
        "               sr=16000,\n",
        "               n_mfccs=20, #20 is the default n_mfccs from librosa\n",
        "               n_mels=20, #reduced from 128 default from librosa to 20\n",
        "               n_chroma=12, #12 is the default n_chroma from librosa\n",
        "               features=['mfcc'],\n",
        "               do_normalize=True,\n",
        "               do_avgpool=True #WARNING: THE KERNEL WILL CRASH IF YOU TRY TO EXTRACT ALL FEATURES WITHOUT AVGPOOL\n",
        "               ):\n",
        "    \"\"\"\n",
        "    Instantiate the Extraction class and extract the labels and features from train and val DataFrames.\n",
        "\n",
        "    The extract_features() method is automatically called to extract the labels and features from the given DataFrame.\n",
        "\n",
        "    Parameters:\n",
        "      train_df (pd.DataFrame): DataFrame containing training data.\n",
        "      val_df (pd.DataFrame): DataFrame containing validation data.\n",
        "      sr (int): Sample rate of the audio files.\n",
        "      n_mfccs (int): Number of MFCCs to extract.\n",
        "      n_mels (int): Number of Mel bands to extract.\n",
        "      n_chroma (int): Number of chroma bins to use.\n",
        "      features (list): List of features to extract.\n",
        "        accepted features: 'mfcc', 'chroma', 'rms', 'spectral_centroid', 'melspectrogram', 'continent', 'rating', 'type'.\n",
        "      normalize (bool): Whether to normalize the features.\n",
        "      maxpool (bool): Whether to maxpool the features.\n",
        "    \"\"\"\n",
        "    # instantiate class variables\n",
        "    self.sr = sr\n",
        "    self.n_mfccs = n_mfccs\n",
        "    self.n_mels = n_mels\n",
        "    self.n_chroma = n_chroma\n",
        "    self.do_normalize = do_normalize\n",
        "    self.do_avgpool = do_avgpool\n",
        "\n",
        "    # confirm features have been specified\n",
        "    assert len(features) != 0, \"Must Specify At Least One Feature In The Form Of A List.\"\n",
        "    self.features = features\n",
        "\n",
        "    # confirm features are valid\n",
        "    self.accepted_feature = ['mfcc', 'chroma', 'rms', 'spectral_centroid', 'melspectrogram', 'continent', 'rating', 'type']\n",
        "    for each in self.features:\n",
        "      assert each in self.accepted_feature, f\"{each} is not an accepted feature, only 'mfcc', 'chroma', 'rms', 'spectral_centroid', 'melspectrogram', 'continent', 'rating', and 'type' are accpeted features.\"\n",
        "\n",
        "    # extract train and val labels and features\n",
        "    self.train_y, self.train_features = self.extract_features(train_df)\n",
        "    self.val_y, self.val_features = self.extract_features(val_df)\n",
        "\n",
        "    # process the features by applying normalization or average pooling\n",
        "    self.train_features, self.val_features = self.process_features(self.train_features, self.val_features)\n",
        "\n",
        "\n",
        "  ########################################\n",
        "  # each of the extract_x() function is callable by the extract_features() function based on the features instantiated\n",
        "  # each of the features are extracted from librosa and transposed to shape (n_time, n_features)\n",
        "  ########################################\n",
        "  def extract_mfcc(self, each):\n",
        "    return np.transpose(librosa.feature.mfcc(y=np.array(each), sr=self.sr, n_mfcc=self.n_mfccs))\n",
        "\n",
        "  def extract_chroma(self, each):\n",
        "    return np.transpose(librosa.feature.chroma_stft(y=np.array(each), sr=self.sr, n_chroma=self.n_chroma))\n",
        "\n",
        "  def extract_rms(self, each):\n",
        "    return np.transpose(librosa.feature.rms(y=np.array(each)))\n",
        "\n",
        "  def extract_spectral_centroid(self, each):\n",
        "    return np.transpose(librosa.feature.spectral_centroid(y=np.array(each), sr=self.sr))\n",
        "\n",
        "  def extract_melspectrogram(self, each):\n",
        "    mel = librosa.feature.melspectrogram(y=np.array(each), sr=self.sr, n_mels=self.n_mels)\n",
        "    return np.transpose(librosa.power_to_db(mel))\n",
        "\n",
        "\n",
        "  ########################################\n",
        "  # normalization function is called by process_features() function for the features that require normalization\n",
        "  ########################################\n",
        "  def normalization(self, train_X, val_X, n_time, n_features):\n",
        "    \"\"\"\n",
        "    Normalize the train and val features\n",
        "\n",
        "    Parameters:\n",
        "      train_X (npy): Training feature\n",
        "      val_X (npy): Validation feature\n",
        "      n_time (int): Time axis\n",
        "      n_features (int): Feature axis\n",
        "\n",
        "    Returns:\n",
        "      train_X (npy): Normalized training feature\n",
        "      val_X (npy): Normalized validation feature\n",
        "    \"\"\"\n",
        "    # flatten the np arrays to 1D\n",
        "    train_X_reshape = train_X.reshape(-1, n_time * n_features)\n",
        "    val_X_reshape = val_X.reshape(-1, n_time * n_features)\n",
        "\n",
        "    # use minmaxscaler to normalize the train and val features\n",
        "    scaler = MinMaxScaler((0,1)).fit(train_X_reshape)\n",
        "    train_X_scaled = scaler.transform(train_X_reshape)\n",
        "    val_X_scaled = scaler.transform(val_X_reshape)\n",
        "\n",
        "    # reshape the features to the original shape (n_time, n_features)\n",
        "    train_X = train_X_scaled.reshape(-1, n_time, n_features)\n",
        "    val_X = val_X_scaled.reshape(-1, n_time, n_features)\n",
        "\n",
        "    return train_X, val_X\n",
        "\n",
        "\n",
        "  ########################################\n",
        "  # avgpooling function is called by process_features() function for the features that require average pooling\n",
        "  ########################################\n",
        "  def avgpooling(self, train_X, val_X, n_time, n_features):\n",
        "    \"\"\"\n",
        "    Average pooling the train and val features\n",
        "\n",
        "    Parameters:\n",
        "      train_X (npy): Training feature\n",
        "      val_X (npy): Validation feature\n",
        "      n_time (int): Time axis\n",
        "      n_features (int): Feature axis\n",
        "\n",
        "    Returns:\n",
        "      train_X (npy): Avgpooled training feature\n",
        "      val_X (npy): Avgpooled validation feature\n",
        "    \"\"\"\n",
        "    # instantiate the keras layers and model.\n",
        "    # the model only performs average pooling of inputs\n",
        "    tf.keras.backend.clear_session()\n",
        "    input = tf.keras.layers.Input(shape=(n_time, n_features))\n",
        "    global_avg_pooling = tf.keras.layers.GlobalAveragePooling1D()\n",
        "    pooled = global_avg_pooling(input)\n",
        "    pooling_model = tf.keras.models.Model(inputs=input, outputs=pooled)\n",
        "\n",
        "    # use the instantiated model to avgpool the train and val features\n",
        "    train_X = pooling_model.predict(train_X)\n",
        "    val_X = pooling_model.predict(val_X)\n",
        "\n",
        "    return train_X, val_X\n",
        "\n",
        "\n",
        "  ########################################\n",
        "  # process_features function is called when the class is instantiated\n",
        "  ########################################\n",
        "  def process_features(self, train_features_dict, val_features_dict):\n",
        "    \"\"\"\n",
        "    Apply normalization or average pooling to train and val features\n",
        "\n",
        "    Parameters:\n",
        "      train_features_dict (dict): Dictionary containing the training features\n",
        "      val_features_dict (dict): Dictionary containing the validation features\n",
        "\n",
        "    Returns:\n",
        "      tuple: Tuple containing normalized and/or average pooled training and validation features dictionary\n",
        "    \"\"\"\n",
        "    start_time = time.time()\n",
        "    display('features processing started ---------->')\n",
        "\n",
        "    for each in train_features_dict.keys():\n",
        "      # 'continent', 'rating', and 'type' do not need to be processed\n",
        "      if each == 'continent' or each == 'rating' or each == 'type':\n",
        "        pass\n",
        "      # process numeric features\n",
        "      else:\n",
        "        if each == 'mfcc':\n",
        "          n_features=self.n_mfccs\n",
        "        elif each == 'chroma':\n",
        "          n_features=self.n_chroma\n",
        "        elif each == 'rms' or each == 'spectral_centroid':\n",
        "          n_features=1\n",
        "        elif each == 'melspectrogram':\n",
        "          n_features=self.n_mels\n",
        "\n",
        "        # index the dictionary to find the value of the feature based on the feature name (key)\n",
        "        train_feature = train_features_dict[each]\n",
        "        val_feature = val_features_dict[each]\n",
        "\n",
        "        # call normalization or avgpooling function to apply normalization or average pooling to features\n",
        "        if self.do_normalize and self.do_avgpool:\n",
        "          train_features_dict[each], val_features_dict[each] = self.normalization(train_feature, val_feature, n_time=train_feature.shape[1], n_features=n_features)\n",
        "          train_features_dict[each], val_features_dict[each] = self.avgpooling(train_features_dict[each], val_features_dict[each], n_time=train_feature.shape[1], n_features=n_features)\n",
        "        elif self.do_normalize:\n",
        "          train_features_dict[each], val_features_dict[each] = self.normalization(train_feature, val_feature, n_time=train_feature.shape[1], n_features=n_features)\n",
        "        elif self.do_avgpool:\n",
        "          train_features_dict[each], val_features_dict[each] = self.avgpooling(train_feature, val_feature, n_time=train_feature.shape[1], n_features=n_features)\n",
        "        else:\n",
        "          train_features_dict[each], val_features_dict[each] = train_features_dict[each], val_features_dict[each]\n",
        "\n",
        "        display(f'{each} processed')\n",
        "\n",
        "    end_time = time.time()\n",
        "    display(f'features processing took {(end_time - start_time)/60:.1f} mins')\n",
        "\n",
        "    return train_features_dict, val_features_dict\n",
        "\n",
        "\n",
        "  ########################################\n",
        "  # extract_features function is called when the class is instantiated\n",
        "  ########################################\n",
        "  def extract_features(self, dataframe):\n",
        "    \"\"\"\n",
        "    Extract the label & features from the dataframes\n",
        "\n",
        "    Parameters:\n",
        "      dataframe (pd.DataFrame): DataFrame containing audio file information\n",
        "\n",
        "    Returns:\n",
        "      tuple: Tuple containing labels and a dictionary of extracted features\n",
        "    \"\"\"\n",
        "    start_time = time.time()\n",
        "    display(f'feature extraction started ---------->')\n",
        "\n",
        "    # create empty list and dict to store the labels and features\n",
        "    y = []\n",
        "    features_dict = {item: [] for item in self.features}\n",
        "\n",
        "    # iterate through each row of the dataframe to extract the label and features\n",
        "    for _, row in dataframe.iterrows():\n",
        "      label = row['primary_label']\n",
        "      framed = row['framed']\n",
        "\n",
        "      for each in framed:\n",
        "        y.append(label)\n",
        "\n",
        "        if 'continent' in self.features:\n",
        "          features_dict['continent'].append(row['continent'])\n",
        "        if 'rating' in self.features:\n",
        "          features_dict['rating'].append(row['rating'])\n",
        "        if 'type' in self.features:\n",
        "          features_dict['type'].append(row['type'])\n",
        "\n",
        "        # dynatically call the extract_x function to extract the listed features\n",
        "        for feature in self.features:\n",
        "          extract = f\"extract_{feature}\"\n",
        "          if hasattr(self, extract) and callable(func := getattr(self, extract)):\n",
        "            features_dict[feature].append(func(each))\n",
        "\n",
        "    # cast lists to np arrays\n",
        "    for each in features_dict.keys():\n",
        "      features_dict[each] = np.array(features_dict[each])\n",
        "    y = np.array(y)\n",
        "\n",
        "    end_time = time.time()\n",
        "    display(f'features extraction took {(end_time - start_time)/60:.1f} mins')\n",
        "\n",
        "    return y, features_dict\n"
      ],
      "metadata": {
        "id": "v67atGwPSfju"
      },
      "execution_count": null,
      "outputs": []
    },
    {
      "cell_type": "markdown",
      "source": [
        "# Load train and test framed audio data"
      ],
      "metadata": {
        "id": "LaRn0_a6o1dB"
      }
    },
    {
      "cell_type": "code",
      "source": [
        "with open('/content/drive/MyDrive/project/train_val_csv_pkl/train_df_5_sec.pkl', 'rb') as file:\n",
        "  train_df = pickle.load(file)\n",
        "\n",
        "train_df.head()"
      ],
      "metadata": {
        "colab": {
          "base_uri": "https://localhost:8080/",
          "height": 293
        },
        "id": "sD24KAS7o304",
        "outputId": "a2de8695-92db-47fa-f630-e566d5d0b9d4"
      },
      "execution_count": null,
      "outputs": [
        {
          "output_type": "execute_result",
          "data": {
            "text/plain": [
              "    primary_label  type  latitude  longitude  rating              filename  \\\n",
              "240       eaywag1  call   42.9650     9.4512     5.0  eaywag1/XC471811.ogg   \n",
              "542        barswa  song   42.8060    13.8335     4.0   barswa/XC371853.ogg   \n",
              "214        comsan  call   60.2357    25.0058     1.0   comsan/XC554068.ogg   \n",
              "492        barswa  song   53.9299    -2.9833     2.5   barswa/XC690496.ogg   \n",
              "190        comsan  call   51.5579    17.5090     4.0   comsan/XC492893.ogg   \n",
              "\n",
              "      duration country continent          filename_npy    set  \\\n",
              "240  17.815500      FR    EUROPE  eaywag1/XC471811.npy  train   \n",
              "542  50.834313      IT    EUROPE   barswa/XC371853.npy  train   \n",
              "214  25.600000      FI    EUROPE   comsan/XC554068.npy  train   \n",
              "492  15.098812      GB    EUROPE   barswa/XC690496.npy  train   \n",
              "190  11.755000      PL    EUROPE   comsan/XC492893.npy  train   \n",
              "\n",
              "                                                framed  \n",
              "240  ((tf.Tensor(7.637085e-06, shape=(), dtype=floa...  \n",
              "542  ((tf.Tensor(-1.867149e-06, shape=(), dtype=flo...  \n",
              "214  ((tf.Tensor(8.780201e-06, shape=(), dtype=floa...  \n",
              "492  ((tf.Tensor(4.4646572e-07, shape=(), dtype=flo...  \n",
              "190  ((tf.Tensor(-3.6929268e-06, shape=(), dtype=fl...  "
            ],
            "text/html": [
              "\n",
              "  <div id=\"df-09e2608b-ef9a-409b-9871-faeb6867a5b8\" class=\"colab-df-container\">\n",
              "    <div>\n",
              "<style scoped>\n",
              "    .dataframe tbody tr th:only-of-type {\n",
              "        vertical-align: middle;\n",
              "    }\n",
              "\n",
              "    .dataframe tbody tr th {\n",
              "        vertical-align: top;\n",
              "    }\n",
              "\n",
              "    .dataframe thead th {\n",
              "        text-align: right;\n",
              "    }\n",
              "</style>\n",
              "<table border=\"1\" class=\"dataframe\">\n",
              "  <thead>\n",
              "    <tr style=\"text-align: right;\">\n",
              "      <th></th>\n",
              "      <th>primary_label</th>\n",
              "      <th>type</th>\n",
              "      <th>latitude</th>\n",
              "      <th>longitude</th>\n",
              "      <th>rating</th>\n",
              "      <th>filename</th>\n",
              "      <th>duration</th>\n",
              "      <th>country</th>\n",
              "      <th>continent</th>\n",
              "      <th>filename_npy</th>\n",
              "      <th>set</th>\n",
              "      <th>framed</th>\n",
              "    </tr>\n",
              "  </thead>\n",
              "  <tbody>\n",
              "    <tr>\n",
              "      <th>240</th>\n",
              "      <td>eaywag1</td>\n",
              "      <td>call</td>\n",
              "      <td>42.9650</td>\n",
              "      <td>9.4512</td>\n",
              "      <td>5.0</td>\n",
              "      <td>eaywag1/XC471811.ogg</td>\n",
              "      <td>17.815500</td>\n",
              "      <td>FR</td>\n",
              "      <td>EUROPE</td>\n",
              "      <td>eaywag1/XC471811.npy</td>\n",
              "      <td>train</td>\n",
              "      <td>((tf.Tensor(7.637085e-06, shape=(), dtype=floa...</td>\n",
              "    </tr>\n",
              "    <tr>\n",
              "      <th>542</th>\n",
              "      <td>barswa</td>\n",
              "      <td>song</td>\n",
              "      <td>42.8060</td>\n",
              "      <td>13.8335</td>\n",
              "      <td>4.0</td>\n",
              "      <td>barswa/XC371853.ogg</td>\n",
              "      <td>50.834313</td>\n",
              "      <td>IT</td>\n",
              "      <td>EUROPE</td>\n",
              "      <td>barswa/XC371853.npy</td>\n",
              "      <td>train</td>\n",
              "      <td>((tf.Tensor(-1.867149e-06, shape=(), dtype=flo...</td>\n",
              "    </tr>\n",
              "    <tr>\n",
              "      <th>214</th>\n",
              "      <td>comsan</td>\n",
              "      <td>call</td>\n",
              "      <td>60.2357</td>\n",
              "      <td>25.0058</td>\n",
              "      <td>1.0</td>\n",
              "      <td>comsan/XC554068.ogg</td>\n",
              "      <td>25.600000</td>\n",
              "      <td>FI</td>\n",
              "      <td>EUROPE</td>\n",
              "      <td>comsan/XC554068.npy</td>\n",
              "      <td>train</td>\n",
              "      <td>((tf.Tensor(8.780201e-06, shape=(), dtype=floa...</td>\n",
              "    </tr>\n",
              "    <tr>\n",
              "      <th>492</th>\n",
              "      <td>barswa</td>\n",
              "      <td>song</td>\n",
              "      <td>53.9299</td>\n",
              "      <td>-2.9833</td>\n",
              "      <td>2.5</td>\n",
              "      <td>barswa/XC690496.ogg</td>\n",
              "      <td>15.098812</td>\n",
              "      <td>GB</td>\n",
              "      <td>EUROPE</td>\n",
              "      <td>barswa/XC690496.npy</td>\n",
              "      <td>train</td>\n",
              "      <td>((tf.Tensor(4.4646572e-07, shape=(), dtype=flo...</td>\n",
              "    </tr>\n",
              "    <tr>\n",
              "      <th>190</th>\n",
              "      <td>comsan</td>\n",
              "      <td>call</td>\n",
              "      <td>51.5579</td>\n",
              "      <td>17.5090</td>\n",
              "      <td>4.0</td>\n",
              "      <td>comsan/XC492893.ogg</td>\n",
              "      <td>11.755000</td>\n",
              "      <td>PL</td>\n",
              "      <td>EUROPE</td>\n",
              "      <td>comsan/XC492893.npy</td>\n",
              "      <td>train</td>\n",
              "      <td>((tf.Tensor(-3.6929268e-06, shape=(), dtype=fl...</td>\n",
              "    </tr>\n",
              "  </tbody>\n",
              "</table>\n",
              "</div>\n",
              "    <div class=\"colab-df-buttons\">\n",
              "\n",
              "  <div class=\"colab-df-container\">\n",
              "    <button class=\"colab-df-convert\" onclick=\"convertToInteractive('df-09e2608b-ef9a-409b-9871-faeb6867a5b8')\"\n",
              "            title=\"Convert this dataframe to an interactive table.\"\n",
              "            style=\"display:none;\">\n",
              "\n",
              "  <svg xmlns=\"http://www.w3.org/2000/svg\" height=\"24px\" viewBox=\"0 -960 960 960\">\n",
              "    <path d=\"M120-120v-720h720v720H120Zm60-500h600v-160H180v160Zm220 220h160v-160H400v160Zm0 220h160v-160H400v160ZM180-400h160v-160H180v160Zm440 0h160v-160H620v160ZM180-180h160v-160H180v160Zm440 0h160v-160H620v160Z\"/>\n",
              "  </svg>\n",
              "    </button>\n",
              "\n",
              "  <style>\n",
              "    .colab-df-container {\n",
              "      display:flex;\n",
              "      gap: 12px;\n",
              "    }\n",
              "\n",
              "    .colab-df-convert {\n",
              "      background-color: #E8F0FE;\n",
              "      border: none;\n",
              "      border-radius: 50%;\n",
              "      cursor: pointer;\n",
              "      display: none;\n",
              "      fill: #1967D2;\n",
              "      height: 32px;\n",
              "      padding: 0 0 0 0;\n",
              "      width: 32px;\n",
              "    }\n",
              "\n",
              "    .colab-df-convert:hover {\n",
              "      background-color: #E2EBFA;\n",
              "      box-shadow: 0px 1px 2px rgba(60, 64, 67, 0.3), 0px 1px 3px 1px rgba(60, 64, 67, 0.15);\n",
              "      fill: #174EA6;\n",
              "    }\n",
              "\n",
              "    .colab-df-buttons div {\n",
              "      margin-bottom: 4px;\n",
              "    }\n",
              "\n",
              "    [theme=dark] .colab-df-convert {\n",
              "      background-color: #3B4455;\n",
              "      fill: #D2E3FC;\n",
              "    }\n",
              "\n",
              "    [theme=dark] .colab-df-convert:hover {\n",
              "      background-color: #434B5C;\n",
              "      box-shadow: 0px 1px 3px 1px rgba(0, 0, 0, 0.15);\n",
              "      filter: drop-shadow(0px 1px 2px rgba(0, 0, 0, 0.3));\n",
              "      fill: #FFFFFF;\n",
              "    }\n",
              "  </style>\n",
              "\n",
              "    <script>\n",
              "      const buttonEl =\n",
              "        document.querySelector('#df-09e2608b-ef9a-409b-9871-faeb6867a5b8 button.colab-df-convert');\n",
              "      buttonEl.style.display =\n",
              "        google.colab.kernel.accessAllowed ? 'block' : 'none';\n",
              "\n",
              "      async function convertToInteractive(key) {\n",
              "        const element = document.querySelector('#df-09e2608b-ef9a-409b-9871-faeb6867a5b8');\n",
              "        const dataTable =\n",
              "          await google.colab.kernel.invokeFunction('convertToInteractive',\n",
              "                                                    [key], {});\n",
              "        if (!dataTable) return;\n",
              "\n",
              "        const docLinkHtml = 'Like what you see? Visit the ' +\n",
              "          '<a target=\"_blank\" href=https://colab.research.google.com/notebooks/data_table.ipynb>data table notebook</a>'\n",
              "          + ' to learn more about interactive tables.';\n",
              "        element.innerHTML = '';\n",
              "        dataTable['output_type'] = 'display_data';\n",
              "        await google.colab.output.renderOutput(dataTable, element);\n",
              "        const docLink = document.createElement('div');\n",
              "        docLink.innerHTML = docLinkHtml;\n",
              "        element.appendChild(docLink);\n",
              "      }\n",
              "    </script>\n",
              "  </div>\n",
              "\n",
              "\n",
              "<div id=\"df-34e2c40c-18e5-4906-b80d-a25645bebdf4\">\n",
              "  <button class=\"colab-df-quickchart\" onclick=\"quickchart('df-34e2c40c-18e5-4906-b80d-a25645bebdf4')\"\n",
              "            title=\"Suggest charts.\"\n",
              "            style=\"display:none;\">\n",
              "\n",
              "<svg xmlns=\"http://www.w3.org/2000/svg\" height=\"24px\"viewBox=\"0 0 24 24\"\n",
              "     width=\"24px\">\n",
              "    <g>\n",
              "        <path d=\"M19 3H5c-1.1 0-2 .9-2 2v14c0 1.1.9 2 2 2h14c1.1 0 2-.9 2-2V5c0-1.1-.9-2-2-2zM9 17H7v-7h2v7zm4 0h-2V7h2v10zm4 0h-2v-4h2v4z\"/>\n",
              "    </g>\n",
              "</svg>\n",
              "  </button>\n",
              "\n",
              "<style>\n",
              "  .colab-df-quickchart {\n",
              "      --bg-color: #E8F0FE;\n",
              "      --fill-color: #1967D2;\n",
              "      --hover-bg-color: #E2EBFA;\n",
              "      --hover-fill-color: #174EA6;\n",
              "      --disabled-fill-color: #AAA;\n",
              "      --disabled-bg-color: #DDD;\n",
              "  }\n",
              "\n",
              "  [theme=dark] .colab-df-quickchart {\n",
              "      --bg-color: #3B4455;\n",
              "      --fill-color: #D2E3FC;\n",
              "      --hover-bg-color: #434B5C;\n",
              "      --hover-fill-color: #FFFFFF;\n",
              "      --disabled-bg-color: #3B4455;\n",
              "      --disabled-fill-color: #666;\n",
              "  }\n",
              "\n",
              "  .colab-df-quickchart {\n",
              "    background-color: var(--bg-color);\n",
              "    border: none;\n",
              "    border-radius: 50%;\n",
              "    cursor: pointer;\n",
              "    display: none;\n",
              "    fill: var(--fill-color);\n",
              "    height: 32px;\n",
              "    padding: 0;\n",
              "    width: 32px;\n",
              "  }\n",
              "\n",
              "  .colab-df-quickchart:hover {\n",
              "    background-color: var(--hover-bg-color);\n",
              "    box-shadow: 0 1px 2px rgba(60, 64, 67, 0.3), 0 1px 3px 1px rgba(60, 64, 67, 0.15);\n",
              "    fill: var(--button-hover-fill-color);\n",
              "  }\n",
              "\n",
              "  .colab-df-quickchart-complete:disabled,\n",
              "  .colab-df-quickchart-complete:disabled:hover {\n",
              "    background-color: var(--disabled-bg-color);\n",
              "    fill: var(--disabled-fill-color);\n",
              "    box-shadow: none;\n",
              "  }\n",
              "\n",
              "  .colab-df-spinner {\n",
              "    border: 2px solid var(--fill-color);\n",
              "    border-color: transparent;\n",
              "    border-bottom-color: var(--fill-color);\n",
              "    animation:\n",
              "      spin 1s steps(1) infinite;\n",
              "  }\n",
              "\n",
              "  @keyframes spin {\n",
              "    0% {\n",
              "      border-color: transparent;\n",
              "      border-bottom-color: var(--fill-color);\n",
              "      border-left-color: var(--fill-color);\n",
              "    }\n",
              "    20% {\n",
              "      border-color: transparent;\n",
              "      border-left-color: var(--fill-color);\n",
              "      border-top-color: var(--fill-color);\n",
              "    }\n",
              "    30% {\n",
              "      border-color: transparent;\n",
              "      border-left-color: var(--fill-color);\n",
              "      border-top-color: var(--fill-color);\n",
              "      border-right-color: var(--fill-color);\n",
              "    }\n",
              "    40% {\n",
              "      border-color: transparent;\n",
              "      border-right-color: var(--fill-color);\n",
              "      border-top-color: var(--fill-color);\n",
              "    }\n",
              "    60% {\n",
              "      border-color: transparent;\n",
              "      border-right-color: var(--fill-color);\n",
              "    }\n",
              "    80% {\n",
              "      border-color: transparent;\n",
              "      border-right-color: var(--fill-color);\n",
              "      border-bottom-color: var(--fill-color);\n",
              "    }\n",
              "    90% {\n",
              "      border-color: transparent;\n",
              "      border-bottom-color: var(--fill-color);\n",
              "    }\n",
              "  }\n",
              "</style>\n",
              "\n",
              "  <script>\n",
              "    async function quickchart(key) {\n",
              "      const quickchartButtonEl =\n",
              "        document.querySelector('#' + key + ' button');\n",
              "      quickchartButtonEl.disabled = true;  // To prevent multiple clicks.\n",
              "      quickchartButtonEl.classList.add('colab-df-spinner');\n",
              "      try {\n",
              "        const charts = await google.colab.kernel.invokeFunction(\n",
              "            'suggestCharts', [key], {});\n",
              "      } catch (error) {\n",
              "        console.error('Error during call to suggestCharts:', error);\n",
              "      }\n",
              "      quickchartButtonEl.classList.remove('colab-df-spinner');\n",
              "      quickchartButtonEl.classList.add('colab-df-quickchart-complete');\n",
              "    }\n",
              "    (() => {\n",
              "      let quickchartButtonEl =\n",
              "        document.querySelector('#df-34e2c40c-18e5-4906-b80d-a25645bebdf4 button');\n",
              "      quickchartButtonEl.style.display =\n",
              "        google.colab.kernel.accessAllowed ? 'block' : 'none';\n",
              "    })();\n",
              "  </script>\n",
              "</div>\n",
              "    </div>\n",
              "  </div>\n"
            ]
          },
          "metadata": {},
          "execution_count": 3
        }
      ]
    },
    {
      "cell_type": "code",
      "source": [
        "with open('/content/drive/MyDrive/project/train_val_csv_pkl/val_df_5_sec.pkl', 'rb') as file:\n",
        "  val_df = pickle.load(file)\n",
        "\n",
        "val_df.head()"
      ],
      "metadata": {
        "colab": {
          "base_uri": "https://localhost:8080/",
          "height": 293
        },
        "id": "8e02J0jjpBtN",
        "outputId": "f71c95c1-4ceb-4668-9089-492d3cacacf4"
      },
      "execution_count": null,
      "outputs": [
        {
          "output_type": "execute_result",
          "data": {
            "text/plain": [
              "    primary_label   type  latitude  longitude  rating              filename  \\\n",
              "969        comsan   call   41.8074    -8.8626     4.0   comsan/XC670080.ogg   \n",
              "851        comsan  blank   51.6578    19.3281     5.0   comsan/XC738993.ogg   \n",
              "998        barswa   song   48.2131    -3.0137     5.0   barswa/XC643586.ogg   \n",
              "771        comsan   call   56.0779    47.9129     5.0   comsan/XC371997.ogg   \n",
              "988       eaywag1   call   52.2003    -6.4349     2.0  eaywag1/XC687527.ogg   \n",
              "\n",
              "      duration country continent          filename_npy  set  \\\n",
              "969  11.206000      PT    EUROPE   comsan/XC670080.npy  val   \n",
              "851  11.616000      PL    EUROPE   comsan/XC738993.npy  val   \n",
              "998  49.536000      FR    EUROPE   barswa/XC643586.npy  val   \n",
              "771  12.355937      RU    EUROPE   comsan/XC371997.npy  val   \n",
              "988  15.464000      IE    EUROPE  eaywag1/XC687527.npy  val   \n",
              "\n",
              "                                                framed  \n",
              "969  ((tf.Tensor(9.328758e-06, shape=(), dtype=floa...  \n",
              "851  ((tf.Tensor(6.5908675e-06, shape=(), dtype=flo...  \n",
              "998  ((tf.Tensor(1.9546133e-06, shape=(), dtype=flo...  \n",
              "771  ((tf.Tensor(5.00679e-06, shape=(), dtype=float...  \n",
              "988  ((tf.Tensor(2.4605542e-06, shape=(), dtype=flo...  "
            ],
            "text/html": [
              "\n",
              "  <div id=\"df-2e027246-a357-463e-aa5c-ec17ef615263\" class=\"colab-df-container\">\n",
              "    <div>\n",
              "<style scoped>\n",
              "    .dataframe tbody tr th:only-of-type {\n",
              "        vertical-align: middle;\n",
              "    }\n",
              "\n",
              "    .dataframe tbody tr th {\n",
              "        vertical-align: top;\n",
              "    }\n",
              "\n",
              "    .dataframe thead th {\n",
              "        text-align: right;\n",
              "    }\n",
              "</style>\n",
              "<table border=\"1\" class=\"dataframe\">\n",
              "  <thead>\n",
              "    <tr style=\"text-align: right;\">\n",
              "      <th></th>\n",
              "      <th>primary_label</th>\n",
              "      <th>type</th>\n",
              "      <th>latitude</th>\n",
              "      <th>longitude</th>\n",
              "      <th>rating</th>\n",
              "      <th>filename</th>\n",
              "      <th>duration</th>\n",
              "      <th>country</th>\n",
              "      <th>continent</th>\n",
              "      <th>filename_npy</th>\n",
              "      <th>set</th>\n",
              "      <th>framed</th>\n",
              "    </tr>\n",
              "  </thead>\n",
              "  <tbody>\n",
              "    <tr>\n",
              "      <th>969</th>\n",
              "      <td>comsan</td>\n",
              "      <td>call</td>\n",
              "      <td>41.8074</td>\n",
              "      <td>-8.8626</td>\n",
              "      <td>4.0</td>\n",
              "      <td>comsan/XC670080.ogg</td>\n",
              "      <td>11.206000</td>\n",
              "      <td>PT</td>\n",
              "      <td>EUROPE</td>\n",
              "      <td>comsan/XC670080.npy</td>\n",
              "      <td>val</td>\n",
              "      <td>((tf.Tensor(9.328758e-06, shape=(), dtype=floa...</td>\n",
              "    </tr>\n",
              "    <tr>\n",
              "      <th>851</th>\n",
              "      <td>comsan</td>\n",
              "      <td>blank</td>\n",
              "      <td>51.6578</td>\n",
              "      <td>19.3281</td>\n",
              "      <td>5.0</td>\n",
              "      <td>comsan/XC738993.ogg</td>\n",
              "      <td>11.616000</td>\n",
              "      <td>PL</td>\n",
              "      <td>EUROPE</td>\n",
              "      <td>comsan/XC738993.npy</td>\n",
              "      <td>val</td>\n",
              "      <td>((tf.Tensor(6.5908675e-06, shape=(), dtype=flo...</td>\n",
              "    </tr>\n",
              "    <tr>\n",
              "      <th>998</th>\n",
              "      <td>barswa</td>\n",
              "      <td>song</td>\n",
              "      <td>48.2131</td>\n",
              "      <td>-3.0137</td>\n",
              "      <td>5.0</td>\n",
              "      <td>barswa/XC643586.ogg</td>\n",
              "      <td>49.536000</td>\n",
              "      <td>FR</td>\n",
              "      <td>EUROPE</td>\n",
              "      <td>barswa/XC643586.npy</td>\n",
              "      <td>val</td>\n",
              "      <td>((tf.Tensor(1.9546133e-06, shape=(), dtype=flo...</td>\n",
              "    </tr>\n",
              "    <tr>\n",
              "      <th>771</th>\n",
              "      <td>comsan</td>\n",
              "      <td>call</td>\n",
              "      <td>56.0779</td>\n",
              "      <td>47.9129</td>\n",
              "      <td>5.0</td>\n",
              "      <td>comsan/XC371997.ogg</td>\n",
              "      <td>12.355937</td>\n",
              "      <td>RU</td>\n",
              "      <td>EUROPE</td>\n",
              "      <td>comsan/XC371997.npy</td>\n",
              "      <td>val</td>\n",
              "      <td>((tf.Tensor(5.00679e-06, shape=(), dtype=float...</td>\n",
              "    </tr>\n",
              "    <tr>\n",
              "      <th>988</th>\n",
              "      <td>eaywag1</td>\n",
              "      <td>call</td>\n",
              "      <td>52.2003</td>\n",
              "      <td>-6.4349</td>\n",
              "      <td>2.0</td>\n",
              "      <td>eaywag1/XC687527.ogg</td>\n",
              "      <td>15.464000</td>\n",
              "      <td>IE</td>\n",
              "      <td>EUROPE</td>\n",
              "      <td>eaywag1/XC687527.npy</td>\n",
              "      <td>val</td>\n",
              "      <td>((tf.Tensor(2.4605542e-06, shape=(), dtype=flo...</td>\n",
              "    </tr>\n",
              "  </tbody>\n",
              "</table>\n",
              "</div>\n",
              "    <div class=\"colab-df-buttons\">\n",
              "\n",
              "  <div class=\"colab-df-container\">\n",
              "    <button class=\"colab-df-convert\" onclick=\"convertToInteractive('df-2e027246-a357-463e-aa5c-ec17ef615263')\"\n",
              "            title=\"Convert this dataframe to an interactive table.\"\n",
              "            style=\"display:none;\">\n",
              "\n",
              "  <svg xmlns=\"http://www.w3.org/2000/svg\" height=\"24px\" viewBox=\"0 -960 960 960\">\n",
              "    <path d=\"M120-120v-720h720v720H120Zm60-500h600v-160H180v160Zm220 220h160v-160H400v160Zm0 220h160v-160H400v160ZM180-400h160v-160H180v160Zm440 0h160v-160H620v160ZM180-180h160v-160H180v160Zm440 0h160v-160H620v160Z\"/>\n",
              "  </svg>\n",
              "    </button>\n",
              "\n",
              "  <style>\n",
              "    .colab-df-container {\n",
              "      display:flex;\n",
              "      gap: 12px;\n",
              "    }\n",
              "\n",
              "    .colab-df-convert {\n",
              "      background-color: #E8F0FE;\n",
              "      border: none;\n",
              "      border-radius: 50%;\n",
              "      cursor: pointer;\n",
              "      display: none;\n",
              "      fill: #1967D2;\n",
              "      height: 32px;\n",
              "      padding: 0 0 0 0;\n",
              "      width: 32px;\n",
              "    }\n",
              "\n",
              "    .colab-df-convert:hover {\n",
              "      background-color: #E2EBFA;\n",
              "      box-shadow: 0px 1px 2px rgba(60, 64, 67, 0.3), 0px 1px 3px 1px rgba(60, 64, 67, 0.15);\n",
              "      fill: #174EA6;\n",
              "    }\n",
              "\n",
              "    .colab-df-buttons div {\n",
              "      margin-bottom: 4px;\n",
              "    }\n",
              "\n",
              "    [theme=dark] .colab-df-convert {\n",
              "      background-color: #3B4455;\n",
              "      fill: #D2E3FC;\n",
              "    }\n",
              "\n",
              "    [theme=dark] .colab-df-convert:hover {\n",
              "      background-color: #434B5C;\n",
              "      box-shadow: 0px 1px 3px 1px rgba(0, 0, 0, 0.15);\n",
              "      filter: drop-shadow(0px 1px 2px rgba(0, 0, 0, 0.3));\n",
              "      fill: #FFFFFF;\n",
              "    }\n",
              "  </style>\n",
              "\n",
              "    <script>\n",
              "      const buttonEl =\n",
              "        document.querySelector('#df-2e027246-a357-463e-aa5c-ec17ef615263 button.colab-df-convert');\n",
              "      buttonEl.style.display =\n",
              "        google.colab.kernel.accessAllowed ? 'block' : 'none';\n",
              "\n",
              "      async function convertToInteractive(key) {\n",
              "        const element = document.querySelector('#df-2e027246-a357-463e-aa5c-ec17ef615263');\n",
              "        const dataTable =\n",
              "          await google.colab.kernel.invokeFunction('convertToInteractive',\n",
              "                                                    [key], {});\n",
              "        if (!dataTable) return;\n",
              "\n",
              "        const docLinkHtml = 'Like what you see? Visit the ' +\n",
              "          '<a target=\"_blank\" href=https://colab.research.google.com/notebooks/data_table.ipynb>data table notebook</a>'\n",
              "          + ' to learn more about interactive tables.';\n",
              "        element.innerHTML = '';\n",
              "        dataTable['output_type'] = 'display_data';\n",
              "        await google.colab.output.renderOutput(dataTable, element);\n",
              "        const docLink = document.createElement('div');\n",
              "        docLink.innerHTML = docLinkHtml;\n",
              "        element.appendChild(docLink);\n",
              "      }\n",
              "    </script>\n",
              "  </div>\n",
              "\n",
              "\n",
              "<div id=\"df-5f413959-3f89-49de-a8cb-cb9b2071f687\">\n",
              "  <button class=\"colab-df-quickchart\" onclick=\"quickchart('df-5f413959-3f89-49de-a8cb-cb9b2071f687')\"\n",
              "            title=\"Suggest charts.\"\n",
              "            style=\"display:none;\">\n",
              "\n",
              "<svg xmlns=\"http://www.w3.org/2000/svg\" height=\"24px\"viewBox=\"0 0 24 24\"\n",
              "     width=\"24px\">\n",
              "    <g>\n",
              "        <path d=\"M19 3H5c-1.1 0-2 .9-2 2v14c0 1.1.9 2 2 2h14c1.1 0 2-.9 2-2V5c0-1.1-.9-2-2-2zM9 17H7v-7h2v7zm4 0h-2V7h2v10zm4 0h-2v-4h2v4z\"/>\n",
              "    </g>\n",
              "</svg>\n",
              "  </button>\n",
              "\n",
              "<style>\n",
              "  .colab-df-quickchart {\n",
              "      --bg-color: #E8F0FE;\n",
              "      --fill-color: #1967D2;\n",
              "      --hover-bg-color: #E2EBFA;\n",
              "      --hover-fill-color: #174EA6;\n",
              "      --disabled-fill-color: #AAA;\n",
              "      --disabled-bg-color: #DDD;\n",
              "  }\n",
              "\n",
              "  [theme=dark] .colab-df-quickchart {\n",
              "      --bg-color: #3B4455;\n",
              "      --fill-color: #D2E3FC;\n",
              "      --hover-bg-color: #434B5C;\n",
              "      --hover-fill-color: #FFFFFF;\n",
              "      --disabled-bg-color: #3B4455;\n",
              "      --disabled-fill-color: #666;\n",
              "  }\n",
              "\n",
              "  .colab-df-quickchart {\n",
              "    background-color: var(--bg-color);\n",
              "    border: none;\n",
              "    border-radius: 50%;\n",
              "    cursor: pointer;\n",
              "    display: none;\n",
              "    fill: var(--fill-color);\n",
              "    height: 32px;\n",
              "    padding: 0;\n",
              "    width: 32px;\n",
              "  }\n",
              "\n",
              "  .colab-df-quickchart:hover {\n",
              "    background-color: var(--hover-bg-color);\n",
              "    box-shadow: 0 1px 2px rgba(60, 64, 67, 0.3), 0 1px 3px 1px rgba(60, 64, 67, 0.15);\n",
              "    fill: var(--button-hover-fill-color);\n",
              "  }\n",
              "\n",
              "  .colab-df-quickchart-complete:disabled,\n",
              "  .colab-df-quickchart-complete:disabled:hover {\n",
              "    background-color: var(--disabled-bg-color);\n",
              "    fill: var(--disabled-fill-color);\n",
              "    box-shadow: none;\n",
              "  }\n",
              "\n",
              "  .colab-df-spinner {\n",
              "    border: 2px solid var(--fill-color);\n",
              "    border-color: transparent;\n",
              "    border-bottom-color: var(--fill-color);\n",
              "    animation:\n",
              "      spin 1s steps(1) infinite;\n",
              "  }\n",
              "\n",
              "  @keyframes spin {\n",
              "    0% {\n",
              "      border-color: transparent;\n",
              "      border-bottom-color: var(--fill-color);\n",
              "      border-left-color: var(--fill-color);\n",
              "    }\n",
              "    20% {\n",
              "      border-color: transparent;\n",
              "      border-left-color: var(--fill-color);\n",
              "      border-top-color: var(--fill-color);\n",
              "    }\n",
              "    30% {\n",
              "      border-color: transparent;\n",
              "      border-left-color: var(--fill-color);\n",
              "      border-top-color: var(--fill-color);\n",
              "      border-right-color: var(--fill-color);\n",
              "    }\n",
              "    40% {\n",
              "      border-color: transparent;\n",
              "      border-right-color: var(--fill-color);\n",
              "      border-top-color: var(--fill-color);\n",
              "    }\n",
              "    60% {\n",
              "      border-color: transparent;\n",
              "      border-right-color: var(--fill-color);\n",
              "    }\n",
              "    80% {\n",
              "      border-color: transparent;\n",
              "      border-right-color: var(--fill-color);\n",
              "      border-bottom-color: var(--fill-color);\n",
              "    }\n",
              "    90% {\n",
              "      border-color: transparent;\n",
              "      border-bottom-color: var(--fill-color);\n",
              "    }\n",
              "  }\n",
              "</style>\n",
              "\n",
              "  <script>\n",
              "    async function quickchart(key) {\n",
              "      const quickchartButtonEl =\n",
              "        document.querySelector('#' + key + ' button');\n",
              "      quickchartButtonEl.disabled = true;  // To prevent multiple clicks.\n",
              "      quickchartButtonEl.classList.add('colab-df-spinner');\n",
              "      try {\n",
              "        const charts = await google.colab.kernel.invokeFunction(\n",
              "            'suggestCharts', [key], {});\n",
              "      } catch (error) {\n",
              "        console.error('Error during call to suggestCharts:', error);\n",
              "      }\n",
              "      quickchartButtonEl.classList.remove('colab-df-spinner');\n",
              "      quickchartButtonEl.classList.add('colab-df-quickchart-complete');\n",
              "    }\n",
              "    (() => {\n",
              "      let quickchartButtonEl =\n",
              "        document.querySelector('#df-5f413959-3f89-49de-a8cb-cb9b2071f687 button');\n",
              "      quickchartButtonEl.style.display =\n",
              "        google.colab.kernel.accessAllowed ? 'block' : 'none';\n",
              "    })();\n",
              "  </script>\n",
              "</div>\n",
              "    </div>\n",
              "  </div>\n"
            ]
          },
          "metadata": {},
          "execution_count": 4
        }
      ]
    },
    {
      "cell_type": "markdown",
      "source": [
        "# Extract features"
      ],
      "metadata": {
        "id": "-3fOZyCzpwYV"
      }
    },
    {
      "cell_type": "code",
      "source": [
        "features_list = ['mfcc', 'chroma', 'rms', 'spectral_centroid', 'melspectrogram']"
      ],
      "metadata": {
        "id": "88RzolshpvZi"
      },
      "execution_count": null,
      "outputs": []
    },
    {
      "cell_type": "code",
      "source": [
        "%%time\n",
        "\n",
        "features = Extraction(train_df,\n",
        "                      val_df,\n",
        "                      features=features_list,\n",
        "                      do_normalize=True,\n",
        "                      do_avgpool=True)"
      ],
      "metadata": {
        "colab": {
          "base_uri": "https://localhost:8080/",
          "height": 462
        },
        "id": "mDmHOEsfpx45",
        "outputId": "a69d6357-0313-4fd6-b052-0523a71b92a1"
      },
      "execution_count": null,
      "outputs": [
        {
          "output_type": "display_data",
          "data": {
            "text/plain": [
              "'feature extraction started ---------->'"
            ],
            "application/vnd.google.colaboratory.intrinsic+json": {
              "type": "string"
            }
          },
          "metadata": {}
        },
        {
          "output_type": "stream",
          "name": "stderr",
          "text": [
            "/usr/local/lib/python3.10/dist-packages/librosa/core/pitch.py:101: UserWarning: Trying to estimate tuning from empty frequency set.\n",
            "  return pitch_tuning(\n"
          ]
        },
        {
          "output_type": "display_data",
          "data": {
            "text/plain": [
              "'features extraction took 11.7 mins'"
            ],
            "application/vnd.google.colaboratory.intrinsic+json": {
              "type": "string"
            }
          },
          "metadata": {}
        },
        {
          "output_type": "display_data",
          "data": {
            "text/plain": [
              "'feature extraction started ---------->'"
            ],
            "application/vnd.google.colaboratory.intrinsic+json": {
              "type": "string"
            }
          },
          "metadata": {}
        },
        {
          "output_type": "display_data",
          "data": {
            "text/plain": [
              "'features extraction took 6.2 mins'"
            ],
            "application/vnd.google.colaboratory.intrinsic+json": {
              "type": "string"
            }
          },
          "metadata": {}
        },
        {
          "output_type": "display_data",
          "data": {
            "text/plain": [
              "'features processing started ---------->'"
            ],
            "application/vnd.google.colaboratory.intrinsic+json": {
              "type": "string"
            }
          },
          "metadata": {}
        },
        {
          "output_type": "stream",
          "name": "stdout",
          "text": [
            "258/258 [==============================] - 1s 3ms/step\n",
            "133/133 [==============================] - 0s 2ms/step\n"
          ]
        },
        {
          "output_type": "display_data",
          "data": {
            "text/plain": [
              "'mfcc processed'"
            ],
            "application/vnd.google.colaboratory.intrinsic+json": {
              "type": "string"
            }
          },
          "metadata": {}
        },
        {
          "output_type": "stream",
          "name": "stdout",
          "text": [
            "258/258 [==============================] - 0s 2ms/step\n",
            "133/133 [==============================] - 0s 1ms/step\n"
          ]
        },
        {
          "output_type": "display_data",
          "data": {
            "text/plain": [
              "'chroma processed'"
            ],
            "application/vnd.google.colaboratory.intrinsic+json": {
              "type": "string"
            }
          },
          "metadata": {}
        },
        {
          "output_type": "stream",
          "name": "stdout",
          "text": [
            "258/258 [==============================] - 0s 1ms/step\n",
            "133/133 [==============================] - 0s 1ms/step\n"
          ]
        },
        {
          "output_type": "display_data",
          "data": {
            "text/plain": [
              "'rms processed'"
            ],
            "application/vnd.google.colaboratory.intrinsic+json": {
              "type": "string"
            }
          },
          "metadata": {}
        },
        {
          "output_type": "stream",
          "name": "stdout",
          "text": [
            "258/258 [==============================] - 0s 1ms/step\n",
            "133/133 [==============================] - 0s 1ms/step\n"
          ]
        },
        {
          "output_type": "display_data",
          "data": {
            "text/plain": [
              "'spectral_centroid processed'"
            ],
            "application/vnd.google.colaboratory.intrinsic+json": {
              "type": "string"
            }
          },
          "metadata": {}
        },
        {
          "output_type": "stream",
          "name": "stdout",
          "text": [
            "258/258 [==============================] - 1s 2ms/step\n",
            "133/133 [==============================] - 0s 2ms/step\n"
          ]
        },
        {
          "output_type": "display_data",
          "data": {
            "text/plain": [
              "'melspectrogram processed'"
            ],
            "application/vnd.google.colaboratory.intrinsic+json": {
              "type": "string"
            }
          },
          "metadata": {}
        },
        {
          "output_type": "display_data",
          "data": {
            "text/plain": [
              "'features processing took 0.1 mins'"
            ],
            "application/vnd.google.colaboratory.intrinsic+json": {
              "type": "string"
            }
          },
          "metadata": {}
        },
        {
          "output_type": "stream",
          "name": "stdout",
          "text": [
            "CPU times: user 16min 31s, sys: 11min 42s, total: 28min 14s\n",
            "Wall time: 18min 1s\n"
          ]
        }
      ]
    },
    {
      "cell_type": "code",
      "source": [
        "train_y = features.train_y\n",
        "\n",
        "display(train_y.shape)\n",
        "display(train_y[:5])"
      ],
      "metadata": {
        "colab": {
          "base_uri": "https://localhost:8080/",
          "height": 52
        },
        "id": "KYybc9ffp9gj",
        "outputId": "97c28e69-1f46-43c0-bc95-c9151c7c30bd"
      },
      "execution_count": null,
      "outputs": [
        {
          "output_type": "display_data",
          "data": {
            "text/plain": [
              "(8236,)"
            ]
          },
          "metadata": {}
        },
        {
          "output_type": "display_data",
          "data": {
            "text/plain": [
              "array(['eaywag1', 'eaywag1', 'eaywag1', 'eaywag1', 'eaywag1'], dtype='<U7')"
            ]
          },
          "metadata": {}
        }
      ]
    },
    {
      "cell_type": "code",
      "source": [
        "train_features = features.train_features\n",
        "\n",
        "for key in train_features.keys():\n",
        "  display(key)\n",
        "  display(train_features[key].shape)\n",
        "  display(train_features[key][0])"
      ],
      "metadata": {
        "colab": {
          "base_uri": "https://localhost:8080/",
          "height": 456
        },
        "id": "VmWv8jUzp-XX",
        "outputId": "fb941bef-59e3-451e-db62-92dec7431b4a"
      },
      "execution_count": null,
      "outputs": [
        {
          "output_type": "display_data",
          "data": {
            "text/plain": [
              "'mfcc'"
            ],
            "application/vnd.google.colaboratory.intrinsic+json": {
              "type": "string"
            }
          },
          "metadata": {}
        },
        {
          "output_type": "display_data",
          "data": {
            "text/plain": [
              "(8236, 20)"
            ]
          },
          "metadata": {}
        },
        {
          "output_type": "display_data",
          "data": {
            "text/plain": [
              "array([0.3391694 , 0.40924874, 0.5358972 , 0.5670248 , 0.48861542,\n",
              "       0.49416122, 0.53483653, 0.46956772, 0.5273787 , 0.42815846,\n",
              "       0.4858381 , 0.55727714, 0.48681408, 0.54893106, 0.5173583 ,\n",
              "       0.47444746, 0.49698934, 0.54475796, 0.50564116, 0.46894422],\n",
              "      dtype=float32)"
            ]
          },
          "metadata": {}
        },
        {
          "output_type": "display_data",
          "data": {
            "text/plain": [
              "'chroma'"
            ],
            "application/vnd.google.colaboratory.intrinsic+json": {
              "type": "string"
            }
          },
          "metadata": {}
        },
        {
          "output_type": "display_data",
          "data": {
            "text/plain": [
              "(8236, 12)"
            ]
          },
          "metadata": {}
        },
        {
          "output_type": "display_data",
          "data": {
            "text/plain": [
              "array([0.3414871 , 0.35261095, 0.38855013, 0.2892622 , 0.27807856,\n",
              "       0.28740257, 0.3437926 , 0.38803992, 0.43501127, 0.37608668,\n",
              "       0.36091387, 0.37655085], dtype=float32)"
            ]
          },
          "metadata": {}
        },
        {
          "output_type": "display_data",
          "data": {
            "text/plain": [
              "'rms'"
            ],
            "application/vnd.google.colaboratory.intrinsic+json": {
              "type": "string"
            }
          },
          "metadata": {}
        },
        {
          "output_type": "display_data",
          "data": {
            "text/plain": [
              "(8236, 1)"
            ]
          },
          "metadata": {}
        },
        {
          "output_type": "display_data",
          "data": {
            "text/plain": [
              "array([0.01620677], dtype=float32)"
            ]
          },
          "metadata": {}
        },
        {
          "output_type": "display_data",
          "data": {
            "text/plain": [
              "'spectral_centroid'"
            ],
            "application/vnd.google.colaboratory.intrinsic+json": {
              "type": "string"
            }
          },
          "metadata": {}
        },
        {
          "output_type": "display_data",
          "data": {
            "text/plain": [
              "(8236, 1)"
            ]
          },
          "metadata": {}
        },
        {
          "output_type": "display_data",
          "data": {
            "text/plain": [
              "array([0.5986368], dtype=float32)"
            ]
          },
          "metadata": {}
        },
        {
          "output_type": "display_data",
          "data": {
            "text/plain": [
              "'melspectrogram'"
            ],
            "application/vnd.google.colaboratory.intrinsic+json": {
              "type": "string"
            }
          },
          "metadata": {}
        },
        {
          "output_type": "display_data",
          "data": {
            "text/plain": [
              "(8236, 20)"
            ]
          },
          "metadata": {}
        },
        {
          "output_type": "display_data",
          "data": {
            "text/plain": [
              "array([0.26168185, 0.22435948, 0.23347075, 0.2257035 , 0.23461936,\n",
              "       0.26539275, 0.28566006, 0.2849377 , 0.28847882, 0.3145214 ,\n",
              "       0.3290944 , 0.3545447 , 0.34914643, 0.366206  , 0.400232  ,\n",
              "       0.41124317, 0.41550747, 0.3776026 , 0.3694587 , 0.32380182],\n",
              "      dtype=float32)"
            ]
          },
          "metadata": {}
        }
      ]
    },
    {
      "cell_type": "code",
      "source": [
        "val_y = features.val_y\n",
        "val_y = np.array(val_y)\n",
        "\n",
        "display(val_y.shape)\n",
        "display(val_y[:5])"
      ],
      "metadata": {
        "colab": {
          "base_uri": "https://localhost:8080/",
          "height": 52
        },
        "id": "FFS0kR21p_38",
        "outputId": "9fd398d3-09b7-44d9-99d6-0782468fb590"
      },
      "execution_count": null,
      "outputs": [
        {
          "output_type": "display_data",
          "data": {
            "text/plain": [
              "(4236,)"
            ]
          },
          "metadata": {}
        },
        {
          "output_type": "display_data",
          "data": {
            "text/plain": [
              "array(['comsan', 'comsan', 'comsan', 'comsan', 'comsan'], dtype='<U7')"
            ]
          },
          "metadata": {}
        }
      ]
    },
    {
      "cell_type": "code",
      "source": [
        "val_features = features.val_features\n",
        "\n",
        "for key in val_features.keys():\n",
        "  display(key)\n",
        "  display(val_features[key].shape)\n",
        "  display(val_features[key][0])"
      ],
      "metadata": {
        "colab": {
          "base_uri": "https://localhost:8080/",
          "height": 456
        },
        "id": "ue41AGbtqBbm",
        "outputId": "ddf8f598-37ad-419a-8bd1-0e5aca4247c1"
      },
      "execution_count": null,
      "outputs": [
        {
          "output_type": "display_data",
          "data": {
            "text/plain": [
              "'mfcc'"
            ],
            "application/vnd.google.colaboratory.intrinsic+json": {
              "type": "string"
            }
          },
          "metadata": {}
        },
        {
          "output_type": "display_data",
          "data": {
            "text/plain": [
              "(4236, 20)"
            ]
          },
          "metadata": {}
        },
        {
          "output_type": "display_data",
          "data": {
            "text/plain": [
              "array([0.6117639 , 0.45735338, 0.32603553, 0.31278074, 0.41163567,\n",
              "       0.33088478, 0.45899308, 0.3755749 , 0.48617023, 0.36413723,\n",
              "       0.5081278 , 0.46959385, 0.49548495, 0.47380266, 0.35587388,\n",
              "       0.46973756, 0.47127017, 0.4715686 , 0.45227003, 0.46532288],\n",
              "      dtype=float32)"
            ]
          },
          "metadata": {}
        },
        {
          "output_type": "display_data",
          "data": {
            "text/plain": [
              "'chroma'"
            ],
            "application/vnd.google.colaboratory.intrinsic+json": {
              "type": "string"
            }
          },
          "metadata": {}
        },
        {
          "output_type": "display_data",
          "data": {
            "text/plain": [
              "(4236, 12)"
            ]
          },
          "metadata": {}
        },
        {
          "output_type": "display_data",
          "data": {
            "text/plain": [
              "array([0.5587291 , 0.6693529 , 0.7382125 , 0.569045  , 0.37887034,\n",
              "       0.30884057, 0.33714068, 0.38599586, 0.45166773, 0.47486994,\n",
              "       0.48054758, 0.4789536 ], dtype=float32)"
            ]
          },
          "metadata": {}
        },
        {
          "output_type": "display_data",
          "data": {
            "text/plain": [
              "'rms'"
            ],
            "application/vnd.google.colaboratory.intrinsic+json": {
              "type": "string"
            }
          },
          "metadata": {}
        },
        {
          "output_type": "display_data",
          "data": {
            "text/plain": [
              "(4236, 1)"
            ]
          },
          "metadata": {}
        },
        {
          "output_type": "display_data",
          "data": {
            "text/plain": [
              "array([0.01516566], dtype=float32)"
            ]
          },
          "metadata": {}
        },
        {
          "output_type": "display_data",
          "data": {
            "text/plain": [
              "'spectral_centroid'"
            ],
            "application/vnd.google.colaboratory.intrinsic+json": {
              "type": "string"
            }
          },
          "metadata": {}
        },
        {
          "output_type": "display_data",
          "data": {
            "text/plain": [
              "(4236, 1)"
            ]
          },
          "metadata": {}
        },
        {
          "output_type": "display_data",
          "data": {
            "text/plain": [
              "array([0.4760819], dtype=float32)"
            ]
          },
          "metadata": {}
        },
        {
          "output_type": "display_data",
          "data": {
            "text/plain": [
              "'melspectrogram'"
            ],
            "application/vnd.google.colaboratory.intrinsic+json": {
              "type": "string"
            }
          },
          "metadata": {}
        },
        {
          "output_type": "display_data",
          "data": {
            "text/plain": [
              "(4236, 20)"
            ]
          },
          "metadata": {}
        },
        {
          "output_type": "display_data",
          "data": {
            "text/plain": [
              "array([0.35488096, 0.3936562 , 0.4730693 , 0.54626846, 0.5947946 ,\n",
              "       0.63286024, 0.669766  , 0.6793414 , 0.66020733, 0.66840255,\n",
              "       0.65349996, 0.6252907 , 0.5924856 , 0.5647165 , 0.5370612 ,\n",
              "       0.55427355, 0.57385606, 0.53045094, 0.49662367, 0.50499874],\n",
              "      dtype=float32)"
            ]
          },
          "metadata": {}
        }
      ]
    },
    {
      "cell_type": "markdown",
      "source": [
        "# Encode Classes"
      ],
      "metadata": {
        "id": "JBsLYoBFTBok"
      }
    },
    {
      "cell_type": "code",
      "source": [
        "label_encoder = LabelEncoder().fit(train_y)\n",
        "train_y = label_encoder.transform(train_y)\n",
        "val_y = label_encoder.transform(val_y)\n",
        "\n",
        "classes = list(label_encoder.inverse_transform([0,1,2]))\n",
        "classes"
      ],
      "metadata": {
        "colab": {
          "base_uri": "https://localhost:8080/"
        },
        "id": "_CX5uxpifmXm",
        "outputId": "e942d3ce-089e-43f5-a358-d53220d08378"
      },
      "execution_count": null,
      "outputs": [
        {
          "output_type": "execute_result",
          "data": {
            "text/plain": [
              "['barswa', 'comsan', 'eaywag1']"
            ]
          },
          "metadata": {},
          "execution_count": 11
        }
      ]
    },
    {
      "cell_type": "code",
      "source": [
        "display(len(train_y))\n",
        "display(train_y[:10])\n",
        "\n",
        "display(len(val_y))\n",
        "display(val_y[:10])"
      ],
      "metadata": {
        "colab": {
          "base_uri": "https://localhost:8080/",
          "height": 86
        },
        "id": "vpITk6PXgEp5",
        "outputId": "1cd1e3b3-a689-4a6a-f063-101378ffa698"
      },
      "execution_count": null,
      "outputs": [
        {
          "output_type": "display_data",
          "data": {
            "text/plain": [
              "8236"
            ]
          },
          "metadata": {}
        },
        {
          "output_type": "display_data",
          "data": {
            "text/plain": [
              "array([2, 2, 2, 2, 2, 2, 0, 0, 0, 0])"
            ]
          },
          "metadata": {}
        },
        {
          "output_type": "display_data",
          "data": {
            "text/plain": [
              "4236"
            ]
          },
          "metadata": {}
        },
        {
          "output_type": "display_data",
          "data": {
            "text/plain": [
              "array([1, 1, 1, 1, 1, 1, 0, 0, 0, 0])"
            ]
          },
          "metadata": {}
        }
      ]
    },
    {
      "cell_type": "markdown",
      "source": [
        "# Put the labels and features to one large dataframe"
      ],
      "metadata": {
        "id": "ow-O2hJ-vCCo"
      }
    },
    {
      "cell_type": "code",
      "source": [
        "train_features['label'] = train_y\n",
        "train_features"
      ],
      "metadata": {
        "colab": {
          "base_uri": "https://localhost:8080/"
        },
        "id": "VKswCpnZvGUL",
        "outputId": "458d062c-aa4a-4cb8-f7b2-4be99c181822"
      },
      "execution_count": null,
      "outputs": [
        {
          "output_type": "execute_result",
          "data": {
            "text/plain": [
              "{'mfcc': array([[0.3391694 , 0.40924874, 0.5358972 , ..., 0.54475796, 0.50564116,\n",
              "         0.46894422],\n",
              "        [0.33568618, 0.41750646, 0.53681815, ..., 0.542808  , 0.5288323 ,\n",
              "         0.45956683],\n",
              "        [0.36065662, 0.41422567, 0.5833725 , ..., 0.52050847, 0.55034566,\n",
              "         0.44331655],\n",
              "        ...,\n",
              "        [0.59729165, 0.4938564 , 0.38847885, ..., 0.4174044 , 0.4665348 ,\n",
              "         0.39914683],\n",
              "        [0.6012123 , 0.51702017, 0.3863889 , ..., 0.42538506, 0.46877104,\n",
              "         0.41223076],\n",
              "        [0.6082435 , 0.5434134 , 0.37211478, ..., 0.4219473 , 0.46813804,\n",
              "         0.40352035]], dtype=float32),\n",
              " 'chroma': array([[0.3414871 , 0.35261095, 0.38855013, ..., 0.37608668, 0.36091387,\n",
              "         0.37655085],\n",
              "        [0.39570332, 0.35266703, 0.3601897 , ..., 0.3406976 , 0.36317727,\n",
              "         0.4071223 ],\n",
              "        [0.44144076, 0.37290844, 0.3611199 , ..., 0.27120224, 0.36760825,\n",
              "         0.40015313],\n",
              "        ...,\n",
              "        [0.5226286 , 0.5496563 , 0.5463212 , ..., 0.5537217 , 0.5842862 ,\n",
              "         0.548193  ],\n",
              "        [0.5986084 , 0.58349186, 0.6357667 , ..., 0.60495424, 0.6193021 ,\n",
              "         0.60190237],\n",
              "        [0.6239733 , 0.59869194, 0.6402496 , ..., 0.5726388 , 0.6028015 ,\n",
              "         0.63124937]], dtype=float32),\n",
              " 'rms': array([[0.01620677],\n",
              "        [0.01226231],\n",
              "        [0.04079593],\n",
              "        ...,\n",
              "        [0.01031181],\n",
              "        [0.00974133],\n",
              "        [0.00980039]], dtype=float32),\n",
              " 'spectral_centroid': array([[0.5986368 ],\n",
              "        [0.59078014],\n",
              "        [0.60624313],\n",
              "        ...,\n",
              "        [0.47459787],\n",
              "        [0.44316494],\n",
              "        [0.39672202]], dtype=float32),\n",
              " 'melspectrogram': array([[0.26168185, 0.22435948, 0.23347075, ..., 0.3776026 , 0.3694587 ,\n",
              "         0.32380182],\n",
              "        [0.27294955, 0.2267527 , 0.23419413, ..., 0.3635256 , 0.3538116 ,\n",
              "         0.305445  ],\n",
              "        [0.30687195, 0.24228445, 0.23051722, ..., 0.40749434, 0.39218938,\n",
              "         0.33937645],\n",
              "        ...,\n",
              "        [0.42607334, 0.45228475, 0.5043836 , ..., 0.49170455, 0.4999755 ,\n",
              "         0.4750925 ],\n",
              "        [0.42806053, 0.46705598, 0.5288665 , ..., 0.48043862, 0.48890287,\n",
              "         0.466657  ],\n",
              "        [0.43430415, 0.48220664, 0.549344  , ..., 0.46709374, 0.47062296,\n",
              "         0.4505554 ]], dtype=float32),\n",
              " 'label': array([2, 2, 2, ..., 2, 2, 2])}"
            ]
          },
          "metadata": {},
          "execution_count": 13
        }
      ]
    },
    {
      "cell_type": "code",
      "source": [
        "val_features['label'] = val_y\n",
        "val_features"
      ],
      "metadata": {
        "colab": {
          "base_uri": "https://localhost:8080/"
        },
        "id": "KwXx1v-iwkKb",
        "outputId": "8d33ec72-3dcd-46e5-a035-4530fdb53f2a"
      },
      "execution_count": null,
      "outputs": [
        {
          "output_type": "execute_result",
          "data": {
            "text/plain": [
              "{'mfcc': array([[0.6117639 , 0.45735338, 0.32603553, ..., 0.4715686 , 0.45227003,\n",
              "         0.46532288],\n",
              "        [0.6099412 , 0.47829324, 0.30729547, ..., 0.4468575 , 0.45525885,\n",
              "         0.4413513 ],\n",
              "        [0.57958215, 0.4876538 , 0.28921005, ..., 0.42907423, 0.43618467,\n",
              "         0.43834025],\n",
              "        ...,\n",
              "        [0.46997085, 0.6986984 , 0.6882918 , ..., 0.4631213 , 0.49106282,\n",
              "         0.45474696],\n",
              "        [0.47383025, 0.69971573, 0.68370336, ..., 0.4704221 , 0.4982638 ,\n",
              "         0.46479496],\n",
              "        [0.47414112, 0.7015769 , 0.6778016 , ..., 0.4751861 , 0.4956097 ,\n",
              "         0.47461113]], dtype=float32),\n",
              " 'chroma': array([[0.5587291 , 0.6693529 , 0.7382125 , ..., 0.47486994, 0.48054758,\n",
              "         0.4789536 ],\n",
              "        [0.59523904, 0.7246345 , 0.7710419 , ..., 0.5111967 , 0.5072777 ,\n",
              "         0.5540884 ],\n",
              "        [0.7001934 , 0.7302617 , 0.77242446, ..., 0.5601306 , 0.5455484 ,\n",
              "         0.5827179 ],\n",
              "        ...,\n",
              "        [0.68066764, 0.53032273, 0.42924815, ..., 0.69034696, 0.6195136 ,\n",
              "         0.69383913],\n",
              "        [0.73405117, 0.5668115 , 0.4194628 , ..., 0.75242895, 0.7345641 ,\n",
              "         0.7302095 ],\n",
              "        [0.6165807 , 0.44604415, 0.375725  , ..., 0.7789232 , 0.7379612 ,\n",
              "         0.7641315 ]], dtype=float32),\n",
              " 'rms': array([[0.01516566],\n",
              "        [0.01221697],\n",
              "        [0.00863088],\n",
              "        ...,\n",
              "        [0.01133336],\n",
              "        [0.01179518],\n",
              "        [0.01118861]], dtype=float32),\n",
              " 'spectral_centroid': array([[0.4760819 ],\n",
              "        [0.42909616],\n",
              "        [0.39849544],\n",
              "        ...,\n",
              "        [0.15265459],\n",
              "        [0.15000765],\n",
              "        [0.15285781]], dtype=float32),\n",
              " 'melspectrogram': array([[0.35488096, 0.3936562 , 0.4730693 , ..., 0.53045094, 0.49662367,\n",
              "         0.50499874],\n",
              "        [0.3641887 , 0.40731287, 0.47984135, ..., 0.4889814 , 0.47856832,\n",
              "         0.48498413],\n",
              "        [0.34672743, 0.3941088 , 0.45857808, ..., 0.4387052 , 0.4461277 ,\n",
              "         0.4544149 ],\n",
              "        ...,\n",
              "        [0.7164671 , 0.60377514, 0.497989  , ..., 0.31795362, 0.31795034,\n",
              "         0.31274337],\n",
              "        [0.71782   , 0.604028  , 0.49704742, ..., 0.31390622, 0.3153045 ,\n",
              "         0.31586796],\n",
              "        [0.71288854, 0.600889  , 0.49831235, ..., 0.30655676, 0.3115236 ,\n",
              "         0.31582075]], dtype=float32),\n",
              " 'label': array([1, 1, 1, ..., 1, 1, 1])}"
            ]
          },
          "metadata": {},
          "execution_count": 14
        }
      ]
    },
    {
      "cell_type": "code",
      "source": [
        "merged_dict = {'train': train_features, 'val': val_features}\n",
        "\n",
        "merged_dict"
      ],
      "metadata": {
        "colab": {
          "base_uri": "https://localhost:8080/"
        },
        "id": "KawI5rsxwpUM",
        "outputId": "a8c8f97c-b636-4130-fbd1-5a42b5502e76"
      },
      "execution_count": null,
      "outputs": [
        {
          "output_type": "execute_result",
          "data": {
            "text/plain": [
              "{'train': {'mfcc': array([[0.3391694 , 0.40924874, 0.5358972 , ..., 0.54475796, 0.50564116,\n",
              "          0.46894422],\n",
              "         [0.33568618, 0.41750646, 0.53681815, ..., 0.542808  , 0.5288323 ,\n",
              "          0.45956683],\n",
              "         [0.36065662, 0.41422567, 0.5833725 , ..., 0.52050847, 0.55034566,\n",
              "          0.44331655],\n",
              "         ...,\n",
              "         [0.59729165, 0.4938564 , 0.38847885, ..., 0.4174044 , 0.4665348 ,\n",
              "          0.39914683],\n",
              "         [0.6012123 , 0.51702017, 0.3863889 , ..., 0.42538506, 0.46877104,\n",
              "          0.41223076],\n",
              "         [0.6082435 , 0.5434134 , 0.37211478, ..., 0.4219473 , 0.46813804,\n",
              "          0.40352035]], dtype=float32),\n",
              "  'chroma': array([[0.3414871 , 0.35261095, 0.38855013, ..., 0.37608668, 0.36091387,\n",
              "          0.37655085],\n",
              "         [0.39570332, 0.35266703, 0.3601897 , ..., 0.3406976 , 0.36317727,\n",
              "          0.4071223 ],\n",
              "         [0.44144076, 0.37290844, 0.3611199 , ..., 0.27120224, 0.36760825,\n",
              "          0.40015313],\n",
              "         ...,\n",
              "         [0.5226286 , 0.5496563 , 0.5463212 , ..., 0.5537217 , 0.5842862 ,\n",
              "          0.548193  ],\n",
              "         [0.5986084 , 0.58349186, 0.6357667 , ..., 0.60495424, 0.6193021 ,\n",
              "          0.60190237],\n",
              "         [0.6239733 , 0.59869194, 0.6402496 , ..., 0.5726388 , 0.6028015 ,\n",
              "          0.63124937]], dtype=float32),\n",
              "  'rms': array([[0.01620677],\n",
              "         [0.01226231],\n",
              "         [0.04079593],\n",
              "         ...,\n",
              "         [0.01031181],\n",
              "         [0.00974133],\n",
              "         [0.00980039]], dtype=float32),\n",
              "  'spectral_centroid': array([[0.5986368 ],\n",
              "         [0.59078014],\n",
              "         [0.60624313],\n",
              "         ...,\n",
              "         [0.47459787],\n",
              "         [0.44316494],\n",
              "         [0.39672202]], dtype=float32),\n",
              "  'melspectrogram': array([[0.26168185, 0.22435948, 0.23347075, ..., 0.3776026 , 0.3694587 ,\n",
              "          0.32380182],\n",
              "         [0.27294955, 0.2267527 , 0.23419413, ..., 0.3635256 , 0.3538116 ,\n",
              "          0.305445  ],\n",
              "         [0.30687195, 0.24228445, 0.23051722, ..., 0.40749434, 0.39218938,\n",
              "          0.33937645],\n",
              "         ...,\n",
              "         [0.42607334, 0.45228475, 0.5043836 , ..., 0.49170455, 0.4999755 ,\n",
              "          0.4750925 ],\n",
              "         [0.42806053, 0.46705598, 0.5288665 , ..., 0.48043862, 0.48890287,\n",
              "          0.466657  ],\n",
              "         [0.43430415, 0.48220664, 0.549344  , ..., 0.46709374, 0.47062296,\n",
              "          0.4505554 ]], dtype=float32),\n",
              "  'label': array([2, 2, 2, ..., 2, 2, 2])},\n",
              " 'val': {'mfcc': array([[0.6117639 , 0.45735338, 0.32603553, ..., 0.4715686 , 0.45227003,\n",
              "          0.46532288],\n",
              "         [0.6099412 , 0.47829324, 0.30729547, ..., 0.4468575 , 0.45525885,\n",
              "          0.4413513 ],\n",
              "         [0.57958215, 0.4876538 , 0.28921005, ..., 0.42907423, 0.43618467,\n",
              "          0.43834025],\n",
              "         ...,\n",
              "         [0.46997085, 0.6986984 , 0.6882918 , ..., 0.4631213 , 0.49106282,\n",
              "          0.45474696],\n",
              "         [0.47383025, 0.69971573, 0.68370336, ..., 0.4704221 , 0.4982638 ,\n",
              "          0.46479496],\n",
              "         [0.47414112, 0.7015769 , 0.6778016 , ..., 0.4751861 , 0.4956097 ,\n",
              "          0.47461113]], dtype=float32),\n",
              "  'chroma': array([[0.5587291 , 0.6693529 , 0.7382125 , ..., 0.47486994, 0.48054758,\n",
              "          0.4789536 ],\n",
              "         [0.59523904, 0.7246345 , 0.7710419 , ..., 0.5111967 , 0.5072777 ,\n",
              "          0.5540884 ],\n",
              "         [0.7001934 , 0.7302617 , 0.77242446, ..., 0.5601306 , 0.5455484 ,\n",
              "          0.5827179 ],\n",
              "         ...,\n",
              "         [0.68066764, 0.53032273, 0.42924815, ..., 0.69034696, 0.6195136 ,\n",
              "          0.69383913],\n",
              "         [0.73405117, 0.5668115 , 0.4194628 , ..., 0.75242895, 0.7345641 ,\n",
              "          0.7302095 ],\n",
              "         [0.6165807 , 0.44604415, 0.375725  , ..., 0.7789232 , 0.7379612 ,\n",
              "          0.7641315 ]], dtype=float32),\n",
              "  'rms': array([[0.01516566],\n",
              "         [0.01221697],\n",
              "         [0.00863088],\n",
              "         ...,\n",
              "         [0.01133336],\n",
              "         [0.01179518],\n",
              "         [0.01118861]], dtype=float32),\n",
              "  'spectral_centroid': array([[0.4760819 ],\n",
              "         [0.42909616],\n",
              "         [0.39849544],\n",
              "         ...,\n",
              "         [0.15265459],\n",
              "         [0.15000765],\n",
              "         [0.15285781]], dtype=float32),\n",
              "  'melspectrogram': array([[0.35488096, 0.3936562 , 0.4730693 , ..., 0.53045094, 0.49662367,\n",
              "          0.50499874],\n",
              "         [0.3641887 , 0.40731287, 0.47984135, ..., 0.4889814 , 0.47856832,\n",
              "          0.48498413],\n",
              "         [0.34672743, 0.3941088 , 0.45857808, ..., 0.4387052 , 0.4461277 ,\n",
              "          0.4544149 ],\n",
              "         ...,\n",
              "         [0.7164671 , 0.60377514, 0.497989  , ..., 0.31795362, 0.31795034,\n",
              "          0.31274337],\n",
              "         [0.71782   , 0.604028  , 0.49704742, ..., 0.31390622, 0.3153045 ,\n",
              "          0.31586796],\n",
              "         [0.71288854, 0.600889  , 0.49831235, ..., 0.30655676, 0.3115236 ,\n",
              "          0.31582075]], dtype=float32),\n",
              "  'label': array([1, 1, 1, ..., 1, 1, 1])}}"
            ]
          },
          "metadata": {},
          "execution_count": 15
        }
      ]
    },
    {
      "cell_type": "markdown",
      "source": [
        "# save the merged dict with labels and features to pkl"
      ],
      "metadata": {
        "id": "2YIDP5l3w8cE"
      }
    },
    {
      "cell_type": "code",
      "source": [
        "with open('/content/drive/MyDrive/project/train_val_features_pkl/train_val_5_sec_audio_features_avgpooled.pkl', 'wb') as file:\n",
        "  pickle.dump(merged_dict, file)"
      ],
      "metadata": {
        "id": "Je8arYKox0NG"
      },
      "execution_count": null,
      "outputs": []
    },
    {
      "cell_type": "code",
      "source": [
        "with open('/content/drive/MyDrive/project/train_val_features_pkl/train_val_5_sec_audio_features_avgpooled.pkl', 'rb') as file:\n",
        "  merged_df = pickle.load(file)"
      ],
      "metadata": {
        "id": "xh-KPPE5x6oP"
      },
      "execution_count": null,
      "outputs": []
    },
    {
      "cell_type": "code",
      "source": [
        "assert merged_dict.keys() == merged_df.keys()\n",
        "\n",
        "for top_level_key in merged_dict.keys():\n",
        "  assert merged_dict[top_level_key].keys() == merged_df[top_level_key].keys()\n",
        "\n",
        "  for bottom_level_key in merged_dict[top_level_key].keys():\n",
        "    assert merged_dict[top_level_key][bottom_level_key].shape == merged_df[top_level_key][bottom_level_key].shape\n",
        "    assert np.array_equal(merged_dict[top_level_key][bottom_level_key], merged_df[top_level_key][bottom_level_key])"
      ],
      "metadata": {
        "id": "hMvGzna8yw0k"
      },
      "execution_count": null,
      "outputs": []
    }
  ]
}