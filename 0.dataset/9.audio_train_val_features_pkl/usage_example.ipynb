{
  "cells": [
    {
      "cell_type": "markdown",
      "metadata": {
        "colab_type": "text",
        "id": "view-in-github"
      },
      "source": [
        "<a href=\"https://colab.research.google.com/github/rachlllg/Project_Bird-Song-Classifier-with-Machine-Learning/blob/main/0.dataset/9.audio_train_val_features_pkl/usage_example.ipynb\" target=\"_parent\"><img src=\"https://colab.research.google.com/assets/colab-badge.svg\" alt=\"Open In Colab\"/></a>"
      ]
    },
    {
      "cell_type": "markdown",
      "metadata": {
        "id": "-8AFdNoYR03Z"
      },
      "source": [
        "# Import Libraries"
      ]
    },
    {
      "cell_type": "code",
      "execution_count": 1,
      "metadata": {
        "colab": {
          "base_uri": "https://localhost:8080/"
        },
        "id": "4SQ-ig5ER3Ai",
        "outputId": "d1bb7640-1248-49bf-feb8-9bc184cd4a55"
      },
      "outputs": [
        {
          "name": "stdout",
          "output_type": "stream",
          "text": [
            "Mounted at /content/drive\n"
          ]
        }
      ],
      "source": [
        "# For drive access\n",
        "from google.colab import drive\n",
        "drive.mount('/content/drive')\n",
        "\n",
        "# Standard libraries\n",
        "import numpy as np\n",
        "import pandas as pd\n",
        "\n",
        "# for loading the pickle files with features and labels\n",
        "import pickle\n",
        "\n",
        "# For audio\n",
        "from IPython.display import Audio\n",
        "import librosa\n",
        "\n",
        "# For preprocessing\n",
        "from sklearn.preprocessing import OneHotEncoder\n",
        "import tensorflow as tf\n",
        "\n",
        "# For modeling\n",
        "from sklearn.ensemble import RandomForestClassifier\n",
        "from sklearn.metrics import classification_report\n",
        "\n",
        "# For visualization\n",
        "import matplotlib.pyplot as plt\n",
        "import seaborn as sns"
      ]
    },
    {
      "cell_type": "markdown",
      "metadata": {
        "id": "3AU-n0amahM-"
      },
      "source": [
        "# Load features and labels from train and val pickle"
      ]
    },
    {
      "cell_type": "code",
      "execution_count": 2,
      "metadata": {
        "id": "u8SIG_qEagjg"
      },
      "outputs": [],
      "source": [
        "with open('/content/drive/MyDrive/project/train_val_features_pkl/train_val_5_sec_audio_features_avgpooled.pkl', 'rb') as file:\n",
        "  audio_df = pickle.load(file)"
      ]
    },
    {
      "cell_type": "code",
      "execution_count": 14,
      "metadata": {
        "colab": {
          "base_uri": "https://localhost:8080/"
        },
        "id": "tWCzz4R8b7V5",
        "outputId": "419221a6-4e59-449d-c93b-b279beec1546"
      },
      "outputs": [
        {
          "data": {
            "text/plain": [
              "{'train': {'mfcc': array([[0.3391694 , 0.40924874, 0.5358972 , ..., 0.54475796, 0.50564116,\n",
              "          0.46894422],\n",
              "         [0.33568618, 0.41750646, 0.53681815, ..., 0.542808  , 0.5288323 ,\n",
              "          0.45956683],\n",
              "         [0.36065662, 0.41422567, 0.5833725 , ..., 0.52050847, 0.55034566,\n",
              "          0.44331655],\n",
              "         ...,\n",
              "         [0.59729165, 0.4938564 , 0.38847885, ..., 0.4174044 , 0.4665348 ,\n",
              "          0.39914683],\n",
              "         [0.6012123 , 0.51702017, 0.3863889 , ..., 0.42538506, 0.46877104,\n",
              "          0.41223076],\n",
              "         [0.6082435 , 0.5434134 , 0.37211478, ..., 0.4219473 , 0.46813804,\n",
              "          0.40352035]], dtype=float32),\n",
              "  'chroma': array([[0.3414871 , 0.35261095, 0.38855013, ..., 0.37608668, 0.36091387,\n",
              "          0.37655085],\n",
              "         [0.39570332, 0.35266703, 0.3601897 , ..., 0.3406976 , 0.36317727,\n",
              "          0.4071223 ],\n",
              "         [0.44144076, 0.37290844, 0.3611199 , ..., 0.27120224, 0.36760825,\n",
              "          0.40015313],\n",
              "         ...,\n",
              "         [0.5226286 , 0.5496563 , 0.5463212 , ..., 0.5537217 , 0.5842862 ,\n",
              "          0.548193  ],\n",
              "         [0.5986084 , 0.58349186, 0.6357667 , ..., 0.60495424, 0.6193021 ,\n",
              "          0.60190237],\n",
              "         [0.6239733 , 0.59869194, 0.6402496 , ..., 0.5726388 , 0.6028015 ,\n",
              "          0.63124937]], dtype=float32),\n",
              "  'rms': array([[0.01620677],\n",
              "         [0.01226231],\n",
              "         [0.04079593],\n",
              "         ...,\n",
              "         [0.01031181],\n",
              "         [0.00974133],\n",
              "         [0.00980039]], dtype=float32),\n",
              "  'spectral_centroid': array([[0.5986368 ],\n",
              "         [0.59078014],\n",
              "         [0.60624313],\n",
              "         ...,\n",
              "         [0.47459787],\n",
              "         [0.44316494],\n",
              "         [0.39672202]], dtype=float32),\n",
              "  'melspectrogram': array([[0.26168185, 0.22435948, 0.23347075, ..., 0.3776026 , 0.3694587 ,\n",
              "          0.32380182],\n",
              "         [0.27294955, 0.2267527 , 0.23419413, ..., 0.3635256 , 0.3538116 ,\n",
              "          0.305445  ],\n",
              "         [0.30687195, 0.24228445, 0.23051722, ..., 0.40749434, 0.39218938,\n",
              "          0.33937645],\n",
              "         ...,\n",
              "         [0.42607334, 0.45228475, 0.5043836 , ..., 0.49170455, 0.4999755 ,\n",
              "          0.4750925 ],\n",
              "         [0.42806053, 0.46705598, 0.5288665 , ..., 0.48043862, 0.48890287,\n",
              "          0.466657  ],\n",
              "         [0.43430415, 0.48220664, 0.549344  , ..., 0.46709374, 0.47062296,\n",
              "          0.4505554 ]], dtype=float32),\n",
              "  'label': array([2, 2, 2, ..., 2, 2, 2])},\n",
              " 'val': {'mfcc': array([[0.6117639 , 0.45735338, 0.32603553, ..., 0.4715686 , 0.45227003,\n",
              "          0.46532288],\n",
              "         [0.6099412 , 0.47829324, 0.30729547, ..., 0.4468575 , 0.45525885,\n",
              "          0.4413513 ],\n",
              "         [0.57958215, 0.4876538 , 0.28921005, ..., 0.42907423, 0.43618467,\n",
              "          0.43834025],\n",
              "         ...,\n",
              "         [0.46997085, 0.6986984 , 0.6882918 , ..., 0.4631213 , 0.49106282,\n",
              "          0.45474696],\n",
              "         [0.47383025, 0.69971573, 0.68370336, ..., 0.4704221 , 0.4982638 ,\n",
              "          0.46479496],\n",
              "         [0.47414112, 0.7015769 , 0.6778016 , ..., 0.4751861 , 0.4956097 ,\n",
              "          0.47461113]], dtype=float32),\n",
              "  'chroma': array([[0.5587291 , 0.6693529 , 0.7382125 , ..., 0.47486994, 0.48054758,\n",
              "          0.4789536 ],\n",
              "         [0.59523904, 0.7246345 , 0.7710419 , ..., 0.5111967 , 0.5072777 ,\n",
              "          0.5540884 ],\n",
              "         [0.7001934 , 0.7302617 , 0.77242446, ..., 0.5601306 , 0.5455484 ,\n",
              "          0.5827179 ],\n",
              "         ...,\n",
              "         [0.68066764, 0.53032273, 0.42924815, ..., 0.69034696, 0.6195136 ,\n",
              "          0.69383913],\n",
              "         [0.73405117, 0.5668115 , 0.4194628 , ..., 0.75242895, 0.7345641 ,\n",
              "          0.7302095 ],\n",
              "         [0.6165807 , 0.44604415, 0.375725  , ..., 0.7789232 , 0.7379612 ,\n",
              "          0.7641315 ]], dtype=float32),\n",
              "  'rms': array([[0.01516566],\n",
              "         [0.01221697],\n",
              "         [0.00863088],\n",
              "         ...,\n",
              "         [0.01133336],\n",
              "         [0.01179518],\n",
              "         [0.01118861]], dtype=float32),\n",
              "  'spectral_centroid': array([[0.4760819 ],\n",
              "         [0.42909616],\n",
              "         [0.39849544],\n",
              "         ...,\n",
              "         [0.15265459],\n",
              "         [0.15000765],\n",
              "         [0.15285781]], dtype=float32),\n",
              "  'melspectrogram': array([[0.35488096, 0.3936562 , 0.4730693 , ..., 0.53045094, 0.49662367,\n",
              "          0.50499874],\n",
              "         [0.3641887 , 0.40731287, 0.47984135, ..., 0.4889814 , 0.47856832,\n",
              "          0.48498413],\n",
              "         [0.34672743, 0.3941088 , 0.45857808, ..., 0.4387052 , 0.4461277 ,\n",
              "          0.4544149 ],\n",
              "         ...,\n",
              "         [0.7164671 , 0.60377514, 0.497989  , ..., 0.31795362, 0.31795034,\n",
              "          0.31274337],\n",
              "         [0.71782   , 0.604028  , 0.49704742, ..., 0.31390622, 0.3153045 ,\n",
              "          0.31586796],\n",
              "         [0.71288854, 0.600889  , 0.49831235, ..., 0.30655676, 0.3115236 ,\n",
              "          0.31582075]], dtype=float32),\n",
              "  'label': array([1, 1, 1, ..., 1, 1, 1])}}"
            ]
          },
          "execution_count": 14,
          "metadata": {},
          "output_type": "execute_result"
        }
      ],
      "source": [
        "audio_df"
      ]
    },
    {
      "cell_type": "code",
      "execution_count": 3,
      "metadata": {
        "id": "AZUoqDIGbBxS"
      },
      "outputs": [],
      "source": [
        "with open('/content/drive/MyDrive/project/train_val_features_pkl/train_val_5_sec_non_audio_features.pkl', 'rb') as file:\n",
        "  non_audio_df = pickle.load(file)"
      ]
    },
    {
      "cell_type": "code",
      "execution_count": 7,
      "metadata": {
        "colab": {
          "base_uri": "https://localhost:8080/"
        },
        "id": "JsBUDLDCba93",
        "outputId": "163b2701-e5d9-4532-ea85-faa6c92860c2"
      },
      "outputs": [
        {
          "data": {
            "text/plain": [
              "{'train': {'type': array(['call', 'call', 'call', ..., 'call', 'call', 'call'], dtype='<U5'),\n",
              "  'continent': array(['EUROPE', 'EUROPE', 'EUROPE', ..., 'EUROPE', 'EUROPE', 'EUROPE'],\n",
              "        dtype='<U8'),\n",
              "  'rating': array([5. , 5. , 5. , ..., 3.5, 3.5, 3.5]),\n",
              "  'label': array([2, 2, 2, ..., 2, 2, 2])},\n",
              " 'val': {'type': array(['call', 'call', 'call', ..., 'call', 'call', 'call'], dtype='<U5'),\n",
              "  'continent': array(['EUROPE', 'EUROPE', 'EUROPE', ..., 'EUROPE', 'EUROPE', 'EUROPE'],\n",
              "        dtype='<U8'),\n",
              "  'rating': array([4. , 4. , 4. , ..., 2.5, 2.5, 2.5]),\n",
              "  'label': array([1, 1, 1, ..., 1, 1, 1])}}"
            ]
          },
          "execution_count": 7,
          "metadata": {},
          "output_type": "execute_result"
        }
      ],
      "source": [
        "non_audio_df"
      ]
    },
    {
      "cell_type": "markdown",
      "metadata": {
        "id": "YbmEkhFOd-Wz"
      },
      "source": [
        "## confirm the audio features and non_audio features labels line-up"
      ]
    },
    {
      "cell_type": "code",
      "execution_count": 15,
      "metadata": {
        "id": "gesh7QngbjxN"
      },
      "outputs": [],
      "source": [
        "assert np.array_equal(audio_df['train']['label'], non_audio_df['train']['label'])"
      ]
    },
    {
      "cell_type": "code",
      "execution_count": 16,
      "metadata": {
        "id": "YSCJzEEXeDdU"
      },
      "outputs": [],
      "source": [
        "assert np.array_equal(audio_df['val']['label'], non_audio_df['val']['label'])"
      ]
    },
    {
      "cell_type": "markdown",
      "metadata": {
        "id": "o4bsBkcKTDgi"
      },
      "source": [
        "# Shuffle the data"
      ]
    },
    {
      "cell_type": "code",
      "execution_count": 18,
      "metadata": {
        "id": "hYI47YI6gwY-"
      },
      "outputs": [],
      "source": [
        "def shuffle_data(audio_features, non_audio_features):\n",
        "  input_len = len(audio_features['label'])\n",
        "  input_indices = np.random.permutation(input_len)\n",
        "  audio_features = {key: np.array([audio_features[key][i] for i in input_indices]) for key in audio_features}\n",
        "  non_audio_features = {key: np.array([non_audio_features[key][i] for i in input_indices]) for key in non_audio_features}\n",
        "\n",
        "  return audio_features, non_audio_features"
      ]
    },
    {
      "cell_type": "code",
      "execution_count": 19,
      "metadata": {
        "id": "tW_Nn5JJh2xX"
      },
      "outputs": [],
      "source": [
        "audio_df['train'], non_audio_df['train'] = shuffle_data(audio_df['train'], non_audio_df['train'])"
      ]
    },
    {
      "cell_type": "code",
      "execution_count": 22,
      "metadata": {
        "colab": {
          "base_uri": "https://localhost:8080/",
          "height": 1000
        },
        "id": "ytcJ18V1iKJw",
        "outputId": "916448f4-7cfc-436b-afe9-338bf4149eaf"
      },
      "outputs": [
        {
          "data": {
            "application/vnd.google.colaboratory.intrinsic+json": {
              "type": "string"
            },
            "text/plain": [
              "'mfcc'"
            ]
          },
          "metadata": {},
          "output_type": "display_data"
        },
        {
          "data": {
            "text/plain": [
              "(8236, 20)"
            ]
          },
          "metadata": {},
          "output_type": "display_data"
        },
        {
          "data": {
            "text/plain": [
              "array([[0.76005995, 0.72414625, 0.4474519 , 0.5848191 , 0.53006655,\n",
              "        0.47589195, 0.5140971 , 0.5184251 , 0.5014658 , 0.41128638,\n",
              "        0.50418216, 0.45888942, 0.43912137, 0.45210245, 0.44493163,\n",
              "        0.44269136, 0.43573475, 0.50103086, 0.45924878, 0.46452075],\n",
              "       [0.62537473, 0.6872484 , 0.6220264 , 0.67703474, 0.52408093,\n",
              "        0.51304144, 0.58161414, 0.49303403, 0.5192128 , 0.48459017,\n",
              "        0.45030266, 0.49302286, 0.5000207 , 0.57405436, 0.5238216 ,\n",
              "        0.55990887, 0.5039732 , 0.5296049 , 0.51788694, 0.40892377],\n",
              "       [0.4187795 , 0.45012447, 0.5202835 , 0.48710772, 0.4184391 ,\n",
              "        0.38472533, 0.47445226, 0.41846257, 0.5127183 , 0.515733  ,\n",
              "        0.53560036, 0.53547055, 0.52733517, 0.51824605, 0.52229655,\n",
              "        0.5242924 , 0.4795556 , 0.51937884, 0.5543786 , 0.42907393],\n",
              "       [0.7063404 , 0.55979353, 0.72722596, 0.75455433, 0.5558641 ,\n",
              "        0.67724824, 0.5679302 , 0.5576465 , 0.57875496, 0.53207624,\n",
              "        0.5389013 , 0.6107913 , 0.5268676 , 0.6220439 , 0.5329635 ,\n",
              "        0.56226355, 0.54549766, 0.5651441 , 0.5264978 , 0.5320799 ],\n",
              "       [0.52798724, 0.4732721 , 0.4324145 , 0.4429214 , 0.41847122,\n",
              "        0.32925186, 0.4945836 , 0.4520182 , 0.5103267 , 0.43776464,\n",
              "        0.39129153, 0.45811772, 0.4081329 , 0.47368383, 0.42728993,\n",
              "        0.4585351 , 0.4572701 , 0.4550093 , 0.5063299 , 0.45852068]],\n",
              "      dtype=float32)"
            ]
          },
          "metadata": {},
          "output_type": "display_data"
        },
        {
          "data": {
            "application/vnd.google.colaboratory.intrinsic+json": {
              "type": "string"
            },
            "text/plain": [
              "'chroma'"
            ]
          },
          "metadata": {},
          "output_type": "display_data"
        },
        {
          "data": {
            "text/plain": [
              "(8236, 12)"
            ]
          },
          "metadata": {},
          "output_type": "display_data"
        },
        {
          "data": {
            "text/plain": [
              "array([[0.7565652 , 0.7389528 , 0.68345284, 0.6724543 , 0.652322  ,\n",
              "        0.6574193 , 0.69579303, 0.7001824 , 0.7322338 , 0.7673115 ,\n",
              "        0.79169506, 0.7658477 ],\n",
              "       [0.5045562 , 0.39444757, 0.3928201 , 0.41862133, 0.39424407,\n",
              "        0.5263237 , 0.6482744 , 0.6468315 , 0.60797596, 0.6564846 ,\n",
              "        0.63118434, 0.5472069 ],\n",
              "       [0.4061888 , 0.4033786 , 0.38924792, 0.3359927 , 0.38640988,\n",
              "        0.4748818 , 0.5067707 , 0.42722544, 0.33259648, 0.3157109 ,\n",
              "        0.38701287, 0.42313546],\n",
              "       [0.5151595 , 0.44218346, 0.47420704, 0.48186037, 0.4199938 ,\n",
              "        0.4412002 , 0.46077025, 0.4961994 , 0.5268693 , 0.5172306 ,\n",
              "        0.51068944, 0.542996  ],\n",
              "       [0.42736876, 0.39345148, 0.3724289 , 0.39517817, 0.41067407,\n",
              "        0.5196986 , 0.61445117, 0.55917734, 0.5168629 , 0.6346163 ,\n",
              "        0.60528916, 0.5157448 ]], dtype=float32)"
            ]
          },
          "metadata": {},
          "output_type": "display_data"
        },
        {
          "data": {
            "application/vnd.google.colaboratory.intrinsic+json": {
              "type": "string"
            },
            "text/plain": [
              "'rms'"
            ]
          },
          "metadata": {},
          "output_type": "display_data"
        },
        {
          "data": {
            "text/plain": [
              "(8236, 1)"
            ]
          },
          "metadata": {},
          "output_type": "display_data"
        },
        {
          "data": {
            "text/plain": [
              "array([[0.03806156],\n",
              "       [0.01581909],\n",
              "       [0.03272184],\n",
              "       [0.07933281],\n",
              "       [0.00735928]], dtype=float32)"
            ]
          },
          "metadata": {},
          "output_type": "display_data"
        },
        {
          "data": {
            "application/vnd.google.colaboratory.intrinsic+json": {
              "type": "string"
            },
            "text/plain": [
              "'spectral_centroid'"
            ]
          },
          "metadata": {},
          "output_type": "display_data"
        },
        {
          "data": {
            "text/plain": [
              "(8236, 1)"
            ]
          },
          "metadata": {},
          "output_type": "display_data"
        },
        {
          "data": {
            "text/plain": [
              "array([[0.22757995],\n",
              "       [0.25690088],\n",
              "       [0.5551517 ],\n",
              "       [0.41975904],\n",
              "       [0.51526135]], dtype=float32)"
            ]
          },
          "metadata": {},
          "output_type": "display_data"
        },
        {
          "data": {
            "application/vnd.google.colaboratory.intrinsic+json": {
              "type": "string"
            },
            "text/plain": [
              "'melspectrogram'"
            ]
          },
          "metadata": {},
          "output_type": "display_data"
        },
        {
          "data": {
            "text/plain": [
              "(8236, 20)"
            ]
          },
          "metadata": {},
          "output_type": "display_data"
        },
        {
          "data": {
            "text/plain": [
              "array([[0.7528803 , 0.7707645 , 0.75482565, 0.7599286 , 0.77903575,\n",
              "        0.7875399 , 0.7794872 , 0.76991874, 0.76269203, 0.76171416,\n",
              "        0.7518177 , 0.7511664 , 0.68991894, 0.63050866, 0.5875699 ,\n",
              "        0.5661649 , 0.5570108 , 0.50161165, 0.4446382 , 0.41010422],\n",
              "       [0.7224593 , 0.6941789 , 0.6901278 , 0.63284135, 0.61605304,\n",
              "        0.61930335, 0.581937  , 0.55098325, 0.5539887 , 0.55931664,\n",
              "        0.5460116 , 0.5564225 , 0.54783344, 0.56620556, 0.53167105,\n",
              "        0.5133018 , 0.49932122, 0.4408994 , 0.42359695, 0.37872157],\n",
              "       [0.2824966 , 0.29864427, 0.35102415, 0.3848667 , 0.39347845,\n",
              "        0.38247368, 0.3724136 , 0.37524334, 0.38669083, 0.38638717,\n",
              "        0.38413736, 0.4046875 , 0.3963913 , 0.4373061 , 0.42445853,\n",
              "        0.44074625, 0.45027214, 0.41787788, 0.39663255, 0.36449915],\n",
              "       [0.811431  , 0.7089648 , 0.67243963, 0.6226564 , 0.58446646,\n",
              "        0.575499  , 0.55983764, 0.5566234 , 0.5609259 , 0.58350784,\n",
              "        0.5931211 , 0.61255825, 0.6176656 , 0.6461075 , 0.6714087 ,\n",
              "        0.6946551 , 0.68639356, 0.6421339 , 0.6053258 , 0.5519143 ],\n",
              "       [0.382028  , 0.39609098, 0.4127171 , 0.46404228, 0.51756644,\n",
              "        0.54707146, 0.5259459 , 0.50272065, 0.51346177, 0.53157   ,\n",
              "        0.5361889 , 0.5352445 , 0.51318616, 0.51795584, 0.49991363,\n",
              "        0.48940855, 0.47523877, 0.45561665, 0.46182212, 0.42759502]],\n",
              "      dtype=float32)"
            ]
          },
          "metadata": {},
          "output_type": "display_data"
        },
        {
          "data": {
            "application/vnd.google.colaboratory.intrinsic+json": {
              "type": "string"
            },
            "text/plain": [
              "'label'"
            ]
          },
          "metadata": {},
          "output_type": "display_data"
        },
        {
          "data": {
            "text/plain": [
              "(8236,)"
            ]
          },
          "metadata": {},
          "output_type": "display_data"
        },
        {
          "data": {
            "text/plain": [
              "array([1, 1, 2, 0, 2])"
            ]
          },
          "metadata": {},
          "output_type": "display_data"
        }
      ],
      "source": [
        "for key in audio_df['train'].keys():\n",
        "  display(key)\n",
        "  display(audio_df['train'][key].shape)\n",
        "  display(audio_df['train'][key][:5])"
      ]
    },
    {
      "cell_type": "code",
      "execution_count": 24,
      "metadata": {
        "colab": {
          "base_uri": "https://localhost:8080/",
          "height": 229
        },
        "id": "gNJmuBsdjIxa",
        "outputId": "15946574-280e-402a-f42b-ab98c1f6ecf2"
      },
      "outputs": [
        {
          "data": {
            "application/vnd.google.colaboratory.intrinsic+json": {
              "type": "string"
            },
            "text/plain": [
              "'type'"
            ]
          },
          "metadata": {},
          "output_type": "display_data"
        },
        {
          "data": {
            "text/plain": [
              "(8236,)"
            ]
          },
          "metadata": {},
          "output_type": "display_data"
        },
        {
          "data": {
            "text/plain": [
              "array(['call', 'blank', 'call', 'song', 'call'], dtype='<U5')"
            ]
          },
          "metadata": {},
          "output_type": "display_data"
        },
        {
          "data": {
            "application/vnd.google.colaboratory.intrinsic+json": {
              "type": "string"
            },
            "text/plain": [
              "'continent'"
            ]
          },
          "metadata": {},
          "output_type": "display_data"
        },
        {
          "data": {
            "text/plain": [
              "(8236,)"
            ]
          },
          "metadata": {},
          "output_type": "display_data"
        },
        {
          "data": {
            "text/plain": [
              "array(['EUROPE', 'EUROPE', 'EUROPE', 'EUROPE', 'EUROPE'], dtype='<U8')"
            ]
          },
          "metadata": {},
          "output_type": "display_data"
        },
        {
          "data": {
            "application/vnd.google.colaboratory.intrinsic+json": {
              "type": "string"
            },
            "text/plain": [
              "'rating'"
            ]
          },
          "metadata": {},
          "output_type": "display_data"
        },
        {
          "data": {
            "text/plain": [
              "(8236,)"
            ]
          },
          "metadata": {},
          "output_type": "display_data"
        },
        {
          "data": {
            "text/plain": [
              "array([4. , 5. , 3.5, 4. , 2.5])"
            ]
          },
          "metadata": {},
          "output_type": "display_data"
        },
        {
          "data": {
            "application/vnd.google.colaboratory.intrinsic+json": {
              "type": "string"
            },
            "text/plain": [
              "'label'"
            ]
          },
          "metadata": {},
          "output_type": "display_data"
        },
        {
          "data": {
            "text/plain": [
              "(8236,)"
            ]
          },
          "metadata": {},
          "output_type": "display_data"
        },
        {
          "data": {
            "text/plain": [
              "array([1, 1, 2, 0, 2])"
            ]
          },
          "metadata": {},
          "output_type": "display_data"
        }
      ],
      "source": [
        "for key in non_audio_df['train'].keys():\n",
        "  display(key)\n",
        "  display(non_audio_df['train'][key].shape)\n",
        "  display(non_audio_df['train'][key][:5])"
      ]
    },
    {
      "cell_type": "code",
      "execution_count": 20,
      "metadata": {
        "id": "nZ-4AUeDirA5"
      },
      "outputs": [],
      "source": [
        "audio_df['val'], non_audio_df['val'] = shuffle_data(audio_df['val'], non_audio_df['val'])"
      ]
    },
    {
      "cell_type": "code",
      "execution_count": 23,
      "metadata": {
        "colab": {
          "base_uri": "https://localhost:8080/",
          "height": 1000
        },
        "id": "EB0WFzuOjAld",
        "outputId": "6f098844-88c3-4895-9a33-bb7984017760"
      },
      "outputs": [
        {
          "data": {
            "application/vnd.google.colaboratory.intrinsic+json": {
              "type": "string"
            },
            "text/plain": [
              "'mfcc'"
            ]
          },
          "metadata": {},
          "output_type": "display_data"
        },
        {
          "data": {
            "text/plain": [
              "(4236, 20)"
            ]
          },
          "metadata": {},
          "output_type": "display_data"
        },
        {
          "data": {
            "text/plain": [
              "array([[0.36652175, 0.6218402 , 0.63316184, 0.55065125, 0.6202305 ,\n",
              "        0.4818838 , 0.6184883 , 0.47206634, 0.56410694, 0.50346756,\n",
              "        0.5533137 , 0.52303946, 0.5318836 , 0.5336072 , 0.53604966,\n",
              "        0.4930034 , 0.51327926, 0.5395667 , 0.52422255, 0.5155164 ],\n",
              "       [0.6617764 , 0.61630714, 0.5127925 , 0.57155144, 0.47847685,\n",
              "        0.51970935, 0.56870806, 0.50169003, 0.5987724 , 0.48839772,\n",
              "        0.54865855, 0.5744988 , 0.4858431 , 0.5396104 , 0.50666225,\n",
              "        0.46431226, 0.5157948 , 0.49496707, 0.50711566, 0.5055718 ],\n",
              "       [0.47352532, 0.6534426 , 0.58202773, 0.5496241 , 0.5153207 ,\n",
              "        0.45831013, 0.53978926, 0.43629533, 0.515494  , 0.49777347,\n",
              "        0.48759654, 0.5325285 , 0.44504023, 0.4884836 , 0.4482488 ,\n",
              "        0.51295215, 0.4742645 , 0.4711394 , 0.49917603, 0.44713694],\n",
              "       [0.46785808, 0.21971053, 0.31631875, 0.5895146 , 0.70605725,\n",
              "        0.49836153, 0.57184273, 0.4408412 , 0.5244668 , 0.47042593,\n",
              "        0.45743763, 0.5637973 , 0.49135807, 0.52240276, 0.4940809 ,\n",
              "        0.46335632, 0.4859012 , 0.51116145, 0.5035582 , 0.51065135],\n",
              "       [0.6126907 , 0.5989564 , 0.53282374, 0.44361138, 0.42078754,\n",
              "        0.38438392, 0.3946526 , 0.27156365, 0.3802454 , 0.3628151 ,\n",
              "        0.42001244, 0.3937526 , 0.35236436, 0.38584453, 0.3795858 ,\n",
              "        0.34357744, 0.38774607, 0.4147215 , 0.3997134 , 0.36882365]],\n",
              "      dtype=float32)"
            ]
          },
          "metadata": {},
          "output_type": "display_data"
        },
        {
          "data": {
            "application/vnd.google.colaboratory.intrinsic+json": {
              "type": "string"
            },
            "text/plain": [
              "'chroma'"
            ]
          },
          "metadata": {},
          "output_type": "display_data"
        },
        {
          "data": {
            "text/plain": [
              "(4236, 12)"
            ]
          },
          "metadata": {},
          "output_type": "display_data"
        },
        {
          "data": {
            "text/plain": [
              "array([[0.50627124, 0.54753166, 0.83880305, 0.8214557 , 0.6126394 ,\n",
              "        0.6732304 , 0.70663315, 0.7488873 , 0.8097045 , 0.7785918 ,\n",
              "        0.641301  , 0.54547524],\n",
              "       [0.43729895, 0.43420193, 0.5126612 , 0.47835356, 0.40332457,\n",
              "        0.41062194, 0.40710643, 0.42890376, 0.51423395, 0.70973134,\n",
              "        0.531354  , 0.47419587],\n",
              "       [0.48058683, 0.5264501 , 0.5034159 , 0.50373983, 0.44172058,\n",
              "        0.51819503, 0.54538244, 0.6551966 , 0.6336067 , 0.47725776,\n",
              "        0.53123164, 0.4977413 ],\n",
              "       [0.5568811 , 0.4971501 , 0.45001853, 0.4874099 , 0.51063967,\n",
              "        0.5128251 , 0.5050792 , 0.6030522 , 0.7172587 , 0.6691756 ,\n",
              "        0.59359515, 0.54208225],\n",
              "       [0.67446274, 0.67736524, 0.6957523 , 0.56595016, 0.5738353 ,\n",
              "        0.60558146, 0.58748114, 0.5590677 , 0.5761444 , 0.6049994 ,\n",
              "        0.5615313 , 0.6309108 ]], dtype=float32)"
            ]
          },
          "metadata": {},
          "output_type": "display_data"
        },
        {
          "data": {
            "application/vnd.google.colaboratory.intrinsic+json": {
              "type": "string"
            },
            "text/plain": [
              "'rms'"
            ]
          },
          "metadata": {},
          "output_type": "display_data"
        },
        {
          "data": {
            "text/plain": [
              "(4236, 1)"
            ]
          },
          "metadata": {},
          "output_type": "display_data"
        },
        {
          "data": {
            "text/plain": [
              "array([[0.00077045],\n",
              "       [0.02281143],\n",
              "       [0.00273562],\n",
              "       [0.01887347],\n",
              "       [0.00896621]], dtype=float32)"
            ]
          },
          "metadata": {},
          "output_type": "display_data"
        },
        {
          "data": {
            "application/vnd.google.colaboratory.intrinsic+json": {
              "type": "string"
            },
            "text/plain": [
              "'spectral_centroid'"
            ]
          },
          "metadata": {},
          "output_type": "display_data"
        },
        {
          "data": {
            "text/plain": [
              "(4236, 1)"
            ]
          },
          "metadata": {},
          "output_type": "display_data"
        },
        {
          "data": {
            "text/plain": [
              "array([[0.40067312],\n",
              "       [0.37746266],\n",
              "       [0.34540117],\n",
              "       [0.5810475 ],\n",
              "       [0.3958178 ]], dtype=float32)"
            ]
          },
          "metadata": {},
          "output_type": "display_data"
        },
        {
          "data": {
            "application/vnd.google.colaboratory.intrinsic+json": {
              "type": "string"
            },
            "text/plain": [
              "'melspectrogram'"
            ]
          },
          "metadata": {},
          "output_type": "display_data"
        },
        {
          "data": {
            "text/plain": [
              "(4236, 20)"
            ]
          },
          "metadata": {},
          "output_type": "display_data"
        },
        {
          "data": {
            "text/plain": [
              "array([[0.5084544 , 0.42116815, 0.39006573, 0.37333518, 0.36255145,\n",
              "        0.35751152, 0.35122457, 0.34241715, 0.33998474, 0.33061662,\n",
              "        0.30779514, 0.30248234, 0.2852573 , 0.278468  , 0.26764387,\n",
              "        0.26295117, 0.2778392 , 0.26769188, 0.25958908, 0.265169  ],\n",
              "       [0.640979  , 0.6043815 , 0.60619247, 0.64094627, 0.6545525 ,\n",
              "        0.6721365 , 0.65097016, 0.64254105, 0.6325273 , 0.6293678 ,\n",
              "        0.62138504, 0.62215173, 0.5953309 , 0.58136547, 0.58720154,\n",
              "        0.581371  , 0.5435271 , 0.50206584, 0.46743926, 0.43544146],\n",
              "       [0.5434002 , 0.52346885, 0.5147891 , 0.5158443 , 0.5075351 ,\n",
              "        0.4923551 , 0.46648985, 0.46300605, 0.45360857, 0.4314686 ,\n",
              "        0.41641134, 0.4038767 , 0.38387445, 0.39052343, 0.37587577,\n",
              "        0.3661144 , 0.36123225, 0.3280451 , 0.32728216, 0.29053357],\n",
              "       [0.2010762 , 0.11618019, 0.080697  , 0.09539485, 0.15366428,\n",
              "        0.26128882, 0.35484543, 0.43572414, 0.5197272 , 0.58960027,\n",
              "        0.61753064, 0.6294949 , 0.59868187, 0.5884274 , 0.57327837,\n",
              "        0.5428838 , 0.5244768 , 0.5151864 , 0.52346426, 0.5170813 ],\n",
              "       [0.577636  , 0.61565053, 0.6452633 , 0.64613   , 0.630477  ,\n",
              "        0.6129483 , 0.60979235, 0.61617315, 0.61538774, 0.5889517 ,\n",
              "        0.53784406, 0.5301297 , 0.5097889 , 0.5056122 , 0.5152669 ,\n",
              "        0.5140336 , 0.5128538 , 0.48468196, 0.46143797, 0.439002  ]],\n",
              "      dtype=float32)"
            ]
          },
          "metadata": {},
          "output_type": "display_data"
        },
        {
          "data": {
            "application/vnd.google.colaboratory.intrinsic+json": {
              "type": "string"
            },
            "text/plain": [
              "'label'"
            ]
          },
          "metadata": {},
          "output_type": "display_data"
        },
        {
          "data": {
            "text/plain": [
              "(4236,)"
            ]
          },
          "metadata": {},
          "output_type": "display_data"
        },
        {
          "data": {
            "text/plain": [
              "array([1, 0, 0, 2, 0])"
            ]
          },
          "metadata": {},
          "output_type": "display_data"
        }
      ],
      "source": [
        "for key in audio_df['val'].keys():\n",
        "  display(key)\n",
        "  display(audio_df['val'][key].shape)\n",
        "  display(audio_df['val'][key][:5])"
      ]
    },
    {
      "cell_type": "code",
      "execution_count": 25,
      "metadata": {
        "colab": {
          "base_uri": "https://localhost:8080/",
          "height": 229
        },
        "id": "7EalOUe-jPXH",
        "outputId": "89b35c5c-35d2-429d-c9e5-5f2e6575cfae"
      },
      "outputs": [
        {
          "data": {
            "application/vnd.google.colaboratory.intrinsic+json": {
              "type": "string"
            },
            "text/plain": [
              "'type'"
            ]
          },
          "metadata": {},
          "output_type": "display_data"
        },
        {
          "data": {
            "text/plain": [
              "(4236,)"
            ]
          },
          "metadata": {},
          "output_type": "display_data"
        },
        {
          "data": {
            "text/plain": [
              "array(['call', 'call', 'song', 'both', 'song'], dtype='<U5')"
            ]
          },
          "metadata": {},
          "output_type": "display_data"
        },
        {
          "data": {
            "application/vnd.google.colaboratory.intrinsic+json": {
              "type": "string"
            },
            "text/plain": [
              "'continent'"
            ]
          },
          "metadata": {},
          "output_type": "display_data"
        },
        {
          "data": {
            "text/plain": [
              "(4236,)"
            ]
          },
          "metadata": {},
          "output_type": "display_data"
        },
        {
          "data": {
            "text/plain": [
              "array(['EUROPE', 'EUROPE', 'EUROPE', 'EUROPE', 'EUROPE'], dtype='<U8')"
            ]
          },
          "metadata": {},
          "output_type": "display_data"
        },
        {
          "data": {
            "application/vnd.google.colaboratory.intrinsic+json": {
              "type": "string"
            },
            "text/plain": [
              "'rating'"
            ]
          },
          "metadata": {},
          "output_type": "display_data"
        },
        {
          "data": {
            "text/plain": [
              "(4236,)"
            ]
          },
          "metadata": {},
          "output_type": "display_data"
        },
        {
          "data": {
            "text/plain": [
              "array([4. , 4. , 2.5, 3.5, 2.5])"
            ]
          },
          "metadata": {},
          "output_type": "display_data"
        },
        {
          "data": {
            "application/vnd.google.colaboratory.intrinsic+json": {
              "type": "string"
            },
            "text/plain": [
              "'label'"
            ]
          },
          "metadata": {},
          "output_type": "display_data"
        },
        {
          "data": {
            "text/plain": [
              "(4236,)"
            ]
          },
          "metadata": {},
          "output_type": "display_data"
        },
        {
          "data": {
            "text/plain": [
              "array([1, 0, 0, 2, 0])"
            ]
          },
          "metadata": {},
          "output_type": "display_data"
        }
      ],
      "source": [
        "for key in non_audio_df['val'].keys():\n",
        "  display(key)\n",
        "  display(non_audio_df['val'][key].shape)\n",
        "  display(non_audio_df['val'][key][:5])"
      ]
    },
    {
      "cell_type": "markdown",
      "metadata": {
        "id": "x0CMc8r2TN1Q"
      },
      "source": [
        "# One Hot Encode Continents"
      ]
    },
    {
      "cell_type": "code",
      "execution_count": 26,
      "metadata": {
        "id": "iiv_RDrQjVzI"
      },
      "outputs": [],
      "source": [
        "encoder = OneHotEncoder(sparse_output=False)\n",
        "\n",
        "train_continents = non_audio_df['train']['continent'].reshape(-1, 1)\n",
        "val_continents = non_audio_df['val']['continent'].reshape(-1, 1)\n",
        "\n",
        "non_audio_df['train']['continent'] = encoder.fit_transform(train_continents)\n",
        "non_audio_df['val']['continent'] = encoder.fit_transform(val_continents)"
      ]
    },
    {
      "cell_type": "code",
      "execution_count": 27,
      "metadata": {
        "colab": {
          "base_uri": "https://localhost:8080/",
          "height": 225
        },
        "id": "kW1pGWpcj06W",
        "outputId": "3f6d5495-2ef0-4e64-d531-74b42e32c4fc"
      },
      "outputs": [
        {
          "data": {
            "text/plain": [
              "(8236, 5)"
            ]
          },
          "metadata": {},
          "output_type": "display_data"
        },
        {
          "data": {
            "text/plain": [
              "array([[0., 0., 0., 1., 0.],\n",
              "       [0., 0., 0., 1., 0.],\n",
              "       [0., 0., 0., 1., 0.],\n",
              "       [0., 0., 0., 1., 0.],\n",
              "       [0., 0., 0., 1., 0.]])"
            ]
          },
          "metadata": {},
          "output_type": "display_data"
        },
        {
          "data": {
            "text/plain": [
              "(4236, 5)"
            ]
          },
          "metadata": {},
          "output_type": "display_data"
        },
        {
          "data": {
            "text/plain": [
              "array([[0., 0., 0., 1., 0.],\n",
              "       [0., 0., 0., 1., 0.],\n",
              "       [0., 0., 0., 1., 0.],\n",
              "       [0., 0., 0., 1., 0.],\n",
              "       [0., 0., 0., 1., 0.]])"
            ]
          },
          "metadata": {},
          "output_type": "display_data"
        }
      ],
      "source": [
        "display(non_audio_df['train']['continent'].shape)\n",
        "display(non_audio_df['train']['continent'][:5])\n",
        "\n",
        "display(non_audio_df['val']['continent'].shape)\n",
        "display(non_audio_df['val']['continent'][:5])"
      ]
    },
    {
      "cell_type": "markdown",
      "metadata": {
        "id": "9D_PrIf9WDEO"
      },
      "source": [
        "# Random Forest Models"
      ]
    },
    {
      "cell_type": "code",
      "execution_count": 28,
      "metadata": {
        "id": "nOI_O9WdkEtN"
      },
      "outputs": [],
      "source": [
        "train_results = {}\n",
        "val_results = {}"
      ]
    },
    {
      "cell_type": "code",
      "execution_count": 40,
      "metadata": {
        "id": "U-Q1LkGNk54k"
      },
      "outputs": [],
      "source": [
        "classes = ['barswa', 'comsan', 'eaywag1']"
      ]
    },
    {
      "cell_type": "markdown",
      "metadata": {
        "id": "24yciZmDWEtP"
      },
      "source": [
        "## With all features"
      ]
    },
    {
      "cell_type": "markdown",
      "metadata": {
        "id": "DQhbhE9llQzB"
      },
      "source": [
        "### create features"
      ]
    },
    {
      "cell_type": "code",
      "execution_count": 29,
      "metadata": {
        "colab": {
          "base_uri": "https://localhost:8080/"
        },
        "id": "A7AeX5O7kMAX",
        "outputId": "918d72a6-09cb-4aca-f588-ac635ae9ad86"
      },
      "outputs": [
        {
          "data": {
            "text/plain": [
              "array([[0.76005995, 0.72414625, 0.44745189, ..., 0.        , 1.        ,\n",
              "        0.        ],\n",
              "       [0.62537473, 0.68724841, 0.62202638, ..., 0.        , 1.        ,\n",
              "        0.        ],\n",
              "       [0.41877949, 0.45012447, 0.52028352, ..., 0.        , 1.        ,\n",
              "        0.        ],\n",
              "       ...,\n",
              "       [0.40413752, 0.49523565, 0.52342135, ..., 0.        , 1.        ,\n",
              "        0.        ],\n",
              "       [0.58302772, 0.7234571 , 0.67265385, ..., 0.        , 1.        ,\n",
              "        0.        ],\n",
              "       [0.49498388, 0.28485599, 0.53402048, ..., 0.        , 1.        ,\n",
              "        0.        ]])"
            ]
          },
          "execution_count": 29,
          "metadata": {},
          "output_type": "execute_result"
        }
      ],
      "source": [
        "training_features = np.concatenate((audio_df['train']['mfcc'], audio_df['train']['chroma'], audio_df['train']['rms'], audio_df['train']['spectral_centroid'], audio_df['train']['melspectrogram'], non_audio_df['train']['continent']), axis=1)\n",
        "\n",
        "training_features"
      ]
    },
    {
      "cell_type": "code",
      "execution_count": 30,
      "metadata": {
        "colab": {
          "base_uri": "https://localhost:8080/"
        },
        "id": "tX6wp499kmDL",
        "outputId": "472186e2-aa47-4454-8e93-166d2581dc89"
      },
      "outputs": [
        {
          "data": {
            "text/plain": [
              "(8236, 59)"
            ]
          },
          "execution_count": 30,
          "metadata": {},
          "output_type": "execute_result"
        }
      ],
      "source": [
        "training_features.shape"
      ]
    },
    {
      "cell_type": "code",
      "execution_count": 31,
      "metadata": {
        "colab": {
          "base_uri": "https://localhost:8080/"
        },
        "id": "b4kTqI5XkzBE",
        "outputId": "f7178138-43ab-4d9c-80d5-673c372f4171"
      },
      "outputs": [
        {
          "data": {
            "text/plain": [
              "array([[0.36652175, 0.62184018, 0.63316184, ..., 0.        , 1.        ,\n",
              "        0.        ],\n",
              "       [0.66177642, 0.61630714, 0.51279253, ..., 0.        , 1.        ,\n",
              "        0.        ],\n",
              "       [0.47352532, 0.65344262, 0.58202773, ..., 0.        , 1.        ,\n",
              "        0.        ],\n",
              "       ...,\n",
              "       [0.66926277, 0.71002442, 0.52306557, ..., 0.        , 1.        ,\n",
              "        0.        ],\n",
              "       [0.55656922, 0.48974693, 0.43531376, ..., 0.        , 1.        ,\n",
              "        0.        ],\n",
              "       [0.66433626, 0.83103448, 0.65332073, ..., 0.        , 1.        ,\n",
              "        0.        ]])"
            ]
          },
          "execution_count": 31,
          "metadata": {},
          "output_type": "execute_result"
        }
      ],
      "source": [
        "validation_features = np.concatenate((audio_df['val']['mfcc'], audio_df['val']['chroma'], audio_df['val']['rms'], audio_df['val']['spectral_centroid'], audio_df['val']['melspectrogram'], non_audio_df['val']['continent']), axis=1)\n",
        "\n",
        "validation_features"
      ]
    },
    {
      "cell_type": "code",
      "execution_count": 32,
      "metadata": {
        "colab": {
          "base_uri": "https://localhost:8080/"
        },
        "id": "TOOaxq0mlJZ0",
        "outputId": "fef5e0d3-8c42-4595-9df9-4d3ee52aa3ab"
      },
      "outputs": [
        {
          "data": {
            "text/plain": [
              "(4236, 59)"
            ]
          },
          "execution_count": 32,
          "metadata": {},
          "output_type": "execute_result"
        }
      ],
      "source": [
        "validation_features.shape"
      ]
    },
    {
      "cell_type": "markdown",
      "metadata": {
        "id": "5pPTZUPxlTIj"
      },
      "source": [
        "### fit the model with training data"
      ]
    },
    {
      "cell_type": "code",
      "execution_count": 33,
      "metadata": {
        "colab": {
          "base_uri": "https://localhost:8080/",
          "height": 75
        },
        "id": "AUtN8ZdllW5C",
        "outputId": "bf6c8bfe-26cb-4c3c-f362-87934cf15b6c"
      },
      "outputs": [
        {
          "data": {
            "text/html": [
              "<style>#sk-container-id-1 {color: black;background-color: white;}#sk-container-id-1 pre{padding: 0;}#sk-container-id-1 div.sk-toggleable {background-color: white;}#sk-container-id-1 label.sk-toggleable__label {cursor: pointer;display: block;width: 100%;margin-bottom: 0;padding: 0.3em;box-sizing: border-box;text-align: center;}#sk-container-id-1 label.sk-toggleable__label-arrow:before {content: \"▸\";float: left;margin-right: 0.25em;color: #696969;}#sk-container-id-1 label.sk-toggleable__label-arrow:hover:before {color: black;}#sk-container-id-1 div.sk-estimator:hover label.sk-toggleable__label-arrow:before {color: black;}#sk-container-id-1 div.sk-toggleable__content {max-height: 0;max-width: 0;overflow: hidden;text-align: left;background-color: #f0f8ff;}#sk-container-id-1 div.sk-toggleable__content pre {margin: 0.2em;color: black;border-radius: 0.25em;background-color: #f0f8ff;}#sk-container-id-1 input.sk-toggleable__control:checked~div.sk-toggleable__content {max-height: 200px;max-width: 100%;overflow: auto;}#sk-container-id-1 input.sk-toggleable__control:checked~label.sk-toggleable__label-arrow:before {content: \"▾\";}#sk-container-id-1 div.sk-estimator input.sk-toggleable__control:checked~label.sk-toggleable__label {background-color: #d4ebff;}#sk-container-id-1 div.sk-label input.sk-toggleable__control:checked~label.sk-toggleable__label {background-color: #d4ebff;}#sk-container-id-1 input.sk-hidden--visually {border: 0;clip: rect(1px 1px 1px 1px);clip: rect(1px, 1px, 1px, 1px);height: 1px;margin: -1px;overflow: hidden;padding: 0;position: absolute;width: 1px;}#sk-container-id-1 div.sk-estimator {font-family: monospace;background-color: #f0f8ff;border: 1px dotted black;border-radius: 0.25em;box-sizing: border-box;margin-bottom: 0.5em;}#sk-container-id-1 div.sk-estimator:hover {background-color: #d4ebff;}#sk-container-id-1 div.sk-parallel-item::after {content: \"\";width: 100%;border-bottom: 1px solid gray;flex-grow: 1;}#sk-container-id-1 div.sk-label:hover label.sk-toggleable__label {background-color: #d4ebff;}#sk-container-id-1 div.sk-serial::before {content: \"\";position: absolute;border-left: 1px solid gray;box-sizing: border-box;top: 0;bottom: 0;left: 50%;z-index: 0;}#sk-container-id-1 div.sk-serial {display: flex;flex-direction: column;align-items: center;background-color: white;padding-right: 0.2em;padding-left: 0.2em;position: relative;}#sk-container-id-1 div.sk-item {position: relative;z-index: 1;}#sk-container-id-1 div.sk-parallel {display: flex;align-items: stretch;justify-content: center;background-color: white;position: relative;}#sk-container-id-1 div.sk-item::before, #sk-container-id-1 div.sk-parallel-item::before {content: \"\";position: absolute;border-left: 1px solid gray;box-sizing: border-box;top: 0;bottom: 0;left: 50%;z-index: -1;}#sk-container-id-1 div.sk-parallel-item {display: flex;flex-direction: column;z-index: 1;position: relative;background-color: white;}#sk-container-id-1 div.sk-parallel-item:first-child::after {align-self: flex-end;width: 50%;}#sk-container-id-1 div.sk-parallel-item:last-child::after {align-self: flex-start;width: 50%;}#sk-container-id-1 div.sk-parallel-item:only-child::after {width: 0;}#sk-container-id-1 div.sk-dashed-wrapped {border: 1px dashed gray;margin: 0 0.4em 0.5em 0.4em;box-sizing: border-box;padding-bottom: 0.4em;background-color: white;}#sk-container-id-1 div.sk-label label {font-family: monospace;font-weight: bold;display: inline-block;line-height: 1.2em;}#sk-container-id-1 div.sk-label-container {text-align: center;}#sk-container-id-1 div.sk-container {/* jupyter's `normalize.less` sets `[hidden] { display: none; }` but bootstrap.min.css set `[hidden] { display: none !important; }` so we also need the `!important` here to be able to override the default hidden behavior on the sphinx rendered scikit-learn.org. See: https://github.com/scikit-learn/scikit-learn/issues/21755 */display: inline-block !important;position: relative;}#sk-container-id-1 div.sk-text-repr-fallback {display: none;}</style><div id=\"sk-container-id-1\" class=\"sk-top-container\"><div class=\"sk-text-repr-fallback\"><pre>RandomForestClassifier(criterion=&#x27;entropy&#x27;, n_estimators=50)</pre><b>In a Jupyter environment, please rerun this cell to show the HTML representation or trust the notebook. <br />On GitHub, the HTML representation is unable to render, please try loading this page with nbviewer.org.</b></div><div class=\"sk-container\" hidden><div class=\"sk-item\"><div class=\"sk-estimator sk-toggleable\"><input class=\"sk-toggleable__control sk-hidden--visually\" id=\"sk-estimator-id-1\" type=\"checkbox\" checked><label for=\"sk-estimator-id-1\" class=\"sk-toggleable__label sk-toggleable__label-arrow\">RandomForestClassifier</label><div class=\"sk-toggleable__content\"><pre>RandomForestClassifier(criterion=&#x27;entropy&#x27;, n_estimators=50)</pre></div></div></div></div></div>"
            ],
            "text/plain": [
              "RandomForestClassifier(criterion='entropy', n_estimators=50)"
            ]
          },
          "execution_count": 33,
          "metadata": {},
          "output_type": "execute_result"
        }
      ],
      "source": [
        "rf = RandomForestClassifier(n_estimators=50, criterion='entropy')\n",
        "rf.fit(training_features, audio_df['train']['label'])"
      ]
    },
    {
      "cell_type": "code",
      "execution_count": 34,
      "metadata": {
        "colab": {
          "base_uri": "https://localhost:8080/"
        },
        "id": "n3U0hS0blkug",
        "outputId": "8e07c156-051f-494f-ada5-b10ee13e9c09"
      },
      "outputs": [
        {
          "name": "stdout",
          "output_type": "stream",
          "text": [
            "Training accuracy: 1.0\n",
            "Validation accuracy: 0.6815391879131256\n"
          ]
        }
      ],
      "source": [
        "print('Training accuracy:', rf.score(training_features, audio_df['train']['label']))\n",
        "train_results['all_features'] = rf.score(training_features, audio_df['train']['label'])\n",
        "\n",
        "print('Validation accuracy:', rf.score(validation_features, audio_df['val']['label']))\n",
        "val_results['all_features'] = rf.score(validation_features, audio_df['val']['label'])"
      ]
    },
    {
      "cell_type": "markdown",
      "metadata": {
        "id": "Eqa6UrwumFut"
      },
      "source": [
        "### evaluate the results"
      ]
    },
    {
      "cell_type": "code",
      "execution_count": 35,
      "metadata": {
        "colab": {
          "base_uri": "https://localhost:8080/"
        },
        "id": "kpt91EyFmHsU",
        "outputId": "2cf16c92-9d6e-481c-f67e-01a4a745c119"
      },
      "outputs": [
        {
          "name": "stdout",
          "output_type": "stream",
          "text": [
            "Training classification Report \n",
            "\n",
            "              precision    recall  f1-score   support\n",
            "\n",
            "      barswa       1.00      1.00      1.00      2758\n",
            "      comsan       1.00      1.00      1.00      2730\n",
            "     eaywag1       1.00      1.00      1.00      2748\n",
            "\n",
            "    accuracy                           1.00      8236\n",
            "   macro avg       1.00      1.00      1.00      8236\n",
            "weighted avg       1.00      1.00      1.00      8236\n",
            "\n"
          ]
        }
      ],
      "source": [
        "train_yhat_result = rf.predict(training_features)\n",
        "\n",
        "print('Training classification Report \\n')\n",
        "print(classification_report(audio_df['train']['label'], train_yhat_result, target_names=classes))"
      ]
    },
    {
      "cell_type": "code",
      "execution_count": 36,
      "metadata": {
        "colab": {
          "base_uri": "https://localhost:8080/"
        },
        "id": "hPAJ8Jgpmpdh",
        "outputId": "5bab476d-dfe6-4ef5-a3ae-ea226c98e25b"
      },
      "outputs": [
        {
          "name": "stdout",
          "output_type": "stream",
          "text": [
            "Validation classification Report \n",
            "\n",
            "              precision    recall  f1-score   support\n",
            "\n",
            "      barswa       0.79      0.66      0.72      1760\n",
            "      comsan       0.62      0.69      0.66      1112\n",
            "     eaywag1       0.63      0.70      0.66      1364\n",
            "\n",
            "    accuracy                           0.68      4236\n",
            "   macro avg       0.68      0.68      0.68      4236\n",
            "weighted avg       0.69      0.68      0.68      4236\n",
            "\n"
          ]
        }
      ],
      "source": [
        "val_yhat_result = rf.predict(validation_features)\n",
        "\n",
        "print('Validation classification Report \\n')\n",
        "print(classification_report(audio_df['val']['label'], val_yhat_result, target_names=classes))"
      ]
    },
    {
      "cell_type": "code",
      "execution_count": 37,
      "metadata": {
        "colab": {
          "base_uri": "https://localhost:8080/",
          "height": 472
        },
        "id": "yn4LjwNRm_cP",
        "outputId": "b5636871-2f80-44f7-b581-f508c4ebfb1d"
      },
      "outputs": [
        {
          "data": {
            "image/png": "[encoded data removed]",
            "text/plain": [
              "<Figure size 640x480 with 1 Axes>"
            ]
          },
          "metadata": {},
          "output_type": "display_data"
        }
      ],
      "source": [
        "train_cm = tf.math.confusion_matrix(audio_df['train']['label'], train_yhat_result)\n",
        "\n",
        "ax = sns.heatmap(train_cm,\n",
        "                 annot=True,\n",
        "                 fmt='.0f',\n",
        "                 cmap='Blues',\n",
        "                 xticklabels=classes,\n",
        "                 yticklabels=classes,\n",
        "                 cbar=False)\n",
        "\n",
        "ax.set(xlabel='Predicted Label', ylabel='True Label')\n",
        "plt.title('Train Confusion Matrix')\n",
        "plt.show()"
      ]
    },
    {
      "cell_type": "code",
      "execution_count": 39,
      "metadata": {
        "colab": {
          "base_uri": "https://localhost:8080/",
          "height": 472
        },
        "id": "yNaI6fp0nukV",
        "outputId": "a7f1935f-79bd-43c3-e5ff-3ee12fcf2465"
      },
      "outputs": [
        {
          "data": {
            "image/png": "[encoded data removed]",
            "text/plain": [
              "<Figure size 640x480 with 1 Axes>"
            ]
          },
          "metadata": {},
          "output_type": "display_data"
        }
      ],
      "source": [
        "val_cm = tf.math.confusion_matrix(audio_df['val']['label'], val_yhat_result)\n",
        "\n",
        "ax = sns.heatmap(val_cm,\n",
        "                 annot=True,\n",
        "                 fmt='.0f',\n",
        "                 cmap='Blues',\n",
        "                 xticklabels=classes,\n",
        "                 yticklabels=classes,\n",
        "                 cbar=False)\n",
        "\n",
        "ax.set(xlabel='Predicted Label', ylabel='True Label')\n",
        "plt.title('Validation Confusion Matrix')\n",
        "plt.show()"
      ]
    },
    {
      "cell_type": "markdown",
      "metadata": {
        "id": "Cfyq2O6XrVWd"
      },
      "source": [
        "# Review results from all models"
      ]
    },
    {
      "cell_type": "code",
      "execution_count": 41,
      "metadata": {
        "colab": {
          "base_uri": "https://localhost:8080/",
          "height": 81
        },
        "id": "9Qt0tqxIrX8U",
        "outputId": "afdca8a0-115a-4e0e-c58c-b1289f913049"
      },
      "outputs": [
        {
          "data": {
            "text/html": [
              "\n",
              "  <div id=\"df-55388962-b592-4b07-8c39-5979f578720f\" class=\"colab-df-container\">\n",
              "    <div>\n",
              "<style scoped>\n",
              "    .dataframe tbody tr th:only-of-type {\n",
              "        vertical-align: middle;\n",
              "    }\n",
              "\n",
              "    .dataframe tbody tr th {\n",
              "        vertical-align: top;\n",
              "    }\n",
              "\n",
              "    .dataframe thead th {\n",
              "        text-align: right;\n",
              "    }\n",
              "</style>\n",
              "<table border=\"1\" class=\"dataframe\">\n",
              "  <thead>\n",
              "    <tr style=\"text-align: right;\">\n",
              "      <th></th>\n",
              "      <th>Features</th>\n",
              "      <th>Train_Accuracy</th>\n",
              "      <th>Val_Accuracy</th>\n",
              "    </tr>\n",
              "  </thead>\n",
              "  <tbody>\n",
              "    <tr>\n",
              "      <th>0</th>\n",
              "      <td>all_features</td>\n",
              "      <td>1.0</td>\n",
              "      <td>0.68</td>\n",
              "    </tr>\n",
              "  </tbody>\n",
              "</table>\n",
              "</div>\n",
              "    <div class=\"colab-df-buttons\">\n",
              "\n",
              "  <div class=\"colab-df-container\">\n",
              "    <button class=\"colab-df-convert\" onclick=\"convertToInteractive('df-55388962-b592-4b07-8c39-5979f578720f')\"\n",
              "            title=\"Convert this dataframe to an interactive table.\"\n",
              "            style=\"display:none;\">\n",
              "\n",
              "  <svg xmlns=\"http://www.w3.org/2000/svg\" height=\"24px\" viewBox=\"0 -960 960 960\">\n",
              "    <path d=\"M120-120v-720h720v720H120Zm60-500h600v-160H180v160Zm220 220h160v-160H400v160Zm0 220h160v-160H400v160ZM180-400h160v-160H180v160Zm440 0h160v-160H620v160ZM180-180h160v-160H180v160Zm440 0h160v-160H620v160Z\"/>\n",
              "  </svg>\n",
              "    </button>\n",
              "\n",
              "  <style>\n",
              "    .colab-df-container {\n",
              "      display:flex;\n",
              "      gap: 12px;\n",
              "    }\n",
              "\n",
              "    .colab-df-convert {\n",
              "      background-color: #E8F0FE;\n",
              "      border: none;\n",
              "      border-radius: 50%;\n",
              "      cursor: pointer;\n",
              "      display: none;\n",
              "      fill: #1967D2;\n",
              "      height: 32px;\n",
              "      padding: 0 0 0 0;\n",
              "      width: 32px;\n",
              "    }\n",
              "\n",
              "    .colab-df-convert:hover {\n",
              "      background-color: #E2EBFA;\n",
              "      box-shadow: 0px 1px 2px rgba(60, 64, 67, 0.3), 0px 1px 3px 1px rgba(60, 64, 67, 0.15);\n",
              "      fill: #174EA6;\n",
              "    }\n",
              "\n",
              "    .colab-df-buttons div {\n",
              "      margin-bottom: 4px;\n",
              "    }\n",
              "\n",
              "    [theme=dark] .colab-df-convert {\n",
              "      background-color: #3B4455;\n",
              "      fill: #D2E3FC;\n",
              "    }\n",
              "\n",
              "    [theme=dark] .colab-df-convert:hover {\n",
              "      background-color: #434B5C;\n",
              "      box-shadow: 0px 1px 3px 1px rgba(0, 0, 0, 0.15);\n",
              "      filter: drop-shadow(0px 1px 2px rgba(0, 0, 0, 0.3));\n",
              "      fill: #FFFFFF;\n",
              "    }\n",
              "  </style>\n",
              "\n",
              "    <script>\n",
              "      const buttonEl =\n",
              "        document.querySelector('#df-55388962-b592-4b07-8c39-5979f578720f button.colab-df-convert');\n",
              "      buttonEl.style.display =\n",
              "        google.colab.kernel.accessAllowed ? 'block' : 'none';\n",
              "\n",
              "      async function convertToInteractive(key) {\n",
              "        const element = document.querySelector('#df-55388962-b592-4b07-8c39-5979f578720f');\n",
              "        const dataTable =\n",
              "          await google.colab.kernel.invokeFunction('convertToInteractive',\n",
              "                                                    [key], {});\n",
              "        if (!dataTable) return;\n",
              "\n",
              "        const docLinkHtml = 'Like what you see? Visit the ' +\n",
              "          '<a target=\"_blank\" href=https://colab.research.google.com/notebooks/data_table.ipynb>data table notebook</a>'\n",
              "          + ' to learn more about interactive tables.';\n",
              "        element.innerHTML = '';\n",
              "        dataTable['output_type'] = 'display_data';\n",
              "        await google.colab.output.renderOutput(dataTable, element);\n",
              "        const docLink = document.createElement('div');\n",
              "        docLink.innerHTML = docLinkHtml;\n",
              "        element.appendChild(docLink);\n",
              "      }\n",
              "    </script>\n",
              "  </div>\n",
              "\n",
              "    </div>\n",
              "  </div>\n"
            ],
            "text/plain": [
              "       Features  Train_Accuracy  Val_Accuracy\n",
              "0  all_features             1.0          0.68"
            ]
          },
          "execution_count": 41,
          "metadata": {},
          "output_type": "execute_result"
        }
      ],
      "source": [
        "train_results_df = pd.DataFrame(list(train_results.items()), columns=['Features', 'Train_Accuracy']).round(2)\n",
        "val_results_df = pd.DataFrame(list(val_results.items()), columns=['Features', 'Val_Accuracy']).round(2)\n",
        "\n",
        "result_df = train_results_df.merge(val_results_df, on='Features')\n",
        "result_df = result_df.sort_values('Val_Accuracy')\n",
        "result_df"
      ]
    }
  ],
  "metadata": {
    "colab": {
      "include_colab_link": true,
      "provenance": []
    },
    "kernelspec": {
      "display_name": "Python 3",
      "name": "python3"
    },
    "language_info": {
      "name": "python"
    }
  },
  "nbformat": 4,
  "nbformat_minor": 0
}
