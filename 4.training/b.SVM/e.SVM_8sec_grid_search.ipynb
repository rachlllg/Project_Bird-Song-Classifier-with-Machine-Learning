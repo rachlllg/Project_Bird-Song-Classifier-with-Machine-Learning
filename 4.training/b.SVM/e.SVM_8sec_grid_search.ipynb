{
  "cells": [
    {
      "cell_type": "markdown",
      "metadata": {
        "colab_type": "text",
        "id": "view-in-github"
      },
      "source": [
        "<a href=\"https://colab.research.google.com/github/rachlllg/Project_Bird-Song-Classifier-with-Machine-Learning/blob/main/4.training/b.SVM/e.SVM_8sec_grid_search.ipynb\" target=\"_parent\"><img src=\"https://colab.research.google.com/assets/colab-badge.svg\" alt=\"Open In Colab\"/></a>"
      ]
    },
    {
      "cell_type": "markdown",
      "metadata": {
        "id": "-8AFdNoYR03Z"
      },
      "source": [
        "# Import Libraries"
      ]
    },
    {
      "cell_type": "code",
      "execution_count": null,
      "metadata": {
        "colab": {
          "base_uri": "https://localhost:8080/"
        },
        "id": "4SQ-ig5ER3Ai",
        "outputId": "541a4816-7595-48f8-c3f9-b9a2ca3a1e40"
      },
      "outputs": [
        {
          "name": "stdout",
          "output_type": "stream",
          "text": [
            "Mounted at /content/drive\n"
          ]
        }
      ],
      "source": [
        "# For drive access\n",
        "from google.colab import drive\n",
        "drive.mount('/content/drive')\n",
        "\n",
        "# Standard libraries\n",
        "import numpy as np\n",
        "import pandas as pd\n",
        "\n",
        "# for loading the pickle files with features and labels\n",
        "import pickle\n",
        "\n",
        "# For audio\n",
        "from IPython.display import Audio\n",
        "import librosa\n",
        "\n",
        "# For preprocessing\n",
        "from sklearn.preprocessing import OneHotEncoder\n",
        "import tensorflow as tf\n",
        "\n",
        "# For modeling\n",
        "from sklearn.svm import SVC\n",
        "from sklearn.model_selection import GridSearchCV\n",
        "from sklearn.metrics import classification_report\n",
        "\n",
        "# For visualization\n",
        "import matplotlib.pyplot as plt\n",
        "import seaborn as sns"
      ]
    },
    {
      "cell_type": "markdown",
      "metadata": {
        "id": "3AU-n0amahM-"
      },
      "source": [
        "# Load features and labels from train and val pickle"
      ]
    },
    {
      "cell_type": "code",
      "execution_count": null,
      "metadata": {
        "id": "u8SIG_qEagjg"
      },
      "outputs": [],
      "source": [
        "with open('/content/drive/MyDrive/project/train_val_features_pkl/train_val_8_sec_audio_features_avgpooled.pkl', 'rb') as file:\n",
        "  audio_df = pickle.load(file)"
      ]
    },
    {
      "cell_type": "code",
      "execution_count": null,
      "metadata": {
        "colab": {
          "base_uri": "https://localhost:8080/"
        },
        "id": "tWCzz4R8b7V5",
        "outputId": "04cbc9de-c9bf-4a86-a205-27813bead980"
      },
      "outputs": [
        {
          "data": {
            "text/plain": [
              "{'train': {'mfcc': array([[0.54529715, 0.4793393 , 0.5349132 , ..., 0.4413777 , 0.48703906,\n",
              "          0.4391229 ],\n",
              "         [0.5793472 , 0.4298672 , 0.53157544, ..., 0.44011986, 0.4861899 ,\n",
              "          0.45821744],\n",
              "         [0.58690274, 0.4212866 , 0.5418751 , ..., 0.44207054, 0.48264065,\n",
              "          0.45636433],\n",
              "         ...,\n",
              "         [0.64385235, 0.6829456 , 0.53566563, ..., 0.5652174 , 0.54604053,\n",
              "          0.5220579 ],\n",
              "         [0.63340336, 0.6876703 , 0.5409084 , ..., 0.54519475, 0.53867674,\n",
              "          0.49238336],\n",
              "         [0.62090445, 0.68252176, 0.5312934 , ..., 0.5375894 , 0.5312795 ,\n",
              "          0.48669696]], dtype=float32),\n",
              "  'chroma': array([[0.33323073, 0.30428657, 0.2593368 , ..., 0.5534823 , 0.5671482 ,\n",
              "          0.39478505],\n",
              "         [0.3348951 , 0.2847971 , 0.28591642, ..., 0.48760402, 0.5730938 ,\n",
              "          0.4367055 ],\n",
              "         [0.30589613, 0.32092458, 0.35909373, ..., 0.51112914, 0.47443873,\n",
              "          0.3541228 ],\n",
              "         ...,\n",
              "         [0.63341504, 0.69855356, 0.7788    , ..., 0.61769176, 0.59956795,\n",
              "          0.6227737 ],\n",
              "         [0.63660365, 0.6917866 , 0.7300688 , ..., 0.6247187 , 0.5955071 ,\n",
              "          0.62496245],\n",
              "         [0.6427118 , 0.6964757 , 0.7205439 , ..., 0.6192207 , 0.5933949 ,\n",
              "          0.5994139 ]], dtype=float32),\n",
              "  'rms': array([[0.04363674],\n",
              "         [0.04894074],\n",
              "         [0.03781666],\n",
              "         ...,\n",
              "         [0.01526631],\n",
              "         [0.0183391 ],\n",
              "         [0.01448674]], dtype=float32),\n",
              "  'spectral_centroid': array([[0.4894502 ],\n",
              "         [0.53729105],\n",
              "         [0.57179374],\n",
              "         ...,\n",
              "         [0.27606383],\n",
              "         [0.26911148],\n",
              "         [0.28671613]], dtype=float32),\n",
              "  'melspectrogram': array([[0.4942571 , 0.46630353, 0.46723923, ..., 0.47733763, 0.43253782,\n",
              "          0.3855449 ],\n",
              "         [0.4882816 , 0.46821427, 0.46761528, ..., 0.5423821 , 0.5155317 ,\n",
              "          0.46023315],\n",
              "         [0.49077216, 0.47082922, 0.47274053, ..., 0.57021886, 0.55316544,\n",
              "          0.49377462],\n",
              "         ...,\n",
              "         [0.68829834, 0.6379282 , 0.63012457, ..., 0.4317261 , 0.42503196,\n",
              "          0.4264088 ],\n",
              "         [0.68743324, 0.6444912 , 0.6252541 , ..., 0.42371044, 0.41935176,\n",
              "          0.4167323 ],\n",
              "         [0.6545092 , 0.6302308 , 0.61987585, ..., 0.4193083 , 0.41185388,\n",
              "          0.40703273]], dtype=float32),\n",
              "  'label': array([0, 0, 0, ..., 2, 2, 2])},\n",
              " 'val': {'mfcc': array([[0.53712696, 0.4974271 , 0.42230383, ..., 0.42753544, 0.43672395,\n",
              "          0.4028031 ],\n",
              "         [0.6763556 , 0.7499724 , 0.5798445 , ..., 0.59830695, 0.5712111 ,\n",
              "          0.5139304 ],\n",
              "         [0.6544008 , 0.7117479 , 0.63287103, ..., 0.5231731 , 0.53924084,\n",
              "          0.48692483],\n",
              "         ...,\n",
              "         [0.6871535 , 0.6927643 , 0.5035141 , ..., 0.54538333, 0.51867616,\n",
              "          0.5010022 ],\n",
              "         [0.5348202 , 0.71103656, 0.482931  , ..., 0.48366803, 0.47977835,\n",
              "          0.43783596],\n",
              "         [0.5662565 , 0.8127476 , 0.67853034, ..., 0.50593054, 0.5672664 ,\n",
              "          0.4755229 ]], dtype=float32),\n",
              "  'chroma': array([[0.6062603 , 0.6611424 , 0.72486585, ..., 0.5058629 , 0.5512895 ,\n",
              "          0.6173802 ],\n",
              "         [0.7335697 , 0.64398766, 0.62081   , ..., 0.7005903 , 0.7300671 ,\n",
              "          0.7513304 ],\n",
              "         [0.37384117, 0.40621468, 0.5603675 , ..., 0.5704591 , 0.55914676,\n",
              "          0.45755625],\n",
              "         ...,\n",
              "         [0.7064273 , 0.7694555 , 0.73633957, ..., 0.6428705 , 0.65043974,\n",
              "          0.66724515],\n",
              "         [0.60055524, 0.5288853 , 0.56051594, ..., 0.65525454, 0.6470758 ,\n",
              "          0.81797296],\n",
              "         [0.6103266 , 0.6369916 , 0.6348548 , ..., 0.6254955 , 0.61822176,\n",
              "          0.6243659 ]], dtype=float32),\n",
              "  'rms': array([[0.0056784 ],\n",
              "         [0.05517103],\n",
              "         [0.01791949],\n",
              "         ...,\n",
              "         [0.02083842],\n",
              "         [0.00455992],\n",
              "         [0.07862425]], dtype=float32),\n",
              "  'spectral_centroid': array([[0.49066466],\n",
              "         [0.15957537],\n",
              "         [0.26093116],\n",
              "         ...,\n",
              "         [0.2581007 ],\n",
              "         [0.23918974],\n",
              "         [0.08227797]], dtype=float32),\n",
              "  'melspectrogram': array([[0.4302389 , 0.44570604, 0.4562991 , ..., 0.4510343 , 0.44375154,\n",
              "          0.41643912],\n",
              "         [0.7777162 , 0.72878826, 0.7512033 , ..., 0.43627858, 0.4259266 ,\n",
              "          0.3938772 ],\n",
              "         [0.717324  , 0.71206856, 0.7175047 , ..., 0.46796158, 0.46199274,\n",
              "          0.4523801 ],\n",
              "         ...,\n",
              "         [0.7039507 , 0.68673253, 0.6822557 , ..., 0.4432158 , 0.43379405,\n",
              "          0.43682313],\n",
              "         [0.5548915 , 0.57516265, 0.6022699 , ..., 0.3173011 , 0.3047298 ,\n",
              "          0.2807316 ],\n",
              "         [0.81217384, 0.7430596 , 0.6831309 , ..., 0.30011085, 0.29863128,\n",
              "          0.30130598]], dtype=float32),\n",
              "  'label': array([0, 0, 1, ..., 2, 1, 2])}}"
            ]
          },
          "execution_count": 3,
          "metadata": {},
          "output_type": "execute_result"
        }
      ],
      "source": [
        "audio_df"
      ]
    },
    {
      "cell_type": "code",
      "execution_count": null,
      "metadata": {
        "id": "AZUoqDIGbBxS"
      },
      "outputs": [],
      "source": [
        "with open('/content/drive/MyDrive/project/train_val_features_pkl/train_val_8_sec_non_audio_features.pkl', 'rb') as file:\n",
        "  non_audio_df = pickle.load(file)"
      ]
    },
    {
      "cell_type": "code",
      "execution_count": null,
      "metadata": {
        "colab": {
          "base_uri": "https://localhost:8080/"
        },
        "id": "JsBUDLDCba93",
        "outputId": "8a6f9f1b-252b-4304-f6a5-b51e8c34754c"
      },
      "outputs": [
        {
          "data": {
            "text/plain": [
              "{'train': {'type': array(['blank', 'blank', 'blank', ..., 'blank', 'blank', 'blank'],\n",
              "        dtype='<U5'),\n",
              "  'continent': array(['AFRICA', 'AFRICA', 'AFRICA', ..., 'EUROPE', 'EUROPE', 'EUROPE'],\n",
              "        dtype='<U8'),\n",
              "  'rating': array([5., 5., 5., ..., 5., 5., 5.]),\n",
              "  'label': array([0, 0, 0, ..., 2, 2, 2])},\n",
              " 'val': {'type': array(['song', 'call', 'call', ..., 'blank', 'call', 'call'], dtype='<U5'),\n",
              "  'continent': array(['EUROPE', 'EUROPE', 'EUROPE', ..., 'EUROPE', 'EUROPE', 'EUROPE'],\n",
              "        dtype='<U8'),\n",
              "  'rating': array([3.5, 5. , 4. , ..., 5. , 3. , 3. ]),\n",
              "  'label': array([0, 0, 1, ..., 2, 1, 2])}}"
            ]
          },
          "execution_count": 5,
          "metadata": {},
          "output_type": "execute_result"
        }
      ],
      "source": [
        "non_audio_df"
      ]
    },
    {
      "cell_type": "markdown",
      "metadata": {
        "id": "YbmEkhFOd-Wz"
      },
      "source": [
        "## confirm the audio features and non_audio features labels line-up"
      ]
    },
    {
      "cell_type": "code",
      "execution_count": null,
      "metadata": {
        "id": "gesh7QngbjxN"
      },
      "outputs": [],
      "source": [
        "assert np.array_equal(audio_df['train']['label'], non_audio_df['train']['label'])"
      ]
    },
    {
      "cell_type": "code",
      "execution_count": null,
      "metadata": {
        "id": "YSCJzEEXeDdU"
      },
      "outputs": [],
      "source": [
        "assert np.array_equal(audio_df['val']['label'], non_audio_df['val']['label'])"
      ]
    },
    {
      "cell_type": "markdown",
      "metadata": {
        "id": "o4bsBkcKTDgi"
      },
      "source": [
        "# Shuffle the data"
      ]
    },
    {
      "cell_type": "code",
      "execution_count": null,
      "metadata": {
        "id": "hYI47YI6gwY-"
      },
      "outputs": [],
      "source": [
        "def shuffle_data(audio_features, non_audio_features):\n",
        "  input_len = len(audio_features['label'])\n",
        "  input_indices = np.random.permutation(input_len)\n",
        "  audio_features = {key: np.array([audio_features[key][i] for i in input_indices]) for key in audio_features}\n",
        "  non_audio_features = {key: np.array([non_audio_features[key][i] for i in input_indices]) for key in non_audio_features}\n",
        "\n",
        "  return audio_features, non_audio_features"
      ]
    },
    {
      "cell_type": "code",
      "execution_count": null,
      "metadata": {
        "id": "tW_Nn5JJh2xX"
      },
      "outputs": [],
      "source": [
        "audio_df['train'], non_audio_df['train'] = shuffle_data(audio_df['train'], non_audio_df['train'])"
      ]
    },
    {
      "cell_type": "code",
      "execution_count": null,
      "metadata": {
        "colab": {
          "base_uri": "https://localhost:8080/",
          "height": 1000
        },
        "id": "ytcJ18V1iKJw",
        "outputId": "9329247b-ae92-437e-9075-d12b27ef5901"
      },
      "outputs": [
        {
          "data": {
            "application/vnd.google.colaboratory.intrinsic+json": {
              "type": "string"
            },
            "text/plain": [
              "'mfcc'"
            ]
          },
          "metadata": {},
          "output_type": "display_data"
        },
        {
          "data": {
            "text/plain": [
              "(4763, 20)"
            ]
          },
          "metadata": {},
          "output_type": "display_data"
        },
        {
          "data": {
            "text/plain": [
              "array([[0.579351  , 0.6438036 , 0.668339  , 0.56331927, 0.7007058 ,\n",
              "        0.56325966, 0.6335729 , 0.46764037, 0.57766515, 0.57501316,\n",
              "        0.53246045, 0.52669257, 0.49751362, 0.5534108 , 0.53549707,\n",
              "        0.4972523 , 0.5051326 , 0.5173944 , 0.5583625 , 0.4865446 ],\n",
              "       [0.5791355 , 0.5856383 , 0.54721946, 0.5763345 , 0.5057687 ,\n",
              "        0.5371092 , 0.5310731 , 0.502836  , 0.559161  , 0.52384067,\n",
              "        0.5166073 , 0.5416599 , 0.50949866, 0.5363237 , 0.501673  ,\n",
              "        0.5055509 , 0.5198671 , 0.5482329 , 0.48708957, 0.52608013],\n",
              "       [0.5286411 , 0.5799211 , 0.5862537 , 0.50855017, 0.5448757 ,\n",
              "        0.30845624, 0.46963498, 0.28670865, 0.38689232, 0.33491588,\n",
              "        0.35520726, 0.35553744, 0.29808357, 0.33512098, 0.27679452,\n",
              "        0.28968474, 0.32249567, 0.36979863, 0.3953115 , 0.33582178],\n",
              "       [0.54600185, 0.5324451 , 0.32555106, 0.42977634, 0.4879379 ,\n",
              "        0.28058612, 0.37862107, 0.36121663, 0.505882  , 0.38599288,\n",
              "        0.41977683, 0.4883107 , 0.42771322, 0.44544768, 0.37535295,\n",
              "        0.37148407, 0.44951576, 0.5203447 , 0.5333313 , 0.40251526],\n",
              "       [0.76991147, 0.7333136 , 0.4232503 , 0.586979  , 0.54421496,\n",
              "        0.46000713, 0.5184375 , 0.5106923 , 0.4988342 , 0.4011655 ,\n",
              "        0.4765195 , 0.4669554 , 0.4139236 , 0.4404481 , 0.45542574,\n",
              "        0.41698873, 0.43037271, 0.5152709 , 0.4435172 , 0.45727465]],\n",
              "      dtype=float32)"
            ]
          },
          "metadata": {},
          "output_type": "display_data"
        },
        {
          "data": {
            "application/vnd.google.colaboratory.intrinsic+json": {
              "type": "string"
            },
            "text/plain": [
              "'chroma'"
            ]
          },
          "metadata": {},
          "output_type": "display_data"
        },
        {
          "data": {
            "text/plain": [
              "(4763, 12)"
            ]
          },
          "metadata": {},
          "output_type": "display_data"
        },
        {
          "data": {
            "text/plain": [
              "array([[0.39739537, 0.50743604, 0.69718534, 0.64672315, 0.6742777 ,\n",
              "        0.74856025, 0.76878   , 0.6884679 , 0.57683223, 0.58799297,\n",
              "        0.55827814, 0.41925797],\n",
              "       [0.4150034 , 0.44399425, 0.48608676, 0.49194032, 0.40593803,\n",
              "        0.3962545 , 0.48535663, 0.5205814 , 0.44743624, 0.510769  ,\n",
              "        0.49330616, 0.40106645],\n",
              "       [0.6168788 , 0.59541184, 0.8296709 , 0.62740755, 0.4997449 ,\n",
              "        0.5595455 , 0.5287512 , 0.52669644, 0.5262273 , 0.57922095,\n",
              "        0.62211674, 0.74784887],\n",
              "       [0.28326067, 0.15479493, 0.14445938, 0.10779578, 0.16120441,\n",
              "        0.2263042 , 0.24995244, 0.96766233, 0.31024054, 0.29989797,\n",
              "        0.16186407, 0.25966698],\n",
              "       [0.7606128 , 0.75886893, 0.69292545, 0.64430964, 0.6202984 ,\n",
              "        0.6140454 , 0.6356093 , 0.6988729 , 0.7370601 , 0.7811701 ,\n",
              "        0.78142315, 0.7788779 ]], dtype=float32)"
            ]
          },
          "metadata": {},
          "output_type": "display_data"
        },
        {
          "data": {
            "application/vnd.google.colaboratory.intrinsic+json": {
              "type": "string"
            },
            "text/plain": [
              "'rms'"
            ]
          },
          "metadata": {},
          "output_type": "display_data"
        },
        {
          "data": {
            "text/plain": [
              "(4763, 1)"
            ]
          },
          "metadata": {},
          "output_type": "display_data"
        },
        {
          "data": {
            "text/plain": [
              "array([[0.01166727],\n",
              "       [0.01975782],\n",
              "       [0.00355201],\n",
              "       [0.01011833],\n",
              "       [0.04402697]], dtype=float32)"
            ]
          },
          "metadata": {},
          "output_type": "display_data"
        },
        {
          "data": {
            "application/vnd.google.colaboratory.intrinsic+json": {
              "type": "string"
            },
            "text/plain": [
              "'spectral_centroid'"
            ]
          },
          "metadata": {},
          "output_type": "display_data"
        },
        {
          "data": {
            "text/plain": [
              "(4763, 1)"
            ]
          },
          "metadata": {},
          "output_type": "display_data"
        },
        {
          "data": {
            "text/plain": [
              "array([[0.3362751 ],\n",
              "       [0.44319284],\n",
              "       [0.44192895],\n",
              "       [0.3922283 ],\n",
              "       [0.22388758]], dtype=float32)"
            ]
          },
          "metadata": {},
          "output_type": "display_data"
        },
        {
          "data": {
            "application/vnd.google.colaboratory.intrinsic+json": {
              "type": "string"
            },
            "text/plain": [
              "'melspectrogram'"
            ]
          },
          "metadata": {},
          "output_type": "display_data"
        },
        {
          "data": {
            "text/plain": [
              "(4763, 20)"
            ]
          },
          "metadata": {},
          "output_type": "display_data"
        },
        {
          "data": {
            "text/plain": [
              "array([[0.70001864, 0.62854785, 0.57757473, 0.5520883 , 0.53861696,\n",
              "        0.5343446 , 0.53020185, 0.5412595 , 0.56602204, 0.54710406,\n",
              "        0.5026073 , 0.47967157, 0.45728475, 0.45480695, 0.4406744 ,\n",
              "        0.43313837, 0.43532082, 0.43560854, 0.45031485, 0.44755444],\n",
              "       [0.5808495 , 0.5376825 , 0.53441304, 0.5454092 , 0.55484957,\n",
              "        0.555468  , 0.5486393 , 0.54895645, 0.5490161 , 0.5554186 ,\n",
              "        0.54400027, 0.52912575, 0.5180022 , 0.51905906, 0.5245219 ,\n",
              "        0.5230602 , 0.51356167, 0.47379923, 0.43080005, 0.39614967],\n",
              "       [0.58485097, 0.5980399 , 0.5505872 , 0.53811425, 0.51133835,\n",
              "        0.49074695, 0.48995128, 0.48704654, 0.49537742, 0.49226445,\n",
              "        0.47750208, 0.47994494, 0.46392524, 0.45224935, 0.4326276 ,\n",
              "        0.42187867, 0.41199592, 0.39987543, 0.41237068, 0.4197036 ],\n",
              "       [0.40222612, 0.44703645, 0.47818217, 0.54797256, 0.5478947 ,\n",
              "        0.5500372 , 0.5752148 , 0.57889944, 0.62917054, 0.6980391 ,\n",
              "        0.63617676, 0.6267436 , 0.5322726 , 0.4994963 , 0.47475666,\n",
              "        0.46356422, 0.43020168, 0.3988581 , 0.38387758, 0.36820593],\n",
              "       [0.7624553 , 0.78198886, 0.7654235 , 0.7677274 , 0.7863582 ,\n",
              "        0.7985249 , 0.79996026, 0.78851944, 0.7856856 , 0.7839885 ,\n",
              "        0.77974886, 0.7762395 , 0.71384656, 0.64243835, 0.6082398 ,\n",
              "        0.5685368 , 0.5492301 , 0.49449867, 0.4386429 , 0.4040986 ]],\n",
              "      dtype=float32)"
            ]
          },
          "metadata": {},
          "output_type": "display_data"
        },
        {
          "data": {
            "application/vnd.google.colaboratory.intrinsic+json": {
              "type": "string"
            },
            "text/plain": [
              "'label'"
            ]
          },
          "metadata": {},
          "output_type": "display_data"
        },
        {
          "data": {
            "text/plain": [
              "(4763,)"
            ]
          },
          "metadata": {},
          "output_type": "display_data"
        },
        {
          "data": {
            "text/plain": [
              "array([2, 2, 1, 2, 1])"
            ]
          },
          "metadata": {},
          "output_type": "display_data"
        }
      ],
      "source": [
        "for key in audio_df['train'].keys():\n",
        "  display(key)\n",
        "  display(audio_df['train'][key].shape)\n",
        "  display(audio_df['train'][key][:5])"
      ]
    },
    {
      "cell_type": "code",
      "execution_count": null,
      "metadata": {
        "colab": {
          "base_uri": "https://localhost:8080/",
          "height": 229
        },
        "id": "gNJmuBsdjIxa",
        "outputId": "60c4d047-0ee5-4fc0-8864-546bc0d557f8"
      },
      "outputs": [
        {
          "data": {
            "application/vnd.google.colaboratory.intrinsic+json": {
              "type": "string"
            },
            "text/plain": [
              "'type'"
            ]
          },
          "metadata": {},
          "output_type": "display_data"
        },
        {
          "data": {
            "text/plain": [
              "(4763,)"
            ]
          },
          "metadata": {},
          "output_type": "display_data"
        },
        {
          "data": {
            "text/plain": [
              "array(['call', 'song', 'call', 'call', 'call'], dtype='<U5')"
            ]
          },
          "metadata": {},
          "output_type": "display_data"
        },
        {
          "data": {
            "application/vnd.google.colaboratory.intrinsic+json": {
              "type": "string"
            },
            "text/plain": [
              "'continent'"
            ]
          },
          "metadata": {},
          "output_type": "display_data"
        },
        {
          "data": {
            "text/plain": [
              "(4763,)"
            ]
          },
          "metadata": {},
          "output_type": "display_data"
        },
        {
          "data": {
            "text/plain": [
              "array(['EUROPE', 'EUROPE', 'EUROPE', 'ASIA', 'EUROPE'], dtype='<U8')"
            ]
          },
          "metadata": {},
          "output_type": "display_data"
        },
        {
          "data": {
            "application/vnd.google.colaboratory.intrinsic+json": {
              "type": "string"
            },
            "text/plain": [
              "'rating'"
            ]
          },
          "metadata": {},
          "output_type": "display_data"
        },
        {
          "data": {
            "text/plain": [
              "(4763,)"
            ]
          },
          "metadata": {},
          "output_type": "display_data"
        },
        {
          "data": {
            "text/plain": [
              "array([4. , 3.5, 3. , 3. , 4. ])"
            ]
          },
          "metadata": {},
          "output_type": "display_data"
        },
        {
          "data": {
            "application/vnd.google.colaboratory.intrinsic+json": {
              "type": "string"
            },
            "text/plain": [
              "'label'"
            ]
          },
          "metadata": {},
          "output_type": "display_data"
        },
        {
          "data": {
            "text/plain": [
              "(4763,)"
            ]
          },
          "metadata": {},
          "output_type": "display_data"
        },
        {
          "data": {
            "text/plain": [
              "array([2, 2, 1, 2, 1])"
            ]
          },
          "metadata": {},
          "output_type": "display_data"
        }
      ],
      "source": [
        "for key in non_audio_df['train'].keys():\n",
        "  display(key)\n",
        "  display(non_audio_df['train'][key].shape)\n",
        "  display(non_audio_df['train'][key][:5])"
      ]
    },
    {
      "cell_type": "code",
      "execution_count": null,
      "metadata": {
        "id": "nZ-4AUeDirA5"
      },
      "outputs": [],
      "source": [
        "audio_df['val'], non_audio_df['val'] = shuffle_data(audio_df['val'], non_audio_df['val'])"
      ]
    },
    {
      "cell_type": "code",
      "execution_count": null,
      "metadata": {
        "colab": {
          "base_uri": "https://localhost:8080/",
          "height": 1000
        },
        "id": "EB0WFzuOjAld",
        "outputId": "f5320e96-8ce9-45af-da7b-337513e57744"
      },
      "outputs": [
        {
          "data": {
            "application/vnd.google.colaboratory.intrinsic+json": {
              "type": "string"
            },
            "text/plain": [
              "'mfcc'"
            ]
          },
          "metadata": {},
          "output_type": "display_data"
        },
        {
          "data": {
            "text/plain": [
              "(2430, 20)"
            ]
          },
          "metadata": {},
          "output_type": "display_data"
        },
        {
          "data": {
            "text/plain": [
              "array([[0.69124705, 0.37565866, 0.3079931 , 0.5275989 , 0.4383518 ,\n",
              "        0.4689881 , 0.49329937, 0.5001705 , 0.47086647, 0.42331028,\n",
              "        0.3053899 , 0.45392925, 0.4184839 , 0.3203666 , 0.3412653 ,\n",
              "        0.54416835, 0.40640494, 0.4126268 , 0.6185635 , 0.3479116 ],\n",
              "       [0.81909317, 0.7182319 , 0.47433323, 0.5383366 , 0.4503839 ,\n",
              "        0.3189943 , 0.43616822, 0.34205064, 0.35925847, 0.4766805 ,\n",
              "        0.42357633, 0.5464946 , 0.46817568, 0.5339801 , 0.4867738 ,\n",
              "        0.55346704, 0.50651205, 0.5727945 , 0.5294831 , 0.5194657 ],\n",
              "       [0.48991185, 0.42542234, 0.35691386, 0.25316802, 0.27795115,\n",
              "        0.06242232, 0.24645571, 0.18036471, 0.34636337, 0.3480411 ,\n",
              "        0.42299327, 0.44235882, 0.5167459 , 0.60558355, 0.60639954,\n",
              "        0.56554896, 0.5524442 , 0.61106575, 0.5680846 , 0.48012352],\n",
              "       [0.8229526 , 0.72731715, 0.5345375 , 0.50202835, 0.57177615,\n",
              "        0.3675864 , 0.6119572 , 0.5922539 , 0.5563236 , 0.46053228,\n",
              "        0.50497097, 0.50351995, 0.43535084, 0.462942  , 0.39026725,\n",
              "        0.34304795, 0.41887155, 0.42841163, 0.41887718, 0.41305795],\n",
              "       [0.8391539 , 0.7074091 , 0.4410938 , 0.5596235 , 0.46061122,\n",
              "        0.4871935 , 0.3776689 , 0.5223264 , 0.3926289 , 0.42171913,\n",
              "        0.44986156, 0.39704734, 0.50912625, 0.34896952, 0.5243045 ,\n",
              "        0.36590844, 0.4732698 , 0.50352865, 0.45935953, 0.49106225]],\n",
              "      dtype=float32)"
            ]
          },
          "metadata": {},
          "output_type": "display_data"
        },
        {
          "data": {
            "application/vnd.google.colaboratory.intrinsic+json": {
              "type": "string"
            },
            "text/plain": [
              "'chroma'"
            ]
          },
          "metadata": {},
          "output_type": "display_data"
        },
        {
          "data": {
            "text/plain": [
              "(2430, 12)"
            ]
          },
          "metadata": {},
          "output_type": "display_data"
        },
        {
          "data": {
            "text/plain": [
              "array([[0.47883797, 0.27254748, 0.1936562 , 0.27939832, 0.34559366,\n",
              "        0.4550423 , 0.54872775, 0.39113942, 0.24028732, 0.26953217,\n",
              "        0.34740472, 0.52101815],\n",
              "       [0.54798514, 0.4611798 , 0.45819983, 0.4608716 , 0.49084258,\n",
              "        0.5287837 , 0.5602534 , 0.6643992 , 0.6804415 , 0.6747002 ,\n",
              "        0.65100986, 0.6353231 ],\n",
              "       [0.4924684 , 0.48824358, 0.5877358 , 0.52877134, 0.40923095,\n",
              "        0.49827752, 0.5629368 , 0.60504174, 0.55733055, 0.5890628 ,\n",
              "        0.592213  , 0.54930943],\n",
              "       [0.687695  , 0.56117076, 0.49849048, 0.5035028 , 0.5322735 ,\n",
              "        0.56964844, 0.52165425, 0.5580946 , 0.6607082 , 0.7198376 ,\n",
              "        0.6880728 , 0.68747836],\n",
              "       [0.46968034, 0.50057137, 0.6468313 , 0.7215803 , 0.57641286,\n",
              "        0.47812238, 0.47135273, 0.47197407, 0.48973855, 0.47133029,\n",
              "        0.4525581 , 0.4596497 ]], dtype=float32)"
            ]
          },
          "metadata": {},
          "output_type": "display_data"
        },
        {
          "data": {
            "application/vnd.google.colaboratory.intrinsic+json": {
              "type": "string"
            },
            "text/plain": [
              "'rms'"
            ]
          },
          "metadata": {},
          "output_type": "display_data"
        },
        {
          "data": {
            "text/plain": [
              "(2430, 1)"
            ]
          },
          "metadata": {},
          "output_type": "display_data"
        },
        {
          "data": {
            "text/plain": [
              "array([[0.08393136],\n",
              "       [0.09343126],\n",
              "       [0.00395324],\n",
              "       [0.0928347 ],\n",
              "       [0.11139282]], dtype=float32)"
            ]
          },
          "metadata": {},
          "output_type": "display_data"
        },
        {
          "data": {
            "application/vnd.google.colaboratory.intrinsic+json": {
              "type": "string"
            },
            "text/plain": [
              "'spectral_centroid'"
            ]
          },
          "metadata": {},
          "output_type": "display_data"
        },
        {
          "data": {
            "text/plain": [
              "(2430, 1)"
            ]
          },
          "metadata": {},
          "output_type": "display_data"
        },
        {
          "data": {
            "text/plain": [
              "array([[0.50203806],\n",
              "       [0.22777331],\n",
              "       [0.52084225],\n",
              "       [0.22605254],\n",
              "       [0.31795472]], dtype=float32)"
            ]
          },
          "metadata": {},
          "output_type": "display_data"
        },
        {
          "data": {
            "application/vnd.google.colaboratory.intrinsic+json": {
              "type": "string"
            },
            "text/plain": [
              "'melspectrogram'"
            ]
          },
          "metadata": {},
          "output_type": "display_data"
        },
        {
          "data": {
            "text/plain": [
              "(2430, 20)"
            ]
          },
          "metadata": {},
          "output_type": "display_data"
        },
        {
          "data": {
            "text/plain": [
              "array([[0.4821549 , 0.4599733 , 0.4592268 , 0.49910098, 0.5842083 ,\n",
              "        0.6194655 , 0.6680297 , 0.6756115 , 0.70410925, 0.7484516 ,\n",
              "        0.7871906 , 0.7798607 , 0.7440997 , 0.7943748 , 0.7249628 ,\n",
              "        0.7244541 , 0.69569486, 0.6541303 , 0.60372585, 0.5409836 ],\n",
              "       [0.7247525 , 0.8383675 , 0.90028167, 0.88521075, 0.8563345 ,\n",
              "        0.82816875, 0.8252912 , 0.8222062 , 0.81443983, 0.79410285,\n",
              "        0.7740766 , 0.7690496 , 0.73728794, 0.7195663 , 0.6617792 ,\n",
              "        0.60868984, 0.5812827 , 0.55429435, 0.54540545, 0.50944734],\n",
              "       [0.2015381 , 0.4032547 , 0.52367824, 0.52131057, 0.5302013 ,\n",
              "        0.5261373 , 0.5188434 , 0.502773  , 0.5333837 , 0.53100777,\n",
              "        0.50079685, 0.4984342 , 0.47710824, 0.4659234 , 0.4500306 ,\n",
              "        0.44553417, 0.47164106, 0.44384962, 0.4323271 , 0.4348303 ],\n",
              "       [0.83398914, 0.8341992 , 0.7966947 , 0.8475173 , 0.8696048 ,\n",
              "        0.8763891 , 0.8610201 , 0.81032306, 0.779528  , 0.7825926 ,\n",
              "        0.7800997 , 0.7789922 , 0.7324288 , 0.6535167 , 0.6084573 ,\n",
              "        0.5860694 , 0.574916  , 0.5603572 , 0.5587877 , 0.55049914],\n",
              "       [0.7718659 , 0.83254397, 0.84538805, 0.8457279 , 0.85215557,\n",
              "        0.85549706, 0.85639703, 0.8422023 , 0.84001434, 0.8388302 ,\n",
              "        0.8235303 , 0.8125858 , 0.7563415 , 0.7068661 , 0.6644734 ,\n",
              "        0.6471761 , 0.7107088 , 0.6873861 , 0.5554962 , 0.4502695 ]],\n",
              "      dtype=float32)"
            ]
          },
          "metadata": {},
          "output_type": "display_data"
        },
        {
          "data": {
            "application/vnd.google.colaboratory.intrinsic+json": {
              "type": "string"
            },
            "text/plain": [
              "'label'"
            ]
          },
          "metadata": {},
          "output_type": "display_data"
        },
        {
          "data": {
            "text/plain": [
              "(2430,)"
            ]
          },
          "metadata": {},
          "output_type": "display_data"
        },
        {
          "data": {
            "text/plain": [
              "array([0, 2, 1, 2, 1])"
            ]
          },
          "metadata": {},
          "output_type": "display_data"
        }
      ],
      "source": [
        "for key in audio_df['val'].keys():\n",
        "  display(key)\n",
        "  display(audio_df['val'][key].shape)\n",
        "  display(audio_df['val'][key][:5])"
      ]
    },
    {
      "cell_type": "code",
      "execution_count": null,
      "metadata": {
        "colab": {
          "base_uri": "https://localhost:8080/",
          "height": 229
        },
        "id": "7EalOUe-jPXH",
        "outputId": "6d808afc-bfac-4b55-992e-8a0acff8c8eb"
      },
      "outputs": [
        {
          "data": {
            "application/vnd.google.colaboratory.intrinsic+json": {
              "type": "string"
            },
            "text/plain": [
              "'type'"
            ]
          },
          "metadata": {},
          "output_type": "display_data"
        },
        {
          "data": {
            "text/plain": [
              "(2430,)"
            ]
          },
          "metadata": {},
          "output_type": "display_data"
        },
        {
          "data": {
            "text/plain": [
              "array(['both', 'call', 'call', 'call', 'call'], dtype='<U5')"
            ]
          },
          "metadata": {},
          "output_type": "display_data"
        },
        {
          "data": {
            "application/vnd.google.colaboratory.intrinsic+json": {
              "type": "string"
            },
            "text/plain": [
              "'continent'"
            ]
          },
          "metadata": {},
          "output_type": "display_data"
        },
        {
          "data": {
            "text/plain": [
              "(2430,)"
            ]
          },
          "metadata": {},
          "output_type": "display_data"
        },
        {
          "data": {
            "text/plain": [
              "array(['EUROPE', 'EUROPE', 'EUROPE', 'EUROPE', 'EUROPE'], dtype='<U8')"
            ]
          },
          "metadata": {},
          "output_type": "display_data"
        },
        {
          "data": {
            "application/vnd.google.colaboratory.intrinsic+json": {
              "type": "string"
            },
            "text/plain": [
              "'rating'"
            ]
          },
          "metadata": {},
          "output_type": "display_data"
        },
        {
          "data": {
            "text/plain": [
              "(2430,)"
            ]
          },
          "metadata": {},
          "output_type": "display_data"
        },
        {
          "data": {
            "text/plain": [
              "array([4.5, 4. , 5. , 3. , 4. ])"
            ]
          },
          "metadata": {},
          "output_type": "display_data"
        },
        {
          "data": {
            "application/vnd.google.colaboratory.intrinsic+json": {
              "type": "string"
            },
            "text/plain": [
              "'label'"
            ]
          },
          "metadata": {},
          "output_type": "display_data"
        },
        {
          "data": {
            "text/plain": [
              "(2430,)"
            ]
          },
          "metadata": {},
          "output_type": "display_data"
        },
        {
          "data": {
            "text/plain": [
              "array([0, 2, 1, 2, 1])"
            ]
          },
          "metadata": {},
          "output_type": "display_data"
        }
      ],
      "source": [
        "for key in non_audio_df['val'].keys():\n",
        "  display(key)\n",
        "  display(non_audio_df['val'][key].shape)\n",
        "  display(non_audio_df['val'][key][:5])"
      ]
    },
    {
      "cell_type": "markdown",
      "metadata": {
        "id": "x0CMc8r2TN1Q"
      },
      "source": [
        "# One Hot Encode Continents"
      ]
    },
    {
      "cell_type": "code",
      "execution_count": null,
      "metadata": {
        "id": "iiv_RDrQjVzI"
      },
      "outputs": [],
      "source": [
        "encoder = OneHotEncoder(sparse_output=False)\n",
        "\n",
        "train_continents = non_audio_df['train']['continent'].reshape(-1, 1)\n",
        "val_continents = non_audio_df['val']['continent'].reshape(-1, 1)\n",
        "\n",
        "non_audio_df['train']['continent'] = encoder.fit_transform(train_continents)\n",
        "non_audio_df['val']['continent'] = encoder.fit_transform(val_continents)"
      ]
    },
    {
      "cell_type": "code",
      "execution_count": null,
      "metadata": {
        "colab": {
          "base_uri": "https://localhost:8080/",
          "height": 225
        },
        "id": "kW1pGWpcj06W",
        "outputId": "619c15d2-bda7-43c6-ecb2-f29383d4c059"
      },
      "outputs": [
        {
          "data": {
            "text/plain": [
              "(4763, 5)"
            ]
          },
          "metadata": {},
          "output_type": "display_data"
        },
        {
          "data": {
            "text/plain": [
              "array([[0., 0., 0., 1., 0.],\n",
              "       [0., 0., 0., 1., 0.],\n",
              "       [0., 0., 0., 1., 0.],\n",
              "       [0., 0., 1., 0., 0.],\n",
              "       [0., 0., 0., 1., 0.]])"
            ]
          },
          "metadata": {},
          "output_type": "display_data"
        },
        {
          "data": {
            "text/plain": [
              "(2430, 5)"
            ]
          },
          "metadata": {},
          "output_type": "display_data"
        },
        {
          "data": {
            "text/plain": [
              "array([[0., 0., 0., 1., 0.],\n",
              "       [0., 0., 0., 1., 0.],\n",
              "       [0., 0., 0., 1., 0.],\n",
              "       [0., 0., 0., 1., 0.],\n",
              "       [0., 0., 0., 1., 0.]])"
            ]
          },
          "metadata": {},
          "output_type": "display_data"
        }
      ],
      "source": [
        "display(non_audio_df['train']['continent'].shape)\n",
        "display(non_audio_df['train']['continent'][:5])\n",
        "\n",
        "display(non_audio_df['val']['continent'].shape)\n",
        "display(non_audio_df['val']['continent'][:5])"
      ]
    },
    {
      "cell_type": "markdown",
      "metadata": {
        "id": "9D_PrIf9WDEO"
      },
      "source": [
        "# SVM Models"
      ]
    },
    {
      "cell_type": "code",
      "execution_count": null,
      "metadata": {
        "id": "nOI_O9WdkEtN"
      },
      "outputs": [],
      "source": [
        "train_results = {}\n",
        "val_results = {}"
      ]
    },
    {
      "cell_type": "code",
      "execution_count": null,
      "metadata": {
        "id": "U-Q1LkGNk54k"
      },
      "outputs": [],
      "source": [
        "classes = ['barswa', 'comsan', 'eaywag1']"
      ]
    },
    {
      "cell_type": "markdown",
      "metadata": {
        "id": "24yciZmDWEtP"
      },
      "source": [
        "## With all features"
      ]
    },
    {
      "cell_type": "markdown",
      "metadata": {
        "id": "DQhbhE9llQzB"
      },
      "source": [
        "### create features"
      ]
    },
    {
      "cell_type": "code",
      "execution_count": null,
      "metadata": {
        "colab": {
          "base_uri": "https://localhost:8080/"
        },
        "id": "A7AeX5O7kMAX",
        "outputId": "11a20975-a1ab-4834-8e2a-86512b785b8d"
      },
      "outputs": [
        {
          "data": {
            "text/plain": [
              "array([[0.57935101, 0.6438036 , 0.66833901, ..., 0.        , 1.        ,\n",
              "        0.        ],\n",
              "       [0.57913548, 0.58563828, 0.54721946, ..., 0.        , 1.        ,\n",
              "        0.        ],\n",
              "       [0.5286411 , 0.57992113, 0.5862537 , ..., 0.        , 1.        ,\n",
              "        0.        ],\n",
              "       ...,\n",
              "       [0.5004214 , 0.51937073, 0.44722223, ..., 0.        , 1.        ,\n",
              "        0.        ],\n",
              "       [0.57142222, 0.66256487, 0.7120778 , ..., 0.        , 1.        ,\n",
              "        0.        ],\n",
              "       [0.46950918, 0.3285217 , 0.2136962 , ..., 0.        , 1.        ,\n",
              "        0.        ]])"
            ]
          },
          "execution_count": 19,
          "metadata": {},
          "output_type": "execute_result"
        }
      ],
      "source": [
        "training_features = np.concatenate((audio_df['train']['mfcc'], audio_df['train']['chroma'], audio_df['train']['rms'], audio_df['train']['spectral_centroid'], audio_df['train']['melspectrogram'], non_audio_df['train']['continent']), axis=1)\n",
        "\n",
        "training_features"
      ]
    },
    {
      "cell_type": "code",
      "execution_count": null,
      "metadata": {
        "colab": {
          "base_uri": "https://localhost:8080/"
        },
        "id": "tX6wp499kmDL",
        "outputId": "71770258-25c5-475d-94c2-3a6e5859acb0"
      },
      "outputs": [
        {
          "data": {
            "text/plain": [
              "(4763, 59)"
            ]
          },
          "execution_count": 20,
          "metadata": {},
          "output_type": "execute_result"
        }
      ],
      "source": [
        "training_features.shape"
      ]
    },
    {
      "cell_type": "code",
      "execution_count": null,
      "metadata": {
        "colab": {
          "base_uri": "https://localhost:8080/"
        },
        "id": "b4kTqI5XkzBE",
        "outputId": "a9edcf4b-589e-43d3-e951-a5756f48a8e8"
      },
      "outputs": [
        {
          "data": {
            "text/plain": [
              "array([[0.69124705, 0.37565866, 0.30799311, ..., 0.        , 1.        ,\n",
              "        0.        ],\n",
              "       [0.81909317, 0.71823192, 0.47433323, ..., 0.        , 1.        ,\n",
              "        0.        ],\n",
              "       [0.48991185, 0.42542234, 0.35691386, ..., 0.        , 1.        ,\n",
              "        0.        ],\n",
              "       ...,\n",
              "       [0.50937366, 0.36574441, 0.67395914, ..., 0.        , 1.        ,\n",
              "        0.        ],\n",
              "       [0.45840833, 0.65378833, 0.59867388, ..., 0.        , 1.        ,\n",
              "        0.        ],\n",
              "       [0.48014399, 0.65538722, 0.5913316 , ..., 0.        , 1.        ,\n",
              "        0.        ]])"
            ]
          },
          "execution_count": 21,
          "metadata": {},
          "output_type": "execute_result"
        }
      ],
      "source": [
        "validation_features = np.concatenate((audio_df['val']['mfcc'], audio_df['val']['chroma'], audio_df['val']['rms'], audio_df['val']['spectral_centroid'], audio_df['val']['melspectrogram'], non_audio_df['val']['continent']), axis=1)\n",
        "\n",
        "validation_features"
      ]
    },
    {
      "cell_type": "code",
      "execution_count": null,
      "metadata": {
        "colab": {
          "base_uri": "https://localhost:8080/"
        },
        "id": "TOOaxq0mlJZ0",
        "outputId": "016861e8-da80-40b3-d49d-fb9da33df18c"
      },
      "outputs": [
        {
          "data": {
            "text/plain": [
              "(2430, 59)"
            ]
          },
          "execution_count": 22,
          "metadata": {},
          "output_type": "execute_result"
        }
      ],
      "source": [
        "validation_features.shape"
      ]
    },
    {
      "cell_type": "markdown",
      "metadata": {
        "id": "5pPTZUPxlTIj"
      },
      "source": [
        "### fit the model with training data"
      ]
    },
    {
      "cell_type": "code",
      "execution_count": null,
      "metadata": {
        "colab": {
          "base_uri": "https://localhost:8080/",
          "height": 127
        },
        "id": "AUtN8ZdllW5C",
        "outputId": "9e09d7db-c601-4712-f9f9-44248b574ae7"
      },
      "outputs": [
        {
          "name": "stdout",
          "output_type": "stream",
          "text": [
            "Fitting 5 folds for each of 6 candidates, totalling 30 fits\n"
          ]
        },
        {
          "data": {
            "text/plain": [
              "0.9059407708518874"
            ]
          },
          "metadata": {},
          "output_type": "display_data"
        },
        {
          "data": {
            "text/plain": [
              "{'C': 5, 'break_ties': True}"
            ]
          },
          "metadata": {},
          "output_type": "display_data"
        },
        {
          "data": {
            "text/html": [
              "<style>#sk-container-id-1 {color: black;background-color: white;}#sk-container-id-1 pre{padding: 0;}#sk-container-id-1 div.sk-toggleable {background-color: white;}#sk-container-id-1 label.sk-toggleable__label {cursor: pointer;display: block;width: 100%;margin-bottom: 0;padding: 0.3em;box-sizing: border-box;text-align: center;}#sk-container-id-1 label.sk-toggleable__label-arrow:before {content: \"▸\";float: left;margin-right: 0.25em;color: #696969;}#sk-container-id-1 label.sk-toggleable__label-arrow:hover:before {color: black;}#sk-container-id-1 div.sk-estimator:hover label.sk-toggleable__label-arrow:before {color: black;}#sk-container-id-1 div.sk-toggleable__content {max-height: 0;max-width: 0;overflow: hidden;text-align: left;background-color: #f0f8ff;}#sk-container-id-1 div.sk-toggleable__content pre {margin: 0.2em;color: black;border-radius: 0.25em;background-color: #f0f8ff;}#sk-container-id-1 input.sk-toggleable__control:checked~div.sk-toggleable__content {max-height: 200px;max-width: 100%;overflow: auto;}#sk-container-id-1 input.sk-toggleable__control:checked~label.sk-toggleable__label-arrow:before {content: \"▾\";}#sk-container-id-1 div.sk-estimator input.sk-toggleable__control:checked~label.sk-toggleable__label {background-color: #d4ebff;}#sk-container-id-1 div.sk-label input.sk-toggleable__control:checked~label.sk-toggleable__label {background-color: #d4ebff;}#sk-container-id-1 input.sk-hidden--visually {border: 0;clip: rect(1px 1px 1px 1px);clip: rect(1px, 1px, 1px, 1px);height: 1px;margin: -1px;overflow: hidden;padding: 0;position: absolute;width: 1px;}#sk-container-id-1 div.sk-estimator {font-family: monospace;background-color: #f0f8ff;border: 1px dotted black;border-radius: 0.25em;box-sizing: border-box;margin-bottom: 0.5em;}#sk-container-id-1 div.sk-estimator:hover {background-color: #d4ebff;}#sk-container-id-1 div.sk-parallel-item::after {content: \"\";width: 100%;border-bottom: 1px solid gray;flex-grow: 1;}#sk-container-id-1 div.sk-label:hover label.sk-toggleable__label {background-color: #d4ebff;}#sk-container-id-1 div.sk-serial::before {content: \"\";position: absolute;border-left: 1px solid gray;box-sizing: border-box;top: 0;bottom: 0;left: 50%;z-index: 0;}#sk-container-id-1 div.sk-serial {display: flex;flex-direction: column;align-items: center;background-color: white;padding-right: 0.2em;padding-left: 0.2em;position: relative;}#sk-container-id-1 div.sk-item {position: relative;z-index: 1;}#sk-container-id-1 div.sk-parallel {display: flex;align-items: stretch;justify-content: center;background-color: white;position: relative;}#sk-container-id-1 div.sk-item::before, #sk-container-id-1 div.sk-parallel-item::before {content: \"\";position: absolute;border-left: 1px solid gray;box-sizing: border-box;top: 0;bottom: 0;left: 50%;z-index: -1;}#sk-container-id-1 div.sk-parallel-item {display: flex;flex-direction: column;z-index: 1;position: relative;background-color: white;}#sk-container-id-1 div.sk-parallel-item:first-child::after {align-self: flex-end;width: 50%;}#sk-container-id-1 div.sk-parallel-item:last-child::after {align-self: flex-start;width: 50%;}#sk-container-id-1 div.sk-parallel-item:only-child::after {width: 0;}#sk-container-id-1 div.sk-dashed-wrapped {border: 1px dashed gray;margin: 0 0.4em 0.5em 0.4em;box-sizing: border-box;padding-bottom: 0.4em;background-color: white;}#sk-container-id-1 div.sk-label label {font-family: monospace;font-weight: bold;display: inline-block;line-height: 1.2em;}#sk-container-id-1 div.sk-label-container {text-align: center;}#sk-container-id-1 div.sk-container {/* jupyter's `normalize.less` sets `[hidden] { display: none; }` but bootstrap.min.css set `[hidden] { display: none !important; }` so we also need the `!important` here to be able to override the default hidden behavior on the sphinx rendered scikit-learn.org. See: https://github.com/scikit-learn/scikit-learn/issues/21755 */display: inline-block !important;position: relative;}#sk-container-id-1 div.sk-text-repr-fallback {display: none;}</style><div id=\"sk-container-id-1\" class=\"sk-top-container\"><div class=\"sk-text-repr-fallback\"><pre>SVC(C=5, break_ties=True)</pre><b>In a Jupyter environment, please rerun this cell to show the HTML representation or trust the notebook. <br />On GitHub, the HTML representation is unable to render, please try loading this page with nbviewer.org.</b></div><div class=\"sk-container\" hidden><div class=\"sk-item\"><div class=\"sk-estimator sk-toggleable\"><input class=\"sk-toggleable__control sk-hidden--visually\" id=\"sk-estimator-id-1\" type=\"checkbox\" checked><label for=\"sk-estimator-id-1\" class=\"sk-toggleable__label sk-toggleable__label-arrow\">SVC</label><div class=\"sk-toggleable__content\"><pre>SVC(C=5, break_ties=True)</pre></div></div></div></div></div>"
            ],
            "text/plain": [
              "SVC(C=5, break_ties=True)"
            ]
          },
          "execution_count": 23,
          "metadata": {},
          "output_type": "execute_result"
        }
      ],
      "source": [
        "model = SVC(kernel='rbf')\n",
        "\n",
        "clf = GridSearchCV(\n",
        "        model,\n",
        "        {\"break_ties\": [True, False], \"C\": [3,4,5]},\n",
        "        verbose=1,\n",
        "        n_jobs=2,\n",
        "    )\n",
        "\n",
        "clf.fit(training_features, audio_df['train']['label'])\n",
        "display(clf.best_score_)\n",
        "display(clf.best_params_)\n",
        "\n",
        "model = SVC(kernel='rbf',\n",
        "            break_ties=clf.best_params_['break_ties'],\n",
        "            C=clf.best_params_['C'])\n",
        "\n",
        "model.fit(training_features, audio_df['train']['label'])"
      ]
    },
    {
      "cell_type": "code",
      "execution_count": null,
      "metadata": {
        "colab": {
          "base_uri": "https://localhost:8080/"
        },
        "id": "n3U0hS0blkug",
        "outputId": "eda74b1a-132d-4247-afd4-e2d77e54bf16"
      },
      "outputs": [
        {
          "name": "stdout",
          "output_type": "stream",
          "text": [
            "Training accuracy: 0.9328154524459374\n",
            "Validation accuracy: 0.7444444444444445\n"
          ]
        }
      ],
      "source": [
        "print('Training accuracy:', model.score(training_features, audio_df['train']['label']))\n",
        "train_results['all_features'] = model.score(training_features, audio_df['train']['label'])\n",
        "\n",
        "print('Validation accuracy:', model.score(validation_features, audio_df['val']['label']))\n",
        "val_results['all_features'] = model.score(validation_features, audio_df['val']['label'])"
      ]
    },
    {
      "cell_type": "markdown",
      "metadata": {
        "id": "Eqa6UrwumFut"
      },
      "source": [
        "### evaluate the results"
      ]
    },
    {
      "cell_type": "code",
      "execution_count": null,
      "metadata": {
        "colab": {
          "base_uri": "https://localhost:8080/"
        },
        "id": "kpt91EyFmHsU",
        "outputId": "07ba4c70-4935-4f9e-f5b8-34cefc1d2642"
      },
      "outputs": [
        {
          "name": "stdout",
          "output_type": "stream",
          "text": [
            "Training classification Report \n",
            "\n",
            "              precision    recall  f1-score   support\n",
            "\n",
            "      barswa       0.96      0.91      0.93      1603\n",
            "      comsan       0.96      0.94      0.95      1578\n",
            "     eaywag1       0.89      0.95      0.92      1582\n",
            "\n",
            "    accuracy                           0.93      4763\n",
            "   macro avg       0.93      0.93      0.93      4763\n",
            "weighted avg       0.93      0.93      0.93      4763\n",
            "\n"
          ]
        }
      ],
      "source": [
        "train_yhat_result = model.predict(training_features)\n",
        "\n",
        "print('Training classification Report \\n')\n",
        "print(classification_report(audio_df['train']['label'], train_yhat_result, target_names=classes))"
      ]
    },
    {
      "cell_type": "code",
      "execution_count": null,
      "metadata": {
        "colab": {
          "base_uri": "https://localhost:8080/"
        },
        "id": "hPAJ8Jgpmpdh",
        "outputId": "bb44406e-fd07-4754-b24b-a1e3eb28daa6"
      },
      "outputs": [
        {
          "name": "stdout",
          "output_type": "stream",
          "text": [
            "Validation classification Report \n",
            "\n",
            "              precision    recall  f1-score   support\n",
            "\n",
            "      barswa       0.88      0.69      0.77      1032\n",
            "      comsan       0.67      0.77      0.72       618\n",
            "     eaywag1       0.68      0.79      0.73       780\n",
            "\n",
            "    accuracy                           0.74      2430\n",
            "   macro avg       0.74      0.75      0.74      2430\n",
            "weighted avg       0.76      0.74      0.75      2430\n",
            "\n"
          ]
        }
      ],
      "source": [
        "val_yhat_result = model.predict(validation_features)\n",
        "\n",
        "print('Validation classification Report \\n')\n",
        "print(classification_report(audio_df['val']['label'], val_yhat_result, target_names=classes))"
      ]
    },
    {
      "cell_type": "code",
      "execution_count": null,
      "metadata": {
        "colab": {
          "base_uri": "https://localhost:8080/",
          "height": 472
        },
        "id": "yn4LjwNRm_cP",
        "outputId": "3495d57e-7d10-41c3-ed30-2b6dbb365355"
      },
      "outputs": [
        {
          "data": {
            "image/png": "[encoded data removed]",
            "text/plain": [
              "<Figure size 640x480 with 1 Axes>"
            ]
          },
          "metadata": {},
          "output_type": "display_data"
        }
      ],
      "source": [
        "train_cm = tf.math.confusion_matrix(audio_df['train']['label'], train_yhat_result)\n",
        "\n",
        "ax = sns.heatmap(train_cm,\n",
        "                 annot=True,\n",
        "                 fmt='.0f',\n",
        "                 cmap='Blues',\n",
        "                 xticklabels=classes,\n",
        "                 yticklabels=classes,\n",
        "                 cbar=False)\n",
        "\n",
        "ax.set(xlabel='Predicted Label', ylabel='True Label')\n",
        "plt.title('Train Confusion Matrix')\n",
        "plt.show()"
      ]
    },
    {
      "cell_type": "code",
      "execution_count": null,
      "metadata": {
        "colab": {
          "base_uri": "https://localhost:8080/",
          "height": 472
        },
        "id": "yNaI6fp0nukV",
        "outputId": "c08cf810-a5c6-402e-9973-ec1209fcfed1"
      },
      "outputs": [
        {
          "data": {
            "image/png": "[encoded data removed]",
            "text/plain": [
              "<Figure size 640x480 with 1 Axes>"
            ]
          },
          "metadata": {},
          "output_type": "display_data"
        }
      ],
      "source": [
        "val_cm = tf.math.confusion_matrix(audio_df['val']['label'], val_yhat_result)\n",
        "\n",
        "ax = sns.heatmap(val_cm,\n",
        "                 annot=True,\n",
        "                 fmt='.0f',\n",
        "                 cmap='Blues',\n",
        "                 xticklabels=classes,\n",
        "                 yticklabels=classes,\n",
        "                 cbar=False)\n",
        "\n",
        "ax.set(xlabel='Predicted Label', ylabel='True Label')\n",
        "plt.title('Validation Confusion Matrix')\n",
        "plt.show()"
      ]
    },
    {
      "cell_type": "markdown",
      "metadata": {
        "id": "5QHv4DsUpuu1"
      },
      "source": [
        "## With mfcc & chroma & continents"
      ]
    },
    {
      "cell_type": "markdown",
      "metadata": {
        "id": "VXGrqohepuu2"
      },
      "source": [
        "### create features"
      ]
    },
    {
      "cell_type": "code",
      "execution_count": null,
      "metadata": {
        "colab": {
          "base_uri": "https://localhost:8080/"
        },
        "id": "Y1YiMeF7puu2",
        "outputId": "a3747ea2-5f2f-44a8-c875-92be73b79437"
      },
      "outputs": [
        {
          "data": {
            "text/plain": [
              "array([[0.57935101, 0.6438036 , 0.66833901, ..., 0.        , 1.        ,\n",
              "        0.        ],\n",
              "       [0.57913548, 0.58563828, 0.54721946, ..., 0.        , 1.        ,\n",
              "        0.        ],\n",
              "       [0.5286411 , 0.57992113, 0.5862537 , ..., 0.        , 1.        ,\n",
              "        0.        ],\n",
              "       ...,\n",
              "       [0.5004214 , 0.51937073, 0.44722223, ..., 0.        , 1.        ,\n",
              "        0.        ],\n",
              "       [0.57142222, 0.66256487, 0.7120778 , ..., 0.        , 1.        ,\n",
              "        0.        ],\n",
              "       [0.46950918, 0.3285217 , 0.2136962 , ..., 0.        , 1.        ,\n",
              "        0.        ]])"
            ]
          },
          "execution_count": 29,
          "metadata": {},
          "output_type": "execute_result"
        }
      ],
      "source": [
        "training_features = np.concatenate((audio_df['train']['mfcc'], audio_df['train']['chroma'], non_audio_df['train']['continent']), axis=1)\n",
        "\n",
        "training_features"
      ]
    },
    {
      "cell_type": "code",
      "execution_count": null,
      "metadata": {
        "colab": {
          "base_uri": "https://localhost:8080/"
        },
        "id": "SzcynldJpuu3",
        "outputId": "32563e97-1700-4f15-f0ee-d50cbe4df236"
      },
      "outputs": [
        {
          "data": {
            "text/plain": [
              "(4763, 37)"
            ]
          },
          "execution_count": 30,
          "metadata": {},
          "output_type": "execute_result"
        }
      ],
      "source": [
        "training_features.shape"
      ]
    },
    {
      "cell_type": "code",
      "execution_count": null,
      "metadata": {
        "colab": {
          "base_uri": "https://localhost:8080/"
        },
        "id": "Tf5UVhF6puu3",
        "outputId": "e77805d3-10c5-4376-8d4a-84749a0dbcd4"
      },
      "outputs": [
        {
          "data": {
            "text/plain": [
              "array([[0.69124705, 0.37565866, 0.30799311, ..., 0.        , 1.        ,\n",
              "        0.        ],\n",
              "       [0.81909317, 0.71823192, 0.47433323, ..., 0.        , 1.        ,\n",
              "        0.        ],\n",
              "       [0.48991185, 0.42542234, 0.35691386, ..., 0.        , 1.        ,\n",
              "        0.        ],\n",
              "       ...,\n",
              "       [0.50937366, 0.36574441, 0.67395914, ..., 0.        , 1.        ,\n",
              "        0.        ],\n",
              "       [0.45840833, 0.65378833, 0.59867388, ..., 0.        , 1.        ,\n",
              "        0.        ],\n",
              "       [0.48014399, 0.65538722, 0.5913316 , ..., 0.        , 1.        ,\n",
              "        0.        ]])"
            ]
          },
          "execution_count": 31,
          "metadata": {},
          "output_type": "execute_result"
        }
      ],
      "source": [
        "validation_features = np.concatenate((audio_df['val']['mfcc'], audio_df['val']['chroma'], non_audio_df['val']['continent']), axis=1)\n",
        "\n",
        "validation_features"
      ]
    },
    {
      "cell_type": "code",
      "execution_count": null,
      "metadata": {
        "colab": {
          "base_uri": "https://localhost:8080/"
        },
        "id": "L6gD7Q8fpuu3",
        "outputId": "4937c9ac-55ee-4d47-dbfc-1cb1cffb6dbf"
      },
      "outputs": [
        {
          "data": {
            "text/plain": [
              "(2430, 37)"
            ]
          },
          "execution_count": 32,
          "metadata": {},
          "output_type": "execute_result"
        }
      ],
      "source": [
        "validation_features.shape"
      ]
    },
    {
      "cell_type": "markdown",
      "metadata": {
        "id": "b5EGyGDapuu3"
      },
      "source": [
        "### fit the model with training data"
      ]
    },
    {
      "cell_type": "code",
      "execution_count": null,
      "metadata": {
        "colab": {
          "base_uri": "https://localhost:8080/",
          "height": 127
        },
        "id": "cmxmW9rapuu3",
        "outputId": "8ceabed3-c6a7-47f3-c48f-e0d36d5857d4"
      },
      "outputs": [
        {
          "name": "stdout",
          "output_type": "stream",
          "text": [
            "Fitting 5 folds for each of 6 candidates, totalling 30 fits\n"
          ]
        },
        {
          "data": {
            "text/plain": [
              "0.8763376599328083"
            ]
          },
          "metadata": {},
          "output_type": "display_data"
        },
        {
          "data": {
            "text/plain": [
              "{'C': 5, 'break_ties': False}"
            ]
          },
          "metadata": {},
          "output_type": "display_data"
        },
        {
          "data": {
            "text/html": [
              "<style>#sk-container-id-2 {color: black;background-color: white;}#sk-container-id-2 pre{padding: 0;}#sk-container-id-2 div.sk-toggleable {background-color: white;}#sk-container-id-2 label.sk-toggleable__label {cursor: pointer;display: block;width: 100%;margin-bottom: 0;padding: 0.3em;box-sizing: border-box;text-align: center;}#sk-container-id-2 label.sk-toggleable__label-arrow:before {content: \"▸\";float: left;margin-right: 0.25em;color: #696969;}#sk-container-id-2 label.sk-toggleable__label-arrow:hover:before {color: black;}#sk-container-id-2 div.sk-estimator:hover label.sk-toggleable__label-arrow:before {color: black;}#sk-container-id-2 div.sk-toggleable__content {max-height: 0;max-width: 0;overflow: hidden;text-align: left;background-color: #f0f8ff;}#sk-container-id-2 div.sk-toggleable__content pre {margin: 0.2em;color: black;border-radius: 0.25em;background-color: #f0f8ff;}#sk-container-id-2 input.sk-toggleable__control:checked~div.sk-toggleable__content {max-height: 200px;max-width: 100%;overflow: auto;}#sk-container-id-2 input.sk-toggleable__control:checked~label.sk-toggleable__label-arrow:before {content: \"▾\";}#sk-container-id-2 div.sk-estimator input.sk-toggleable__control:checked~label.sk-toggleable__label {background-color: #d4ebff;}#sk-container-id-2 div.sk-label input.sk-toggleable__control:checked~label.sk-toggleable__label {background-color: #d4ebff;}#sk-container-id-2 input.sk-hidden--visually {border: 0;clip: rect(1px 1px 1px 1px);clip: rect(1px, 1px, 1px, 1px);height: 1px;margin: -1px;overflow: hidden;padding: 0;position: absolute;width: 1px;}#sk-container-id-2 div.sk-estimator {font-family: monospace;background-color: #f0f8ff;border: 1px dotted black;border-radius: 0.25em;box-sizing: border-box;margin-bottom: 0.5em;}#sk-container-id-2 div.sk-estimator:hover {background-color: #d4ebff;}#sk-container-id-2 div.sk-parallel-item::after {content: \"\";width: 100%;border-bottom: 1px solid gray;flex-grow: 1;}#sk-container-id-2 div.sk-label:hover label.sk-toggleable__label {background-color: #d4ebff;}#sk-container-id-2 div.sk-serial::before {content: \"\";position: absolute;border-left: 1px solid gray;box-sizing: border-box;top: 0;bottom: 0;left: 50%;z-index: 0;}#sk-container-id-2 div.sk-serial {display: flex;flex-direction: column;align-items: center;background-color: white;padding-right: 0.2em;padding-left: 0.2em;position: relative;}#sk-container-id-2 div.sk-item {position: relative;z-index: 1;}#sk-container-id-2 div.sk-parallel {display: flex;align-items: stretch;justify-content: center;background-color: white;position: relative;}#sk-container-id-2 div.sk-item::before, #sk-container-id-2 div.sk-parallel-item::before {content: \"\";position: absolute;border-left: 1px solid gray;box-sizing: border-box;top: 0;bottom: 0;left: 50%;z-index: -1;}#sk-container-id-2 div.sk-parallel-item {display: flex;flex-direction: column;z-index: 1;position: relative;background-color: white;}#sk-container-id-2 div.sk-parallel-item:first-child::after {align-self: flex-end;width: 50%;}#sk-container-id-2 div.sk-parallel-item:last-child::after {align-self: flex-start;width: 50%;}#sk-container-id-2 div.sk-parallel-item:only-child::after {width: 0;}#sk-container-id-2 div.sk-dashed-wrapped {border: 1px dashed gray;margin: 0 0.4em 0.5em 0.4em;box-sizing: border-box;padding-bottom: 0.4em;background-color: white;}#sk-container-id-2 div.sk-label label {font-family: monospace;font-weight: bold;display: inline-block;line-height: 1.2em;}#sk-container-id-2 div.sk-label-container {text-align: center;}#sk-container-id-2 div.sk-container {/* jupyter's `normalize.less` sets `[hidden] { display: none; }` but bootstrap.min.css set `[hidden] { display: none !important; }` so we also need the `!important` here to be able to override the default hidden behavior on the sphinx rendered scikit-learn.org. See: https://github.com/scikit-learn/scikit-learn/issues/21755 */display: inline-block !important;position: relative;}#sk-container-id-2 div.sk-text-repr-fallback {display: none;}</style><div id=\"sk-container-id-2\" class=\"sk-top-container\"><div class=\"sk-text-repr-fallback\"><pre>SVC(C=5)</pre><b>In a Jupyter environment, please rerun this cell to show the HTML representation or trust the notebook. <br />On GitHub, the HTML representation is unable to render, please try loading this page with nbviewer.org.</b></div><div class=\"sk-container\" hidden><div class=\"sk-item\"><div class=\"sk-estimator sk-toggleable\"><input class=\"sk-toggleable__control sk-hidden--visually\" id=\"sk-estimator-id-2\" type=\"checkbox\" checked><label for=\"sk-estimator-id-2\" class=\"sk-toggleable__label sk-toggleable__label-arrow\">SVC</label><div class=\"sk-toggleable__content\"><pre>SVC(C=5)</pre></div></div></div></div></div>"
            ],
            "text/plain": [
              "SVC(C=5)"
            ]
          },
          "execution_count": 33,
          "metadata": {},
          "output_type": "execute_result"
        }
      ],
      "source": [
        "model = SVC(kernel='rbf')\n",
        "\n",
        "clf = GridSearchCV(\n",
        "        model,\n",
        "        {\"break_ties\": [True, False], \"C\": [3,4,5]},\n",
        "        verbose=1,\n",
        "        n_jobs=2,\n",
        "    )\n",
        "\n",
        "clf.fit(training_features, audio_df['train']['label'])\n",
        "display(clf.best_score_)\n",
        "display(clf.best_params_)\n",
        "\n",
        "model = SVC(kernel='rbf',\n",
        "            break_ties=clf.best_params_['break_ties'],\n",
        "            C=clf.best_params_['C'])\n",
        "\n",
        "model.fit(training_features, audio_df['train']['label'])"
      ]
    },
    {
      "cell_type": "code",
      "execution_count": null,
      "metadata": {
        "colab": {
          "base_uri": "https://localhost:8080/"
        },
        "id": "ZlT_s8W6puu3",
        "outputId": "4605296e-9929-4e08-ebd2-51ca296744cf"
      },
      "outputs": [
        {
          "name": "stdout",
          "output_type": "stream",
          "text": [
            "Training accuracy: 0.9059416334243124\n",
            "Validation accuracy: 0.7325102880658436\n"
          ]
        }
      ],
      "source": [
        "print('Training accuracy:', model.score(training_features, audio_df['train']['label']))\n",
        "train_results['mfcc_chroma_continents'] = model.score(training_features, audio_df['train']['label'])\n",
        "\n",
        "print('Validation accuracy:', model.score(validation_features, audio_df['val']['label']))\n",
        "val_results['mfcc_chroma_continents'] = model.score(validation_features, audio_df['val']['label'])"
      ]
    },
    {
      "cell_type": "markdown",
      "metadata": {
        "id": "vW-kRDeKpuu3"
      },
      "source": [
        "### evaluate the results"
      ]
    },
    {
      "cell_type": "code",
      "execution_count": null,
      "metadata": {
        "colab": {
          "base_uri": "https://localhost:8080/"
        },
        "id": "rd8PpsT4puu3",
        "outputId": "a302cfca-c6a8-4dc4-b6b2-f0907a585560"
      },
      "outputs": [
        {
          "name": "stdout",
          "output_type": "stream",
          "text": [
            "Training classification Report \n",
            "\n",
            "              precision    recall  f1-score   support\n",
            "\n",
            "      barswa       0.92      0.90      0.91      1603\n",
            "      comsan       0.95      0.91      0.93      1578\n",
            "     eaywag1       0.86      0.91      0.88      1582\n",
            "\n",
            "    accuracy                           0.91      4763\n",
            "   macro avg       0.91      0.91      0.91      4763\n",
            "weighted avg       0.91      0.91      0.91      4763\n",
            "\n"
          ]
        }
      ],
      "source": [
        "train_yhat_result = model.predict(training_features)\n",
        "\n",
        "print('Training classification Report \\n')\n",
        "print(classification_report(audio_df['train']['label'], train_yhat_result, target_names=classes))"
      ]
    },
    {
      "cell_type": "code",
      "execution_count": null,
      "metadata": {
        "colab": {
          "base_uri": "https://localhost:8080/"
        },
        "id": "mViqvoE-puu3",
        "outputId": "2a8ff66b-80a8-4ed7-bd21-4e7f3e9d12e9"
      },
      "outputs": [
        {
          "name": "stdout",
          "output_type": "stream",
          "text": [
            "Validation classification Report \n",
            "\n",
            "              precision    recall  f1-score   support\n",
            "\n",
            "      barswa       0.82      0.71      0.76      1032\n",
            "      comsan       0.65      0.71      0.68       618\n",
            "     eaywag1       0.70      0.77      0.74       780\n",
            "\n",
            "    accuracy                           0.73      2430\n",
            "   macro avg       0.73      0.73      0.73      2430\n",
            "weighted avg       0.74      0.73      0.73      2430\n",
            "\n"
          ]
        }
      ],
      "source": [
        "val_yhat_result = model.predict(validation_features)\n",
        "\n",
        "print('Validation classification Report \\n')\n",
        "print(classification_report(audio_df['val']['label'], val_yhat_result, target_names=classes))"
      ]
    },
    {
      "cell_type": "code",
      "execution_count": null,
      "metadata": {
        "colab": {
          "base_uri": "https://localhost:8080/",
          "height": 472
        },
        "id": "l8E8rkM6puu4",
        "outputId": "7224bd65-192d-43d0-d0db-9dfc3caa63fd"
      },
      "outputs": [
        {
          "data": {
            "image/png": "[encoded data removed]",
            "text/plain": [
              "<Figure size 640x480 with 1 Axes>"
            ]
          },
          "metadata": {},
          "output_type": "display_data"
        }
      ],
      "source": [
        "train_cm = tf.math.confusion_matrix(audio_df['train']['label'], train_yhat_result)\n",
        "\n",
        "ax = sns.heatmap(train_cm,\n",
        "                 annot=True,\n",
        "                 fmt='.0f',\n",
        "                 cmap='Blues',\n",
        "                 xticklabels=classes,\n",
        "                 yticklabels=classes,\n",
        "                 cbar=False)\n",
        "\n",
        "ax.set(xlabel='Predicted Label', ylabel='True Label')\n",
        "plt.title('Train Confusion Matrix')\n",
        "plt.show()"
      ]
    },
    {
      "cell_type": "code",
      "execution_count": null,
      "metadata": {
        "colab": {
          "base_uri": "https://localhost:8080/",
          "height": 472
        },
        "id": "mfEHGrYopuu4",
        "outputId": "ba2204f8-7567-4889-c1a2-d7dbd11d78d3"
      },
      "outputs": [
        {
          "data": {
            "image/png": "[encoded data removed]",
            "text/plain": [
              "<Figure size 640x480 with 1 Axes>"
            ]
          },
          "metadata": {},
          "output_type": "display_data"
        }
      ],
      "source": [
        "val_cm = tf.math.confusion_matrix(audio_df['val']['label'], val_yhat_result)\n",
        "\n",
        "ax = sns.heatmap(val_cm,\n",
        "                 annot=True,\n",
        "                 fmt='.0f',\n",
        "                 cmap='Blues',\n",
        "                 xticklabels=classes,\n",
        "                 yticklabels=classes,\n",
        "                 cbar=False)\n",
        "\n",
        "ax.set(xlabel='Predicted Label', ylabel='True Label')\n",
        "plt.title('Validation Confusion Matrix')\n",
        "plt.show()"
      ]
    },
    {
      "cell_type": "markdown",
      "metadata": {
        "id": "Cfyq2O6XrVWd"
      },
      "source": [
        "# Review results from all models"
      ]
    },
    {
      "cell_type": "code",
      "execution_count": null,
      "metadata": {
        "colab": {
          "base_uri": "https://localhost:8080/",
          "height": 112
        },
        "id": "9Qt0tqxIrX8U",
        "outputId": "352b9a59-c2fe-43d6-9b5d-70296315e55d"
      },
      "outputs": [
        {
          "data": {
            "text/html": [
              "\n",
              "  <div id=\"df-6b4dc3f0-3d03-45fb-83c1-c7961348afc3\" class=\"colab-df-container\">\n",
              "    <div>\n",
              "<style scoped>\n",
              "    .dataframe tbody tr th:only-of-type {\n",
              "        vertical-align: middle;\n",
              "    }\n",
              "\n",
              "    .dataframe tbody tr th {\n",
              "        vertical-align: top;\n",
              "    }\n",
              "\n",
              "    .dataframe thead th {\n",
              "        text-align: right;\n",
              "    }\n",
              "</style>\n",
              "<table border=\"1\" class=\"dataframe\">\n",
              "  <thead>\n",
              "    <tr style=\"text-align: right;\">\n",
              "      <th></th>\n",
              "      <th>Features</th>\n",
              "      <th>Train_Accuracy</th>\n",
              "      <th>Val_Accuracy</th>\n",
              "    </tr>\n",
              "  </thead>\n",
              "  <tbody>\n",
              "    <tr>\n",
              "      <th>1</th>\n",
              "      <td>mfcc_chroma_continents</td>\n",
              "      <td>0.91</td>\n",
              "      <td>0.73</td>\n",
              "    </tr>\n",
              "    <tr>\n",
              "      <th>0</th>\n",
              "      <td>all_features</td>\n",
              "      <td>0.93</td>\n",
              "      <td>0.74</td>\n",
              "    </tr>\n",
              "  </tbody>\n",
              "</table>\n",
              "</div>\n",
              "    <div class=\"colab-df-buttons\">\n",
              "\n",
              "  <div class=\"colab-df-container\">\n",
              "    <button class=\"colab-df-convert\" onclick=\"convertToInteractive('df-6b4dc3f0-3d03-45fb-83c1-c7961348afc3')\"\n",
              "            title=\"Convert this dataframe to an interactive table.\"\n",
              "            style=\"display:none;\">\n",
              "\n",
              "  <svg xmlns=\"http://www.w3.org/2000/svg\" height=\"24px\" viewBox=\"0 -960 960 960\">\n",
              "    <path d=\"M120-120v-720h720v720H120Zm60-500h600v-160H180v160Zm220 220h160v-160H400v160Zm0 220h160v-160H400v160ZM180-400h160v-160H180v160Zm440 0h160v-160H620v160ZM180-180h160v-160H180v160Zm440 0h160v-160H620v160Z\"/>\n",
              "  </svg>\n",
              "    </button>\n",
              "\n",
              "  <style>\n",
              "    .colab-df-container {\n",
              "      display:flex;\n",
              "      gap: 12px;\n",
              "    }\n",
              "\n",
              "    .colab-df-convert {\n",
              "      background-color: #E8F0FE;\n",
              "      border: none;\n",
              "      border-radius: 50%;\n",
              "      cursor: pointer;\n",
              "      display: none;\n",
              "      fill: #1967D2;\n",
              "      height: 32px;\n",
              "      padding: 0 0 0 0;\n",
              "      width: 32px;\n",
              "    }\n",
              "\n",
              "    .colab-df-convert:hover {\n",
              "      background-color: #E2EBFA;\n",
              "      box-shadow: 0px 1px 2px rgba(60, 64, 67, 0.3), 0px 1px 3px 1px rgba(60, 64, 67, 0.15);\n",
              "      fill: #174EA6;\n",
              "    }\n",
              "\n",
              "    .colab-df-buttons div {\n",
              "      margin-bottom: 4px;\n",
              "    }\n",
              "\n",
              "    [theme=dark] .colab-df-convert {\n",
              "      background-color: #3B4455;\n",
              "      fill: #D2E3FC;\n",
              "    }\n",
              "\n",
              "    [theme=dark] .colab-df-convert:hover {\n",
              "      background-color: #434B5C;\n",
              "      box-shadow: 0px 1px 3px 1px rgba(0, 0, 0, 0.15);\n",
              "      filter: drop-shadow(0px 1px 2px rgba(0, 0, 0, 0.3));\n",
              "      fill: #FFFFFF;\n",
              "    }\n",
              "  </style>\n",
              "\n",
              "    <script>\n",
              "      const buttonEl =\n",
              "        document.querySelector('#df-6b4dc3f0-3d03-45fb-83c1-c7961348afc3 button.colab-df-convert');\n",
              "      buttonEl.style.display =\n",
              "        google.colab.kernel.accessAllowed ? 'block' : 'none';\n",
              "\n",
              "      async function convertToInteractive(key) {\n",
              "        const element = document.querySelector('#df-6b4dc3f0-3d03-45fb-83c1-c7961348afc3');\n",
              "        const dataTable =\n",
              "          await google.colab.kernel.invokeFunction('convertToInteractive',\n",
              "                                                    [key], {});\n",
              "        if (!dataTable) return;\n",
              "\n",
              "        const docLinkHtml = 'Like what you see? Visit the ' +\n",
              "          '<a target=\"_blank\" href=https://colab.research.google.com/notebooks/data_table.ipynb>data table notebook</a>'\n",
              "          + ' to learn more about interactive tables.';\n",
              "        element.innerHTML = '';\n",
              "        dataTable['output_type'] = 'display_data';\n",
              "        await google.colab.output.renderOutput(dataTable, element);\n",
              "        const docLink = document.createElement('div');\n",
              "        docLink.innerHTML = docLinkHtml;\n",
              "        element.appendChild(docLink);\n",
              "      }\n",
              "    </script>\n",
              "  </div>\n",
              "\n",
              "\n",
              "<div id=\"df-6f2ccc42-2367-49e5-b57f-75efde87ecf3\">\n",
              "  <button class=\"colab-df-quickchart\" onclick=\"quickchart('df-6f2ccc42-2367-49e5-b57f-75efde87ecf3')\"\n",
              "            title=\"Suggest charts.\"\n",
              "            style=\"display:none;\">\n",
              "\n",
              "<svg xmlns=\"http://www.w3.org/2000/svg\" height=\"24px\"viewBox=\"0 0 24 24\"\n",
              "     width=\"24px\">\n",
              "    <g>\n",
              "        <path d=\"M19 3H5c-1.1 0-2 .9-2 2v14c0 1.1.9 2 2 2h14c1.1 0 2-.9 2-2V5c0-1.1-.9-2-2-2zM9 17H7v-7h2v7zm4 0h-2V7h2v10zm4 0h-2v-4h2v4z\"/>\n",
              "    </g>\n",
              "</svg>\n",
              "  </button>\n",
              "\n",
              "<style>\n",
              "  .colab-df-quickchart {\n",
              "      --bg-color: #E8F0FE;\n",
              "      --fill-color: #1967D2;\n",
              "      --hover-bg-color: #E2EBFA;\n",
              "      --hover-fill-color: #174EA6;\n",
              "      --disabled-fill-color: #AAA;\n",
              "      --disabled-bg-color: #DDD;\n",
              "  }\n",
              "\n",
              "  [theme=dark] .colab-df-quickchart {\n",
              "      --bg-color: #3B4455;\n",
              "      --fill-color: #D2E3FC;\n",
              "      --hover-bg-color: #434B5C;\n",
              "      --hover-fill-color: #FFFFFF;\n",
              "      --disabled-bg-color: #3B4455;\n",
              "      --disabled-fill-color: #666;\n",
              "  }\n",
              "\n",
              "  .colab-df-quickchart {\n",
              "    background-color: var(--bg-color);\n",
              "    border: none;\n",
              "    border-radius: 50%;\n",
              "    cursor: pointer;\n",
              "    display: none;\n",
              "    fill: var(--fill-color);\n",
              "    height: 32px;\n",
              "    padding: 0;\n",
              "    width: 32px;\n",
              "  }\n",
              "\n",
              "  .colab-df-quickchart:hover {\n",
              "    background-color: var(--hover-bg-color);\n",
              "    box-shadow: 0 1px 2px rgba(60, 64, 67, 0.3), 0 1px 3px 1px rgba(60, 64, 67, 0.15);\n",
              "    fill: var(--button-hover-fill-color);\n",
              "  }\n",
              "\n",
              "  .colab-df-quickchart-complete:disabled,\n",
              "  .colab-df-quickchart-complete:disabled:hover {\n",
              "    background-color: var(--disabled-bg-color);\n",
              "    fill: var(--disabled-fill-color);\n",
              "    box-shadow: none;\n",
              "  }\n",
              "\n",
              "  .colab-df-spinner {\n",
              "    border: 2px solid var(--fill-color);\n",
              "    border-color: transparent;\n",
              "    border-bottom-color: var(--fill-color);\n",
              "    animation:\n",
              "      spin 1s steps(1) infinite;\n",
              "  }\n",
              "\n",
              "  @keyframes spin {\n",
              "    0% {\n",
              "      border-color: transparent;\n",
              "      border-bottom-color: var(--fill-color);\n",
              "      border-left-color: var(--fill-color);\n",
              "    }\n",
              "    20% {\n",
              "      border-color: transparent;\n",
              "      border-left-color: var(--fill-color);\n",
              "      border-top-color: var(--fill-color);\n",
              "    }\n",
              "    30% {\n",
              "      border-color: transparent;\n",
              "      border-left-color: var(--fill-color);\n",
              "      border-top-color: var(--fill-color);\n",
              "      border-right-color: var(--fill-color);\n",
              "    }\n",
              "    40% {\n",
              "      border-color: transparent;\n",
              "      border-right-color: var(--fill-color);\n",
              "      border-top-color: var(--fill-color);\n",
              "    }\n",
              "    60% {\n",
              "      border-color: transparent;\n",
              "      border-right-color: var(--fill-color);\n",
              "    }\n",
              "    80% {\n",
              "      border-color: transparent;\n",
              "      border-right-color: var(--fill-color);\n",
              "      border-bottom-color: var(--fill-color);\n",
              "    }\n",
              "    90% {\n",
              "      border-color: transparent;\n",
              "      border-bottom-color: var(--fill-color);\n",
              "    }\n",
              "  }\n",
              "</style>\n",
              "\n",
              "  <script>\n",
              "    async function quickchart(key) {\n",
              "      const quickchartButtonEl =\n",
              "        document.querySelector('#' + key + ' button');\n",
              "      quickchartButtonEl.disabled = true;  // To prevent multiple clicks.\n",
              "      quickchartButtonEl.classList.add('colab-df-spinner');\n",
              "      try {\n",
              "        const charts = await google.colab.kernel.invokeFunction(\n",
              "            'suggestCharts', [key], {});\n",
              "      } catch (error) {\n",
              "        console.error('Error during call to suggestCharts:', error);\n",
              "      }\n",
              "      quickchartButtonEl.classList.remove('colab-df-spinner');\n",
              "      quickchartButtonEl.classList.add('colab-df-quickchart-complete');\n",
              "    }\n",
              "    (() => {\n",
              "      let quickchartButtonEl =\n",
              "        document.querySelector('#df-6f2ccc42-2367-49e5-b57f-75efde87ecf3 button');\n",
              "      quickchartButtonEl.style.display =\n",
              "        google.colab.kernel.accessAllowed ? 'block' : 'none';\n",
              "    })();\n",
              "  </script>\n",
              "</div>\n",
              "    </div>\n",
              "  </div>\n"
            ],
            "text/plain": [
              "                 Features  Train_Accuracy  Val_Accuracy\n",
              "1  mfcc_chroma_continents            0.91          0.73\n",
              "0            all_features            0.93          0.74"
            ]
          },
          "execution_count": 39,
          "metadata": {},
          "output_type": "execute_result"
        }
      ],
      "source": [
        "train_results_df = pd.DataFrame(list(train_results.items()), columns=['Features', 'Train_Accuracy']).round(2)\n",
        "val_results_df = pd.DataFrame(list(val_results.items()), columns=['Features', 'Val_Accuracy']).round(2)\n",
        "\n",
        "result_df = train_results_df.merge(val_results_df, on='Features')\n",
        "result_df = result_df.sort_values('Val_Accuracy')\n",
        "result_df"
      ]
    }
  ],
  "metadata": {
    "colab": {
      "include_colab_link": true,
      "provenance": []
    },
    "kernelspec": {
      "display_name": "Python 3",
      "name": "python3"
    },
    "language_info": {
      "name": "python"
    }
  },
  "nbformat": 4,
  "nbformat_minor": 0
}
