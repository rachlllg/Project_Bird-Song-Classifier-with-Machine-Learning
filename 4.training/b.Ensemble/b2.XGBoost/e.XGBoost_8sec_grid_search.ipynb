{
  "cells": [
    {
      "cell_type": "markdown",
      "metadata": {
        "id": "-8AFdNoYR03Z"
      },
      "source": [
        "# Import Libraries"
      ]
    },
    {
      "cell_type": "code",
      "execution_count": null,
      "metadata": {
        "colab": {
          "base_uri": "https://localhost:8080/"
        },
        "id": "4SQ-ig5ER3Ai",
        "outputId": "08e9675a-4fcc-4ccf-9826-bc882ea261c7"
      },
      "outputs": [
        {
          "name": "stdout",
          "output_type": "stream",
          "text": [
            "Drive already mounted at /content/drive; to attempt to forcibly remount, call drive.mount(\"/content/drive\", force_remount=True).\n"
          ]
        }
      ],
      "source": [
        "# For drive access\n",
        "from google.colab import drive\n",
        "drive.mount('/content/drive')\n",
        "\n",
        "# Standard libraries\n",
        "import numpy as np\n",
        "import pandas as pd\n",
        "\n",
        "# for loading the pickle files with features and labels\n",
        "import pickle\n",
        "\n",
        "# For audio\n",
        "from IPython.display import Audio\n",
        "import librosa\n",
        "\n",
        "# For preprocessing\n",
        "from sklearn.preprocessing import OneHotEncoder\n",
        "import tensorflow as tf\n",
        "\n",
        "# For modeling\n",
        "import xgboost as xgb\n",
        "from sklearn.model_selection import GridSearchCV\n",
        "from sklearn.metrics import classification_report\n",
        "\n",
        "# For visualization\n",
        "import matplotlib.pyplot as plt\n",
        "import seaborn as sns"
      ]
    },
    {
      "cell_type": "markdown",
      "metadata": {
        "id": "3AU-n0amahM-"
      },
      "source": [
        "# Load features and labels from train and val pickle"
      ]
    },
    {
      "cell_type": "code",
      "execution_count": null,
      "metadata": {
        "id": "u8SIG_qEagjg"
      },
      "outputs": [],
      "source": [
        "with open('/content/drive/MyDrive/project/train_val_features_pkl/train_val_8_sec_audio_features_avgpooled.pkl', 'rb') as file:\n",
        "  audio_df = pickle.load(file)"
      ]
    },
    {
      "cell_type": "code",
      "execution_count": null,
      "metadata": {
        "colab": {
          "base_uri": "https://localhost:8080/"
        },
        "id": "tWCzz4R8b7V5",
        "outputId": "ab2b27e1-4653-4f32-e99e-b7d79df36a9a"
      },
      "outputs": [
        {
          "data": {
            "text/plain": [
              "{'train': {'mfcc': array([[0.54529715, 0.4793393 , 0.5349132 , ..., 0.4413777 , 0.48703906,\n",
              "          0.4391229 ],\n",
              "         [0.5793472 , 0.4298672 , 0.53157544, ..., 0.44011986, 0.4861899 ,\n",
              "          0.45821744],\n",
              "         [0.58690274, 0.4212866 , 0.5418751 , ..., 0.44207054, 0.48264065,\n",
              "          0.45636433],\n",
              "         ...,\n",
              "         [0.64385235, 0.6829456 , 0.53566563, ..., 0.5652174 , 0.54604053,\n",
              "          0.5220579 ],\n",
              "         [0.63340336, 0.6876703 , 0.5409084 , ..., 0.54519475, 0.53867674,\n",
              "          0.49238336],\n",
              "         [0.62090445, 0.68252176, 0.5312934 , ..., 0.5375894 , 0.5312795 ,\n",
              "          0.48669696]], dtype=float32),\n",
              "  'chroma': array([[0.33323073, 0.30428657, 0.2593368 , ..., 0.5534823 , 0.5671482 ,\n",
              "          0.39478505],\n",
              "         [0.3348951 , 0.2847971 , 0.28591642, ..., 0.48760402, 0.5730938 ,\n",
              "          0.4367055 ],\n",
              "         [0.30589613, 0.32092458, 0.35909373, ..., 0.51112914, 0.47443873,\n",
              "          0.3541228 ],\n",
              "         ...,\n",
              "         [0.63341504, 0.69855356, 0.7788    , ..., 0.61769176, 0.59956795,\n",
              "          0.6227737 ],\n",
              "         [0.63660365, 0.6917866 , 0.7300688 , ..., 0.6247187 , 0.5955071 ,\n",
              "          0.62496245],\n",
              "         [0.6427118 , 0.6964757 , 0.7205439 , ..., 0.6192207 , 0.5933949 ,\n",
              "          0.5994139 ]], dtype=float32),\n",
              "  'rms': array([[0.04363674],\n",
              "         [0.04894074],\n",
              "         [0.03781666],\n",
              "         ...,\n",
              "         [0.01526631],\n",
              "         [0.0183391 ],\n",
              "         [0.01448674]], dtype=float32),\n",
              "  'spectral_centroid': array([[0.4894502 ],\n",
              "         [0.53729105],\n",
              "         [0.57179374],\n",
              "         ...,\n",
              "         [0.27606383],\n",
              "         [0.26911148],\n",
              "         [0.28671613]], dtype=float32),\n",
              "  'melspectrogram': array([[0.4942571 , 0.46630353, 0.46723923, ..., 0.47733763, 0.43253782,\n",
              "          0.3855449 ],\n",
              "         [0.4882816 , 0.46821427, 0.46761528, ..., 0.5423821 , 0.5155317 ,\n",
              "          0.46023315],\n",
              "         [0.49077216, 0.47082922, 0.47274053, ..., 0.57021886, 0.55316544,\n",
              "          0.49377462],\n",
              "         ...,\n",
              "         [0.68829834, 0.6379282 , 0.63012457, ..., 0.4317261 , 0.42503196,\n",
              "          0.4264088 ],\n",
              "         [0.68743324, 0.6444912 , 0.6252541 , ..., 0.42371044, 0.41935176,\n",
              "          0.4167323 ],\n",
              "         [0.6545092 , 0.6302308 , 0.61987585, ..., 0.4193083 , 0.41185388,\n",
              "          0.40703273]], dtype=float32),\n",
              "  'label': array([0, 0, 0, ..., 2, 2, 2])},\n",
              " 'val': {'mfcc': array([[0.53712696, 0.4974271 , 0.42230383, ..., 0.42753544, 0.43672395,\n",
              "          0.4028031 ],\n",
              "         [0.6763556 , 0.7499724 , 0.5798445 , ..., 0.59830695, 0.5712111 ,\n",
              "          0.5139304 ],\n",
              "         [0.6544008 , 0.7117479 , 0.63287103, ..., 0.5231731 , 0.53924084,\n",
              "          0.48692483],\n",
              "         ...,\n",
              "         [0.6871535 , 0.6927643 , 0.5035141 , ..., 0.54538333, 0.51867616,\n",
              "          0.5010022 ],\n",
              "         [0.5348202 , 0.71103656, 0.482931  , ..., 0.48366803, 0.47977835,\n",
              "          0.43783596],\n",
              "         [0.5662565 , 0.8127476 , 0.67853034, ..., 0.50593054, 0.5672664 ,\n",
              "          0.4755229 ]], dtype=float32),\n",
              "  'chroma': array([[0.6062603 , 0.6611424 , 0.72486585, ..., 0.5058629 , 0.5512895 ,\n",
              "          0.6173802 ],\n",
              "         [0.7335697 , 0.64398766, 0.62081   , ..., 0.7005903 , 0.7300671 ,\n",
              "          0.7513304 ],\n",
              "         [0.37384117, 0.40621468, 0.5603675 , ..., 0.5704591 , 0.55914676,\n",
              "          0.45755625],\n",
              "         ...,\n",
              "         [0.7064273 , 0.7694555 , 0.73633957, ..., 0.6428705 , 0.65043974,\n",
              "          0.66724515],\n",
              "         [0.60055524, 0.5288853 , 0.56051594, ..., 0.65525454, 0.6470758 ,\n",
              "          0.81797296],\n",
              "         [0.6103266 , 0.6369916 , 0.6348548 , ..., 0.6254955 , 0.61822176,\n",
              "          0.6243659 ]], dtype=float32),\n",
              "  'rms': array([[0.0056784 ],\n",
              "         [0.05517103],\n",
              "         [0.01791949],\n",
              "         ...,\n",
              "         [0.02083842],\n",
              "         [0.00455992],\n",
              "         [0.07862425]], dtype=float32),\n",
              "  'spectral_centroid': array([[0.49066466],\n",
              "         [0.15957537],\n",
              "         [0.26093116],\n",
              "         ...,\n",
              "         [0.2581007 ],\n",
              "         [0.23918974],\n",
              "         [0.08227797]], dtype=float32),\n",
              "  'melspectrogram': array([[0.4302389 , 0.44570604, 0.4562991 , ..., 0.4510343 , 0.44375154,\n",
              "          0.41643912],\n",
              "         [0.7777162 , 0.72878826, 0.7512033 , ..., 0.43627858, 0.4259266 ,\n",
              "          0.3938772 ],\n",
              "         [0.717324  , 0.71206856, 0.7175047 , ..., 0.46796158, 0.46199274,\n",
              "          0.4523801 ],\n",
              "         ...,\n",
              "         [0.7039507 , 0.68673253, 0.6822557 , ..., 0.4432158 , 0.43379405,\n",
              "          0.43682313],\n",
              "         [0.5548915 , 0.57516265, 0.6022699 , ..., 0.3173011 , 0.3047298 ,\n",
              "          0.2807316 ],\n",
              "         [0.81217384, 0.7430596 , 0.6831309 , ..., 0.30011085, 0.29863128,\n",
              "          0.30130598]], dtype=float32),\n",
              "  'label': array([0, 0, 1, ..., 2, 1, 2])}}"
            ]
          },
          "execution_count": 3,
          "metadata": {},
          "output_type": "execute_result"
        }
      ],
      "source": [
        "audio_df"
      ]
    },
    {
      "cell_type": "code",
      "execution_count": null,
      "metadata": {
        "id": "AZUoqDIGbBxS"
      },
      "outputs": [],
      "source": [
        "with open('/content/drive/MyDrive/project/train_val_features_pkl/train_val_8_sec_non_audio_features.pkl', 'rb') as file:\n",
        "  non_audio_df = pickle.load(file)"
      ]
    },
    {
      "cell_type": "code",
      "execution_count": null,
      "metadata": {
        "colab": {
          "base_uri": "https://localhost:8080/"
        },
        "id": "JsBUDLDCba93",
        "outputId": "ed680022-fc84-4735-a040-93e57b6aa8af"
      },
      "outputs": [
        {
          "data": {
            "text/plain": [
              "{'train': {'type': array(['blank', 'blank', 'blank', ..., 'blank', 'blank', 'blank'],\n",
              "        dtype='<U5'),\n",
              "  'continent': array(['AFRICA', 'AFRICA', 'AFRICA', ..., 'EUROPE', 'EUROPE', 'EUROPE'],\n",
              "        dtype='<U8'),\n",
              "  'rating': array([5., 5., 5., ..., 5., 5., 5.]),\n",
              "  'label': array([0, 0, 0, ..., 2, 2, 2])},\n",
              " 'val': {'type': array(['song', 'call', 'call', ..., 'blank', 'call', 'call'], dtype='<U5'),\n",
              "  'continent': array(['EUROPE', 'EUROPE', 'EUROPE', ..., 'EUROPE', 'EUROPE', 'EUROPE'],\n",
              "        dtype='<U8'),\n",
              "  'rating': array([3.5, 5. , 4. , ..., 5. , 3. , 3. ]),\n",
              "  'label': array([0, 0, 1, ..., 2, 1, 2])}}"
            ]
          },
          "execution_count": 5,
          "metadata": {},
          "output_type": "execute_result"
        }
      ],
      "source": [
        "non_audio_df"
      ]
    },
    {
      "cell_type": "markdown",
      "metadata": {
        "id": "YbmEkhFOd-Wz"
      },
      "source": [
        "## confirm the audio features and non_audio features labels line-up"
      ]
    },
    {
      "cell_type": "code",
      "execution_count": null,
      "metadata": {
        "id": "gesh7QngbjxN"
      },
      "outputs": [],
      "source": [
        "assert np.array_equal(audio_df['train']['label'], non_audio_df['train']['label'])"
      ]
    },
    {
      "cell_type": "code",
      "execution_count": null,
      "metadata": {
        "id": "YSCJzEEXeDdU"
      },
      "outputs": [],
      "source": [
        "assert np.array_equal(audio_df['val']['label'], non_audio_df['val']['label'])"
      ]
    },
    {
      "cell_type": "markdown",
      "metadata": {
        "id": "o4bsBkcKTDgi"
      },
      "source": [
        "# Shuffle the data"
      ]
    },
    {
      "cell_type": "code",
      "execution_count": null,
      "metadata": {
        "id": "hYI47YI6gwY-"
      },
      "outputs": [],
      "source": [
        "def shuffle_data(audio_features, non_audio_features):\n",
        "  input_len = len(audio_features['label'])\n",
        "  input_indices = np.random.permutation(input_len)\n",
        "  audio_features = {key: np.array([audio_features[key][i] for i in input_indices]) for key in audio_features}\n",
        "  non_audio_features = {key: np.array([non_audio_features[key][i] for i in input_indices]) for key in non_audio_features}\n",
        "\n",
        "  return audio_features, non_audio_features"
      ]
    },
    {
      "cell_type": "code",
      "execution_count": null,
      "metadata": {
        "id": "tW_Nn5JJh2xX"
      },
      "outputs": [],
      "source": [
        "audio_df['train'], non_audio_df['train'] = shuffle_data(audio_df['train'], non_audio_df['train'])"
      ]
    },
    {
      "cell_type": "code",
      "execution_count": null,
      "metadata": {
        "colab": {
          "base_uri": "https://localhost:8080/",
          "height": 1000
        },
        "id": "ytcJ18V1iKJw",
        "outputId": "a5f72252-ffa7-40da-a253-102a03b28477"
      },
      "outputs": [
        {
          "data": {
            "application/vnd.google.colaboratory.intrinsic+json": {
              "type": "string"
            },
            "text/plain": [
              "'mfcc'"
            ]
          },
          "metadata": {},
          "output_type": "display_data"
        },
        {
          "data": {
            "text/plain": [
              "(4763, 20)"
            ]
          },
          "metadata": {},
          "output_type": "display_data"
        },
        {
          "data": {
            "text/plain": [
              "array([[0.40657163, 0.19738816, 0.53928894, 0.83096796, 0.5668164 ,\n",
              "        0.6000991 , 0.66089207, 0.4732517 , 0.5553132 , 0.5629604 ,\n",
              "        0.5379484 , 0.56828976, 0.5567925 , 0.60728014, 0.44482738,\n",
              "        0.5061692 , 0.5138939 , 0.5674225 , 0.5808583 , 0.46827218],\n",
              "       [0.5342187 , 0.6294649 , 0.67035997, 0.5360281 , 0.63964236,\n",
              "        0.58028173, 0.56718636, 0.63489354, 0.4672211 , 0.5595426 ,\n",
              "        0.4790081 , 0.56839615, 0.46428198, 0.55018944, 0.52340597,\n",
              "        0.5183922 , 0.48045135, 0.57050407, 0.559554  , 0.5192389 ],\n",
              "       [0.5547648 , 0.29293275, 0.6256941 , 0.69507515, 0.3358041 ,\n",
              "        0.66440326, 0.44950578, 0.53606266, 0.5185551 , 0.41996324,\n",
              "        0.65618163, 0.35371295, 0.63396865, 0.37275267, 0.69340336,\n",
              "        0.28116408, 0.6153735 , 0.48224622, 0.47618896, 0.6049462 ],\n",
              "       [0.64752066, 0.61475724, 0.6377811 , 0.64853233, 0.579696  ,\n",
              "        0.52860475, 0.544602  , 0.4631993 , 0.58704525, 0.56495005,\n",
              "        0.58721304, 0.5184288 , 0.47973764, 0.5092106 , 0.5278906 ,\n",
              "        0.6363187 , 0.5897951 , 0.48587468, 0.52818805, 0.47134066],\n",
              "       [0.6780584 , 0.7021762 , 0.42603946, 0.5087891 , 0.5598114 ,\n",
              "        0.38718808, 0.56729627, 0.5028696 , 0.52561706, 0.5068115 ,\n",
              "        0.52402985, 0.4983904 , 0.525554  , 0.49397138, 0.43669844,\n",
              "        0.49585453, 0.46615142, 0.48455694, 0.50875634, 0.43748465]],\n",
              "      dtype=float32)"
            ]
          },
          "metadata": {},
          "output_type": "display_data"
        },
        {
          "data": {
            "application/vnd.google.colaboratory.intrinsic+json": {
              "type": "string"
            },
            "text/plain": [
              "'chroma'"
            ]
          },
          "metadata": {},
          "output_type": "display_data"
        },
        {
          "data": {
            "text/plain": [
              "(4763, 12)"
            ]
          },
          "metadata": {},
          "output_type": "display_data"
        },
        {
          "data": {
            "text/plain": [
              "array([[0.44546488, 0.36390525, 0.28605673, 0.27423453, 0.25883183,\n",
              "        0.35560203, 0.49220127, 0.476846  , 0.4240746 , 0.41686335,\n",
              "        0.38702217, 0.41637856],\n",
              "       [0.39583313, 0.41840377, 0.44079083, 0.51467913, 0.48625728,\n",
              "        0.567868  , 0.5620846 , 0.4699945 , 0.42973185, 0.3702966 ,\n",
              "        0.34423843, 0.35397464],\n",
              "       [0.0971138 , 0.17868727, 0.41742817, 0.6178341 , 0.4839129 ,\n",
              "        0.19239217, 0.04246622, 0.0325142 , 0.0499544 , 0.08641241,\n",
              "        0.1407481 , 0.13805453],\n",
              "       [0.37864444, 0.34920585, 0.39336824, 0.28540456, 0.2577857 ,\n",
              "        0.25147125, 0.38942212, 0.7026788 , 0.38186044, 0.2824888 ,\n",
              "        0.32800543, 0.4411002 ],\n",
              "       [0.6609631 , 0.6448042 , 0.6511261 , 0.6525002 , 0.65422386,\n",
              "        0.65154177, 0.6806071 , 0.7299951 , 0.7400909 , 0.7364757 ,\n",
              "        0.7093861 , 0.6750949 ]], dtype=float32)"
            ]
          },
          "metadata": {},
          "output_type": "display_data"
        },
        {
          "data": {
            "application/vnd.google.colaboratory.intrinsic+json": {
              "type": "string"
            },
            "text/plain": [
              "'rms'"
            ]
          },
          "metadata": {},
          "output_type": "display_data"
        },
        {
          "data": {
            "text/plain": [
              "(4763, 1)"
            ]
          },
          "metadata": {},
          "output_type": "display_data"
        },
        {
          "data": {
            "text/plain": [
              "array([[0.01953729],\n",
              "       [0.01500003],\n",
              "       [0.3645824 ],\n",
              "       [0.04969941],\n",
              "       [0.01672691]], dtype=float32)"
            ]
          },
          "metadata": {},
          "output_type": "display_data"
        },
        {
          "data": {
            "application/vnd.google.colaboratory.intrinsic+json": {
              "type": "string"
            },
            "text/plain": [
              "'spectral_centroid'"
            ]
          },
          "metadata": {},
          "output_type": "display_data"
        },
        {
          "data": {
            "text/plain": [
              "(4763, 1)"
            ]
          },
          "metadata": {},
          "output_type": "display_data"
        },
        {
          "data": {
            "text/plain": [
              "array([[0.597077  ],\n",
              "       [0.4799486 ],\n",
              "       [0.6562152 ],\n",
              "       [0.3524549 ],\n",
              "       [0.25409642]], dtype=float32)"
            ]
          },
          "metadata": {},
          "output_type": "display_data"
        },
        {
          "data": {
            "application/vnd.google.colaboratory.intrinsic+json": {
              "type": "string"
            },
            "text/plain": [
              "'melspectrogram'"
            ]
          },
          "metadata": {},
          "output_type": "display_data"
        },
        {
          "data": {
            "text/plain": [
              "(4763, 20)"
            ]
          },
          "metadata": {},
          "output_type": "display_data"
        },
        {
          "data": {
            "text/plain": [
              "array([[0.3594953 , 0.19943272, 0.1333068 , 0.10989226, 0.09193736,\n",
              "        0.12268837, 0.18870372, 0.23423462, 0.30468825, 0.3763494 ,\n",
              "        0.41536188, 0.5016773 , 0.5696966 , 0.6257001 , 0.6176615 ,\n",
              "        0.61374277, 0.59092534, 0.5229169 , 0.49765205, 0.44968358],\n",
              "       [0.6393327 , 0.5767872 , 0.53322744, 0.5038073 , 0.5091886 ,\n",
              "        0.5167352 , 0.5197705 , 0.50352097, 0.494117  , 0.47219813,\n",
              "        0.4570289 , 0.4579935 , 0.41834724, 0.39351502, 0.38843653,\n",
              "        0.41635793, 0.4519234 , 0.47197118, 0.49489674, 0.44675565],\n",
              "       [0.3626039 , 0.2993401 , 0.27575147, 0.28223825, 0.28585318,\n",
              "        0.30720213, 0.3200031 , 0.34651488, 0.40572086, 0.4262172 ,\n",
              "        0.4522161 , 0.5357198 , 0.5844661 , 0.6121817 , 0.6920464 ,\n",
              "        0.7371764 , 0.79413354, 0.8178673 , 0.6419733 , 0.49713326],\n",
              "       [0.7141147 , 0.6675828 , 0.6499685 , 0.6258689 , 0.62757504,\n",
              "        0.61059695, 0.53946376, 0.58058494, 0.60002905, 0.58046556,\n",
              "        0.58494264, 0.5681085 , 0.5710956 , 0.57493716, 0.5560926 ,\n",
              "        0.566213  , 0.55700845, 0.5146613 , 0.48922923, 0.45973298],\n",
              "       [0.6610892 , 0.63836   , 0.660765  , 0.69572425, 0.7164598 ,\n",
              "        0.7237524 , 0.72233003, 0.7126409 , 0.7056498 , 0.7049561 ,\n",
              "        0.68972594, 0.6688146 , 0.62211543, 0.5840578 , 0.5064267 ,\n",
              "        0.47480673, 0.46533147, 0.42667165, 0.4050217 , 0.38738012]],\n",
              "      dtype=float32)"
            ]
          },
          "metadata": {},
          "output_type": "display_data"
        },
        {
          "data": {
            "application/vnd.google.colaboratory.intrinsic+json": {
              "type": "string"
            },
            "text/plain": [
              "'label'"
            ]
          },
          "metadata": {},
          "output_type": "display_data"
        },
        {
          "data": {
            "text/plain": [
              "(4763,)"
            ]
          },
          "metadata": {},
          "output_type": "display_data"
        },
        {
          "data": {
            "text/plain": [
              "array([0, 0, 1, 0, 1])"
            ]
          },
          "metadata": {},
          "output_type": "display_data"
        }
      ],
      "source": [
        "for key in audio_df['train'].keys():\n",
        "  display(key)\n",
        "  display(audio_df['train'][key].shape)\n",
        "  display(audio_df['train'][key][:5])"
      ]
    },
    {
      "cell_type": "code",
      "execution_count": null,
      "metadata": {
        "colab": {
          "base_uri": "https://localhost:8080/",
          "height": 229
        },
        "id": "gNJmuBsdjIxa",
        "outputId": "7c303701-b7bb-4f3d-e8b3-167495583a3a"
      },
      "outputs": [
        {
          "data": {
            "application/vnd.google.colaboratory.intrinsic+json": {
              "type": "string"
            },
            "text/plain": [
              "'type'"
            ]
          },
          "metadata": {},
          "output_type": "display_data"
        },
        {
          "data": {
            "text/plain": [
              "(4763,)"
            ]
          },
          "metadata": {},
          "output_type": "display_data"
        },
        {
          "data": {
            "text/plain": [
              "array(['song', 'call', 'song', 'both', 'call'], dtype='<U5')"
            ]
          },
          "metadata": {},
          "output_type": "display_data"
        },
        {
          "data": {
            "application/vnd.google.colaboratory.intrinsic+json": {
              "type": "string"
            },
            "text/plain": [
              "'continent'"
            ]
          },
          "metadata": {},
          "output_type": "display_data"
        },
        {
          "data": {
            "text/plain": [
              "(4763,)"
            ]
          },
          "metadata": {},
          "output_type": "display_data"
        },
        {
          "data": {
            "text/plain": [
              "array(['AMERICAS', 'EUROPE', 'EUROPE', 'EUROPE', 'EUROPE'], dtype='<U8')"
            ]
          },
          "metadata": {},
          "output_type": "display_data"
        },
        {
          "data": {
            "application/vnd.google.colaboratory.intrinsic+json": {
              "type": "string"
            },
            "text/plain": [
              "'rating'"
            ]
          },
          "metadata": {},
          "output_type": "display_data"
        },
        {
          "data": {
            "text/plain": [
              "(4763,)"
            ]
          },
          "metadata": {},
          "output_type": "display_data"
        },
        {
          "data": {
            "text/plain": [
              "array([4.5, 5. , 4.5, 4. , 5. ])"
            ]
          },
          "metadata": {},
          "output_type": "display_data"
        },
        {
          "data": {
            "application/vnd.google.colaboratory.intrinsic+json": {
              "type": "string"
            },
            "text/plain": [
              "'label'"
            ]
          },
          "metadata": {},
          "output_type": "display_data"
        },
        {
          "data": {
            "text/plain": [
              "(4763,)"
            ]
          },
          "metadata": {},
          "output_type": "display_data"
        },
        {
          "data": {
            "text/plain": [
              "array([0, 0, 1, 0, 1])"
            ]
          },
          "metadata": {},
          "output_type": "display_data"
        }
      ],
      "source": [
        "for key in non_audio_df['train'].keys():\n",
        "  display(key)\n",
        "  display(non_audio_df['train'][key].shape)\n",
        "  display(non_audio_df['train'][key][:5])"
      ]
    },
    {
      "cell_type": "code",
      "execution_count": null,
      "metadata": {
        "id": "nZ-4AUeDirA5"
      },
      "outputs": [],
      "source": [
        "audio_df['val'], non_audio_df['val'] = shuffle_data(audio_df['val'], non_audio_df['val'])"
      ]
    },
    {
      "cell_type": "code",
      "execution_count": null,
      "metadata": {
        "colab": {
          "base_uri": "https://localhost:8080/",
          "height": 1000
        },
        "id": "EB0WFzuOjAld",
        "outputId": "0a87024f-e7e6-425c-e8d0-78bb47d4c5d7"
      },
      "outputs": [
        {
          "data": {
            "application/vnd.google.colaboratory.intrinsic+json": {
              "type": "string"
            },
            "text/plain": [
              "'mfcc'"
            ]
          },
          "metadata": {},
          "output_type": "display_data"
        },
        {
          "data": {
            "text/plain": [
              "(2430, 20)"
            ]
          },
          "metadata": {},
          "output_type": "display_data"
        },
        {
          "data": {
            "text/plain": [
              "array([[0.3921255 , 0.49347496, 0.39383563, 0.33049133, 0.3782078 ,\n",
              "        0.12164369, 0.2892612 , 0.18607073, 0.37460205, 0.33982828,\n",
              "        0.3031689 , 0.28508592, 0.29605728, 0.3645146 , 0.35027876,\n",
              "        0.38237655, 0.4335768 , 0.5051556 , 0.536654  , 0.47231346],\n",
              "       [0.5363903 , 0.52735734, 0.5304466 , 0.47116983, 0.55323446,\n",
              "        0.41982657, 0.60694987, 0.44020733, 0.51164633, 0.45027775,\n",
              "        0.49100178, 0.5290659 , 0.4942783 , 0.51528734, 0.4827476 ,\n",
              "        0.48754084, 0.49818233, 0.50759363, 0.5207268 , 0.48160434],\n",
              "       [0.6727096 , 0.6245173 , 0.6256152 , 0.7213449 , 0.5234079 ,\n",
              "        0.6018301 , 0.5084116 , 0.41655746, 0.41778   , 0.52164376,\n",
              "        0.433002  , 0.52537656, 0.48162955, 0.55019   , 0.43167445,\n",
              "        0.51535463, 0.48681387, 0.48880872, 0.51925343, 0.47446042],\n",
              "       [0.63562864, 0.6779962 , 0.66986513, 0.68809414, 0.6455931 ,\n",
              "        0.56039965, 0.6089817 , 0.46949005, 0.5989411 , 0.48546627,\n",
              "        0.53328365, 0.51168936, 0.47011995, 0.48011366, 0.490004  ,\n",
              "        0.49443203, 0.47128344, 0.49436548, 0.49443638, 0.51789856],\n",
              "       [0.5894803 , 0.5964122 , 0.50777125, 0.4087859 , 0.43346748,\n",
              "        0.2811157 , 0.37829074, 0.28130668, 0.36996868, 0.34479758,\n",
              "        0.3695875 , 0.3827089 , 0.33214787, 0.37084347, 0.35006887,\n",
              "        0.3279203 , 0.39014685, 0.42238942, 0.42670965, 0.35425934]],\n",
              "      dtype=float32)"
            ]
          },
          "metadata": {},
          "output_type": "display_data"
        },
        {
          "data": {
            "application/vnd.google.colaboratory.intrinsic+json": {
              "type": "string"
            },
            "text/plain": [
              "'chroma'"
            ]
          },
          "metadata": {},
          "output_type": "display_data"
        },
        {
          "data": {
            "text/plain": [
              "(2430, 12)"
            ]
          },
          "metadata": {},
          "output_type": "display_data"
        },
        {
          "data": {
            "text/plain": [
              "array([[0.38551584, 0.42070943, 0.4836931 , 0.5624002 , 0.6376047 ,\n",
              "        0.7704504 , 0.8521514 , 0.8813133 , 0.7281782 , 0.52083105,\n",
              "        0.445664  , 0.3878303 ],\n",
              "       [0.7317074 , 0.7749184 , 0.7278494 , 0.7323522 , 0.7550252 ,\n",
              "        0.734856  , 0.6926276 , 0.73808086, 0.83737934, 0.84053546,\n",
              "        0.82061505, 0.7303509 ],\n",
              "       [0.6305087 , 0.71419924, 0.40204412, 0.34109482, 0.38400865,\n",
              "        0.457153  , 0.4409139 , 0.39585316, 0.41354206, 0.3985216 ,\n",
              "        0.3464874 , 0.37356442],\n",
              "       [0.5794049 , 0.5933991 , 0.5795926 , 0.59042424, 0.57622147,\n",
              "        0.5609023 , 0.569337  , 0.60258406, 0.6432579 , 0.6284307 ,\n",
              "        0.6223365 , 0.62917423],\n",
              "       [0.62993944, 0.56860006, 0.6577425 , 0.670977  , 0.66699886,\n",
              "        0.60963434, 0.62793034, 0.65880346, 0.5908542 , 0.5421778 ,\n",
              "        0.5903011 , 0.6007605 ]], dtype=float32)"
            ]
          },
          "metadata": {},
          "output_type": "display_data"
        },
        {
          "data": {
            "application/vnd.google.colaboratory.intrinsic+json": {
              "type": "string"
            },
            "text/plain": [
              "'rms'"
            ]
          },
          "metadata": {},
          "output_type": "display_data"
        },
        {
          "data": {
            "text/plain": [
              "(2430, 1)"
            ]
          },
          "metadata": {},
          "output_type": "display_data"
        },
        {
          "data": {
            "text/plain": [
              "array([[0.0011882 ],\n",
              "       [0.00333066],\n",
              "       [0.03196083],\n",
              "       [0.05494734],\n",
              "       [0.00740855]], dtype=float32)"
            ]
          },
          "metadata": {},
          "output_type": "display_data"
        },
        {
          "data": {
            "application/vnd.google.colaboratory.intrinsic+json": {
              "type": "string"
            },
            "text/plain": [
              "'spectral_centroid'"
            ]
          },
          "metadata": {},
          "output_type": "display_data"
        },
        {
          "data": {
            "text/plain": [
              "(2430, 1)"
            ]
          },
          "metadata": {},
          "output_type": "display_data"
        },
        {
          "data": {
            "text/plain": [
              "array([[0.46537483],\n",
              "       [0.5305798 ],\n",
              "       [0.37185884],\n",
              "       [0.23905812],\n",
              "       [0.3920773 ]], dtype=float32)"
            ]
          },
          "metadata": {},
          "output_type": "display_data"
        },
        {
          "data": {
            "application/vnd.google.colaboratory.intrinsic+json": {
              "type": "string"
            },
            "text/plain": [
              "'melspectrogram'"
            ]
          },
          "metadata": {},
          "output_type": "display_data"
        },
        {
          "data": {
            "text/plain": [
              "(2430, 20)"
            ]
          },
          "metadata": {},
          "output_type": "display_data"
        },
        {
          "data": {
            "text/plain": [
              "array([[0.32324207, 0.36995414, 0.38483635, 0.42761847, 0.44983882,\n",
              "        0.43761668, 0.40142915, 0.40476662, 0.44601932, 0.45571592,\n",
              "        0.41589838, 0.39512792, 0.37228677, 0.36403668, 0.34074354,\n",
              "        0.3284353 , 0.32445303, 0.31069052, 0.3112081 , 0.3103755 ],\n",
              "       [0.48072803, 0.4593367 , 0.46132058, 0.4751912 , 0.48934257,\n",
              "        0.51732975, 0.53372633, 0.52943844, 0.52025276, 0.5102337 ,\n",
              "        0.50508803, 0.50252336, 0.4850498 , 0.47786415, 0.461863  ,\n",
              "        0.451078  , 0.44444567, 0.43010518, 0.44039023, 0.44584507],\n",
              "       [0.7199894 , 0.73892516, 0.69644815, 0.6606084 , 0.5869435 ,\n",
              "        0.57775617, 0.58411205, 0.5997845 , 0.6069652 , 0.60688394,\n",
              "        0.5927652 , 0.59326434, 0.6210122 , 0.6366376 , 0.6209756 ,\n",
              "        0.60809416, 0.59360856, 0.5401439 , 0.5162115 , 0.43224236],\n",
              "       [0.7825634 , 0.7336833 , 0.6652529 , 0.62192553, 0.5977919 ,\n",
              "        0.57484597, 0.5565015 , 0.5609804 , 0.5763657 , 0.5649893 ,\n",
              "        0.5681686 , 0.5561811 , 0.5331834 , 0.5340254 , 0.53365785,\n",
              "        0.5182374 , 0.49910933, 0.45419788, 0.4264367 , 0.42880353],\n",
              "       [0.546516  , 0.59319234, 0.6180133 , 0.6325604 , 0.62405246,\n",
              "        0.60877544, 0.6009054 , 0.59461164, 0.5907503 , 0.58109456,\n",
              "        0.54645437, 0.5375447 , 0.5069181 , 0.4853787 , 0.47436133,\n",
              "        0.46697   , 0.46735388, 0.45306087, 0.4435998 , 0.42776927]],\n",
              "      dtype=float32)"
            ]
          },
          "metadata": {},
          "output_type": "display_data"
        },
        {
          "data": {
            "application/vnd.google.colaboratory.intrinsic+json": {
              "type": "string"
            },
            "text/plain": [
              "'label'"
            ]
          },
          "metadata": {},
          "output_type": "display_data"
        },
        {
          "data": {
            "text/plain": [
              "(2430,)"
            ]
          },
          "metadata": {},
          "output_type": "display_data"
        },
        {
          "data": {
            "text/plain": [
              "array([1, 0, 0, 2, 2])"
            ]
          },
          "metadata": {},
          "output_type": "display_data"
        }
      ],
      "source": [
        "for key in audio_df['val'].keys():\n",
        "  display(key)\n",
        "  display(audio_df['val'][key].shape)\n",
        "  display(audio_df['val'][key][:5])"
      ]
    },
    {
      "cell_type": "code",
      "execution_count": null,
      "metadata": {
        "colab": {
          "base_uri": "https://localhost:8080/",
          "height": 229
        },
        "id": "7EalOUe-jPXH",
        "outputId": "b5eef16f-02db-491f-e2ed-eaae00c39d8f"
      },
      "outputs": [
        {
          "data": {
            "application/vnd.google.colaboratory.intrinsic+json": {
              "type": "string"
            },
            "text/plain": [
              "'type'"
            ]
          },
          "metadata": {},
          "output_type": "display_data"
        },
        {
          "data": {
            "text/plain": [
              "(2430,)"
            ]
          },
          "metadata": {},
          "output_type": "display_data"
        },
        {
          "data": {
            "text/plain": [
              "array(['call', 'call', 'song', 'call', 'call'], dtype='<U5')"
            ]
          },
          "metadata": {},
          "output_type": "display_data"
        },
        {
          "data": {
            "application/vnd.google.colaboratory.intrinsic+json": {
              "type": "string"
            },
            "text/plain": [
              "'continent'"
            ]
          },
          "metadata": {},
          "output_type": "display_data"
        },
        {
          "data": {
            "text/plain": [
              "(2430,)"
            ]
          },
          "metadata": {},
          "output_type": "display_data"
        },
        {
          "data": {
            "text/plain": [
              "array(['EUROPE', 'UNKNOWN', 'EUROPE', 'EUROPE', 'EUROPE'], dtype='<U8')"
            ]
          },
          "metadata": {},
          "output_type": "display_data"
        },
        {
          "data": {
            "application/vnd.google.colaboratory.intrinsic+json": {
              "type": "string"
            },
            "text/plain": [
              "'rating'"
            ]
          },
          "metadata": {},
          "output_type": "display_data"
        },
        {
          "data": {
            "text/plain": [
              "(2430,)"
            ]
          },
          "metadata": {},
          "output_type": "display_data"
        },
        {
          "data": {
            "text/plain": [
              "array([2. , 3. , 5. , 1.5, 2.5])"
            ]
          },
          "metadata": {},
          "output_type": "display_data"
        },
        {
          "data": {
            "application/vnd.google.colaboratory.intrinsic+json": {
              "type": "string"
            },
            "text/plain": [
              "'label'"
            ]
          },
          "metadata": {},
          "output_type": "display_data"
        },
        {
          "data": {
            "text/plain": [
              "(2430,)"
            ]
          },
          "metadata": {},
          "output_type": "display_data"
        },
        {
          "data": {
            "text/plain": [
              "array([1, 0, 0, 2, 2])"
            ]
          },
          "metadata": {},
          "output_type": "display_data"
        }
      ],
      "source": [
        "for key in non_audio_df['val'].keys():\n",
        "  display(key)\n",
        "  display(non_audio_df['val'][key].shape)\n",
        "  display(non_audio_df['val'][key][:5])"
      ]
    },
    {
      "cell_type": "markdown",
      "metadata": {
        "id": "x0CMc8r2TN1Q"
      },
      "source": [
        "# One Hot Encode Continents"
      ]
    },
    {
      "cell_type": "code",
      "execution_count": null,
      "metadata": {
        "id": "iiv_RDrQjVzI"
      },
      "outputs": [],
      "source": [
        "encoder = OneHotEncoder(sparse_output=False)\n",
        "\n",
        "train_continents = non_audio_df['train']['continent'].reshape(-1, 1)\n",
        "val_continents = non_audio_df['val']['continent'].reshape(-1, 1)\n",
        "\n",
        "non_audio_df['train']['continent'] = encoder.fit_transform(train_continents)\n",
        "non_audio_df['val']['continent'] = encoder.fit_transform(val_continents)"
      ]
    },
    {
      "cell_type": "code",
      "execution_count": null,
      "metadata": {
        "colab": {
          "base_uri": "https://localhost:8080/",
          "height": 225
        },
        "id": "kW1pGWpcj06W",
        "outputId": "2b5fa1b1-04e3-4fe7-fb2b-af5c1d762453"
      },
      "outputs": [
        {
          "data": {
            "text/plain": [
              "(4763, 5)"
            ]
          },
          "metadata": {},
          "output_type": "display_data"
        },
        {
          "data": {
            "text/plain": [
              "array([[0., 1., 0., 0., 0.],\n",
              "       [0., 0., 0., 1., 0.],\n",
              "       [0., 0., 0., 1., 0.],\n",
              "       [0., 0., 0., 1., 0.],\n",
              "       [0., 0., 0., 1., 0.]])"
            ]
          },
          "metadata": {},
          "output_type": "display_data"
        },
        {
          "data": {
            "text/plain": [
              "(2430, 5)"
            ]
          },
          "metadata": {},
          "output_type": "display_data"
        },
        {
          "data": {
            "text/plain": [
              "array([[0., 0., 0., 1., 0.],\n",
              "       [0., 0., 0., 0., 1.],\n",
              "       [0., 0., 0., 1., 0.],\n",
              "       [0., 0., 0., 1., 0.],\n",
              "       [0., 0., 0., 1., 0.]])"
            ]
          },
          "metadata": {},
          "output_type": "display_data"
        }
      ],
      "source": [
        "display(non_audio_df['train']['continent'].shape)\n",
        "display(non_audio_df['train']['continent'][:5])\n",
        "\n",
        "display(non_audio_df['val']['continent'].shape)\n",
        "display(non_audio_df['val']['continent'][:5])"
      ]
    },
    {
      "cell_type": "markdown",
      "metadata": {
        "id": "9D_PrIf9WDEO"
      },
      "source": [
        "# XGBoost Models"
      ]
    },
    {
      "cell_type": "code",
      "execution_count": null,
      "metadata": {
        "id": "nOI_O9WdkEtN"
      },
      "outputs": [],
      "source": [
        "train_results = {}\n",
        "val_results = {}"
      ]
    },
    {
      "cell_type": "code",
      "execution_count": null,
      "metadata": {
        "id": "U-Q1LkGNk54k"
      },
      "outputs": [],
      "source": [
        "classes = ['barswa', 'comsan', 'eaywag1']"
      ]
    },
    {
      "cell_type": "markdown",
      "metadata": {
        "id": "5QHv4DsUpuu1"
      },
      "source": [
        "## With mfcc & chroma & continents"
      ]
    },
    {
      "cell_type": "markdown",
      "metadata": {
        "id": "VXGrqohepuu2"
      },
      "source": [
        "### create features"
      ]
    },
    {
      "cell_type": "code",
      "execution_count": null,
      "metadata": {
        "colab": {
          "base_uri": "https://localhost:8080/"
        },
        "id": "Y1YiMeF7puu2",
        "outputId": "a721ed7c-106b-46f8-8889-38af9923911e"
      },
      "outputs": [
        {
          "data": {
            "text/plain": [
              "array([[0.40657163, 0.19738816, 0.53928894, ..., 0.        , 0.        ,\n",
              "        0.        ],\n",
              "       [0.53421873, 0.62946492, 0.67035997, ..., 0.        , 1.        ,\n",
              "        0.        ],\n",
              "       [0.55476481, 0.29293275, 0.6256941 , ..., 0.        , 1.        ,\n",
              "        0.        ],\n",
              "       ...,\n",
              "       [0.44922423, 0.47763178, 0.67641646, ..., 1.        , 0.        ,\n",
              "        0.        ],\n",
              "       [0.67243254, 0.47849804, 0.43072662, ..., 0.        , 1.        ,\n",
              "        0.        ],\n",
              "       [0.37146243, 0.60526347, 0.68577296, ..., 0.        , 1.        ,\n",
              "        0.        ]])"
            ]
          },
          "execution_count": 19,
          "metadata": {},
          "output_type": "execute_result"
        }
      ],
      "source": [
        "training_features = np.concatenate((audio_df['train']['mfcc'], audio_df['train']['chroma'], non_audio_df['train']['continent']), axis=1)\n",
        "\n",
        "training_features"
      ]
    },
    {
      "cell_type": "code",
      "execution_count": null,
      "metadata": {
        "colab": {
          "base_uri": "https://localhost:8080/"
        },
        "id": "SzcynldJpuu3",
        "outputId": "b8de15dc-209b-45e2-a265-2008198ac2f9"
      },
      "outputs": [
        {
          "data": {
            "text/plain": [
              "(4763, 37)"
            ]
          },
          "execution_count": 20,
          "metadata": {},
          "output_type": "execute_result"
        }
      ],
      "source": [
        "training_features.shape"
      ]
    },
    {
      "cell_type": "code",
      "execution_count": null,
      "metadata": {
        "colab": {
          "base_uri": "https://localhost:8080/"
        },
        "id": "Tf5UVhF6puu3",
        "outputId": "ea54f374-d926-489e-8d95-510c2839bcc4"
      },
      "outputs": [
        {
          "data": {
            "text/plain": [
              "array([[0.39212549, 0.49347496, 0.39383563, ..., 0.        , 1.        ,\n",
              "        0.        ],\n",
              "       [0.5363903 , 0.52735734, 0.53044659, ..., 0.        , 0.        ,\n",
              "        1.        ],\n",
              "       [0.67270958, 0.62451732, 0.62561518, ..., 0.        , 1.        ,\n",
              "        0.        ],\n",
              "       ...,\n",
              "       [0.68282598, 0.63375455, 0.49052414, ..., 0.        , 1.        ,\n",
              "        0.        ],\n",
              "       [0.70043433, 0.76111382, 0.33571669, ..., 0.        , 1.        ,\n",
              "        0.        ],\n",
              "       [0.58918488, 0.61029309, 0.52133626, ..., 0.        , 1.        ,\n",
              "        0.        ]])"
            ]
          },
          "execution_count": 21,
          "metadata": {},
          "output_type": "execute_result"
        }
      ],
      "source": [
        "validation_features = np.concatenate((audio_df['val']['mfcc'], audio_df['val']['chroma'], non_audio_df['val']['continent']), axis=1)\n",
        "\n",
        "validation_features"
      ]
    },
    {
      "cell_type": "code",
      "execution_count": null,
      "metadata": {
        "colab": {
          "base_uri": "https://localhost:8080/"
        },
        "id": "L6gD7Q8fpuu3",
        "outputId": "837b5ef8-239f-420a-a251-db1d739d595b"
      },
      "outputs": [
        {
          "data": {
            "text/plain": [
              "(2430, 37)"
            ]
          },
          "execution_count": 22,
          "metadata": {},
          "output_type": "execute_result"
        }
      ],
      "source": [
        "validation_features.shape"
      ]
    },
    {
      "cell_type": "markdown",
      "metadata": {
        "id": "b5EGyGDapuu3"
      },
      "source": [
        "### fit the model with training data"
      ]
    },
    {
      "cell_type": "code",
      "execution_count": null,
      "metadata": {
        "colab": {
          "base_uri": "https://localhost:8080/",
          "height": 300
        },
        "id": "cmxmW9rapuu3",
        "outputId": "ac067634-aca2-4f4a-d6e5-8b7fe8d2c84d"
      },
      "outputs": [
        {
          "name": "stdout",
          "output_type": "stream",
          "text": [
            "Fitting 5 folds for each of 9 candidates, totalling 45 fits\n"
          ]
        },
        {
          "data": {
            "text/plain": [
              "0.9672467308014496"
            ]
          },
          "metadata": {},
          "output_type": "display_data"
        },
        {
          "data": {
            "text/plain": [
              "{'max_depth': 6, 'n_estimators': 200}"
            ]
          },
          "metadata": {},
          "output_type": "display_data"
        },
        {
          "data": {
            "text/html": [
              "<style>#sk-container-id-1 {color: black;background-color: white;}#sk-container-id-1 pre{padding: 0;}#sk-container-id-1 div.sk-toggleable {background-color: white;}#sk-container-id-1 label.sk-toggleable__label {cursor: pointer;display: block;width: 100%;margin-bottom: 0;padding: 0.3em;box-sizing: border-box;text-align: center;}#sk-container-id-1 label.sk-toggleable__label-arrow:before {content: \"▸\";float: left;margin-right: 0.25em;color: #696969;}#sk-container-id-1 label.sk-toggleable__label-arrow:hover:before {color: black;}#sk-container-id-1 div.sk-estimator:hover label.sk-toggleable__label-arrow:before {color: black;}#sk-container-id-1 div.sk-toggleable__content {max-height: 0;max-width: 0;overflow: hidden;text-align: left;background-color: #f0f8ff;}#sk-container-id-1 div.sk-toggleable__content pre {margin: 0.2em;color: black;border-radius: 0.25em;background-color: #f0f8ff;}#sk-container-id-1 input.sk-toggleable__control:checked~div.sk-toggleable__content {max-height: 200px;max-width: 100%;overflow: auto;}#sk-container-id-1 input.sk-toggleable__control:checked~label.sk-toggleable__label-arrow:before {content: \"▾\";}#sk-container-id-1 div.sk-estimator input.sk-toggleable__control:checked~label.sk-toggleable__label {background-color: #d4ebff;}#sk-container-id-1 div.sk-label input.sk-toggleable__control:checked~label.sk-toggleable__label {background-color: #d4ebff;}#sk-container-id-1 input.sk-hidden--visually {border: 0;clip: rect(1px 1px 1px 1px);clip: rect(1px, 1px, 1px, 1px);height: 1px;margin: -1px;overflow: hidden;padding: 0;position: absolute;width: 1px;}#sk-container-id-1 div.sk-estimator {font-family: monospace;background-color: #f0f8ff;border: 1px dotted black;border-radius: 0.25em;box-sizing: border-box;margin-bottom: 0.5em;}#sk-container-id-1 div.sk-estimator:hover {background-color: #d4ebff;}#sk-container-id-1 div.sk-parallel-item::after {content: \"\";width: 100%;border-bottom: 1px solid gray;flex-grow: 1;}#sk-container-id-1 div.sk-label:hover label.sk-toggleable__label {background-color: #d4ebff;}#sk-container-id-1 div.sk-serial::before {content: \"\";position: absolute;border-left: 1px solid gray;box-sizing: border-box;top: 0;bottom: 0;left: 50%;z-index: 0;}#sk-container-id-1 div.sk-serial {display: flex;flex-direction: column;align-items: center;background-color: white;padding-right: 0.2em;padding-left: 0.2em;position: relative;}#sk-container-id-1 div.sk-item {position: relative;z-index: 1;}#sk-container-id-1 div.sk-parallel {display: flex;align-items: stretch;justify-content: center;background-color: white;position: relative;}#sk-container-id-1 div.sk-item::before, #sk-container-id-1 div.sk-parallel-item::before {content: \"\";position: absolute;border-left: 1px solid gray;box-sizing: border-box;top: 0;bottom: 0;left: 50%;z-index: -1;}#sk-container-id-1 div.sk-parallel-item {display: flex;flex-direction: column;z-index: 1;position: relative;background-color: white;}#sk-container-id-1 div.sk-parallel-item:first-child::after {align-self: flex-end;width: 50%;}#sk-container-id-1 div.sk-parallel-item:last-child::after {align-self: flex-start;width: 50%;}#sk-container-id-1 div.sk-parallel-item:only-child::after {width: 0;}#sk-container-id-1 div.sk-dashed-wrapped {border: 1px dashed gray;margin: 0 0.4em 0.5em 0.4em;box-sizing: border-box;padding-bottom: 0.4em;background-color: white;}#sk-container-id-1 div.sk-label label {font-family: monospace;font-weight: bold;display: inline-block;line-height: 1.2em;}#sk-container-id-1 div.sk-label-container {text-align: center;}#sk-container-id-1 div.sk-container {/* jupyter's `normalize.less` sets `[hidden] { display: none; }` but bootstrap.min.css set `[hidden] { display: none !important; }` so we also need the `!important` here to be able to override the default hidden behavior on the sphinx rendered scikit-learn.org. See: https://github.com/scikit-learn/scikit-learn/issues/21755 */display: inline-block !important;position: relative;}#sk-container-id-1 div.sk-text-repr-fallback {display: none;}</style><div id=\"sk-container-id-1\" class=\"sk-top-container\"><div class=\"sk-text-repr-fallback\"><pre>XGBClassifier(base_score=None, booster=&#x27;dart&#x27;, callbacks=None,\n",
              "              colsample_bylevel=None, colsample_bynode=None,\n",
              "              colsample_bytree=None, early_stopping_rounds=None,\n",
              "              enable_categorical=False, eval_metric=None, feature_types=None,\n",
              "              gamma=None, gpu_id=None, grow_policy=None, importance_type=None,\n",
              "              interaction_constraints=None, learning_rate=None, max_bin=None,\n",
              "              max_cat_threshold=None, max_cat_to_onehot=None,\n",
              "              max_delta_step=None, max_depth=6, max_leaves=None,\n",
              "              min_child_weight=None, missing=nan, monotone_constraints=None,\n",
              "              n_estimators=200, n_jobs=None, num_parallel_tree=None,\n",
              "              objective=&#x27;multi:softprob&#x27;, predictor=None, ...)</pre><b>In a Jupyter environment, please rerun this cell to show the HTML representation or trust the notebook. <br />On GitHub, the HTML representation is unable to render, please try loading this page with nbviewer.org.</b></div><div class=\"sk-container\" hidden><div class=\"sk-item\"><div class=\"sk-estimator sk-toggleable\"><input class=\"sk-toggleable__control sk-hidden--visually\" id=\"sk-estimator-id-1\" type=\"checkbox\" checked><label for=\"sk-estimator-id-1\" class=\"sk-toggleable__label sk-toggleable__label-arrow\">XGBClassifier</label><div class=\"sk-toggleable__content\"><pre>XGBClassifier(base_score=None, booster=&#x27;dart&#x27;, callbacks=None,\n",
              "              colsample_bylevel=None, colsample_bynode=None,\n",
              "              colsample_bytree=None, early_stopping_rounds=None,\n",
              "              enable_categorical=False, eval_metric=None, feature_types=None,\n",
              "              gamma=None, gpu_id=None, grow_policy=None, importance_type=None,\n",
              "              interaction_constraints=None, learning_rate=None, max_bin=None,\n",
              "              max_cat_threshold=None, max_cat_to_onehot=None,\n",
              "              max_delta_step=None, max_depth=6, max_leaves=None,\n",
              "              min_child_weight=None, missing=nan, monotone_constraints=None,\n",
              "              n_estimators=200, n_jobs=None, num_parallel_tree=None,\n",
              "              objective=&#x27;multi:softprob&#x27;, predictor=None, ...)</pre></div></div></div></div></div>"
            ],
            "text/plain": [
              "XGBClassifier(base_score=None, booster='dart', callbacks=None,\n",
              "              colsample_bylevel=None, colsample_bynode=None,\n",
              "              colsample_bytree=None, early_stopping_rounds=None,\n",
              "              enable_categorical=False, eval_metric=None, feature_types=None,\n",
              "              gamma=None, gpu_id=None, grow_policy=None, importance_type=None,\n",
              "              interaction_constraints=None, learning_rate=None, max_bin=None,\n",
              "              max_cat_threshold=None, max_cat_to_onehot=None,\n",
              "              max_delta_step=None, max_depth=6, max_leaves=None,\n",
              "              min_child_weight=None, missing=nan, monotone_constraints=None,\n",
              "              n_estimators=200, n_jobs=None, num_parallel_tree=None,\n",
              "              objective='multi:softprob', predictor=None, ...)"
            ]
          },
          "execution_count": 23,
          "metadata": {},
          "output_type": "execute_result"
        }
      ],
      "source": [
        "model = xgb.XGBClassifier(booster='dart')\n",
        "\n",
        "clf = GridSearchCV(\n",
        "        model,\n",
        "        {\"max_depth\": [2, 4, 6], \"n_estimators\": [50, 100, 200]},\n",
        "        verbose=1,\n",
        "        n_jobs=2,\n",
        "    )\n",
        "\n",
        "clf.fit(training_features, audio_df['train']['label'])\n",
        "display(clf.best_score_)\n",
        "display(clf.best_params_)\n",
        "\n",
        "model = xgb.XGBClassifier(booster='dart',\n",
        "                          max_depth=clf.best_params_['max_depth'],\n",
        "                          n_estimators=clf.best_params_['n_estimators'])\n",
        "\n",
        "model.fit(training_features, audio_df['train']['label'])"
      ]
    },
    {
      "cell_type": "code",
      "execution_count": null,
      "metadata": {
        "colab": {
          "base_uri": "https://localhost:8080/"
        },
        "id": "ZlT_s8W6puu3",
        "outputId": "9fbdbf13-2c2a-469a-f757-97deeed7bff1"
      },
      "outputs": [
        {
          "name": "stdout",
          "output_type": "stream",
          "text": [
            "Training accuracy: 1.0\n",
            "Validation accuracy: 0.7106995884773663\n"
          ]
        }
      ],
      "source": [
        "print('Training accuracy:', model.score(training_features, audio_df['train']['label']))\n",
        "train_results['mfcc_chroma_continents'] = model.score(training_features, audio_df['train']['label'])\n",
        "\n",
        "print('Validation accuracy:', model.score(validation_features, audio_df['val']['label']))\n",
        "val_results['mfcc_chroma_continents'] = model.score(validation_features, audio_df['val']['label'])"
      ]
    },
    {
      "cell_type": "markdown",
      "metadata": {
        "id": "vW-kRDeKpuu3"
      },
      "source": [
        "### evaluate the results"
      ]
    },
    {
      "cell_type": "code",
      "execution_count": null,
      "metadata": {
        "colab": {
          "base_uri": "https://localhost:8080/"
        },
        "id": "rd8PpsT4puu3",
        "outputId": "0283aed6-825a-42e4-9d04-d556567e1894"
      },
      "outputs": [
        {
          "name": "stdout",
          "output_type": "stream",
          "text": [
            "Training classification Report \n",
            "\n",
            "              precision    recall  f1-score   support\n",
            "\n",
            "      barswa       1.00      1.00      1.00      1603\n",
            "      comsan       1.00      1.00      1.00      1578\n",
            "     eaywag1       1.00      1.00      1.00      1582\n",
            "\n",
            "    accuracy                           1.00      4763\n",
            "   macro avg       1.00      1.00      1.00      4763\n",
            "weighted avg       1.00      1.00      1.00      4763\n",
            "\n"
          ]
        }
      ],
      "source": [
        "train_yhat_result = model.predict(training_features)\n",
        "\n",
        "print('Training classification Report \\n')\n",
        "print(classification_report(audio_df['train']['label'], train_yhat_result, target_names=classes))"
      ]
    },
    {
      "cell_type": "code",
      "execution_count": null,
      "metadata": {
        "colab": {
          "base_uri": "https://localhost:8080/"
        },
        "id": "mViqvoE-puu3",
        "outputId": "d2c69798-ebab-4ec8-9a82-845dda2e6952"
      },
      "outputs": [
        {
          "name": "stdout",
          "output_type": "stream",
          "text": [
            "Validation classification Report \n",
            "\n",
            "              precision    recall  f1-score   support\n",
            "\n",
            "      barswa       0.77      0.70      0.74      1032\n",
            "      comsan       0.68      0.75      0.71       618\n",
            "     eaywag1       0.67      0.69      0.68       780\n",
            "\n",
            "    accuracy                           0.71      2430\n",
            "   macro avg       0.71      0.71      0.71      2430\n",
            "weighted avg       0.71      0.71      0.71      2430\n",
            "\n"
          ]
        }
      ],
      "source": [
        "val_yhat_result = model.predict(validation_features)\n",
        "\n",
        "print('Validation classification Report \\n')\n",
        "print(classification_report(audio_df['val']['label'], val_yhat_result, target_names=classes))"
      ]
    },
    {
      "cell_type": "code",
      "execution_count": null,
      "metadata": {
        "colab": {
          "base_uri": "https://localhost:8080/",
          "height": 472
        },
        "id": "l8E8rkM6puu4",
        "outputId": "6f1e6fb5-086c-435a-d218-b6686bca82d5"
      },
      "outputs": [
        {
          "data": {
            "image/png": "[encoded data removed]",
            "text/plain": [
              "<Figure size 640x480 with 1 Axes>"
            ]
          },
          "metadata": {},
          "output_type": "display_data"
        }
      ],
      "source": [
        "train_cm = tf.math.confusion_matrix(audio_df['train']['label'], train_yhat_result)\n",
        "\n",
        "ax = sns.heatmap(train_cm,\n",
        "                 annot=True,\n",
        "                 fmt='.0f',\n",
        "                 cmap='Blues',\n",
        "                 xticklabels=classes,\n",
        "                 yticklabels=classes,\n",
        "                 cbar=False)\n",
        "\n",
        "ax.set(xlabel='Predicted Label', ylabel='True Label')\n",
        "plt.title('Train Confusion Matrix')\n",
        "plt.show()"
      ]
    },
    {
      "cell_type": "code",
      "execution_count": null,
      "metadata": {
        "colab": {
          "base_uri": "https://localhost:8080/",
          "height": 472
        },
        "id": "mfEHGrYopuu4",
        "outputId": "7f2d9c64-6d81-4a10-bf43-b2321c63827c"
      },
      "outputs": [
        {
          "data": {
            "image/png": "[encoded data removed]",
            "text/plain": [
              "<Figure size 640x480 with 1 Axes>"
            ]
          },
          "metadata": {},
          "output_type": "display_data"
        }
      ],
      "source": [
        "val_cm = tf.math.confusion_matrix(audio_df['val']['label'], val_yhat_result)\n",
        "\n",
        "ax = sns.heatmap(val_cm,\n",
        "                 annot=True,\n",
        "                 fmt='.0f',\n",
        "                 cmap='Blues',\n",
        "                 xticklabels=classes,\n",
        "                 yticklabels=classes,\n",
        "                 cbar=False)\n",
        "\n",
        "ax.set(xlabel='Predicted Label', ylabel='True Label')\n",
        "plt.title('Validation Confusion Matrix')\n",
        "plt.show()"
      ]
    },
    {
      "cell_type": "markdown",
      "metadata": {
        "id": "jZbwdUIbp_Wp"
      },
      "source": [
        "## With mfcc & rms & continents"
      ]
    },
    {
      "cell_type": "markdown",
      "metadata": {
        "id": "teX8Ie-Qp_Wq"
      },
      "source": [
        "### create features"
      ]
    },
    {
      "cell_type": "code",
      "execution_count": null,
      "metadata": {
        "colab": {
          "base_uri": "https://localhost:8080/"
        },
        "id": "0-0ckQ00p_Wq",
        "outputId": "01dfd403-e0b0-44c2-91e3-933082480ec7"
      },
      "outputs": [
        {
          "data": {
            "text/plain": [
              "array([[0.40657163, 0.19738816, 0.53928894, ..., 0.        , 0.        ,\n",
              "        0.        ],\n",
              "       [0.53421873, 0.62946492, 0.67035997, ..., 0.        , 1.        ,\n",
              "        0.        ],\n",
              "       [0.55476481, 0.29293275, 0.6256941 , ..., 0.        , 1.        ,\n",
              "        0.        ],\n",
              "       ...,\n",
              "       [0.44922423, 0.47763178, 0.67641646, ..., 1.        , 0.        ,\n",
              "        0.        ],\n",
              "       [0.67243254, 0.47849804, 0.43072662, ..., 0.        , 1.        ,\n",
              "        0.        ],\n",
              "       [0.37146243, 0.60526347, 0.68577296, ..., 0.        , 1.        ,\n",
              "        0.        ]])"
            ]
          },
          "execution_count": 29,
          "metadata": {},
          "output_type": "execute_result"
        }
      ],
      "source": [
        "training_features = np.concatenate((audio_df['train']['mfcc'], audio_df['train']['rms'], non_audio_df['train']['continent']), axis=1)\n",
        "\n",
        "training_features"
      ]
    },
    {
      "cell_type": "code",
      "execution_count": null,
      "metadata": {
        "colab": {
          "base_uri": "https://localhost:8080/"
        },
        "id": "1bY7gn56p_Wr",
        "outputId": "746521f8-2b0d-451c-fbf9-fffad73846f3"
      },
      "outputs": [
        {
          "data": {
            "text/plain": [
              "(4763, 26)"
            ]
          },
          "execution_count": 30,
          "metadata": {},
          "output_type": "execute_result"
        }
      ],
      "source": [
        "training_features.shape"
      ]
    },
    {
      "cell_type": "code",
      "execution_count": null,
      "metadata": {
        "colab": {
          "base_uri": "https://localhost:8080/"
        },
        "id": "QdGoTsmvp_Wr",
        "outputId": "c23b6842-1358-48ff-c31f-c244ce846429"
      },
      "outputs": [
        {
          "data": {
            "text/plain": [
              "array([[0.39212549, 0.49347496, 0.39383563, ..., 0.        , 1.        ,\n",
              "        0.        ],\n",
              "       [0.5363903 , 0.52735734, 0.53044659, ..., 0.        , 0.        ,\n",
              "        1.        ],\n",
              "       [0.67270958, 0.62451732, 0.62561518, ..., 0.        , 1.        ,\n",
              "        0.        ],\n",
              "       ...,\n",
              "       [0.68282598, 0.63375455, 0.49052414, ..., 0.        , 1.        ,\n",
              "        0.        ],\n",
              "       [0.70043433, 0.76111382, 0.33571669, ..., 0.        , 1.        ,\n",
              "        0.        ],\n",
              "       [0.58918488, 0.61029309, 0.52133626, ..., 0.        , 1.        ,\n",
              "        0.        ]])"
            ]
          },
          "execution_count": 31,
          "metadata": {},
          "output_type": "execute_result"
        }
      ],
      "source": [
        "validation_features = np.concatenate((audio_df['val']['mfcc'], audio_df['val']['rms'], non_audio_df['val']['continent']), axis=1)\n",
        "\n",
        "validation_features"
      ]
    },
    {
      "cell_type": "code",
      "execution_count": null,
      "metadata": {
        "colab": {
          "base_uri": "https://localhost:8080/"
        },
        "id": "p9j_5hTep_Wr",
        "outputId": "b63961f9-0640-40c9-f471-5fcac26b0244"
      },
      "outputs": [
        {
          "data": {
            "text/plain": [
              "(2430, 26)"
            ]
          },
          "execution_count": 32,
          "metadata": {},
          "output_type": "execute_result"
        }
      ],
      "source": [
        "validation_features.shape"
      ]
    },
    {
      "cell_type": "markdown",
      "metadata": {
        "id": "6S5WAcZNp_Ws"
      },
      "source": [
        "### fit the model with training data"
      ]
    },
    {
      "cell_type": "code",
      "execution_count": null,
      "metadata": {
        "colab": {
          "base_uri": "https://localhost:8080/",
          "height": 300
        },
        "id": "9q13rKvDp_Ws",
        "outputId": "2203a82c-63ab-4935-a1d2-6056ab050207"
      },
      "outputs": [
        {
          "name": "stdout",
          "output_type": "stream",
          "text": [
            "Fitting 5 folds for each of 9 candidates, totalling 45 fits\n"
          ]
        },
        {
          "data": {
            "text/plain": [
              "0.9682953874099482"
            ]
          },
          "metadata": {},
          "output_type": "display_data"
        },
        {
          "data": {
            "text/plain": [
              "{'max_depth': 6, 'n_estimators': 200}"
            ]
          },
          "metadata": {},
          "output_type": "display_data"
        },
        {
          "data": {
            "text/html": [
              "<style>#sk-container-id-2 {color: black;background-color: white;}#sk-container-id-2 pre{padding: 0;}#sk-container-id-2 div.sk-toggleable {background-color: white;}#sk-container-id-2 label.sk-toggleable__label {cursor: pointer;display: block;width: 100%;margin-bottom: 0;padding: 0.3em;box-sizing: border-box;text-align: center;}#sk-container-id-2 label.sk-toggleable__label-arrow:before {content: \"▸\";float: left;margin-right: 0.25em;color: #696969;}#sk-container-id-2 label.sk-toggleable__label-arrow:hover:before {color: black;}#sk-container-id-2 div.sk-estimator:hover label.sk-toggleable__label-arrow:before {color: black;}#sk-container-id-2 div.sk-toggleable__content {max-height: 0;max-width: 0;overflow: hidden;text-align: left;background-color: #f0f8ff;}#sk-container-id-2 div.sk-toggleable__content pre {margin: 0.2em;color: black;border-radius: 0.25em;background-color: #f0f8ff;}#sk-container-id-2 input.sk-toggleable__control:checked~div.sk-toggleable__content {max-height: 200px;max-width: 100%;overflow: auto;}#sk-container-id-2 input.sk-toggleable__control:checked~label.sk-toggleable__label-arrow:before {content: \"▾\";}#sk-container-id-2 div.sk-estimator input.sk-toggleable__control:checked~label.sk-toggleable__label {background-color: #d4ebff;}#sk-container-id-2 div.sk-label input.sk-toggleable__control:checked~label.sk-toggleable__label {background-color: #d4ebff;}#sk-container-id-2 input.sk-hidden--visually {border: 0;clip: rect(1px 1px 1px 1px);clip: rect(1px, 1px, 1px, 1px);height: 1px;margin: -1px;overflow: hidden;padding: 0;position: absolute;width: 1px;}#sk-container-id-2 div.sk-estimator {font-family: monospace;background-color: #f0f8ff;border: 1px dotted black;border-radius: 0.25em;box-sizing: border-box;margin-bottom: 0.5em;}#sk-container-id-2 div.sk-estimator:hover {background-color: #d4ebff;}#sk-container-id-2 div.sk-parallel-item::after {content: \"\";width: 100%;border-bottom: 1px solid gray;flex-grow: 1;}#sk-container-id-2 div.sk-label:hover label.sk-toggleable__label {background-color: #d4ebff;}#sk-container-id-2 div.sk-serial::before {content: \"\";position: absolute;border-left: 1px solid gray;box-sizing: border-box;top: 0;bottom: 0;left: 50%;z-index: 0;}#sk-container-id-2 div.sk-serial {display: flex;flex-direction: column;align-items: center;background-color: white;padding-right: 0.2em;padding-left: 0.2em;position: relative;}#sk-container-id-2 div.sk-item {position: relative;z-index: 1;}#sk-container-id-2 div.sk-parallel {display: flex;align-items: stretch;justify-content: center;background-color: white;position: relative;}#sk-container-id-2 div.sk-item::before, #sk-container-id-2 div.sk-parallel-item::before {content: \"\";position: absolute;border-left: 1px solid gray;box-sizing: border-box;top: 0;bottom: 0;left: 50%;z-index: -1;}#sk-container-id-2 div.sk-parallel-item {display: flex;flex-direction: column;z-index: 1;position: relative;background-color: white;}#sk-container-id-2 div.sk-parallel-item:first-child::after {align-self: flex-end;width: 50%;}#sk-container-id-2 div.sk-parallel-item:last-child::after {align-self: flex-start;width: 50%;}#sk-container-id-2 div.sk-parallel-item:only-child::after {width: 0;}#sk-container-id-2 div.sk-dashed-wrapped {border: 1px dashed gray;margin: 0 0.4em 0.5em 0.4em;box-sizing: border-box;padding-bottom: 0.4em;background-color: white;}#sk-container-id-2 div.sk-label label {font-family: monospace;font-weight: bold;display: inline-block;line-height: 1.2em;}#sk-container-id-2 div.sk-label-container {text-align: center;}#sk-container-id-2 div.sk-container {/* jupyter's `normalize.less` sets `[hidden] { display: none; }` but bootstrap.min.css set `[hidden] { display: none !important; }` so we also need the `!important` here to be able to override the default hidden behavior on the sphinx rendered scikit-learn.org. See: https://github.com/scikit-learn/scikit-learn/issues/21755 */display: inline-block !important;position: relative;}#sk-container-id-2 div.sk-text-repr-fallback {display: none;}</style><div id=\"sk-container-id-2\" class=\"sk-top-container\"><div class=\"sk-text-repr-fallback\"><pre>XGBClassifier(base_score=None, booster=&#x27;dart&#x27;, callbacks=None,\n",
              "              colsample_bylevel=None, colsample_bynode=None,\n",
              "              colsample_bytree=None, early_stopping_rounds=None,\n",
              "              enable_categorical=False, eval_metric=None, feature_types=None,\n",
              "              gamma=None, gpu_id=None, grow_policy=None, importance_type=None,\n",
              "              interaction_constraints=None, learning_rate=None, max_bin=None,\n",
              "              max_cat_threshold=None, max_cat_to_onehot=None,\n",
              "              max_delta_step=None, max_depth=6, max_leaves=None,\n",
              "              min_child_weight=None, missing=nan, monotone_constraints=None,\n",
              "              n_estimators=200, n_jobs=None, num_parallel_tree=None,\n",
              "              objective=&#x27;multi:softprob&#x27;, predictor=None, ...)</pre><b>In a Jupyter environment, please rerun this cell to show the HTML representation or trust the notebook. <br />On GitHub, the HTML representation is unable to render, please try loading this page with nbviewer.org.</b></div><div class=\"sk-container\" hidden><div class=\"sk-item\"><div class=\"sk-estimator sk-toggleable\"><input class=\"sk-toggleable__control sk-hidden--visually\" id=\"sk-estimator-id-2\" type=\"checkbox\" checked><label for=\"sk-estimator-id-2\" class=\"sk-toggleable__label sk-toggleable__label-arrow\">XGBClassifier</label><div class=\"sk-toggleable__content\"><pre>XGBClassifier(base_score=None, booster=&#x27;dart&#x27;, callbacks=None,\n",
              "              colsample_bylevel=None, colsample_bynode=None,\n",
              "              colsample_bytree=None, early_stopping_rounds=None,\n",
              "              enable_categorical=False, eval_metric=None, feature_types=None,\n",
              "              gamma=None, gpu_id=None, grow_policy=None, importance_type=None,\n",
              "              interaction_constraints=None, learning_rate=None, max_bin=None,\n",
              "              max_cat_threshold=None, max_cat_to_onehot=None,\n",
              "              max_delta_step=None, max_depth=6, max_leaves=None,\n",
              "              min_child_weight=None, missing=nan, monotone_constraints=None,\n",
              "              n_estimators=200, n_jobs=None, num_parallel_tree=None,\n",
              "              objective=&#x27;multi:softprob&#x27;, predictor=None, ...)</pre></div></div></div></div></div>"
            ],
            "text/plain": [
              "XGBClassifier(base_score=None, booster='dart', callbacks=None,\n",
              "              colsample_bylevel=None, colsample_bynode=None,\n",
              "              colsample_bytree=None, early_stopping_rounds=None,\n",
              "              enable_categorical=False, eval_metric=None, feature_types=None,\n",
              "              gamma=None, gpu_id=None, grow_policy=None, importance_type=None,\n",
              "              interaction_constraints=None, learning_rate=None, max_bin=None,\n",
              "              max_cat_threshold=None, max_cat_to_onehot=None,\n",
              "              max_delta_step=None, max_depth=6, max_leaves=None,\n",
              "              min_child_weight=None, missing=nan, monotone_constraints=None,\n",
              "              n_estimators=200, n_jobs=None, num_parallel_tree=None,\n",
              "              objective='multi:softprob', predictor=None, ...)"
            ]
          },
          "execution_count": 33,
          "metadata": {},
          "output_type": "execute_result"
        }
      ],
      "source": [
        "model = xgb.XGBClassifier(booster='dart')\n",
        "\n",
        "clf = GridSearchCV(\n",
        "        model,\n",
        "        {\"max_depth\": [2, 4, 6], \"n_estimators\": [50, 100, 200]},\n",
        "        verbose=1,\n",
        "        n_jobs=2,\n",
        "    )\n",
        "\n",
        "clf.fit(training_features, audio_df['train']['label'])\n",
        "display(clf.best_score_)\n",
        "display(clf.best_params_)\n",
        "\n",
        "model = xgb.XGBClassifier(booster='dart',\n",
        "                          max_depth=clf.best_params_['max_depth'],\n",
        "                          n_estimators=clf.best_params_['n_estimators'])\n",
        "\n",
        "model.fit(training_features, audio_df['train']['label'])"
      ]
    },
    {
      "cell_type": "code",
      "execution_count": null,
      "metadata": {
        "colab": {
          "base_uri": "https://localhost:8080/"
        },
        "id": "_PRsi30-p_Ws",
        "outputId": "0a7b3f9f-ed26-4211-8c0b-1ce08e02d42d"
      },
      "outputs": [
        {
          "name": "stdout",
          "output_type": "stream",
          "text": [
            "Training accuracy: 1.0\n",
            "Validation accuracy: 0.7242798353909465\n"
          ]
        }
      ],
      "source": [
        "print('Training accuracy:', model.score(training_features, audio_df['train']['label']))\n",
        "train_results['mfcc_rms_continents'] = model.score(training_features, audio_df['train']['label'])\n",
        "\n",
        "print('Validation accuracy:', model.score(validation_features, audio_df['val']['label']))\n",
        "val_results['mfcc_rms_continents'] = model.score(validation_features, audio_df['val']['label'])"
      ]
    },
    {
      "cell_type": "markdown",
      "metadata": {
        "id": "Uwz5Fqhwp_Ws"
      },
      "source": [
        "### evaluate the results"
      ]
    },
    {
      "cell_type": "code",
      "execution_count": null,
      "metadata": {
        "colab": {
          "base_uri": "https://localhost:8080/"
        },
        "id": "wfFDa10Gp_Wt",
        "outputId": "fc503f59-8d2e-40ee-a3af-51cf730afceb"
      },
      "outputs": [
        {
          "name": "stdout",
          "output_type": "stream",
          "text": [
            "Training classification Report \n",
            "\n",
            "              precision    recall  f1-score   support\n",
            "\n",
            "      barswa       1.00      1.00      1.00      1603\n",
            "      comsan       1.00      1.00      1.00      1578\n",
            "     eaywag1       1.00      1.00      1.00      1582\n",
            "\n",
            "    accuracy                           1.00      4763\n",
            "   macro avg       1.00      1.00      1.00      4763\n",
            "weighted avg       1.00      1.00      1.00      4763\n",
            "\n"
          ]
        }
      ],
      "source": [
        "train_yhat_result = model.predict(training_features)\n",
        "\n",
        "print('Training classification Report \\n')\n",
        "print(classification_report(audio_df['train']['label'], train_yhat_result, target_names=classes))"
      ]
    },
    {
      "cell_type": "code",
      "execution_count": null,
      "metadata": {
        "colab": {
          "base_uri": "https://localhost:8080/"
        },
        "id": "C5YPiMfwp_Wt",
        "outputId": "d723ce8e-46f5-48ad-c4e6-033332250709"
      },
      "outputs": [
        {
          "name": "stdout",
          "output_type": "stream",
          "text": [
            "Validation classification Report \n",
            "\n",
            "              precision    recall  f1-score   support\n",
            "\n",
            "      barswa       0.78      0.72      0.75      1032\n",
            "      comsan       0.68      0.73      0.70       618\n",
            "     eaywag1       0.69      0.73      0.71       780\n",
            "\n",
            "    accuracy                           0.72      2430\n",
            "   macro avg       0.72      0.73      0.72      2430\n",
            "weighted avg       0.73      0.72      0.73      2430\n",
            "\n"
          ]
        }
      ],
      "source": [
        "val_yhat_result = model.predict(validation_features)\n",
        "\n",
        "print('Validation classification Report \\n')\n",
        "print(classification_report(audio_df['val']['label'], val_yhat_result, target_names=classes))"
      ]
    },
    {
      "cell_type": "code",
      "execution_count": null,
      "metadata": {
        "colab": {
          "base_uri": "https://localhost:8080/",
          "height": 472
        },
        "id": "ITBWW2Jop_Wt",
        "outputId": "ee0fb8dc-aa21-49d4-e187-c0948ca315ff"
      },
      "outputs": [
        {
          "data": {
            "image/png": "[encoded data removed]",
            "text/plain": [
              "<Figure size 640x480 with 1 Axes>"
            ]
          },
          "metadata": {},
          "output_type": "display_data"
        }
      ],
      "source": [
        "train_cm = tf.math.confusion_matrix(audio_df['train']['label'], train_yhat_result)\n",
        "\n",
        "ax = sns.heatmap(train_cm,\n",
        "                 annot=True,\n",
        "                 fmt='.0f',\n",
        "                 cmap='Blues',\n",
        "                 xticklabels=classes,\n",
        "                 yticklabels=classes,\n",
        "                 cbar=False)\n",
        "\n",
        "ax.set(xlabel='Predicted Label', ylabel='True Label')\n",
        "plt.title('Train Confusion Matrix')\n",
        "plt.show()"
      ]
    },
    {
      "cell_type": "code",
      "execution_count": null,
      "metadata": {
        "colab": {
          "base_uri": "https://localhost:8080/",
          "height": 472
        },
        "id": "lFVYmKaxp_Wt",
        "outputId": "cf63ca61-61ef-4be0-d25b-89cad2bd471a"
      },
      "outputs": [
        {
          "data": {
            "image/png": "[encoded data removed]",
            "text/plain": [
              "<Figure size 640x480 with 1 Axes>"
            ]
          },
          "metadata": {},
          "output_type": "display_data"
        }
      ],
      "source": [
        "val_cm = tf.math.confusion_matrix(audio_df['val']['label'], val_yhat_result)\n",
        "\n",
        "ax = sns.heatmap(val_cm,\n",
        "                 annot=True,\n",
        "                 fmt='.0f',\n",
        "                 cmap='Blues',\n",
        "                 xticklabels=classes,\n",
        "                 yticklabels=classes,\n",
        "                 cbar=False)\n",
        "\n",
        "ax.set(xlabel='Predicted Label', ylabel='True Label')\n",
        "plt.title('Validation Confusion Matrix')\n",
        "plt.show()"
      ]
    },
    {
      "cell_type": "markdown",
      "metadata": {
        "id": "Cfyq2O6XrVWd"
      },
      "source": [
        "# Review results from all models"
      ]
    },
    {
      "cell_type": "code",
      "execution_count": null,
      "metadata": {
        "colab": {
          "base_uri": "https://localhost:8080/",
          "height": 112
        },
        "id": "9Qt0tqxIrX8U",
        "outputId": "181c8bae-7220-4cf3-a428-0658aa5fc25e"
      },
      "outputs": [
        {
          "data": {
            "text/html": [
              "\n",
              "  <div id=\"df-524d8e73-b66d-49b4-a9f0-7a6dd8802d32\" class=\"colab-df-container\">\n",
              "    <div>\n",
              "<style scoped>\n",
              "    .dataframe tbody tr th:only-of-type {\n",
              "        vertical-align: middle;\n",
              "    }\n",
              "\n",
              "    .dataframe tbody tr th {\n",
              "        vertical-align: top;\n",
              "    }\n",
              "\n",
              "    .dataframe thead th {\n",
              "        text-align: right;\n",
              "    }\n",
              "</style>\n",
              "<table border=\"1\" class=\"dataframe\">\n",
              "  <thead>\n",
              "    <tr style=\"text-align: right;\">\n",
              "      <th></th>\n",
              "      <th>Features</th>\n",
              "      <th>Train_Accuracy</th>\n",
              "      <th>Val_Accuracy</th>\n",
              "    </tr>\n",
              "  </thead>\n",
              "  <tbody>\n",
              "    <tr>\n",
              "      <th>0</th>\n",
              "      <td>mfcc_chroma_continents</td>\n",
              "      <td>1.0</td>\n",
              "      <td>0.71</td>\n",
              "    </tr>\n",
              "    <tr>\n",
              "      <th>1</th>\n",
              "      <td>mfcc_rms_continents</td>\n",
              "      <td>1.0</td>\n",
              "      <td>0.72</td>\n",
              "    </tr>\n",
              "  </tbody>\n",
              "</table>\n",
              "</div>\n",
              "    <div class=\"colab-df-buttons\">\n",
              "\n",
              "  <div class=\"colab-df-container\">\n",
              "    <button class=\"colab-df-convert\" onclick=\"convertToInteractive('df-524d8e73-b66d-49b4-a9f0-7a6dd8802d32')\"\n",
              "            title=\"Convert this dataframe to an interactive table.\"\n",
              "            style=\"display:none;\">\n",
              "\n",
              "  <svg xmlns=\"http://www.w3.org/2000/svg\" height=\"24px\" viewBox=\"0 -960 960 960\">\n",
              "    <path d=\"M120-120v-720h720v720H120Zm60-500h600v-160H180v160Zm220 220h160v-160H400v160Zm0 220h160v-160H400v160ZM180-400h160v-160H180v160Zm440 0h160v-160H620v160ZM180-180h160v-160H180v160Zm440 0h160v-160H620v160Z\"/>\n",
              "  </svg>\n",
              "    </button>\n",
              "\n",
              "  <style>\n",
              "    .colab-df-container {\n",
              "      display:flex;\n",
              "      gap: 12px;\n",
              "    }\n",
              "\n",
              "    .colab-df-convert {\n",
              "      background-color: #E8F0FE;\n",
              "      border: none;\n",
              "      border-radius: 50%;\n",
              "      cursor: pointer;\n",
              "      display: none;\n",
              "      fill: #1967D2;\n",
              "      height: 32px;\n",
              "      padding: 0 0 0 0;\n",
              "      width: 32px;\n",
              "    }\n",
              "\n",
              "    .colab-df-convert:hover {\n",
              "      background-color: #E2EBFA;\n",
              "      box-shadow: 0px 1px 2px rgba(60, 64, 67, 0.3), 0px 1px 3px 1px rgba(60, 64, 67, 0.15);\n",
              "      fill: #174EA6;\n",
              "    }\n",
              "\n",
              "    .colab-df-buttons div {\n",
              "      margin-bottom: 4px;\n",
              "    }\n",
              "\n",
              "    [theme=dark] .colab-df-convert {\n",
              "      background-color: #3B4455;\n",
              "      fill: #D2E3FC;\n",
              "    }\n",
              "\n",
              "    [theme=dark] .colab-df-convert:hover {\n",
              "      background-color: #434B5C;\n",
              "      box-shadow: 0px 1px 3px 1px rgba(0, 0, 0, 0.15);\n",
              "      filter: drop-shadow(0px 1px 2px rgba(0, 0, 0, 0.3));\n",
              "      fill: #FFFFFF;\n",
              "    }\n",
              "  </style>\n",
              "\n",
              "    <script>\n",
              "      const buttonEl =\n",
              "        document.querySelector('#df-524d8e73-b66d-49b4-a9f0-7a6dd8802d32 button.colab-df-convert');\n",
              "      buttonEl.style.display =\n",
              "        google.colab.kernel.accessAllowed ? 'block' : 'none';\n",
              "\n",
              "      async function convertToInteractive(key) {\n",
              "        const element = document.querySelector('#df-524d8e73-b66d-49b4-a9f0-7a6dd8802d32');\n",
              "        const dataTable =\n",
              "          await google.colab.kernel.invokeFunction('convertToInteractive',\n",
              "                                                    [key], {});\n",
              "        if (!dataTable) return;\n",
              "\n",
              "        const docLinkHtml = 'Like what you see? Visit the ' +\n",
              "          '<a target=\"_blank\" href=https://colab.research.google.com/notebooks/data_table.ipynb>data table notebook</a>'\n",
              "          + ' to learn more about interactive tables.';\n",
              "        element.innerHTML = '';\n",
              "        dataTable['output_type'] = 'display_data';\n",
              "        await google.colab.output.renderOutput(dataTable, element);\n",
              "        const docLink = document.createElement('div');\n",
              "        docLink.innerHTML = docLinkHtml;\n",
              "        element.appendChild(docLink);\n",
              "      }\n",
              "    </script>\n",
              "  </div>\n",
              "\n",
              "\n",
              "<div id=\"df-0d0d3b04-2d3b-4edb-abc5-48f77c837770\">\n",
              "  <button class=\"colab-df-quickchart\" onclick=\"quickchart('df-0d0d3b04-2d3b-4edb-abc5-48f77c837770')\"\n",
              "            title=\"Suggest charts.\"\n",
              "            style=\"display:none;\">\n",
              "\n",
              "<svg xmlns=\"http://www.w3.org/2000/svg\" height=\"24px\"viewBox=\"0 0 24 24\"\n",
              "     width=\"24px\">\n",
              "    <g>\n",
              "        <path d=\"M19 3H5c-1.1 0-2 .9-2 2v14c0 1.1.9 2 2 2h14c1.1 0 2-.9 2-2V5c0-1.1-.9-2-2-2zM9 17H7v-7h2v7zm4 0h-2V7h2v10zm4 0h-2v-4h2v4z\"/>\n",
              "    </g>\n",
              "</svg>\n",
              "  </button>\n",
              "\n",
              "<style>\n",
              "  .colab-df-quickchart {\n",
              "      --bg-color: #E8F0FE;\n",
              "      --fill-color: #1967D2;\n",
              "      --hover-bg-color: #E2EBFA;\n",
              "      --hover-fill-color: #174EA6;\n",
              "      --disabled-fill-color: #AAA;\n",
              "      --disabled-bg-color: #DDD;\n",
              "  }\n",
              "\n",
              "  [theme=dark] .colab-df-quickchart {\n",
              "      --bg-color: #3B4455;\n",
              "      --fill-color: #D2E3FC;\n",
              "      --hover-bg-color: #434B5C;\n",
              "      --hover-fill-color: #FFFFFF;\n",
              "      --disabled-bg-color: #3B4455;\n",
              "      --disabled-fill-color: #666;\n",
              "  }\n",
              "\n",
              "  .colab-df-quickchart {\n",
              "    background-color: var(--bg-color);\n",
              "    border: none;\n",
              "    border-radius: 50%;\n",
              "    cursor: pointer;\n",
              "    display: none;\n",
              "    fill: var(--fill-color);\n",
              "    height: 32px;\n",
              "    padding: 0;\n",
              "    width: 32px;\n",
              "  }\n",
              "\n",
              "  .colab-df-quickchart:hover {\n",
              "    background-color: var(--hover-bg-color);\n",
              "    box-shadow: 0 1px 2px rgba(60, 64, 67, 0.3), 0 1px 3px 1px rgba(60, 64, 67, 0.15);\n",
              "    fill: var(--button-hover-fill-color);\n",
              "  }\n",
              "\n",
              "  .colab-df-quickchart-complete:disabled,\n",
              "  .colab-df-quickchart-complete:disabled:hover {\n",
              "    background-color: var(--disabled-bg-color);\n",
              "    fill: var(--disabled-fill-color);\n",
              "    box-shadow: none;\n",
              "  }\n",
              "\n",
              "  .colab-df-spinner {\n",
              "    border: 2px solid var(--fill-color);\n",
              "    border-color: transparent;\n",
              "    border-bottom-color: var(--fill-color);\n",
              "    animation:\n",
              "      spin 1s steps(1) infinite;\n",
              "  }\n",
              "\n",
              "  @keyframes spin {\n",
              "    0% {\n",
              "      border-color: transparent;\n",
              "      border-bottom-color: var(--fill-color);\n",
              "      border-left-color: var(--fill-color);\n",
              "    }\n",
              "    20% {\n",
              "      border-color: transparent;\n",
              "      border-left-color: var(--fill-color);\n",
              "      border-top-color: var(--fill-color);\n",
              "    }\n",
              "    30% {\n",
              "      border-color: transparent;\n",
              "      border-left-color: var(--fill-color);\n",
              "      border-top-color: var(--fill-color);\n",
              "      border-right-color: var(--fill-color);\n",
              "    }\n",
              "    40% {\n",
              "      border-color: transparent;\n",
              "      border-right-color: var(--fill-color);\n",
              "      border-top-color: var(--fill-color);\n",
              "    }\n",
              "    60% {\n",
              "      border-color: transparent;\n",
              "      border-right-color: var(--fill-color);\n",
              "    }\n",
              "    80% {\n",
              "      border-color: transparent;\n",
              "      border-right-color: var(--fill-color);\n",
              "      border-bottom-color: var(--fill-color);\n",
              "    }\n",
              "    90% {\n",
              "      border-color: transparent;\n",
              "      border-bottom-color: var(--fill-color);\n",
              "    }\n",
              "  }\n",
              "</style>\n",
              "\n",
              "  <script>\n",
              "    async function quickchart(key) {\n",
              "      const quickchartButtonEl =\n",
              "        document.querySelector('#' + key + ' button');\n",
              "      quickchartButtonEl.disabled = true;  // To prevent multiple clicks.\n",
              "      quickchartButtonEl.classList.add('colab-df-spinner');\n",
              "      try {\n",
              "        const charts = await google.colab.kernel.invokeFunction(\n",
              "            'suggestCharts', [key], {});\n",
              "      } catch (error) {\n",
              "        console.error('Error during call to suggestCharts:', error);\n",
              "      }\n",
              "      quickchartButtonEl.classList.remove('colab-df-spinner');\n",
              "      quickchartButtonEl.classList.add('colab-df-quickchart-complete');\n",
              "    }\n",
              "    (() => {\n",
              "      let quickchartButtonEl =\n",
              "        document.querySelector('#df-0d0d3b04-2d3b-4edb-abc5-48f77c837770 button');\n",
              "      quickchartButtonEl.style.display =\n",
              "        google.colab.kernel.accessAllowed ? 'block' : 'none';\n",
              "    })();\n",
              "  </script>\n",
              "</div>\n",
              "    </div>\n",
              "  </div>\n"
            ],
            "text/plain": [
              "                 Features  Train_Accuracy  Val_Accuracy\n",
              "0  mfcc_chroma_continents             1.0          0.71\n",
              "1     mfcc_rms_continents             1.0          0.72"
            ]
          },
          "execution_count": 39,
          "metadata": {},
          "output_type": "execute_result"
        }
      ],
      "source": [
        "train_results_df = pd.DataFrame(list(train_results.items()), columns=['Features', 'Train_Accuracy']).round(2)\n",
        "val_results_df = pd.DataFrame(list(val_results.items()), columns=['Features', 'Val_Accuracy']).round(2)\n",
        "\n",
        "result_df = train_results_df.merge(val_results_df, on='Features')\n",
        "result_df = result_df.sort_values('Val_Accuracy')\n",
        "result_df"
      ]
    }
  ],
  "metadata": {
    "colab": {
      "include_colab_link": true,
      "provenance": []
    },
    "kernelspec": {
      "display_name": "Python 3",
      "name": "python3"
    },
    "language_info": {
      "name": "python"
    }
  },
  "nbformat": 4,
  "nbformat_minor": 0
}
