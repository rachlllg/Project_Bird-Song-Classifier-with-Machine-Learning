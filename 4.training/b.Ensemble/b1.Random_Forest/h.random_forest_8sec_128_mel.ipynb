{
  "cells": [
    {
      "cell_type": "markdown",
      "metadata": {
        "colab_type": "text",
        "id": "view-in-github"
      },
      "source": [
        "<a href=\"https://colab.research.google.com/github/rachlllg/Project_Bird-Song-Classifier-with-Machine-Learning/blob/main/4.training/b.Ensemble/b1.Random_Forest/g.random_forest_8sec_128_mel.ipynb\" target=\"_parent\"><img src=\"https://colab.research.google.com/assets/colab-badge.svg\" alt=\"Open In Colab\"/></a>"
      ]
    },
    {
      "cell_type": "markdown",
      "metadata": {
        "id": "-8AFdNoYR03Z"
      },
      "source": [
        "# Import Libraries"
      ]
    },
    {
      "cell_type": "code",
      "execution_count": 1,
      "metadata": {
        "colab": {
          "base_uri": "https://localhost:8080/"
        },
        "id": "4SQ-ig5ER3Ai",
        "outputId": "d2478805-9ce7-4f40-980b-c42a698c993b"
      },
      "outputs": [
        {
          "name": "stdout",
          "output_type": "stream",
          "text": [
            "Drive already mounted at /content/drive; to attempt to forcibly remount, call drive.mount(\"/content/drive\", force_remount=True).\n"
          ]
        }
      ],
      "source": [
        "# For drive access\n",
        "from google.colab import drive\n",
        "drive.mount('/content/drive')\n",
        "\n",
        "# Standard libraries\n",
        "import numpy as np\n",
        "import pandas as pd\n",
        "import time\n",
        "\n",
        "# For audio\n",
        "from IPython.display import Audio\n",
        "import librosa\n",
        "\n",
        "# For preprocessing\n",
        "from sklearn.preprocessing import LabelEncoder\n",
        "from sklearn.preprocessing import MinMaxScaler\n",
        "from sklearn.preprocessing import OneHotEncoder\n",
        "import tensorflow as tf\n",
        "\n",
        "# For modeling\n",
        "from sklearn.ensemble import RandomForestClassifier\n",
        "from sklearn.metrics import classification_report\n",
        "\n",
        "# For visualization\n",
        "import matplotlib.pyplot as plt\n",
        "import seaborn as sns"
      ]
    },
    {
      "cell_type": "markdown",
      "metadata": {
        "id": "90O0BIHuRxlJ"
      },
      "source": [
        "# Self Defined Class Methods For Feature Extraction"
      ]
    },
    {
      "cell_type": "code",
      "execution_count": 2,
      "metadata": {
        "id": "hrEvlXMlQUbs"
      },
      "outputs": [],
      "source": [
        "class Framed:\n",
        "\n",
        "  def __init__(self,\n",
        "               dataframe,\n",
        "               sr=16000,\n",
        "               window_size_s=5.0,\n",
        "               hop_size_s=2.5,\n",
        "               do_augment=False\n",
        "               ):\n",
        "    \"\"\"\n",
        "    Instantiate the Framed class, create train and val dfs.\n",
        "\n",
        "    The extract_framed() method is automatically called when the class is\n",
        "    instantiated to extract the framed audios and add to the train and val dfs.\n",
        "\n",
        "    Parameters:\n",
        "      dataframe (pd.DataFrame): DataFrame containing audio file information.\n",
        "      sr (int): Sample rate of the audio files.\n",
        "      window_size_s (float): Window size in seconds for framing the audio.\n",
        "      hop_size_s (float): Hop size in seconds for framing the audio.\n",
        "      augment (bool): Whether to apply augmentation to the audio.\n",
        "    \"\"\"\n",
        "    # instantiate class\n",
        "    self.sr = sr\n",
        "    self.frame_length = int(window_size_s * sr)\n",
        "    self.frame_step = int(hop_size_s * sr)\n",
        "\n",
        "    # split the dataframe to train and val by calling the _split_train_val() method\n",
        "    self.train_df, self.val_df = self._split_train_val(dataframe)\n",
        "\n",
        "    # add framed audios to train and val dfs by calling the extract_framed() method\n",
        "    # only training data could be augmented, validation is never augmented\n",
        "    self.extract_framed(self.train_df, augment=do_augment)\n",
        "    self.extract_framed(self.val_df, augment=False)\n",
        "\n",
        "\n",
        "  ########################################\n",
        "  # _split_train_val function is called when the class is instantiated\n",
        "  ########################################\n",
        "  def _split_train_val(self,\n",
        "                       dataframe):\n",
        "    \"\"\"\n",
        "    Split the dataframe to train and val based on predefined 'set' column.\n",
        "\n",
        "    Parameters:\n",
        "      dataframe (pd.DataFrame): DataFrame containing audio file information.\n",
        "\n",
        "    Returns:\n",
        "      tuple: Tuple of train and val dataframes containing audio file information.\n",
        "    \"\"\"\n",
        "    # extract the train set from dataframe & shuffle the train set\n",
        "    train_df = dataframe[dataframe['set'] == 'train']\n",
        "    train_df = train_df.sample(frac=1, random_state=1234)\n",
        "\n",
        "    # extract the val set from dataframe & shuffle the val set\n",
        "    val_df = dataframe[dataframe['set'] == 'val']\n",
        "    val_df = val_df.sample(frac=1, random_state=1234)\n",
        "\n",
        "    return train_df, val_df\n",
        "\n",
        "\n",
        "  ########################################\n",
        "  # augment function is called by extract_framed function if do_augment=True\n",
        "  ########################################\n",
        "  def augment(self, audio_array):\n",
        "    \"\"\"\n",
        "    Apply random augmentation if needed.\n",
        "\n",
        "    Parameters:\n",
        "      audio_array (npy): Training audio array.\n",
        "\n",
        "    Returns:\n",
        "      audio_array (npy): Augmented audio array.\n",
        "    \"\"\"\n",
        "    choice = np.random.choice(['original','noise','shift','pitch'])\n",
        "\n",
        "    # if the audio is short (less than 7 seconds in duration), stretch it first\n",
        "    if len(audio_array) <= 7*self.sr:\n",
        "      audio_array = librosa.effects.time_stretch(y=audio_array, rate=np.random.uniform(low=0, high=1))\n",
        "    # if the audio is not short, apply a random augmentation at random magnitude\n",
        "    elif choice == 'noise':\n",
        "      noise_amp = np.random.normal(loc=0.0, scale=0.05)*np.amax(audio_array)\n",
        "      audio_array = audio_array + noise_amp*np.random.normal(size=audio_array.shape[0])\n",
        "    elif choice == 'shift':\n",
        "      shift_range = int(np.random.uniform(low=-5, high=5)*1000)\n",
        "      audio_array = np.roll(audio_array, shift_range)\n",
        "    elif choice == 'pitch':\n",
        "      audio_array = librosa.effects.pitch_shift(y=audio_array, sr=self.sr, n_steps=np.random.uniform(low=0, high=1))\n",
        "    else:\n",
        "      audio_array = audio_array\n",
        "\n",
        "    return audio_array\n",
        "\n",
        "\n",
        "  ########################################\n",
        "  # extract_framed function is called when the class is instantiated to extract the framed audios\n",
        "  ########################################\n",
        "  def extract_framed(self, dataframe, augment):\n",
        "    \"\"\"\n",
        "    Load audio files from the given DataFrame, extract framed audios,\n",
        "    and add the framed audios to the given DataFrame\n",
        "\n",
        "    Parameters:\n",
        "      dataframe (pd.DataFrame): DataFrame containing audio file information.\n",
        "      augment (bool): Whether to apply augmentation to the audio.\n",
        "    \"\"\"\n",
        "    # load audios\n",
        "    audios = []\n",
        "    for filename in dataframe['filename_npy']:\n",
        "      audio = np.load('/content/drive/MyDrive/project/train_npy/' + filename)\n",
        "      # if augment is true, call the augment function to apply augmentation to the audio\n",
        "      if augment:\n",
        "        audio = self.augment(audio)\n",
        "      audios.append(audio)\n",
        "    assert len(audios) == len(dataframe)\n",
        "\n",
        "    # extract framed audios\n",
        "    framed = []\n",
        "    for audio in audios:\n",
        "      framed_audio = tf.signal.frame(audio, self.frame_length, self.frame_step, pad_end=False)\n",
        "      framed.append(framed_audio)\n",
        "    assert len(framed) == len(audios)\n",
        "\n",
        "    # add framed audios to df\n",
        "    dataframe['framed'] = framed"
      ]
    },
    {
      "cell_type": "code",
      "execution_count": 3,
      "metadata": {
        "id": "v67atGwPSfju"
      },
      "outputs": [],
      "source": [
        "class Extraction:\n",
        "\n",
        "  def __init__(self,\n",
        "               train_df,\n",
        "               val_df,\n",
        "               sr=16000,\n",
        "               n_mfccs=20, #20 is the default n_mfccs from librosa\n",
        "               n_mels=20, #reduced from 128 default from librosa to 20\n",
        "               n_chroma=12, #12 is the default n_chroma from librosa\n",
        "               features=['mfcc'],\n",
        "               do_normalize=True,\n",
        "               do_avgpool=True #WARNING: THE KERNEL WILL CRASH IF YOU TRY TO EXTRACT ALL FEATURES WITHOUT AVGPOOL\n",
        "               ):\n",
        "    \"\"\"\n",
        "    Instantiate the Extraction class and extract the labels and features from train and val DataFrames.\n",
        "\n",
        "    The extract_features() method is automatically called to extract the labels and features from the given DataFrame.\n",
        "\n",
        "    Parameters:\n",
        "      train_df (pd.DataFrame): DataFrame containing training data.\n",
        "      val_df (pd.DataFrame): DataFrame containing validation data.\n",
        "      sr (int): Sample rate of the audio files.\n",
        "      n_mfccs (int): Number of MFCCs to extract.\n",
        "      n_mels (int): Number of Mel bands to extract.\n",
        "      n_chroma (int): Number of chroma bins to use.\n",
        "      features (list): List of features to extract.\n",
        "        accepted features: 'mfcc', 'chroma', 'rms', 'spectral_centroid', 'melspectrogram', 'continent', 'rating', 'type'.\n",
        "      normalize (bool): Whether to normalize the features.\n",
        "      maxpool (bool): Whether to maxpool the features.\n",
        "    \"\"\"\n",
        "    # instantiate class variables\n",
        "    self.sr = sr\n",
        "    self.n_mfccs = n_mfccs\n",
        "    self.n_mels = n_mels\n",
        "    self.n_chroma = n_chroma\n",
        "    self.do_normalize = do_normalize\n",
        "    self.do_avgpool = do_avgpool\n",
        "\n",
        "    # confirm features have been specified\n",
        "    assert len(features) != 0, \"Must Specify At Least One Feature In The Form Of A List.\"\n",
        "    self.features = features\n",
        "\n",
        "    # confirm features are valid\n",
        "    self.accepted_feature = ['mfcc', 'chroma', 'rms', 'spectral_centroid', 'melspectrogram', 'continent', 'rating', 'type']\n",
        "    for each in self.features:\n",
        "      assert each in self.accepted_feature, f\"{each} is not an accepted feature, only 'mfcc', 'chroma', 'rms', 'spectral_centroid', 'melspectrogram', 'continent', 'rating', and 'type' are accpeted features.\"\n",
        "\n",
        "    # extract train and val labels and features\n",
        "    self.train_y, self.train_features = self.extract_features(train_df)\n",
        "    self.val_y, self.val_features = self.extract_features(val_df)\n",
        "\n",
        "    # process the features by applying normalization or average pooling\n",
        "    self.train_features, self.val_features = self.process_features(self.train_features, self.val_features)\n",
        "\n",
        "\n",
        "  ########################################\n",
        "  # each of the extract_x() function is callable by the extract_features() function based on the features instantiated\n",
        "  # each of the features are extracted from librosa and transposed to shape (n_time, n_features)\n",
        "  ########################################\n",
        "  def extract_mfcc(self, each):\n",
        "    return np.transpose(librosa.feature.mfcc(y=np.array(each), sr=self.sr, n_mfcc=self.n_mfccs))\n",
        "\n",
        "  def extract_chroma(self, each):\n",
        "    return np.transpose(librosa.feature.chroma_stft(y=np.array(each), sr=self.sr, n_chroma=self.n_chroma))\n",
        "\n",
        "  def extract_rms(self, each):\n",
        "    return np.transpose(librosa.feature.rms(y=np.array(each)))\n",
        "\n",
        "  def extract_spectral_centroid(self, each):\n",
        "    return np.transpose(librosa.feature.spectral_centroid(y=np.array(each), sr=self.sr))\n",
        "\n",
        "  def extract_melspectrogram(self, each):\n",
        "    mel = librosa.feature.melspectrogram(y=np.array(each), sr=self.sr, n_mels=self.n_mels)\n",
        "    return np.transpose(librosa.power_to_db(mel))\n",
        "\n",
        "\n",
        "  ########################################\n",
        "  # normalization function is called by process_features() function for the features that require normalization\n",
        "  ########################################\n",
        "  def normalization(self, train_X, val_X, n_time, n_features):\n",
        "    \"\"\"\n",
        "    Normalize the train and val features\n",
        "\n",
        "    Parameters:\n",
        "      train_X (npy): Training feature\n",
        "      val_X (npy): Validation feature\n",
        "      n_time (int): Time axis\n",
        "      n_features (int): Feature axis\n",
        "\n",
        "    Returns:\n",
        "      train_X (npy): Normalized training feature\n",
        "      val_X (npy): Normalized validation feature\n",
        "    \"\"\"\n",
        "    # flatten the np arrays to 1D\n",
        "    train_X_reshape = train_X.reshape(-1, n_time * n_features)\n",
        "    val_X_reshape = val_X.reshape(-1, n_time * n_features)\n",
        "\n",
        "    # use minmaxscaler to normalize the train and val features\n",
        "    scaler = MinMaxScaler((0,1)).fit(train_X_reshape)\n",
        "    train_X_scaled = scaler.transform(train_X_reshape)\n",
        "    val_X_scaled = scaler.transform(val_X_reshape)\n",
        "\n",
        "    # reshape the features to the original shape (n_time, n_features)\n",
        "    train_X = train_X_scaled.reshape(-1, n_time, n_features)\n",
        "    val_X = val_X_scaled.reshape(-1, n_time, n_features)\n",
        "\n",
        "    return train_X, val_X\n",
        "\n",
        "\n",
        "  ########################################\n",
        "  # avgpooling function is called by process_features() function for the features that require average pooling\n",
        "  ########################################\n",
        "  def avgpooling(self, train_X, val_X, n_time, n_features):\n",
        "    \"\"\"\n",
        "    Average pooling the train and val features\n",
        "\n",
        "    Parameters:\n",
        "      train_X (npy): Training feature\n",
        "      val_X (npy): Validation feature\n",
        "      n_time (int): Time axis\n",
        "      n_features (int): Feature axis\n",
        "\n",
        "    Returns:\n",
        "      train_X (npy): Avgpooled training feature\n",
        "      val_X (npy): Avgpooled validation feature\n",
        "    \"\"\"\n",
        "    # instantiate the keras layers and model.\n",
        "    # the model only performs average pooling of inputs\n",
        "    tf.keras.backend.clear_session()\n",
        "    input = tf.keras.layers.Input(shape=(n_time, n_features))\n",
        "    global_avg_pooling = tf.keras.layers.GlobalAveragePooling1D()\n",
        "    pooled = global_avg_pooling(input)\n",
        "    pooling_model = tf.keras.models.Model(inputs=input, outputs=pooled)\n",
        "\n",
        "    # use the instantiated model to avgpool the train and val features\n",
        "    train_X = pooling_model.predict(train_X)\n",
        "    val_X = pooling_model.predict(val_X)\n",
        "\n",
        "    return train_X, val_X\n",
        "\n",
        "\n",
        "  ########################################\n",
        "  # process_features function is called when the class is instantiated\n",
        "  ########################################\n",
        "  def process_features(self, train_features_dict, val_features_dict):\n",
        "    \"\"\"\n",
        "    Apply normalization or average pooling to train and val features\n",
        "\n",
        "    Parameters:\n",
        "      train_features_dict (dict): Dictionary containing the training features\n",
        "      val_features_dict (dict): Dictionary containing the validation features\n",
        "\n",
        "    Returns:\n",
        "      tuple: Tuple containing normalized and/or average pooled training and validation features dictionary\n",
        "    \"\"\"\n",
        "    start_time = time.time()\n",
        "    display('features processing started ---------->')\n",
        "\n",
        "    for each in train_features_dict.keys():\n",
        "      # 'continent', 'rating', and 'type' do not need to be processed\n",
        "      if each == 'continent' or each == 'rating' or each == 'type':\n",
        "        pass\n",
        "      # process numeric features\n",
        "      else:\n",
        "        if each == 'mfcc':\n",
        "          n_features=self.n_mfccs\n",
        "        elif each == 'chroma':\n",
        "          n_features=self.n_chroma\n",
        "        elif each == 'rms' or each == 'spectral_centroid':\n",
        "          n_features=1\n",
        "        elif each == 'melspectrogram':\n",
        "          n_features=self.n_mels\n",
        "\n",
        "        # index the dictionary to find the value of the feature based on the feature name (key)\n",
        "        train_feature = train_features_dict[each]\n",
        "        val_feature = val_features_dict[each]\n",
        "\n",
        "        # call normalization or avgpooling function to apply normalization or average pooling to features\n",
        "        if self.do_normalize and self.do_avgpool:\n",
        "          train_features_dict[each], val_features_dict[each] = self.normalization(train_feature, val_feature, n_time=train_feature.shape[1], n_features=n_features)\n",
        "          train_features_dict[each], val_features_dict[each] = self.avgpooling(train_features_dict[each], val_features_dict[each], n_time=train_feature.shape[1], n_features=n_features)\n",
        "        elif self.do_normalize:\n",
        "          train_features_dict[each], val_features_dict[each] = self.normalization(train_feature, val_feature, n_time=train_feature.shape[1], n_features=n_features)\n",
        "        elif self.do_avgpool:\n",
        "          train_features_dict[each], val_features_dict[each] = self.avgpooling(train_feature, val_feature, n_time=train_feature.shape[1], n_features=n_features)\n",
        "        else:\n",
        "          train_features_dict[each], val_features_dict[each] = train_features_dict[each], val_features_dict[each]\n",
        "\n",
        "        display(f'{each} processed')\n",
        "\n",
        "    end_time = time.time()\n",
        "    display(f'features processing took {(end_time - start_time)/60:.1f} mins')\n",
        "\n",
        "    return train_features_dict, val_features_dict\n",
        "\n",
        "\n",
        "  ########################################\n",
        "  # extract_features function is called when the class is instantiated\n",
        "  ########################################\n",
        "  def extract_features(self, dataframe):\n",
        "    \"\"\"\n",
        "    Extract the label & features from the dataframes\n",
        "\n",
        "    Parameters:\n",
        "      dataframe (pd.DataFrame): DataFrame containing audio file information\n",
        "\n",
        "    Returns:\n",
        "      tuple: Tuple containing labels and a dictionary of extracted features\n",
        "    \"\"\"\n",
        "    start_time = time.time()\n",
        "    display(f'feature extraction started ---------->')\n",
        "\n",
        "    # create empty list and dict to store the labels and features\n",
        "    y = []\n",
        "    features_dict = {item: [] for item in self.features}\n",
        "\n",
        "    # iterate through each row of the dataframe to extract the label and features\n",
        "    for _, row in dataframe.iterrows():\n",
        "      label = row['primary_label']\n",
        "      framed = row['framed']\n",
        "\n",
        "      for each in framed:\n",
        "        y.append(label)\n",
        "\n",
        "        if 'continent' in self.features:\n",
        "          features_dict['continent'].append(row['continent'])\n",
        "        if 'rating' in self.features:\n",
        "          features_dict['rating'].append(row['rating'])\n",
        "        if 'type' in self.features:\n",
        "          features_dict['type'].append(row['type'])\n",
        "\n",
        "        # dynatically call the extract_x function to extract the listed features\n",
        "        for feature in self.features:\n",
        "          extract = f\"extract_{feature}\"\n",
        "          if hasattr(self, extract) and callable(func := getattr(self, extract)):\n",
        "            features_dict[feature].append(func(each))\n",
        "\n",
        "    # cast lists to np arrays\n",
        "    for each in features_dict.keys():\n",
        "      features_dict[each] = np.array(features_dict[each])\n",
        "    y = np.array(y)\n",
        "\n",
        "    end_time = time.time()\n",
        "    display(f'features extraction took {(end_time - start_time)/60:.1f} mins')\n",
        "\n",
        "    return y, features_dict\n"
      ]
    },
    {
      "cell_type": "markdown",
      "metadata": {
        "id": "J62FDsE5SEiv"
      },
      "source": [
        "# Load csv data"
      ]
    },
    {
      "cell_type": "code",
      "execution_count": 4,
      "metadata": {
        "colab": {
          "base_uri": "https://localhost:8080/",
          "height": 226
        },
        "id": "q1mvl0bUSIdh",
        "outputId": "a89a553d-a520-4c26-f4da-8d4a46ecf75f"
      },
      "outputs": [
        {
          "data": {
            "text/html": [
              "\n",
              "  <div id=\"df-391a1be7-f897-4155-8042-3c9e6a73b581\" class=\"colab-df-container\">\n",
              "    <div>\n",
              "<style scoped>\n",
              "    .dataframe tbody tr th:only-of-type {\n",
              "        vertical-align: middle;\n",
              "    }\n",
              "\n",
              "    .dataframe tbody tr th {\n",
              "        vertical-align: top;\n",
              "    }\n",
              "\n",
              "    .dataframe thead th {\n",
              "        text-align: right;\n",
              "    }\n",
              "</style>\n",
              "<table border=\"1\" class=\"dataframe\">\n",
              "  <thead>\n",
              "    <tr style=\"text-align: right;\">\n",
              "      <th></th>\n",
              "      <th>primary_label</th>\n",
              "      <th>type</th>\n",
              "      <th>latitude</th>\n",
              "      <th>longitude</th>\n",
              "      <th>rating</th>\n",
              "      <th>filename</th>\n",
              "      <th>duration</th>\n",
              "      <th>country</th>\n",
              "      <th>continent</th>\n",
              "      <th>filename_npy</th>\n",
              "      <th>set</th>\n",
              "    </tr>\n",
              "  </thead>\n",
              "  <tbody>\n",
              "    <tr>\n",
              "      <th>0</th>\n",
              "      <td>comsan</td>\n",
              "      <td>call</td>\n",
              "      <td>51.9612</td>\n",
              "      <td>5.8104</td>\n",
              "      <td>2.0</td>\n",
              "      <td>comsan/XC528482.ogg</td>\n",
              "      <td>18.233500</td>\n",
              "      <td>NL</td>\n",
              "      <td>EUROPE</td>\n",
              "      <td>comsan/XC528482.npy</td>\n",
              "      <td>train</td>\n",
              "    </tr>\n",
              "    <tr>\n",
              "      <th>1</th>\n",
              "      <td>comsan</td>\n",
              "      <td>call</td>\n",
              "      <td>51.4522</td>\n",
              "      <td>-9.8189</td>\n",
              "      <td>4.0</td>\n",
              "      <td>comsan/XC667665.ogg</td>\n",
              "      <td>6.556000</td>\n",
              "      <td>IE</td>\n",
              "      <td>EUROPE</td>\n",
              "      <td>comsan/XC667665.npy</td>\n",
              "      <td>train</td>\n",
              "    </tr>\n",
              "    <tr>\n",
              "      <th>2</th>\n",
              "      <td>comsan</td>\n",
              "      <td>call</td>\n",
              "      <td>49.4452</td>\n",
              "      <td>22.6154</td>\n",
              "      <td>4.0</td>\n",
              "      <td>comsan/XC578772.ogg</td>\n",
              "      <td>31.268563</td>\n",
              "      <td>PL</td>\n",
              "      <td>EUROPE</td>\n",
              "      <td>comsan/XC578772.npy</td>\n",
              "      <td>train</td>\n",
              "    </tr>\n",
              "    <tr>\n",
              "      <th>3</th>\n",
              "      <td>comsan</td>\n",
              "      <td>blank</td>\n",
              "      <td>53.9299</td>\n",
              "      <td>-2.9833</td>\n",
              "      <td>2.5</td>\n",
              "      <td>comsan/XC702785.ogg</td>\n",
              "      <td>55.431875</td>\n",
              "      <td>GB</td>\n",
              "      <td>EUROPE</td>\n",
              "      <td>comsan/XC702785.npy</td>\n",
              "      <td>train</td>\n",
              "    </tr>\n",
              "    <tr>\n",
              "      <th>4</th>\n",
              "      <td>comsan</td>\n",
              "      <td>call</td>\n",
              "      <td>37.1379</td>\n",
              "      <td>-7.6303</td>\n",
              "      <td>3.0</td>\n",
              "      <td>comsan/XC494789.ogg</td>\n",
              "      <td>5.760000</td>\n",
              "      <td>PT</td>\n",
              "      <td>EUROPE</td>\n",
              "      <td>comsan/XC494789.npy</td>\n",
              "      <td>train</td>\n",
              "    </tr>\n",
              "  </tbody>\n",
              "</table>\n",
              "</div>\n",
              "    <div class=\"colab-df-buttons\">\n",
              "\n",
              "  <div class=\"colab-df-container\">\n",
              "    <button class=\"colab-df-convert\" onclick=\"convertToInteractive('df-391a1be7-f897-4155-8042-3c9e6a73b581')\"\n",
              "            title=\"Convert this dataframe to an interactive table.\"\n",
              "            style=\"display:none;\">\n",
              "\n",
              "  <svg xmlns=\"http://www.w3.org/2000/svg\" height=\"24px\" viewBox=\"0 -960 960 960\">\n",
              "    <path d=\"M120-120v-720h720v720H120Zm60-500h600v-160H180v160Zm220 220h160v-160H400v160Zm0 220h160v-160H400v160ZM180-400h160v-160H180v160Zm440 0h160v-160H620v160ZM180-180h160v-160H180v160Zm440 0h160v-160H620v160Z\"/>\n",
              "  </svg>\n",
              "    </button>\n",
              "\n",
              "  <style>\n",
              "    .colab-df-container {\n",
              "      display:flex;\n",
              "      gap: 12px;\n",
              "    }\n",
              "\n",
              "    .colab-df-convert {\n",
              "      background-color: #E8F0FE;\n",
              "      border: none;\n",
              "      border-radius: 50%;\n",
              "      cursor: pointer;\n",
              "      display: none;\n",
              "      fill: #1967D2;\n",
              "      height: 32px;\n",
              "      padding: 0 0 0 0;\n",
              "      width: 32px;\n",
              "    }\n",
              "\n",
              "    .colab-df-convert:hover {\n",
              "      background-color: #E2EBFA;\n",
              "      box-shadow: 0px 1px 2px rgba(60, 64, 67, 0.3), 0px 1px 3px 1px rgba(60, 64, 67, 0.15);\n",
              "      fill: #174EA6;\n",
              "    }\n",
              "\n",
              "    .colab-df-buttons div {\n",
              "      margin-bottom: 4px;\n",
              "    }\n",
              "\n",
              "    [theme=dark] .colab-df-convert {\n",
              "      background-color: #3B4455;\n",
              "      fill: #D2E3FC;\n",
              "    }\n",
              "\n",
              "    [theme=dark] .colab-df-convert:hover {\n",
              "      background-color: #434B5C;\n",
              "      box-shadow: 0px 1px 3px 1px rgba(0, 0, 0, 0.15);\n",
              "      filter: drop-shadow(0px 1px 2px rgba(0, 0, 0, 0.3));\n",
              "      fill: #FFFFFF;\n",
              "    }\n",
              "  </style>\n",
              "\n",
              "    <script>\n",
              "      const buttonEl =\n",
              "        document.querySelector('#df-391a1be7-f897-4155-8042-3c9e6a73b581 button.colab-df-convert');\n",
              "      buttonEl.style.display =\n",
              "        google.colab.kernel.accessAllowed ? 'block' : 'none';\n",
              "\n",
              "      async function convertToInteractive(key) {\n",
              "        const element = document.querySelector('#df-391a1be7-f897-4155-8042-3c9e6a73b581');\n",
              "        const dataTable =\n",
              "          await google.colab.kernel.invokeFunction('convertToInteractive',\n",
              "                                                    [key], {});\n",
              "        if (!dataTable) return;\n",
              "\n",
              "        const docLinkHtml = 'Like what you see? Visit the ' +\n",
              "          '<a target=\"_blank\" href=https://colab.research.google.com/notebooks/data_table.ipynb>data table notebook</a>'\n",
              "          + ' to learn more about interactive tables.';\n",
              "        element.innerHTML = '';\n",
              "        dataTable['output_type'] = 'display_data';\n",
              "        await google.colab.output.renderOutput(dataTable, element);\n",
              "        const docLink = document.createElement('div');\n",
              "        docLink.innerHTML = docLinkHtml;\n",
              "        element.appendChild(docLink);\n",
              "      }\n",
              "    </script>\n",
              "  </div>\n",
              "\n",
              "\n",
              "<div id=\"df-d2964c6e-6ae9-4d4f-8a2f-4c357b26bee8\">\n",
              "  <button class=\"colab-df-quickchart\" onclick=\"quickchart('df-d2964c6e-6ae9-4d4f-8a2f-4c357b26bee8')\"\n",
              "            title=\"Suggest charts.\"\n",
              "            style=\"display:none;\">\n",
              "\n",
              "<svg xmlns=\"http://www.w3.org/2000/svg\" height=\"24px\"viewBox=\"0 0 24 24\"\n",
              "     width=\"24px\">\n",
              "    <g>\n",
              "        <path d=\"M19 3H5c-1.1 0-2 .9-2 2v14c0 1.1.9 2 2 2h14c1.1 0 2-.9 2-2V5c0-1.1-.9-2-2-2zM9 17H7v-7h2v7zm4 0h-2V7h2v10zm4 0h-2v-4h2v4z\"/>\n",
              "    </g>\n",
              "</svg>\n",
              "  </button>\n",
              "\n",
              "<style>\n",
              "  .colab-df-quickchart {\n",
              "      --bg-color: #E8F0FE;\n",
              "      --fill-color: #1967D2;\n",
              "      --hover-bg-color: #E2EBFA;\n",
              "      --hover-fill-color: #174EA6;\n",
              "      --disabled-fill-color: #AAA;\n",
              "      --disabled-bg-color: #DDD;\n",
              "  }\n",
              "\n",
              "  [theme=dark] .colab-df-quickchart {\n",
              "      --bg-color: #3B4455;\n",
              "      --fill-color: #D2E3FC;\n",
              "      --hover-bg-color: #434B5C;\n",
              "      --hover-fill-color: #FFFFFF;\n",
              "      --disabled-bg-color: #3B4455;\n",
              "      --disabled-fill-color: #666;\n",
              "  }\n",
              "\n",
              "  .colab-df-quickchart {\n",
              "    background-color: var(--bg-color);\n",
              "    border: none;\n",
              "    border-radius: 50%;\n",
              "    cursor: pointer;\n",
              "    display: none;\n",
              "    fill: var(--fill-color);\n",
              "    height: 32px;\n",
              "    padding: 0;\n",
              "    width: 32px;\n",
              "  }\n",
              "\n",
              "  .colab-df-quickchart:hover {\n",
              "    background-color: var(--hover-bg-color);\n",
              "    box-shadow: 0 1px 2px rgba(60, 64, 67, 0.3), 0 1px 3px 1px rgba(60, 64, 67, 0.15);\n",
              "    fill: var(--button-hover-fill-color);\n",
              "  }\n",
              "\n",
              "  .colab-df-quickchart-complete:disabled,\n",
              "  .colab-df-quickchart-complete:disabled:hover {\n",
              "    background-color: var(--disabled-bg-color);\n",
              "    fill: var(--disabled-fill-color);\n",
              "    box-shadow: none;\n",
              "  }\n",
              "\n",
              "  .colab-df-spinner {\n",
              "    border: 2px solid var(--fill-color);\n",
              "    border-color: transparent;\n",
              "    border-bottom-color: var(--fill-color);\n",
              "    animation:\n",
              "      spin 1s steps(1) infinite;\n",
              "  }\n",
              "\n",
              "  @keyframes spin {\n",
              "    0% {\n",
              "      border-color: transparent;\n",
              "      border-bottom-color: var(--fill-color);\n",
              "      border-left-color: var(--fill-color);\n",
              "    }\n",
              "    20% {\n",
              "      border-color: transparent;\n",
              "      border-left-color: var(--fill-color);\n",
              "      border-top-color: var(--fill-color);\n",
              "    }\n",
              "    30% {\n",
              "      border-color: transparent;\n",
              "      border-left-color: var(--fill-color);\n",
              "      border-top-color: var(--fill-color);\n",
              "      border-right-color: var(--fill-color);\n",
              "    }\n",
              "    40% {\n",
              "      border-color: transparent;\n",
              "      border-right-color: var(--fill-color);\n",
              "      border-top-color: var(--fill-color);\n",
              "    }\n",
              "    60% {\n",
              "      border-color: transparent;\n",
              "      border-right-color: var(--fill-color);\n",
              "    }\n",
              "    80% {\n",
              "      border-color: transparent;\n",
              "      border-right-color: var(--fill-color);\n",
              "      border-bottom-color: var(--fill-color);\n",
              "    }\n",
              "    90% {\n",
              "      border-color: transparent;\n",
              "      border-bottom-color: var(--fill-color);\n",
              "    }\n",
              "  }\n",
              "</style>\n",
              "\n",
              "  <script>\n",
              "    async function quickchart(key) {\n",
              "      const quickchartButtonEl =\n",
              "        document.querySelector('#' + key + ' button');\n",
              "      quickchartButtonEl.disabled = true;  // To prevent multiple clicks.\n",
              "      quickchartButtonEl.classList.add('colab-df-spinner');\n",
              "      try {\n",
              "        const charts = await google.colab.kernel.invokeFunction(\n",
              "            'suggestCharts', [key], {});\n",
              "      } catch (error) {\n",
              "        console.error('Error during call to suggestCharts:', error);\n",
              "      }\n",
              "      quickchartButtonEl.classList.remove('colab-df-spinner');\n",
              "      quickchartButtonEl.classList.add('colab-df-quickchart-complete');\n",
              "    }\n",
              "    (() => {\n",
              "      let quickchartButtonEl =\n",
              "        document.querySelector('#df-d2964c6e-6ae9-4d4f-8a2f-4c357b26bee8 button');\n",
              "      quickchartButtonEl.style.display =\n",
              "        google.colab.kernel.accessAllowed ? 'block' : 'none';\n",
              "    })();\n",
              "  </script>\n",
              "</div>\n",
              "    </div>\n",
              "  </div>\n"
            ],
            "text/plain": [
              "  primary_label   type  latitude  longitude  rating             filename  \\\n",
              "0        comsan   call   51.9612     5.8104     2.0  comsan/XC528482.ogg   \n",
              "1        comsan   call   51.4522    -9.8189     4.0  comsan/XC667665.ogg   \n",
              "2        comsan   call   49.4452    22.6154     4.0  comsan/XC578772.ogg   \n",
              "3        comsan  blank   53.9299    -2.9833     2.5  comsan/XC702785.ogg   \n",
              "4        comsan   call   37.1379    -7.6303     3.0  comsan/XC494789.ogg   \n",
              "\n",
              "    duration country continent         filename_npy    set  \n",
              "0  18.233500      NL    EUROPE  comsan/XC528482.npy  train  \n",
              "1   6.556000      IE    EUROPE  comsan/XC667665.npy  train  \n",
              "2  31.268563      PL    EUROPE  comsan/XC578772.npy  train  \n",
              "3  55.431875      GB    EUROPE  comsan/XC702785.npy  train  \n",
              "4   5.760000      PT    EUROPE  comsan/XC494789.npy  train  "
            ]
          },
          "execution_count": 4,
          "metadata": {},
          "output_type": "execute_result"
        }
      ],
      "source": [
        "df = pd.read_csv('/content/drive/MyDrive/project/train_val.csv')\n",
        "\n",
        "df.head()"
      ]
    },
    {
      "cell_type": "code",
      "execution_count": 5,
      "metadata": {
        "colab": {
          "base_uri": "https://localhost:8080/"
        },
        "id": "YvRBnEIbSmg_",
        "outputId": "f53c0fa6-8c64-4ecb-9b0e-91e6feeac767"
      },
      "outputs": [
        {
          "data": {
            "text/plain": [
              "1044"
            ]
          },
          "execution_count": 5,
          "metadata": {},
          "output_type": "execute_result"
        }
      ],
      "source": [
        "len(df)"
      ]
    },
    {
      "cell_type": "markdown",
      "metadata": {
        "id": "6jII4dkNSn1J"
      },
      "source": [
        "# Extract train and val dfs with framed audios"
      ]
    },
    {
      "cell_type": "code",
      "execution_count": 6,
      "metadata": {
        "colab": {
          "base_uri": "https://localhost:8080/"
        },
        "id": "OhNazZAiSncv",
        "outputId": "c2316d3c-f8a4-4f61-eba6-aae82016794e"
      },
      "outputs": [
        {
          "name": "stdout",
          "output_type": "stream",
          "text": [
            "CPU times: user 1min 33s, sys: 11 s, total: 1min 44s\n",
            "Wall time: 2min 15s\n"
          ]
        }
      ],
      "source": [
        "%%time\n",
        "\n",
        "framed = Framed(df,\n",
        "               window_size_s=8.0,\n",
        "               hop_size_s=4.0,\n",
        "               do_augment=True)"
      ]
    },
    {
      "cell_type": "code",
      "execution_count": 7,
      "metadata": {
        "colab": {
          "base_uri": "https://localhost:8080/",
          "height": 313
        },
        "id": "f8v6BawASthG",
        "outputId": "c5d6a77f-b49e-442c-e677-2ce1a5ff5dc9"
      },
      "outputs": [
        {
          "data": {
            "text/html": [
              "\n",
              "  <div id=\"df-b8f62233-020b-4e22-8d3b-e1a214d8a222\" class=\"colab-df-container\">\n",
              "    <div>\n",
              "<style scoped>\n",
              "    .dataframe tbody tr th:only-of-type {\n",
              "        vertical-align: middle;\n",
              "    }\n",
              "\n",
              "    .dataframe tbody tr th {\n",
              "        vertical-align: top;\n",
              "    }\n",
              "\n",
              "    .dataframe thead th {\n",
              "        text-align: right;\n",
              "    }\n",
              "</style>\n",
              "<table border=\"1\" class=\"dataframe\">\n",
              "  <thead>\n",
              "    <tr style=\"text-align: right;\">\n",
              "      <th></th>\n",
              "      <th>primary_label</th>\n",
              "      <th>type</th>\n",
              "      <th>latitude</th>\n",
              "      <th>longitude</th>\n",
              "      <th>rating</th>\n",
              "      <th>filename</th>\n",
              "      <th>duration</th>\n",
              "      <th>country</th>\n",
              "      <th>continent</th>\n",
              "      <th>filename_npy</th>\n",
              "      <th>set</th>\n",
              "      <th>framed</th>\n",
              "    </tr>\n",
              "  </thead>\n",
              "  <tbody>\n",
              "    <tr>\n",
              "      <th>240</th>\n",
              "      <td>eaywag1</td>\n",
              "      <td>call</td>\n",
              "      <td>42.9650</td>\n",
              "      <td>9.4512</td>\n",
              "      <td>5.0</td>\n",
              "      <td>eaywag1/XC471811.ogg</td>\n",
              "      <td>17.815500</td>\n",
              "      <td>FR</td>\n",
              "      <td>EUROPE</td>\n",
              "      <td>eaywag1/XC471811.npy</td>\n",
              "      <td>train</td>\n",
              "      <td>((tf.Tensor(9.259782e-06, shape=(), dtype=floa...</td>\n",
              "    </tr>\n",
              "    <tr>\n",
              "      <th>542</th>\n",
              "      <td>barswa</td>\n",
              "      <td>song</td>\n",
              "      <td>42.8060</td>\n",
              "      <td>13.8335</td>\n",
              "      <td>4.0</td>\n",
              "      <td>barswa/XC371853.ogg</td>\n",
              "      <td>50.834313</td>\n",
              "      <td>IT</td>\n",
              "      <td>EUROPE</td>\n",
              "      <td>barswa/XC371853.npy</td>\n",
              "      <td>train</td>\n",
              "      <td>((tf.Tensor(2.6134796e-07, shape=(), dtype=flo...</td>\n",
              "    </tr>\n",
              "    <tr>\n",
              "      <th>214</th>\n",
              "      <td>comsan</td>\n",
              "      <td>call</td>\n",
              "      <td>60.2357</td>\n",
              "      <td>25.0058</td>\n",
              "      <td>1.0</td>\n",
              "      <td>comsan/XC554068.ogg</td>\n",
              "      <td>25.600000</td>\n",
              "      <td>FI</td>\n",
              "      <td>EUROPE</td>\n",
              "      <td>comsan/XC554068.npy</td>\n",
              "      <td>train</td>\n",
              "      <td>((tf.Tensor(8.780201e-06, shape=(), dtype=floa...</td>\n",
              "    </tr>\n",
              "    <tr>\n",
              "      <th>492</th>\n",
              "      <td>barswa</td>\n",
              "      <td>song</td>\n",
              "      <td>53.9299</td>\n",
              "      <td>-2.9833</td>\n",
              "      <td>2.5</td>\n",
              "      <td>barswa/XC690496.ogg</td>\n",
              "      <td>15.098812</td>\n",
              "      <td>GB</td>\n",
              "      <td>EUROPE</td>\n",
              "      <td>barswa/XC690496.npy</td>\n",
              "      <td>train</td>\n",
              "      <td>((tf.Tensor(-0.028311907936271887, shape=(), d...</td>\n",
              "    </tr>\n",
              "    <tr>\n",
              "      <th>190</th>\n",
              "      <td>comsan</td>\n",
              "      <td>call</td>\n",
              "      <td>51.5579</td>\n",
              "      <td>17.5090</td>\n",
              "      <td>4.0</td>\n",
              "      <td>comsan/XC492893.ogg</td>\n",
              "      <td>11.755000</td>\n",
              "      <td>PL</td>\n",
              "      <td>EUROPE</td>\n",
              "      <td>comsan/XC492893.npy</td>\n",
              "      <td>train</td>\n",
              "      <td>((tf.Tensor(-3.6929268e-06, shape=(), dtype=fl...</td>\n",
              "    </tr>\n",
              "  </tbody>\n",
              "</table>\n",
              "</div>\n",
              "    <div class=\"colab-df-buttons\">\n",
              "\n",
              "  <div class=\"colab-df-container\">\n",
              "    <button class=\"colab-df-convert\" onclick=\"convertToInteractive('df-b8f62233-020b-4e22-8d3b-e1a214d8a222')\"\n",
              "            title=\"Convert this dataframe to an interactive table.\"\n",
              "            style=\"display:none;\">\n",
              "\n",
              "  <svg xmlns=\"http://www.w3.org/2000/svg\" height=\"24px\" viewBox=\"0 -960 960 960\">\n",
              "    <path d=\"M120-120v-720h720v720H120Zm60-500h600v-160H180v160Zm220 220h160v-160H400v160Zm0 220h160v-160H400v160ZM180-400h160v-160H180v160Zm440 0h160v-160H620v160ZM180-180h160v-160H180v160Zm440 0h160v-160H620v160Z\"/>\n",
              "  </svg>\n",
              "    </button>\n",
              "\n",
              "  <style>\n",
              "    .colab-df-container {\n",
              "      display:flex;\n",
              "      gap: 12px;\n",
              "    }\n",
              "\n",
              "    .colab-df-convert {\n",
              "      background-color: #E8F0FE;\n",
              "      border: none;\n",
              "      border-radius: 50%;\n",
              "      cursor: pointer;\n",
              "      display: none;\n",
              "      fill: #1967D2;\n",
              "      height: 32px;\n",
              "      padding: 0 0 0 0;\n",
              "      width: 32px;\n",
              "    }\n",
              "\n",
              "    .colab-df-convert:hover {\n",
              "      background-color: #E2EBFA;\n",
              "      box-shadow: 0px 1px 2px rgba(60, 64, 67, 0.3), 0px 1px 3px 1px rgba(60, 64, 67, 0.15);\n",
              "      fill: #174EA6;\n",
              "    }\n",
              "\n",
              "    .colab-df-buttons div {\n",
              "      margin-bottom: 4px;\n",
              "    }\n",
              "\n",
              "    [theme=dark] .colab-df-convert {\n",
              "      background-color: #3B4455;\n",
              "      fill: #D2E3FC;\n",
              "    }\n",
              "\n",
              "    [theme=dark] .colab-df-convert:hover {\n",
              "      background-color: #434B5C;\n",
              "      box-shadow: 0px 1px 3px 1px rgba(0, 0, 0, 0.15);\n",
              "      filter: drop-shadow(0px 1px 2px rgba(0, 0, 0, 0.3));\n",
              "      fill: #FFFFFF;\n",
              "    }\n",
              "  </style>\n",
              "\n",
              "    <script>\n",
              "      const buttonEl =\n",
              "        document.querySelector('#df-b8f62233-020b-4e22-8d3b-e1a214d8a222 button.colab-df-convert');\n",
              "      buttonEl.style.display =\n",
              "        google.colab.kernel.accessAllowed ? 'block' : 'none';\n",
              "\n",
              "      async function convertToInteractive(key) {\n",
              "        const element = document.querySelector('#df-b8f62233-020b-4e22-8d3b-e1a214d8a222');\n",
              "        const dataTable =\n",
              "          await google.colab.kernel.invokeFunction('convertToInteractive',\n",
              "                                                    [key], {});\n",
              "        if (!dataTable) return;\n",
              "\n",
              "        const docLinkHtml = 'Like what you see? Visit the ' +\n",
              "          '<a target=\"_blank\" href=https://colab.research.google.com/notebooks/data_table.ipynb>data table notebook</a>'\n",
              "          + ' to learn more about interactive tables.';\n",
              "        element.innerHTML = '';\n",
              "        dataTable['output_type'] = 'display_data';\n",
              "        await google.colab.output.renderOutput(dataTable, element);\n",
              "        const docLink = document.createElement('div');\n",
              "        docLink.innerHTML = docLinkHtml;\n",
              "        element.appendChild(docLink);\n",
              "      }\n",
              "    </script>\n",
              "  </div>\n",
              "\n",
              "\n",
              "<div id=\"df-4968e7f0-f494-435d-be12-1a0132ec2836\">\n",
              "  <button class=\"colab-df-quickchart\" onclick=\"quickchart('df-4968e7f0-f494-435d-be12-1a0132ec2836')\"\n",
              "            title=\"Suggest charts.\"\n",
              "            style=\"display:none;\">\n",
              "\n",
              "<svg xmlns=\"http://www.w3.org/2000/svg\" height=\"24px\"viewBox=\"0 0 24 24\"\n",
              "     width=\"24px\">\n",
              "    <g>\n",
              "        <path d=\"M19 3H5c-1.1 0-2 .9-2 2v14c0 1.1.9 2 2 2h14c1.1 0 2-.9 2-2V5c0-1.1-.9-2-2-2zM9 17H7v-7h2v7zm4 0h-2V7h2v10zm4 0h-2v-4h2v4z\"/>\n",
              "    </g>\n",
              "</svg>\n",
              "  </button>\n",
              "\n",
              "<style>\n",
              "  .colab-df-quickchart {\n",
              "      --bg-color: #E8F0FE;\n",
              "      --fill-color: #1967D2;\n",
              "      --hover-bg-color: #E2EBFA;\n",
              "      --hover-fill-color: #174EA6;\n",
              "      --disabled-fill-color: #AAA;\n",
              "      --disabled-bg-color: #DDD;\n",
              "  }\n",
              "\n",
              "  [theme=dark] .colab-df-quickchart {\n",
              "      --bg-color: #3B4455;\n",
              "      --fill-color: #D2E3FC;\n",
              "      --hover-bg-color: #434B5C;\n",
              "      --hover-fill-color: #FFFFFF;\n",
              "      --disabled-bg-color: #3B4455;\n",
              "      --disabled-fill-color: #666;\n",
              "  }\n",
              "\n",
              "  .colab-df-quickchart {\n",
              "    background-color: var(--bg-color);\n",
              "    border: none;\n",
              "    border-radius: 50%;\n",
              "    cursor: pointer;\n",
              "    display: none;\n",
              "    fill: var(--fill-color);\n",
              "    height: 32px;\n",
              "    padding: 0;\n",
              "    width: 32px;\n",
              "  }\n",
              "\n",
              "  .colab-df-quickchart:hover {\n",
              "    background-color: var(--hover-bg-color);\n",
              "    box-shadow: 0 1px 2px rgba(60, 64, 67, 0.3), 0 1px 3px 1px rgba(60, 64, 67, 0.15);\n",
              "    fill: var(--button-hover-fill-color);\n",
              "  }\n",
              "\n",
              "  .colab-df-quickchart-complete:disabled,\n",
              "  .colab-df-quickchart-complete:disabled:hover {\n",
              "    background-color: var(--disabled-bg-color);\n",
              "    fill: var(--disabled-fill-color);\n",
              "    box-shadow: none;\n",
              "  }\n",
              "\n",
              "  .colab-df-spinner {\n",
              "    border: 2px solid var(--fill-color);\n",
              "    border-color: transparent;\n",
              "    border-bottom-color: var(--fill-color);\n",
              "    animation:\n",
              "      spin 1s steps(1) infinite;\n",
              "  }\n",
              "\n",
              "  @keyframes spin {\n",
              "    0% {\n",
              "      border-color: transparent;\n",
              "      border-bottom-color: var(--fill-color);\n",
              "      border-left-color: var(--fill-color);\n",
              "    }\n",
              "    20% {\n",
              "      border-color: transparent;\n",
              "      border-left-color: var(--fill-color);\n",
              "      border-top-color: var(--fill-color);\n",
              "    }\n",
              "    30% {\n",
              "      border-color: transparent;\n",
              "      border-left-color: var(--fill-color);\n",
              "      border-top-color: var(--fill-color);\n",
              "      border-right-color: var(--fill-color);\n",
              "    }\n",
              "    40% {\n",
              "      border-color: transparent;\n",
              "      border-right-color: var(--fill-color);\n",
              "      border-top-color: var(--fill-color);\n",
              "    }\n",
              "    60% {\n",
              "      border-color: transparent;\n",
              "      border-right-color: var(--fill-color);\n",
              "    }\n",
              "    80% {\n",
              "      border-color: transparent;\n",
              "      border-right-color: var(--fill-color);\n",
              "      border-bottom-color: var(--fill-color);\n",
              "    }\n",
              "    90% {\n",
              "      border-color: transparent;\n",
              "      border-bottom-color: var(--fill-color);\n",
              "    }\n",
              "  }\n",
              "</style>\n",
              "\n",
              "  <script>\n",
              "    async function quickchart(key) {\n",
              "      const quickchartButtonEl =\n",
              "        document.querySelector('#' + key + ' button');\n",
              "      quickchartButtonEl.disabled = true;  // To prevent multiple clicks.\n",
              "      quickchartButtonEl.classList.add('colab-df-spinner');\n",
              "      try {\n",
              "        const charts = await google.colab.kernel.invokeFunction(\n",
              "            'suggestCharts', [key], {});\n",
              "      } catch (error) {\n",
              "        console.error('Error during call to suggestCharts:', error);\n",
              "      }\n",
              "      quickchartButtonEl.classList.remove('colab-df-spinner');\n",
              "      quickchartButtonEl.classList.add('colab-df-quickchart-complete');\n",
              "    }\n",
              "    (() => {\n",
              "      let quickchartButtonEl =\n",
              "        document.querySelector('#df-4968e7f0-f494-435d-be12-1a0132ec2836 button');\n",
              "      quickchartButtonEl.style.display =\n",
              "        google.colab.kernel.accessAllowed ? 'block' : 'none';\n",
              "    })();\n",
              "  </script>\n",
              "</div>\n",
              "    </div>\n",
              "  </div>\n"
            ],
            "text/plain": [
              "    primary_label  type  latitude  longitude  rating              filename  \\\n",
              "240       eaywag1  call   42.9650     9.4512     5.0  eaywag1/XC471811.ogg   \n",
              "542        barswa  song   42.8060    13.8335     4.0   barswa/XC371853.ogg   \n",
              "214        comsan  call   60.2357    25.0058     1.0   comsan/XC554068.ogg   \n",
              "492        barswa  song   53.9299    -2.9833     2.5   barswa/XC690496.ogg   \n",
              "190        comsan  call   51.5579    17.5090     4.0   comsan/XC492893.ogg   \n",
              "\n",
              "      duration country continent          filename_npy    set  \\\n",
              "240  17.815500      FR    EUROPE  eaywag1/XC471811.npy  train   \n",
              "542  50.834313      IT    EUROPE   barswa/XC371853.npy  train   \n",
              "214  25.600000      FI    EUROPE   comsan/XC554068.npy  train   \n",
              "492  15.098812      GB    EUROPE   barswa/XC690496.npy  train   \n",
              "190  11.755000      PL    EUROPE   comsan/XC492893.npy  train   \n",
              "\n",
              "                                                framed  \n",
              "240  ((tf.Tensor(9.259782e-06, shape=(), dtype=floa...  \n",
              "542  ((tf.Tensor(2.6134796e-07, shape=(), dtype=flo...  \n",
              "214  ((tf.Tensor(8.780201e-06, shape=(), dtype=floa...  \n",
              "492  ((tf.Tensor(-0.028311907936271887, shape=(), d...  \n",
              "190  ((tf.Tensor(-3.6929268e-06, shape=(), dtype=fl...  "
            ]
          },
          "execution_count": 7,
          "metadata": {},
          "output_type": "execute_result"
        }
      ],
      "source": [
        "framed.train_df.head()"
      ]
    },
    {
      "cell_type": "code",
      "execution_count": 8,
      "metadata": {
        "colab": {
          "base_uri": "https://localhost:8080/",
          "height": 400
        },
        "id": "Zi0qePADSt2p",
        "outputId": "f36607b7-17a0-439f-e691-9900b6358b9f"
      },
      "outputs": [
        {
          "data": {
            "text/html": [
              "\n",
              "  <div id=\"df-737f05ae-de4c-40f4-a38f-a6be3383d487\" class=\"colab-df-container\">\n",
              "    <div>\n",
              "<style scoped>\n",
              "    .dataframe tbody tr th:only-of-type {\n",
              "        vertical-align: middle;\n",
              "    }\n",
              "\n",
              "    .dataframe tbody tr th {\n",
              "        vertical-align: top;\n",
              "    }\n",
              "\n",
              "    .dataframe thead th {\n",
              "        text-align: right;\n",
              "    }\n",
              "</style>\n",
              "<table border=\"1\" class=\"dataframe\">\n",
              "  <thead>\n",
              "    <tr style=\"text-align: right;\">\n",
              "      <th></th>\n",
              "      <th>primary_label</th>\n",
              "      <th>type</th>\n",
              "      <th>latitude</th>\n",
              "      <th>longitude</th>\n",
              "      <th>rating</th>\n",
              "      <th>filename</th>\n",
              "      <th>duration</th>\n",
              "      <th>country</th>\n",
              "      <th>continent</th>\n",
              "      <th>filename_npy</th>\n",
              "      <th>set</th>\n",
              "      <th>framed</th>\n",
              "    </tr>\n",
              "  </thead>\n",
              "  <tbody>\n",
              "    <tr>\n",
              "      <th>969</th>\n",
              "      <td>comsan</td>\n",
              "      <td>call</td>\n",
              "      <td>41.8074</td>\n",
              "      <td>-8.8626</td>\n",
              "      <td>4.0</td>\n",
              "      <td>comsan/XC670080.ogg</td>\n",
              "      <td>11.206000</td>\n",
              "      <td>PT</td>\n",
              "      <td>EUROPE</td>\n",
              "      <td>comsan/XC670080.npy</td>\n",
              "      <td>val</td>\n",
              "      <td>((tf.Tensor(9.328758e-06, shape=(), dtype=floa...</td>\n",
              "    </tr>\n",
              "    <tr>\n",
              "      <th>851</th>\n",
              "      <td>comsan</td>\n",
              "      <td>blank</td>\n",
              "      <td>51.6578</td>\n",
              "      <td>19.3281</td>\n",
              "      <td>5.0</td>\n",
              "      <td>comsan/XC738993.ogg</td>\n",
              "      <td>11.616000</td>\n",
              "      <td>PL</td>\n",
              "      <td>EUROPE</td>\n",
              "      <td>comsan/XC738993.npy</td>\n",
              "      <td>val</td>\n",
              "      <td>((tf.Tensor(6.5908675e-06, shape=(), dtype=flo...</td>\n",
              "    </tr>\n",
              "    <tr>\n",
              "      <th>998</th>\n",
              "      <td>barswa</td>\n",
              "      <td>song</td>\n",
              "      <td>48.2131</td>\n",
              "      <td>-3.0137</td>\n",
              "      <td>5.0</td>\n",
              "      <td>barswa/XC643586.ogg</td>\n",
              "      <td>49.536000</td>\n",
              "      <td>FR</td>\n",
              "      <td>EUROPE</td>\n",
              "      <td>barswa/XC643586.npy</td>\n",
              "      <td>val</td>\n",
              "      <td>((tf.Tensor(1.9546133e-06, shape=(), dtype=flo...</td>\n",
              "    </tr>\n",
              "    <tr>\n",
              "      <th>771</th>\n",
              "      <td>comsan</td>\n",
              "      <td>call</td>\n",
              "      <td>56.0779</td>\n",
              "      <td>47.9129</td>\n",
              "      <td>5.0</td>\n",
              "      <td>comsan/XC371997.ogg</td>\n",
              "      <td>12.355937</td>\n",
              "      <td>RU</td>\n",
              "      <td>EUROPE</td>\n",
              "      <td>comsan/XC371997.npy</td>\n",
              "      <td>val</td>\n",
              "      <td>((tf.Tensor(5.00679e-06, shape=(), dtype=float...</td>\n",
              "    </tr>\n",
              "    <tr>\n",
              "      <th>988</th>\n",
              "      <td>eaywag1</td>\n",
              "      <td>call</td>\n",
              "      <td>52.2003</td>\n",
              "      <td>-6.4349</td>\n",
              "      <td>2.0</td>\n",
              "      <td>eaywag1/XC687527.ogg</td>\n",
              "      <td>15.464000</td>\n",
              "      <td>IE</td>\n",
              "      <td>EUROPE</td>\n",
              "      <td>eaywag1/XC687527.npy</td>\n",
              "      <td>val</td>\n",
              "      <td>((tf.Tensor(2.4605542e-06, shape=(), dtype=flo...</td>\n",
              "    </tr>\n",
              "  </tbody>\n",
              "</table>\n",
              "</div>\n",
              "    <div class=\"colab-df-buttons\">\n",
              "\n",
              "  <div class=\"colab-df-container\">\n",
              "    <button class=\"colab-df-convert\" onclick=\"convertToInteractive('df-737f05ae-de4c-40f4-a38f-a6be3383d487')\"\n",
              "            title=\"Convert this dataframe to an interactive table.\"\n",
              "            style=\"display:none;\">\n",
              "\n",
              "  <svg xmlns=\"http://www.w3.org/2000/svg\" height=\"24px\" viewBox=\"0 -960 960 960\">\n",
              "    <path d=\"M120-120v-720h720v720H120Zm60-500h600v-160H180v160Zm220 220h160v-160H400v160Zm0 220h160v-160H400v160ZM180-400h160v-160H180v160Zm440 0h160v-160H620v160ZM180-180h160v-160H180v160Zm440 0h160v-160H620v160Z\"/>\n",
              "  </svg>\n",
              "    </button>\n",
              "\n",
              "  <style>\n",
              "    .colab-df-container {\n",
              "      display:flex;\n",
              "      gap: 12px;\n",
              "    }\n",
              "\n",
              "    .colab-df-convert {\n",
              "      background-color: #E8F0FE;\n",
              "      border: none;\n",
              "      border-radius: 50%;\n",
              "      cursor: pointer;\n",
              "      display: none;\n",
              "      fill: #1967D2;\n",
              "      height: 32px;\n",
              "      padding: 0 0 0 0;\n",
              "      width: 32px;\n",
              "    }\n",
              "\n",
              "    .colab-df-convert:hover {\n",
              "      background-color: #E2EBFA;\n",
              "      box-shadow: 0px 1px 2px rgba(60, 64, 67, 0.3), 0px 1px 3px 1px rgba(60, 64, 67, 0.15);\n",
              "      fill: #174EA6;\n",
              "    }\n",
              "\n",
              "    .colab-df-buttons div {\n",
              "      margin-bottom: 4px;\n",
              "    }\n",
              "\n",
              "    [theme=dark] .colab-df-convert {\n",
              "      background-color: #3B4455;\n",
              "      fill: #D2E3FC;\n",
              "    }\n",
              "\n",
              "    [theme=dark] .colab-df-convert:hover {\n",
              "      background-color: #434B5C;\n",
              "      box-shadow: 0px 1px 3px 1px rgba(0, 0, 0, 0.15);\n",
              "      filter: drop-shadow(0px 1px 2px rgba(0, 0, 0, 0.3));\n",
              "      fill: #FFFFFF;\n",
              "    }\n",
              "  </style>\n",
              "\n",
              "    <script>\n",
              "      const buttonEl =\n",
              "        document.querySelector('#df-737f05ae-de4c-40f4-a38f-a6be3383d487 button.colab-df-convert');\n",
              "      buttonEl.style.display =\n",
              "        google.colab.kernel.accessAllowed ? 'block' : 'none';\n",
              "\n",
              "      async function convertToInteractive(key) {\n",
              "        const element = document.querySelector('#df-737f05ae-de4c-40f4-a38f-a6be3383d487');\n",
              "        const dataTable =\n",
              "          await google.colab.kernel.invokeFunction('convertToInteractive',\n",
              "                                                    [key], {});\n",
              "        if (!dataTable) return;\n",
              "\n",
              "        const docLinkHtml = 'Like what you see? Visit the ' +\n",
              "          '<a target=\"_blank\" href=https://colab.research.google.com/notebooks/data_table.ipynb>data table notebook</a>'\n",
              "          + ' to learn more about interactive tables.';\n",
              "        element.innerHTML = '';\n",
              "        dataTable['output_type'] = 'display_data';\n",
              "        await google.colab.output.renderOutput(dataTable, element);\n",
              "        const docLink = document.createElement('div');\n",
              "        docLink.innerHTML = docLinkHtml;\n",
              "        element.appendChild(docLink);\n",
              "      }\n",
              "    </script>\n",
              "  </div>\n",
              "\n",
              "\n",
              "<div id=\"df-6e9d2655-1bf8-434e-aa40-f1fef691f2ed\">\n",
              "  <button class=\"colab-df-quickchart\" onclick=\"quickchart('df-6e9d2655-1bf8-434e-aa40-f1fef691f2ed')\"\n",
              "            title=\"Suggest charts.\"\n",
              "            style=\"display:none;\">\n",
              "\n",
              "<svg xmlns=\"http://www.w3.org/2000/svg\" height=\"24px\"viewBox=\"0 0 24 24\"\n",
              "     width=\"24px\">\n",
              "    <g>\n",
              "        <path d=\"M19 3H5c-1.1 0-2 .9-2 2v14c0 1.1.9 2 2 2h14c1.1 0 2-.9 2-2V5c0-1.1-.9-2-2-2zM9 17H7v-7h2v7zm4 0h-2V7h2v10zm4 0h-2v-4h2v4z\"/>\n",
              "    </g>\n",
              "</svg>\n",
              "  </button>\n",
              "\n",
              "<style>\n",
              "  .colab-df-quickchart {\n",
              "      --bg-color: #E8F0FE;\n",
              "      --fill-color: #1967D2;\n",
              "      --hover-bg-color: #E2EBFA;\n",
              "      --hover-fill-color: #174EA6;\n",
              "      --disabled-fill-color: #AAA;\n",
              "      --disabled-bg-color: #DDD;\n",
              "  }\n",
              "\n",
              "  [theme=dark] .colab-df-quickchart {\n",
              "      --bg-color: #3B4455;\n",
              "      --fill-color: #D2E3FC;\n",
              "      --hover-bg-color: #434B5C;\n",
              "      --hover-fill-color: #FFFFFF;\n",
              "      --disabled-bg-color: #3B4455;\n",
              "      --disabled-fill-color: #666;\n",
              "  }\n",
              "\n",
              "  .colab-df-quickchart {\n",
              "    background-color: var(--bg-color);\n",
              "    border: none;\n",
              "    border-radius: 50%;\n",
              "    cursor: pointer;\n",
              "    display: none;\n",
              "    fill: var(--fill-color);\n",
              "    height: 32px;\n",
              "    padding: 0;\n",
              "    width: 32px;\n",
              "  }\n",
              "\n",
              "  .colab-df-quickchart:hover {\n",
              "    background-color: var(--hover-bg-color);\n",
              "    box-shadow: 0 1px 2px rgba(60, 64, 67, 0.3), 0 1px 3px 1px rgba(60, 64, 67, 0.15);\n",
              "    fill: var(--button-hover-fill-color);\n",
              "  }\n",
              "\n",
              "  .colab-df-quickchart-complete:disabled,\n",
              "  .colab-df-quickchart-complete:disabled:hover {\n",
              "    background-color: var(--disabled-bg-color);\n",
              "    fill: var(--disabled-fill-color);\n",
              "    box-shadow: none;\n",
              "  }\n",
              "\n",
              "  .colab-df-spinner {\n",
              "    border: 2px solid var(--fill-color);\n",
              "    border-color: transparent;\n",
              "    border-bottom-color: var(--fill-color);\n",
              "    animation:\n",
              "      spin 1s steps(1) infinite;\n",
              "  }\n",
              "\n",
              "  @keyframes spin {\n",
              "    0% {\n",
              "      border-color: transparent;\n",
              "      border-bottom-color: var(--fill-color);\n",
              "      border-left-color: var(--fill-color);\n",
              "    }\n",
              "    20% {\n",
              "      border-color: transparent;\n",
              "      border-left-color: var(--fill-color);\n",
              "      border-top-color: var(--fill-color);\n",
              "    }\n",
              "    30% {\n",
              "      border-color: transparent;\n",
              "      border-left-color: var(--fill-color);\n",
              "      border-top-color: var(--fill-color);\n",
              "      border-right-color: var(--fill-color);\n",
              "    }\n",
              "    40% {\n",
              "      border-color: transparent;\n",
              "      border-right-color: var(--fill-color);\n",
              "      border-top-color: var(--fill-color);\n",
              "    }\n",
              "    60% {\n",
              "      border-color: transparent;\n",
              "      border-right-color: var(--fill-color);\n",
              "    }\n",
              "    80% {\n",
              "      border-color: transparent;\n",
              "      border-right-color: var(--fill-color);\n",
              "      border-bottom-color: var(--fill-color);\n",
              "    }\n",
              "    90% {\n",
              "      border-color: transparent;\n",
              "      border-bottom-color: var(--fill-color);\n",
              "    }\n",
              "  }\n",
              "</style>\n",
              "\n",
              "  <script>\n",
              "    async function quickchart(key) {\n",
              "      const quickchartButtonEl =\n",
              "        document.querySelector('#' + key + ' button');\n",
              "      quickchartButtonEl.disabled = true;  // To prevent multiple clicks.\n",
              "      quickchartButtonEl.classList.add('colab-df-spinner');\n",
              "      try {\n",
              "        const charts = await google.colab.kernel.invokeFunction(\n",
              "            'suggestCharts', [key], {});\n",
              "      } catch (error) {\n",
              "        console.error('Error during call to suggestCharts:', error);\n",
              "      }\n",
              "      quickchartButtonEl.classList.remove('colab-df-spinner');\n",
              "      quickchartButtonEl.classList.add('colab-df-quickchart-complete');\n",
              "    }\n",
              "    (() => {\n",
              "      let quickchartButtonEl =\n",
              "        document.querySelector('#df-6e9d2655-1bf8-434e-aa40-f1fef691f2ed button');\n",
              "      quickchartButtonEl.style.display =\n",
              "        google.colab.kernel.accessAllowed ? 'block' : 'none';\n",
              "    })();\n",
              "  </script>\n",
              "</div>\n",
              "    </div>\n",
              "  </div>\n"
            ],
            "text/plain": [
              "    primary_label   type  latitude  longitude  rating              filename  \\\n",
              "969        comsan   call   41.8074    -8.8626     4.0   comsan/XC670080.ogg   \n",
              "851        comsan  blank   51.6578    19.3281     5.0   comsan/XC738993.ogg   \n",
              "998        barswa   song   48.2131    -3.0137     5.0   barswa/XC643586.ogg   \n",
              "771        comsan   call   56.0779    47.9129     5.0   comsan/XC371997.ogg   \n",
              "988       eaywag1   call   52.2003    -6.4349     2.0  eaywag1/XC687527.ogg   \n",
              "\n",
              "      duration country continent          filename_npy  set  \\\n",
              "969  11.206000      PT    EUROPE   comsan/XC670080.npy  val   \n",
              "851  11.616000      PL    EUROPE   comsan/XC738993.npy  val   \n",
              "998  49.536000      FR    EUROPE   barswa/XC643586.npy  val   \n",
              "771  12.355937      RU    EUROPE   comsan/XC371997.npy  val   \n",
              "988  15.464000      IE    EUROPE  eaywag1/XC687527.npy  val   \n",
              "\n",
              "                                                framed  \n",
              "969  ((tf.Tensor(9.328758e-06, shape=(), dtype=floa...  \n",
              "851  ((tf.Tensor(6.5908675e-06, shape=(), dtype=flo...  \n",
              "998  ((tf.Tensor(1.9546133e-06, shape=(), dtype=flo...  \n",
              "771  ((tf.Tensor(5.00679e-06, shape=(), dtype=float...  \n",
              "988  ((tf.Tensor(2.4605542e-06, shape=(), dtype=flo...  "
            ]
          },
          "execution_count": 8,
          "metadata": {},
          "output_type": "execute_result"
        }
      ],
      "source": [
        "framed.val_df.head()"
      ]
    },
    {
      "cell_type": "markdown",
      "metadata": {
        "id": "iI4_CF1oSwlw"
      },
      "source": [
        "# Extract features from train and val dfs"
      ]
    },
    {
      "cell_type": "code",
      "execution_count": 9,
      "metadata": {
        "id": "wpAJ5zuNSxP-"
      },
      "outputs": [],
      "source": [
        "# exclude 'type' as an average user of the model would not be able to distinguish whether the audio is of call or song type\n",
        "# exclude 'rating' as we don't want it be a distinguishing feature for the model, 'rating' could be used when building NN to give audios with better quality rating more 'weight' during training\n",
        "features_list = ['chroma', 'rms', 'spectral_centroid', 'melspectrogram', 'continent']"
      ]
    },
    {
      "cell_type": "code",
      "execution_count": 10,
      "metadata": {
        "colab": {
          "base_uri": "https://localhost:8080/",
          "height": 429
        },
        "id": "OKLaBcSgS2uk",
        "outputId": "b1c15741-3e61-40e8-99b0-0b71a72e14e5"
      },
      "outputs": [
        {
          "data": {
            "application/vnd.google.colaboratory.intrinsic+json": {
              "type": "string"
            },
            "text/plain": [
              "'feature extraction started ---------->'"
            ]
          },
          "metadata": {},
          "output_type": "display_data"
        },
        {
          "name": "stderr",
          "output_type": "stream",
          "text": [
            "/usr/local/lib/python3.10/dist-packages/librosa/core/pitch.py:101: UserWarning: Trying to estimate tuning from empty frequency set.\n",
            "  return pitch_tuning(\n"
          ]
        },
        {
          "data": {
            "application/vnd.google.colaboratory.intrinsic+json": {
              "type": "string"
            },
            "text/plain": [
              "'features extraction took 8.8 mins'"
            ]
          },
          "metadata": {},
          "output_type": "display_data"
        },
        {
          "data": {
            "application/vnd.google.colaboratory.intrinsic+json": {
              "type": "string"
            },
            "text/plain": [
              "'feature extraction started ---------->'"
            ]
          },
          "metadata": {},
          "output_type": "display_data"
        },
        {
          "data": {
            "application/vnd.google.colaboratory.intrinsic+json": {
              "type": "string"
            },
            "text/plain": [
              "'features extraction took 3.9 mins'"
            ]
          },
          "metadata": {},
          "output_type": "display_data"
        },
        {
          "data": {
            "application/vnd.google.colaboratory.intrinsic+json": {
              "type": "string"
            },
            "text/plain": [
              "'features processing started ---------->'"
            ]
          },
          "metadata": {},
          "output_type": "display_data"
        },
        {
          "name": "stdout",
          "output_type": "stream",
          "text": [
            "161/161 [==============================] - 1s 3ms/step\n",
            "76/76 [==============================] - 0s 2ms/step\n"
          ]
        },
        {
          "data": {
            "application/vnd.google.colaboratory.intrinsic+json": {
              "type": "string"
            },
            "text/plain": [
              "'chroma processed'"
            ]
          },
          "metadata": {},
          "output_type": "display_data"
        },
        {
          "name": "stdout",
          "output_type": "stream",
          "text": [
            "161/161 [==============================] - 0s 2ms/step\n",
            "76/76 [==============================] - 0s 2ms/step\n"
          ]
        },
        {
          "data": {
            "application/vnd.google.colaboratory.intrinsic+json": {
              "type": "string"
            },
            "text/plain": [
              "'rms processed'"
            ]
          },
          "metadata": {},
          "output_type": "display_data"
        },
        {
          "name": "stdout",
          "output_type": "stream",
          "text": [
            "161/161 [==============================] - 0s 2ms/step\n",
            "76/76 [==============================] - 0s 1ms/step\n"
          ]
        },
        {
          "data": {
            "application/vnd.google.colaboratory.intrinsic+json": {
              "type": "string"
            },
            "text/plain": [
              "'spectral_centroid processed'"
            ]
          },
          "metadata": {},
          "output_type": "display_data"
        },
        {
          "name": "stdout",
          "output_type": "stream",
          "text": [
            "161/161 [==============================] - 1s 6ms/step\n",
            "76/76 [==============================] - 0s 3ms/step\n"
          ]
        },
        {
          "data": {
            "application/vnd.google.colaboratory.intrinsic+json": {
              "type": "string"
            },
            "text/plain": [
              "'melspectrogram processed'"
            ]
          },
          "metadata": {},
          "output_type": "display_data"
        },
        {
          "data": {
            "application/vnd.google.colaboratory.intrinsic+json": {
              "type": "string"
            },
            "text/plain": [
              "'features processing took 0.4 mins'"
            ]
          },
          "metadata": {},
          "output_type": "display_data"
        },
        {
          "name": "stdout",
          "output_type": "stream",
          "text": [
            "CPU times: user 12min 17s, sys: 8min 48s, total: 21min 6s\n",
            "Wall time: 13min 5s\n"
          ]
        }
      ],
      "source": [
        "%%time\n",
        "\n",
        "features = Extraction(framed.train_df,\n",
        "                      framed.val_df,\n",
        "                      n_mels=128,\n",
        "                      features=features_list,\n",
        "                      do_normalize=True,\n",
        "                      do_avgpool=True)"
      ]
    },
    {
      "cell_type": "code",
      "execution_count": 11,
      "metadata": {
        "colab": {
          "base_uri": "https://localhost:8080/",
          "height": 52
        },
        "id": "mgI1Ey2yS6FE",
        "outputId": "6c2ed474-c6f6-4a16-9865-134b39dc77fd"
      },
      "outputs": [
        {
          "data": {
            "text/plain": [
              "(5121,)"
            ]
          },
          "metadata": {},
          "output_type": "display_data"
        },
        {
          "data": {
            "text/plain": [
              "array(['eaywag1', 'eaywag1', 'eaywag1', 'barswa', 'barswa'], dtype='<U7')"
            ]
          },
          "metadata": {},
          "output_type": "display_data"
        }
      ],
      "source": [
        "train_y = features.train_y\n",
        "\n",
        "display(train_y.shape)\n",
        "display(train_y[:5])"
      ]
    },
    {
      "cell_type": "code",
      "execution_count": 12,
      "metadata": {
        "colab": {
          "base_uri": "https://localhost:8080/",
          "height": 752
        },
        "id": "cohV3hpSS6qU",
        "outputId": "470fe938-e55e-456d-efd1-406cc6d2b7d2"
      },
      "outputs": [
        {
          "data": {
            "application/vnd.google.colaboratory.intrinsic+json": {
              "type": "string"
            },
            "text/plain": [
              "'chroma'"
            ]
          },
          "metadata": {},
          "output_type": "display_data"
        },
        {
          "data": {
            "text/plain": [
              "(5121, 12)"
            ]
          },
          "metadata": {},
          "output_type": "display_data"
        },
        {
          "data": {
            "text/plain": [
              "array([0.39132032, 0.37312847, 0.3676854 , 0.37462133, 0.2859541 ,\n",
              "       0.33517957, 0.36213824, 0.38163343, 0.3888128 , 0.3676954 ,\n",
              "       0.31701055, 0.3303358 ], dtype=float32)"
            ]
          },
          "metadata": {},
          "output_type": "display_data"
        },
        {
          "data": {
            "application/vnd.google.colaboratory.intrinsic+json": {
              "type": "string"
            },
            "text/plain": [
              "'rms'"
            ]
          },
          "metadata": {},
          "output_type": "display_data"
        },
        {
          "data": {
            "text/plain": [
              "(5121, 1)"
            ]
          },
          "metadata": {},
          "output_type": "display_data"
        },
        {
          "data": {
            "text/plain": [
              "array([0.02075471], dtype=float32)"
            ]
          },
          "metadata": {},
          "output_type": "display_data"
        },
        {
          "data": {
            "application/vnd.google.colaboratory.intrinsic+json": {
              "type": "string"
            },
            "text/plain": [
              "'spectral_centroid'"
            ]
          },
          "metadata": {},
          "output_type": "display_data"
        },
        {
          "data": {
            "text/plain": [
              "(5121, 1)"
            ]
          },
          "metadata": {},
          "output_type": "display_data"
        },
        {
          "data": {
            "text/plain": [
              "array([0.632974], dtype=float32)"
            ]
          },
          "metadata": {},
          "output_type": "display_data"
        },
        {
          "data": {
            "application/vnd.google.colaboratory.intrinsic+json": {
              "type": "string"
            },
            "text/plain": [
              "'melspectrogram'"
            ]
          },
          "metadata": {},
          "output_type": "display_data"
        },
        {
          "data": {
            "text/plain": [
              "(5121, 128)"
            ]
          },
          "metadata": {},
          "output_type": "display_data"
        },
        {
          "data": {
            "text/plain": [
              "array([0.26981652, 0.27829087, 0.278894  , 0.28132454, 0.28465968,\n",
              "       0.28763244, 0.29359183, 0.29373327, 0.29293567, 0.29337594,\n",
              "       0.2983122 , 0.30252165, 0.30017188, 0.2808609 , 0.26593903,\n",
              "       0.2848154 , 0.27635494, 0.2788913 , 0.28253335, 0.2829831 ,\n",
              "       0.27369517, 0.27231312, 0.2696629 , 0.27657995, 0.26818332,\n",
              "       0.26891565, 0.27638495, 0.2879668 , 0.2813294 , 0.2760107 ,\n",
              "       0.28043616, 0.28852785, 0.28074598, 0.28676152, 0.28149292,\n",
              "       0.28627613, 0.28956905, 0.30287743, 0.30243194, 0.30091918,\n",
              "       0.29376087, 0.29958123, 0.29550126, 0.28689972, 0.2770074 ,\n",
              "       0.29167512, 0.29962912, 0.29362664, 0.27797705, 0.28348386,\n",
              "       0.28563753, 0.2771221 , 0.2697356 , 0.2670376 , 0.26502943,\n",
              "       0.27453923, 0.2789479 , 0.28508902, 0.2823444 , 0.28977007,\n",
              "       0.29987073, 0.30238697, 0.3088323 , 0.3105626 , 0.30556655,\n",
              "       0.29765052, 0.3122912 , 0.31451285, 0.3224264 , 0.32489583,\n",
              "       0.33064383, 0.3348141 , 0.33753905, 0.3385627 , 0.34004098,\n",
              "       0.34498578, 0.34522137, 0.34343097, 0.3426606 , 0.343564  ,\n",
              "       0.3423371 , 0.3314908 , 0.32216805, 0.32598686, 0.34967738,\n",
              "       0.3520097 , 0.35994238, 0.3727721 , 0.32983425, 0.32831824,\n",
              "       0.33591595, 0.3490068 , 0.36067045, 0.36492187, 0.34883928,\n",
              "       0.35858485, 0.35103473, 0.3539389 , 0.35918298, 0.3579169 ,\n",
              "       0.37399808, 0.37278658, 0.37850037, 0.37885562, 0.3765808 ,\n",
              "       0.37771043, 0.36335304, 0.3450001 , 0.34880748, 0.3505036 ,\n",
              "       0.35036346, 0.35100597, 0.3590945 , 0.36021113, 0.36467794,\n",
              "       0.35798913, 0.35711983, 0.35591972, 0.35522407, 0.33340782,\n",
              "       0.32756472, 0.31512097, 0.3032653 , 0.27318412, 0.28720772,\n",
              "       0.32678476, 0.32092327, 0.36875108], dtype=float32)"
            ]
          },
          "metadata": {},
          "output_type": "display_data"
        },
        {
          "data": {
            "application/vnd.google.colaboratory.intrinsic+json": {
              "type": "string"
            },
            "text/plain": [
              "'continent'"
            ]
          },
          "metadata": {},
          "output_type": "display_data"
        },
        {
          "data": {
            "text/plain": [
              "(5121,)"
            ]
          },
          "metadata": {},
          "output_type": "display_data"
        },
        {
          "data": {
            "application/vnd.google.colaboratory.intrinsic+json": {
              "type": "string"
            },
            "text/plain": [
              "'EUROPE'"
            ]
          },
          "metadata": {},
          "output_type": "display_data"
        }
      ],
      "source": [
        "train_features = features.train_features\n",
        "\n",
        "for key in train_features.keys():\n",
        "  display(key)\n",
        "  display(train_features[key].shape)\n",
        "  display(train_features[key][0])"
      ]
    },
    {
      "cell_type": "code",
      "execution_count": 13,
      "metadata": {
        "colab": {
          "base_uri": "https://localhost:8080/",
          "height": 52
        },
        "id": "2o8IFwVjS7sm",
        "outputId": "4c012f88-2166-4d05-d4ae-c5585b94dbc7"
      },
      "outputs": [
        {
          "data": {
            "text/plain": [
              "(2430,)"
            ]
          },
          "metadata": {},
          "output_type": "display_data"
        },
        {
          "data": {
            "text/plain": [
              "array(['comsan', 'comsan', 'barswa', 'barswa', 'barswa'], dtype='<U7')"
            ]
          },
          "metadata": {},
          "output_type": "display_data"
        }
      ],
      "source": [
        "val_y = features.val_y\n",
        "val_y = np.array(val_y)\n",
        "\n",
        "display(val_y.shape)\n",
        "display(val_y[:5])"
      ]
    },
    {
      "cell_type": "code",
      "execution_count": 14,
      "metadata": {
        "colab": {
          "base_uri": "https://localhost:8080/",
          "height": 752
        },
        "id": "KwDcW7R5S95E",
        "outputId": "6902d2f0-8de2-4435-cbb6-470fc4726836"
      },
      "outputs": [
        {
          "data": {
            "application/vnd.google.colaboratory.intrinsic+json": {
              "type": "string"
            },
            "text/plain": [
              "'chroma'"
            ]
          },
          "metadata": {},
          "output_type": "display_data"
        },
        {
          "data": {
            "text/plain": [
              "(2430, 12)"
            ]
          },
          "metadata": {},
          "output_type": "display_data"
        },
        {
          "data": {
            "text/plain": [
              "array([0.5899558 , 0.70330554, 0.7218487 , 0.63512486, 0.43848613,\n",
              "       0.32077396, 0.3523651 , 0.42905864, 0.4974301 , 0.5047787 ,\n",
              "       0.5095758 , 0.5181745 ], dtype=float32)"
            ]
          },
          "metadata": {},
          "output_type": "display_data"
        },
        {
          "data": {
            "application/vnd.google.colaboratory.intrinsic+json": {
              "type": "string"
            },
            "text/plain": [
              "'rms'"
            ]
          },
          "metadata": {},
          "output_type": "display_data"
        },
        {
          "data": {
            "text/plain": [
              "(2430, 1)"
            ]
          },
          "metadata": {},
          "output_type": "display_data"
        },
        {
          "data": {
            "text/plain": [
              "array([0.01429969], dtype=float32)"
            ]
          },
          "metadata": {},
          "output_type": "display_data"
        },
        {
          "data": {
            "application/vnd.google.colaboratory.intrinsic+json": {
              "type": "string"
            },
            "text/plain": [
              "'spectral_centroid'"
            ]
          },
          "metadata": {},
          "output_type": "display_data"
        },
        {
          "data": {
            "text/plain": [
              "(2430, 1)"
            ]
          },
          "metadata": {},
          "output_type": "display_data"
        },
        {
          "data": {
            "text/plain": [
              "array([0.45671088], dtype=float32)"
            ]
          },
          "metadata": {},
          "output_type": "display_data"
        },
        {
          "data": {
            "application/vnd.google.colaboratory.intrinsic+json": {
              "type": "string"
            },
            "text/plain": [
              "'melspectrogram'"
            ]
          },
          "metadata": {},
          "output_type": "display_data"
        },
        {
          "data": {
            "text/plain": [
              "(2430, 128)"
            ]
          },
          "metadata": {},
          "output_type": "display_data"
        },
        {
          "data": {
            "text/plain": [
              "array([0.18730527, 0.211483  , 0.27187654, 0.30667943, 0.31883833,\n",
              "       0.34580326, 0.3575852 , 0.36832404, 0.39010778, 0.40085736,\n",
              "       0.42134744, 0.43507197, 0.44928682, 0.45344603, 0.46318695,\n",
              "       0.48474133, 0.4896167 , 0.50340354, 0.5086848 , 0.5206597 ,\n",
              "       0.5379386 , 0.55617356, 0.5684345 , 0.5789333 , 0.5749002 ,\n",
              "       0.58165354, 0.60142416, 0.61398196, 0.61813754, 0.6189738 ,\n",
              "       0.63262165, 0.64332277, 0.6440005 , 0.6501185 , 0.6486726 ,\n",
              "       0.6597587 , 0.6625946 , 0.66808385, 0.668719  , 0.67979693,\n",
              "       0.68604016, 0.69016814, 0.69408   , 0.6939681 , 0.7033723 ,\n",
              "       0.71194017, 0.720809  , 0.7122895 , 0.7043917 , 0.7046974 ,\n",
              "       0.7030711 , 0.7019743 , 0.69573593, 0.6796146 , 0.66876125,\n",
              "       0.66332173, 0.664815  , 0.66658866, 0.67309517, 0.67576015,\n",
              "       0.6843581 , 0.68578595, 0.6861664 , 0.6851298 , 0.67339987,\n",
              "       0.67198974, 0.6700642 , 0.66366154, 0.6606249 , 0.6509389 ,\n",
              "       0.6482938 , 0.63253784, 0.63039184, 0.6283721 , 0.62295145,\n",
              "       0.6213714 , 0.6134448 , 0.6111885 , 0.60805   , 0.6060877 ,\n",
              "       0.6097913 , 0.6058226 , 0.5981344 , 0.5874386 , 0.5813161 ,\n",
              "       0.57877946, 0.5786141 , 0.57603127, 0.5287657 , 0.5200371 ,\n",
              "       0.51956236, 0.51617956, 0.5179    , 0.52686644, 0.5286853 ,\n",
              "       0.5317211 , 0.528366  , 0.53332895, 0.53584373, 0.52810425,\n",
              "       0.5349023 , 0.5311681 , 0.52466106, 0.5196056 , 0.5100722 ,\n",
              "       0.5097389 , 0.49983522, 0.4834192 , 0.4598696 , 0.45045248,\n",
              "       0.46102145, 0.46867964, 0.47298473, 0.4726572 , 0.4760452 ,\n",
              "       0.47623095, 0.48040387, 0.48113272, 0.49068466, 0.49277943,\n",
              "       0.49513125, 0.49060574, 0.48981768, 0.4913207 , 0.5086911 ,\n",
              "       0.54593915, 0.5462222 , 0.50011104], dtype=float32)"
            ]
          },
          "metadata": {},
          "output_type": "display_data"
        },
        {
          "data": {
            "application/vnd.google.colaboratory.intrinsic+json": {
              "type": "string"
            },
            "text/plain": [
              "'continent'"
            ]
          },
          "metadata": {},
          "output_type": "display_data"
        },
        {
          "data": {
            "text/plain": [
              "(2430,)"
            ]
          },
          "metadata": {},
          "output_type": "display_data"
        },
        {
          "data": {
            "application/vnd.google.colaboratory.intrinsic+json": {
              "type": "string"
            },
            "text/plain": [
              "'EUROPE'"
            ]
          },
          "metadata": {},
          "output_type": "display_data"
        }
      ],
      "source": [
        "val_features = features.val_features\n",
        "\n",
        "for key in val_features.keys():\n",
        "  display(key)\n",
        "  display(val_features[key].shape)\n",
        "  display(val_features[key][0])"
      ]
    },
    {
      "cell_type": "markdown",
      "metadata": {
        "id": "JBsLYoBFTBok"
      },
      "source": [
        "# Encode Classes"
      ]
    },
    {
      "cell_type": "code",
      "execution_count": 15,
      "metadata": {
        "colab": {
          "base_uri": "https://localhost:8080/"
        },
        "id": "_CX5uxpifmXm",
        "outputId": "0b079131-c0e4-4baf-e6ec-ae3f3a7c3cb0"
      },
      "outputs": [
        {
          "data": {
            "text/plain": [
              "['barswa', 'comsan', 'eaywag1']"
            ]
          },
          "execution_count": 15,
          "metadata": {},
          "output_type": "execute_result"
        }
      ],
      "source": [
        "label_encoder = LabelEncoder().fit(train_y)\n",
        "train_y = label_encoder.transform(train_y)\n",
        "val_y = label_encoder.transform(val_y)\n",
        "\n",
        "classes = list(label_encoder.inverse_transform([0,1,2]))\n",
        "classes"
      ]
    },
    {
      "cell_type": "code",
      "execution_count": 16,
      "metadata": {
        "colab": {
          "base_uri": "https://localhost:8080/",
          "height": 86
        },
        "id": "vpITk6PXgEp5",
        "outputId": "e9d720f0-0f9c-4eef-cf34-6700c347fa0a"
      },
      "outputs": [
        {
          "data": {
            "text/plain": [
              "5121"
            ]
          },
          "metadata": {},
          "output_type": "display_data"
        },
        {
          "data": {
            "text/plain": [
              "array([2, 2, 2, 0, 0, 0, 0, 0, 0, 0])"
            ]
          },
          "metadata": {},
          "output_type": "display_data"
        },
        {
          "data": {
            "text/plain": [
              "2430"
            ]
          },
          "metadata": {},
          "output_type": "display_data"
        },
        {
          "data": {
            "text/plain": [
              "array([1, 1, 0, 0, 0, 0, 0, 0, 0, 0])"
            ]
          },
          "metadata": {},
          "output_type": "display_data"
        }
      ],
      "source": [
        "display(len(train_y))\n",
        "display(train_y[:10])\n",
        "\n",
        "display(len(val_y))\n",
        "display(val_y[:10])"
      ]
    },
    {
      "cell_type": "markdown",
      "metadata": {
        "id": "o4bsBkcKTDgi"
      },
      "source": [
        "# Shuffle the data"
      ]
    },
    {
      "cell_type": "code",
      "execution_count": 17,
      "metadata": {
        "id": "hYI47YI6gwY-"
      },
      "outputs": [],
      "source": [
        "def shuffle_data(input_label, input_features):\n",
        "  input_len = len(input_label)\n",
        "  np.random.seed(1234)\n",
        "  input_indices = np.random.permutation(input_len)\n",
        "  input_features = {key: np.array([input_features[key][i] for i in input_indices]) for key in input_features}\n",
        "  input_label = np.array([input_label[i] for i in input_indices])\n",
        "\n",
        "  return input_label, input_features"
      ]
    },
    {
      "cell_type": "code",
      "execution_count": 18,
      "metadata": {
        "id": "tW_Nn5JJh2xX"
      },
      "outputs": [],
      "source": [
        "train_y, train_features = shuffle_data(train_y, train_features)"
      ]
    },
    {
      "cell_type": "code",
      "execution_count": 19,
      "metadata": {
        "colab": {
          "base_uri": "https://localhost:8080/",
          "height": 52
        },
        "id": "8qCpij5wiGPQ",
        "outputId": "2ad6a269-9346-43ad-d81d-a29a378d2f97"
      },
      "outputs": [
        {
          "data": {
            "text/plain": [
              "(5121,)"
            ]
          },
          "metadata": {},
          "output_type": "display_data"
        },
        {
          "data": {
            "text/plain": [
              "array([1, 2, 2, 1, 0, 0, 2, 2, 0, 0, 1, 1, 1, 0, 1])"
            ]
          },
          "metadata": {},
          "output_type": "display_data"
        }
      ],
      "source": [
        "display(train_y.shape)\n",
        "display(train_y[:15])"
      ]
    },
    {
      "cell_type": "code",
      "execution_count": 20,
      "metadata": {
        "colab": {
          "base_uri": "https://localhost:8080/",
          "height": 752
        },
        "id": "ytcJ18V1iKJw",
        "outputId": "223f70a0-0758-4ed7-a315-72564bc11853"
      },
      "outputs": [
        {
          "data": {
            "application/vnd.google.colaboratory.intrinsic+json": {
              "type": "string"
            },
            "text/plain": [
              "'chroma'"
            ]
          },
          "metadata": {},
          "output_type": "display_data"
        },
        {
          "data": {
            "text/plain": [
              "(5121, 12)"
            ]
          },
          "metadata": {},
          "output_type": "display_data"
        },
        {
          "data": {
            "text/plain": [
              "array([0.43086454, 0.41009155, 0.3693465 , 0.5514715 , 0.51715684,\n",
              "       0.41635913, 0.41944242, 0.543194  , 0.57011575, 0.49990478,\n",
              "       0.45835182, 0.4471311 ], dtype=float32)"
            ]
          },
          "metadata": {},
          "output_type": "display_data"
        },
        {
          "data": {
            "application/vnd.google.colaboratory.intrinsic+json": {
              "type": "string"
            },
            "text/plain": [
              "'rms'"
            ]
          },
          "metadata": {},
          "output_type": "display_data"
        },
        {
          "data": {
            "text/plain": [
              "(5121, 1)"
            ]
          },
          "metadata": {},
          "output_type": "display_data"
        },
        {
          "data": {
            "text/plain": [
              "array([0.02368048], dtype=float32)"
            ]
          },
          "metadata": {},
          "output_type": "display_data"
        },
        {
          "data": {
            "application/vnd.google.colaboratory.intrinsic+json": {
              "type": "string"
            },
            "text/plain": [
              "'spectral_centroid'"
            ]
          },
          "metadata": {},
          "output_type": "display_data"
        },
        {
          "data": {
            "text/plain": [
              "(5121, 1)"
            ]
          },
          "metadata": {},
          "output_type": "display_data"
        },
        {
          "data": {
            "text/plain": [
              "array([0.34682631], dtype=float32)"
            ]
          },
          "metadata": {},
          "output_type": "display_data"
        },
        {
          "data": {
            "application/vnd.google.colaboratory.intrinsic+json": {
              "type": "string"
            },
            "text/plain": [
              "'melspectrogram'"
            ]
          },
          "metadata": {},
          "output_type": "display_data"
        },
        {
          "data": {
            "text/plain": [
              "(5121, 128)"
            ]
          },
          "metadata": {},
          "output_type": "display_data"
        },
        {
          "data": {
            "text/plain": [
              "array([0.65433073, 0.6958824 , 0.7123113 , 0.7254734 , 0.72617924,\n",
              "       0.7274029 , 0.72283375, 0.71794444, 0.7168043 , 0.70612556,\n",
              "       0.7157736 , 0.72578543, 0.7270578 , 0.729496  , 0.741872  ,\n",
              "       0.75187695, 0.76073056, 0.74769384, 0.7365248 , 0.73184097,\n",
              "       0.7215817 , 0.71458197, 0.6915305 , 0.67701864, 0.6569892 ,\n",
              "       0.64297456, 0.64712703, 0.6504995 , 0.6562675 , 0.65951073,\n",
              "       0.6790859 , 0.6870606 , 0.68652725, 0.6856734 , 0.68023235,\n",
              "       0.6843713 , 0.6759952 , 0.66547805, 0.65229654, 0.6429618 ,\n",
              "       0.6373707 , 0.6253073 , 0.61558616, 0.60395944, 0.5945516 ,\n",
              "       0.6041106 , 0.60843873, 0.6059527 , 0.60147697, 0.60071087,\n",
              "       0.5987814 , 0.5870823 , 0.57837623, 0.5798345 , 0.5874665 ,\n",
              "       0.5974217 , 0.59508675, 0.5987738 , 0.6050084 , 0.61150265,\n",
              "       0.61444277, 0.61608475, 0.6147097 , 0.61289406, 0.59707063,\n",
              "       0.5900373 , 0.601062  , 0.6160922 , 0.62396914, 0.6308062 ,\n",
              "       0.6311888 , 0.6114598 , 0.6062067 , 0.6225821 , 0.6133357 ,\n",
              "       0.6089822 , 0.5969956 , 0.6031567 , 0.5929988 , 0.5780986 ,\n",
              "       0.57914096, 0.58099276, 0.5828262 , 0.5885409 , 0.5972488 ,\n",
              "       0.6004209 , 0.605911  , 0.60790426, 0.56593245, 0.5513648 ,\n",
              "       0.54505247, 0.5454594 , 0.5475752 , 0.54950064, 0.54429966,\n",
              "       0.545945  , 0.5357917 , 0.5294277 , 0.52470654, 0.5125538 ,\n",
              "       0.5194346 , 0.56635296, 0.5706464 , 0.537291  , 0.51209295,\n",
              "       0.5119674 , 0.51962733, 0.5388462 , 0.5590229 , 0.5726908 ,\n",
              "       0.5586498 , 0.5483923 , 0.50982296, 0.4584637 , 0.43310758,\n",
              "       0.40834117, 0.40287054, 0.40395942, 0.41065013, 0.41622168,\n",
              "       0.42711824, 0.42171568, 0.400603  , 0.38760233, 0.39417118,\n",
              "       0.41044864, 0.38883734, 0.3476623 ], dtype=float32)"
            ]
          },
          "metadata": {},
          "output_type": "display_data"
        },
        {
          "data": {
            "application/vnd.google.colaboratory.intrinsic+json": {
              "type": "string"
            },
            "text/plain": [
              "'continent'"
            ]
          },
          "metadata": {},
          "output_type": "display_data"
        },
        {
          "data": {
            "text/plain": [
              "(5121,)"
            ]
          },
          "metadata": {},
          "output_type": "display_data"
        },
        {
          "data": {
            "application/vnd.google.colaboratory.intrinsic+json": {
              "type": "string"
            },
            "text/plain": [
              "'EUROPE'"
            ]
          },
          "metadata": {},
          "output_type": "display_data"
        }
      ],
      "source": [
        "for key in train_features.keys():\n",
        "  display(key)\n",
        "  display(train_features[key].shape)\n",
        "  display(train_features[key][0])"
      ]
    },
    {
      "cell_type": "code",
      "execution_count": 21,
      "metadata": {
        "id": "DvAMQiKXh7eL"
      },
      "outputs": [],
      "source": [
        "val_y, val_features = shuffle_data(val_y, val_features)"
      ]
    },
    {
      "cell_type": "code",
      "execution_count": 22,
      "metadata": {
        "colab": {
          "base_uri": "https://localhost:8080/",
          "height": 52
        },
        "id": "lvcqqXmIh_l5",
        "outputId": "f3618ad3-76b8-45f1-9d9f-b79851281526"
      },
      "outputs": [
        {
          "data": {
            "text/plain": [
              "(2430,)"
            ]
          },
          "metadata": {},
          "output_type": "display_data"
        },
        {
          "data": {
            "text/plain": [
              "array([0, 1, 0, 0, 2, 2, 2, 0, 0, 1, 0, 1, 2, 0, 0])"
            ]
          },
          "metadata": {},
          "output_type": "display_data"
        }
      ],
      "source": [
        "display(val_y.shape)\n",
        "display(val_y[:15])"
      ]
    },
    {
      "cell_type": "code",
      "execution_count": 23,
      "metadata": {
        "colab": {
          "base_uri": "https://localhost:8080/",
          "height": 752
        },
        "id": "Gp_dcV-4iFtW",
        "outputId": "f9911fa5-ed1a-40db-f0a9-4770c613191b"
      },
      "outputs": [
        {
          "data": {
            "application/vnd.google.colaboratory.intrinsic+json": {
              "type": "string"
            },
            "text/plain": [
              "'chroma'"
            ]
          },
          "metadata": {},
          "output_type": "display_data"
        },
        {
          "data": {
            "text/plain": [
              "(2430, 12)"
            ]
          },
          "metadata": {},
          "output_type": "display_data"
        },
        {
          "data": {
            "text/plain": [
              "array([0.4496845 , 0.35171452, 0.23859273, 0.20768486, 0.2113244 ,\n",
              "       0.2059084 , 0.426146  , 0.5451703 , 0.4137224 , 0.52895206,\n",
              "       0.3785342 , 0.36734363], dtype=float32)"
            ]
          },
          "metadata": {},
          "output_type": "display_data"
        },
        {
          "data": {
            "application/vnd.google.colaboratory.intrinsic+json": {
              "type": "string"
            },
            "text/plain": [
              "'rms'"
            ]
          },
          "metadata": {},
          "output_type": "display_data"
        },
        {
          "data": {
            "text/plain": [
              "(2430, 1)"
            ]
          },
          "metadata": {},
          "output_type": "display_data"
        },
        {
          "data": {
            "text/plain": [
              "array([0.0429501], dtype=float32)"
            ]
          },
          "metadata": {},
          "output_type": "display_data"
        },
        {
          "data": {
            "application/vnd.google.colaboratory.intrinsic+json": {
              "type": "string"
            },
            "text/plain": [
              "'spectral_centroid'"
            ]
          },
          "metadata": {},
          "output_type": "display_data"
        },
        {
          "data": {
            "text/plain": [
              "(2430, 1)"
            ]
          },
          "metadata": {},
          "output_type": "display_data"
        },
        {
          "data": {
            "text/plain": [
              "array([0.49498773], dtype=float32)"
            ]
          },
          "metadata": {},
          "output_type": "display_data"
        },
        {
          "data": {
            "application/vnd.google.colaboratory.intrinsic+json": {
              "type": "string"
            },
            "text/plain": [
              "'melspectrogram'"
            ]
          },
          "metadata": {},
          "output_type": "display_data"
        },
        {
          "data": {
            "text/plain": [
              "(2430, 128)"
            ]
          },
          "metadata": {},
          "output_type": "display_data"
        },
        {
          "data": {
            "text/plain": [
              "array([0.5277056 , 0.56796145, 0.5761355 , 0.5476592 , 0.5648036 ,\n",
              "       0.56978697, 0.5702873 , 0.5722318 , 0.5569275 , 0.6098585 ,\n",
              "       0.60749036, 0.6186538 , 0.6167475 , 0.60849816, 0.6179294 ,\n",
              "       0.6165562 , 0.61162347, 0.6049849 , 0.59298337, 0.61121076,\n",
              "       0.61097264, 0.5969541 , 0.5796388 , 0.580425  , 0.58155394,\n",
              "       0.5870887 , 0.5782735 , 0.58084816, 0.58979076, 0.59933573,\n",
              "       0.5981921 , 0.5916926 , 0.57523376, 0.57919294, 0.5718747 ,\n",
              "       0.5733414 , 0.5649127 , 0.56025493, 0.5517168 , 0.55023986,\n",
              "       0.5497976 , 0.5433429 , 0.5349939 , 0.5254421 , 0.5343912 ,\n",
              "       0.5378549 , 0.5402583 , 0.53563964, 0.53541213, 0.5450865 ,\n",
              "       0.5549235 , 0.55522925, 0.5712891 , 0.57830924, 0.5788414 ,\n",
              "       0.57626754, 0.57507324, 0.57842666, 0.5884662 , 0.6075044 ,\n",
              "       0.62026983, 0.6398616 , 0.6367847 , 0.6371294 , 0.6408451 ,\n",
              "       0.63488513, 0.6391041 , 0.64268064, 0.64656144, 0.6271682 ,\n",
              "       0.63551384, 0.6312175 , 0.62571615, 0.6231286 , 0.6386038 ,\n",
              "       0.65723526, 0.66365415, 0.66699773, 0.671707  , 0.67485744,\n",
              "       0.681998  , 0.6810057 , 0.68437415, 0.6696552 , 0.6943231 ,\n",
              "       0.6832171 , 0.682632  , 0.724152  , 0.7242398 , 0.71754956,\n",
              "       0.68466014, 0.666339  , 0.6643391 , 0.6918928 , 0.70133024,\n",
              "       0.6941022 , 0.6664886 , 0.64368826, 0.645402  , 0.66938967,\n",
              "       0.68297637, 0.68239933, 0.67125684, 0.65495783, 0.63182163,\n",
              "       0.5872711 , 0.5700385 , 0.54548836, 0.514821  , 0.5180789 ,\n",
              "       0.541444  , 0.5501806 , 0.5286161 , 0.5166617 , 0.5300817 ,\n",
              "       0.51652116, 0.51510245, 0.5004974 , 0.47956538, 0.45182472,\n",
              "       0.45853   , 0.4577988 , 0.4305114 , 0.42107183, 0.40898547,\n",
              "       0.44265264, 0.44030368, 0.3966272 ], dtype=float32)"
            ]
          },
          "metadata": {},
          "output_type": "display_data"
        },
        {
          "data": {
            "application/vnd.google.colaboratory.intrinsic+json": {
              "type": "string"
            },
            "text/plain": [
              "'continent'"
            ]
          },
          "metadata": {},
          "output_type": "display_data"
        },
        {
          "data": {
            "text/plain": [
              "(2430,)"
            ]
          },
          "metadata": {},
          "output_type": "display_data"
        },
        {
          "data": {
            "application/vnd.google.colaboratory.intrinsic+json": {
              "type": "string"
            },
            "text/plain": [
              "'AMERICAS'"
            ]
          },
          "metadata": {},
          "output_type": "display_data"
        }
      ],
      "source": [
        "for key in val_features.keys():\n",
        "  display(key)\n",
        "  display(val_features[key].shape)\n",
        "  display(val_features[key][0])"
      ]
    },
    {
      "cell_type": "markdown",
      "metadata": {
        "id": "x0CMc8r2TN1Q"
      },
      "source": [
        "# One Hot Encode Continents"
      ]
    },
    {
      "cell_type": "code",
      "execution_count": 24,
      "metadata": {
        "id": "iiv_RDrQjVzI"
      },
      "outputs": [],
      "source": [
        "encoder = OneHotEncoder(sparse_output=False)\n",
        "\n",
        "train_continents = train_features['continent'].reshape(-1, 1)\n",
        "val_continents = val_features['continent'].reshape(-1, 1)\n",
        "\n",
        "train_continents = encoder.fit_transform(train_continents)\n",
        "val_continents = encoder.fit_transform(val_continents)"
      ]
    },
    {
      "cell_type": "code",
      "execution_count": 25,
      "metadata": {
        "colab": {
          "base_uri": "https://localhost:8080/",
          "height": 225
        },
        "id": "kW1pGWpcj06W",
        "outputId": "f76fbdda-adbc-4bba-9293-3897f436b8d6"
      },
      "outputs": [
        {
          "data": {
            "text/plain": [
              "(5121, 5)"
            ]
          },
          "metadata": {},
          "output_type": "display_data"
        },
        {
          "data": {
            "text/plain": [
              "array([[0., 0., 0., 1., 0.],\n",
              "       [0., 0., 0., 1., 0.],\n",
              "       [0., 0., 0., 1., 0.],\n",
              "       [0., 0., 0., 1., 0.],\n",
              "       [0., 1., 0., 0., 0.]])"
            ]
          },
          "metadata": {},
          "output_type": "display_data"
        },
        {
          "data": {
            "text/plain": [
              "(2430, 5)"
            ]
          },
          "metadata": {},
          "output_type": "display_data"
        },
        {
          "data": {
            "text/plain": [
              "array([[0., 1., 0., 0., 0.],\n",
              "       [0., 0., 0., 1., 0.],\n",
              "       [0., 1., 0., 0., 0.],\n",
              "       [0., 1., 0., 0., 0.],\n",
              "       [0., 0., 0., 1., 0.]])"
            ]
          },
          "metadata": {},
          "output_type": "display_data"
        }
      ],
      "source": [
        "display(train_continents.shape)\n",
        "display(train_continents[:5])\n",
        "\n",
        "display(val_continents.shape)\n",
        "display(val_continents[:5])"
      ]
    },
    {
      "cell_type": "markdown",
      "metadata": {
        "id": "9D_PrIf9WDEO"
      },
      "source": [
        "# Random Forest Models"
      ]
    },
    {
      "cell_type": "code",
      "execution_count": 28,
      "metadata": {
        "id": "nOI_O9WdkEtN"
      },
      "outputs": [],
      "source": [
        "train_results = {}\n",
        "val_results = {}"
      ]
    },
    {
      "cell_type": "markdown",
      "metadata": {
        "id": "5L_eN-qhpFjI"
      },
      "source": [
        "## With only melspectrogram"
      ]
    },
    {
      "cell_type": "markdown",
      "metadata": {
        "id": "Mn0AZcfepFjJ"
      },
      "source": [
        "### create features"
      ]
    },
    {
      "cell_type": "code",
      "execution_count": 29,
      "metadata": {
        "colab": {
          "base_uri": "https://localhost:8080/"
        },
        "id": "h2mZVexhpFjJ",
        "outputId": "35cedd0b-82d5-4a81-dc71-ff6caca2a502"
      },
      "outputs": [
        {
          "data": {
            "text/plain": [
              "array([[0.65433073, 0.6958824 , 0.7123113 , ..., 0.41044864, 0.38883734,\n",
              "        0.3476623 ],\n",
              "       [0.38403085, 0.5044165 , 0.5279443 , ..., 0.45635247, 0.45045754,\n",
              "        0.4076096 ],\n",
              "       [0.48056912, 0.52384883, 0.53395516, ..., 0.36845207, 0.3448437 ,\n",
              "        0.30977237],\n",
              "       ...,\n",
              "       [0.5318827 , 0.5183637 , 0.46389982, ..., 0.37741134, 0.36465657,\n",
              "        0.39740574],\n",
              "       [0.04193026, 0.05771878, 0.15508689, ..., 0.43689266, 0.43440598,\n",
              "        0.38224494],\n",
              "       [0.65125245, 0.69587564, 0.7181591 , ..., 0.50978357, 0.4929562 ,\n",
              "        0.47496927]], dtype=float32)"
            ]
          },
          "execution_count": 29,
          "metadata": {},
          "output_type": "execute_result"
        }
      ],
      "source": [
        "training_features = train_features['melspectrogram']\n",
        "\n",
        "training_features"
      ]
    },
    {
      "cell_type": "code",
      "execution_count": 30,
      "metadata": {
        "colab": {
          "base_uri": "https://localhost:8080/"
        },
        "id": "c2ZMhGNCpFjJ",
        "outputId": "74c7af29-57c9-44f5-f1e2-ecad3fd1d960"
      },
      "outputs": [
        {
          "data": {
            "text/plain": [
              "(5121, 128)"
            ]
          },
          "execution_count": 30,
          "metadata": {},
          "output_type": "execute_result"
        }
      ],
      "source": [
        "training_features.shape"
      ]
    },
    {
      "cell_type": "code",
      "execution_count": 31,
      "metadata": {
        "colab": {
          "base_uri": "https://localhost:8080/"
        },
        "id": "J4io01fepFjJ",
        "outputId": "790a1f61-6f8a-4203-d265-8d2e12085e78"
      },
      "outputs": [
        {
          "data": {
            "text/plain": [
              "array([[0.5277056 , 0.56796145, 0.5761355 , ..., 0.44265264, 0.44030368,\n",
              "        0.3966272 ],\n",
              "       [0.53210115, 0.5726647 , 0.5717199 , ..., 0.49783304, 0.49742013,\n",
              "        0.45309958],\n",
              "       [0.18178502, 0.19196188, 0.24195927, ..., 0.42663425, 0.424184  ,\n",
              "        0.38380054],\n",
              "       ...,\n",
              "       [0.63205403, 0.68277365, 0.69991136, ..., 0.501742  , 0.47565678,\n",
              "        0.42176136],\n",
              "       [0.6169853 , 0.6092418 , 0.68291956, ..., 0.5466667 , 0.54733336,\n",
              "        0.5003443 ],\n",
              "       [0.4464193 , 0.42042515, 0.4214387 , ..., 0.47342688, 0.4684552 ,\n",
              "        0.4220938 ]], dtype=float32)"
            ]
          },
          "execution_count": 31,
          "metadata": {},
          "output_type": "execute_result"
        }
      ],
      "source": [
        "validation_features = val_features['melspectrogram']\n",
        "\n",
        "validation_features"
      ]
    },
    {
      "cell_type": "code",
      "execution_count": 32,
      "metadata": {
        "colab": {
          "base_uri": "https://localhost:8080/"
        },
        "id": "IdPAubZUpFjJ",
        "outputId": "7dca3800-2a38-4320-9432-b4ac85ae745e"
      },
      "outputs": [
        {
          "data": {
            "text/plain": [
              "(2430, 128)"
            ]
          },
          "execution_count": 32,
          "metadata": {},
          "output_type": "execute_result"
        }
      ],
      "source": [
        "validation_features.shape"
      ]
    },
    {
      "cell_type": "markdown",
      "metadata": {
        "id": "b3_EkUmxpFjK"
      },
      "source": [
        "### fit the model with training data"
      ]
    },
    {
      "cell_type": "code",
      "execution_count": 33,
      "metadata": {
        "colab": {
          "base_uri": "https://localhost:8080/",
          "height": 75
        },
        "id": "Rs4JWdrkpFjK",
        "outputId": "c18034de-370c-4f90-d1be-774101ae6c51"
      },
      "outputs": [
        {
          "data": {
            "text/html": [
              "<style>#sk-container-id-1 {color: black;background-color: white;}#sk-container-id-1 pre{padding: 0;}#sk-container-id-1 div.sk-toggleable {background-color: white;}#sk-container-id-1 label.sk-toggleable__label {cursor: pointer;display: block;width: 100%;margin-bottom: 0;padding: 0.3em;box-sizing: border-box;text-align: center;}#sk-container-id-1 label.sk-toggleable__label-arrow:before {content: \"▸\";float: left;margin-right: 0.25em;color: #696969;}#sk-container-id-1 label.sk-toggleable__label-arrow:hover:before {color: black;}#sk-container-id-1 div.sk-estimator:hover label.sk-toggleable__label-arrow:before {color: black;}#sk-container-id-1 div.sk-toggleable__content {max-height: 0;max-width: 0;overflow: hidden;text-align: left;background-color: #f0f8ff;}#sk-container-id-1 div.sk-toggleable__content pre {margin: 0.2em;color: black;border-radius: 0.25em;background-color: #f0f8ff;}#sk-container-id-1 input.sk-toggleable__control:checked~div.sk-toggleable__content {max-height: 200px;max-width: 100%;overflow: auto;}#sk-container-id-1 input.sk-toggleable__control:checked~label.sk-toggleable__label-arrow:before {content: \"▾\";}#sk-container-id-1 div.sk-estimator input.sk-toggleable__control:checked~label.sk-toggleable__label {background-color: #d4ebff;}#sk-container-id-1 div.sk-label input.sk-toggleable__control:checked~label.sk-toggleable__label {background-color: #d4ebff;}#sk-container-id-1 input.sk-hidden--visually {border: 0;clip: rect(1px 1px 1px 1px);clip: rect(1px, 1px, 1px, 1px);height: 1px;margin: -1px;overflow: hidden;padding: 0;position: absolute;width: 1px;}#sk-container-id-1 div.sk-estimator {font-family: monospace;background-color: #f0f8ff;border: 1px dotted black;border-radius: 0.25em;box-sizing: border-box;margin-bottom: 0.5em;}#sk-container-id-1 div.sk-estimator:hover {background-color: #d4ebff;}#sk-container-id-1 div.sk-parallel-item::after {content: \"\";width: 100%;border-bottom: 1px solid gray;flex-grow: 1;}#sk-container-id-1 div.sk-label:hover label.sk-toggleable__label {background-color: #d4ebff;}#sk-container-id-1 div.sk-serial::before {content: \"\";position: absolute;border-left: 1px solid gray;box-sizing: border-box;top: 0;bottom: 0;left: 50%;z-index: 0;}#sk-container-id-1 div.sk-serial {display: flex;flex-direction: column;align-items: center;background-color: white;padding-right: 0.2em;padding-left: 0.2em;position: relative;}#sk-container-id-1 div.sk-item {position: relative;z-index: 1;}#sk-container-id-1 div.sk-parallel {display: flex;align-items: stretch;justify-content: center;background-color: white;position: relative;}#sk-container-id-1 div.sk-item::before, #sk-container-id-1 div.sk-parallel-item::before {content: \"\";position: absolute;border-left: 1px solid gray;box-sizing: border-box;top: 0;bottom: 0;left: 50%;z-index: -1;}#sk-container-id-1 div.sk-parallel-item {display: flex;flex-direction: column;z-index: 1;position: relative;background-color: white;}#sk-container-id-1 div.sk-parallel-item:first-child::after {align-self: flex-end;width: 50%;}#sk-container-id-1 div.sk-parallel-item:last-child::after {align-self: flex-start;width: 50%;}#sk-container-id-1 div.sk-parallel-item:only-child::after {width: 0;}#sk-container-id-1 div.sk-dashed-wrapped {border: 1px dashed gray;margin: 0 0.4em 0.5em 0.4em;box-sizing: border-box;padding-bottom: 0.4em;background-color: white;}#sk-container-id-1 div.sk-label label {font-family: monospace;font-weight: bold;display: inline-block;line-height: 1.2em;}#sk-container-id-1 div.sk-label-container {text-align: center;}#sk-container-id-1 div.sk-container {/* jupyter's `normalize.less` sets `[hidden] { display: none; }` but bootstrap.min.css set `[hidden] { display: none !important; }` so we also need the `!important` here to be able to override the default hidden behavior on the sphinx rendered scikit-learn.org. See: https://github.com/scikit-learn/scikit-learn/issues/21755 */display: inline-block !important;position: relative;}#sk-container-id-1 div.sk-text-repr-fallback {display: none;}</style><div id=\"sk-container-id-1\" class=\"sk-top-container\"><div class=\"sk-text-repr-fallback\"><pre>RandomForestClassifier(criterion=&#x27;entropy&#x27;, n_estimators=50)</pre><b>In a Jupyter environment, please rerun this cell to show the HTML representation or trust the notebook. <br />On GitHub, the HTML representation is unable to render, please try loading this page with nbviewer.org.</b></div><div class=\"sk-container\" hidden><div class=\"sk-item\"><div class=\"sk-estimator sk-toggleable\"><input class=\"sk-toggleable__control sk-hidden--visually\" id=\"sk-estimator-id-1\" type=\"checkbox\" checked><label for=\"sk-estimator-id-1\" class=\"sk-toggleable__label sk-toggleable__label-arrow\">RandomForestClassifier</label><div class=\"sk-toggleable__content\"><pre>RandomForestClassifier(criterion=&#x27;entropy&#x27;, n_estimators=50)</pre></div></div></div></div></div>"
            ],
            "text/plain": [
              "RandomForestClassifier(criterion='entropy', n_estimators=50)"
            ]
          },
          "execution_count": 33,
          "metadata": {},
          "output_type": "execute_result"
        }
      ],
      "source": [
        "rf = RandomForestClassifier(n_estimators=50, criterion='entropy')\n",
        "rf.fit(training_features, train_y)"
      ]
    },
    {
      "cell_type": "code",
      "execution_count": 34,
      "metadata": {
        "colab": {
          "base_uri": "https://localhost:8080/"
        },
        "id": "5ojXDRw9pFjK",
        "outputId": "a459161c-36d2-4c4c-99fb-0bdb7899c348"
      },
      "outputs": [
        {
          "name": "stdout",
          "output_type": "stream",
          "text": [
            "Training accuracy: 1.0\n",
            "Validation accuracy: 0.5374485596707819\n"
          ]
        }
      ],
      "source": [
        "print('Training accuracy:', rf.score(training_features, train_y))\n",
        "train_results['melspectrogram'] = rf.score(training_features, train_y)\n",
        "\n",
        "print('Validation accuracy:', rf.score(validation_features, val_y))\n",
        "val_results['melspectrogram'] = rf.score(validation_features, val_y)"
      ]
    },
    {
      "cell_type": "markdown",
      "metadata": {
        "id": "0b1UXVSepFjK"
      },
      "source": [
        "### evaluate the results"
      ]
    },
    {
      "cell_type": "code",
      "execution_count": 35,
      "metadata": {
        "colab": {
          "base_uri": "https://localhost:8080/"
        },
        "id": "QPDkdkaIpFjK",
        "outputId": "9d8dc34c-0833-42a9-cd32-07335cc3b758"
      },
      "outputs": [
        {
          "name": "stdout",
          "output_type": "stream",
          "text": [
            "Training classification Report \n",
            "\n",
            "              precision    recall  f1-score   support\n",
            "\n",
            "      barswa       1.00      1.00      1.00      1752\n",
            "      comsan       1.00      1.00      1.00      1713\n",
            "     eaywag1       1.00      1.00      1.00      1656\n",
            "\n",
            "    accuracy                           1.00      5121\n",
            "   macro avg       1.00      1.00      1.00      5121\n",
            "weighted avg       1.00      1.00      1.00      5121\n",
            "\n"
          ]
        }
      ],
      "source": [
        "train_yhat_result = rf.predict(training_features)\n",
        "\n",
        "print('Training classification Report \\n')\n",
        "print(classification_report(train_y, train_yhat_result, target_names=classes))"
      ]
    },
    {
      "cell_type": "code",
      "execution_count": 36,
      "metadata": {
        "colab": {
          "base_uri": "https://localhost:8080/"
        },
        "id": "BX6nftGipFjK",
        "outputId": "67af5110-ce56-4f5d-a5a9-2d59387d0fdf"
      },
      "outputs": [
        {
          "name": "stdout",
          "output_type": "stream",
          "text": [
            "Validation classification Report \n",
            "\n",
            "              precision    recall  f1-score   support\n",
            "\n",
            "      barswa       0.65      0.56      0.60      1032\n",
            "      comsan       0.51      0.52      0.52       618\n",
            "     eaywag1       0.45      0.52      0.48       780\n",
            "\n",
            "    accuracy                           0.54      2430\n",
            "   macro avg       0.53      0.53      0.53      2430\n",
            "weighted avg       0.55      0.54      0.54      2430\n",
            "\n"
          ]
        }
      ],
      "source": [
        "val_yhat_result = rf.predict(validation_features)\n",
        "\n",
        "print('Validation classification Report \\n')\n",
        "print(classification_report(val_y, val_yhat_result, target_names=classes))"
      ]
    },
    {
      "cell_type": "code",
      "execution_count": 37,
      "metadata": {
        "colab": {
          "base_uri": "https://localhost:8080/",
          "height": 472
        },
        "id": "_dyQulfqpFjK",
        "outputId": "6ada43f8-0322-42a6-ff45-e61dab4c6c89"
      },
      "outputs": [
        {
          "data": {
            "image/png": "[encoded data removed]",
            "text/plain": [
              "<Figure size 640x480 with 1 Axes>"
            ]
          },
          "metadata": {},
          "output_type": "display_data"
        }
      ],
      "source": [
        "train_cm = tf.math.confusion_matrix(train_y, train_yhat_result)\n",
        "\n",
        "ax = sns.heatmap(train_cm,\n",
        "                 annot=True,\n",
        "                 fmt='.0f',\n",
        "                 cmap='Blues',\n",
        "                 xticklabels=classes,\n",
        "                 yticklabels=classes,\n",
        "                 cbar=False)\n",
        "\n",
        "ax.set(xlabel='Predicted Label', ylabel='True Label')\n",
        "plt.title('Train Confusion Matrix')\n",
        "plt.show()"
      ]
    },
    {
      "cell_type": "code",
      "execution_count": 38,
      "metadata": {
        "colab": {
          "base_uri": "https://localhost:8080/",
          "height": 472
        },
        "id": "kkWpsLuDpFjK",
        "outputId": "41bf3073-4517-446a-ef8f-f3e8561297fc"
      },
      "outputs": [
        {
          "data": {
            "image/png": "[encoded data removed]",
            "text/plain": [
              "<Figure size 640x480 with 1 Axes>"
            ]
          },
          "metadata": {},
          "output_type": "display_data"
        }
      ],
      "source": [
        "val_cm = tf.math.confusion_matrix(val_y, val_yhat_result)\n",
        "\n",
        "ax = sns.heatmap(val_cm,\n",
        "                 annot=True,\n",
        "                 fmt='.0f',\n",
        "                 cmap='Blues',\n",
        "                 xticklabels=classes,\n",
        "                 yticklabels=classes,\n",
        "                 cbar=False)\n",
        "\n",
        "ax.set(xlabel='Predicted Label', ylabel='True Label')\n",
        "plt.title('Validation Confusion Matrix')\n",
        "plt.show()"
      ]
    },
    {
      "cell_type": "markdown",
      "metadata": {
        "id": "aSWDJTjrsZHZ"
      },
      "source": [
        "## With melspectrogram & chroma"
      ]
    },
    {
      "cell_type": "markdown",
      "metadata": {
        "id": "Bq5nVnaQsZHZ"
      },
      "source": [
        "### create features"
      ]
    },
    {
      "cell_type": "code",
      "execution_count": 39,
      "metadata": {
        "colab": {
          "base_uri": "https://localhost:8080/"
        },
        "id": "etfDUwJ7sZHZ",
        "outputId": "15dabb0f-33dc-4ef7-b6ef-f765e1788e9a"
      },
      "outputs": [
        {
          "data": {
            "text/plain": [
              "array([[0.65433073, 0.6958824 , 0.7123113 , ..., 0.49990478, 0.45835182,\n",
              "        0.4471311 ],\n",
              "       [0.38403085, 0.5044165 , 0.5279443 , ..., 0.42638284, 0.47011164,\n",
              "        0.57106066],\n",
              "       [0.48056912, 0.52384883, 0.53395516, ..., 0.49066094, 0.4950961 ,\n",
              "        0.55451065],\n",
              "       ...,\n",
              "       [0.5318827 , 0.5183637 , 0.46389982, ..., 0.45319268, 0.4264984 ,\n",
              "        0.40126625],\n",
              "       [0.04193026, 0.05771878, 0.15508689, ..., 0.59175646, 0.48122048,\n",
              "        0.4592787 ],\n",
              "       [0.65125245, 0.69587564, 0.7181591 , ..., 0.27130228, 0.25310007,\n",
              "        0.23446657]], dtype=float32)"
            ]
          },
          "execution_count": 39,
          "metadata": {},
          "output_type": "execute_result"
        }
      ],
      "source": [
        "training_features = np.concatenate((train_features['melspectrogram'], train_features['chroma']), axis=1)\n",
        "\n",
        "training_features"
      ]
    },
    {
      "cell_type": "code",
      "execution_count": 40,
      "metadata": {
        "colab": {
          "base_uri": "https://localhost:8080/"
        },
        "id": "JvsKR3zJsZHa",
        "outputId": "bef20bca-a257-462b-8974-686442971a52"
      },
      "outputs": [
        {
          "data": {
            "text/plain": [
              "(5121, 140)"
            ]
          },
          "execution_count": 40,
          "metadata": {},
          "output_type": "execute_result"
        }
      ],
      "source": [
        "training_features.shape"
      ]
    },
    {
      "cell_type": "code",
      "execution_count": 41,
      "metadata": {
        "colab": {
          "base_uri": "https://localhost:8080/"
        },
        "id": "bhGiQU54sZHa",
        "outputId": "7ddbe91e-36e1-40a1-df75-b83a6095f5dc"
      },
      "outputs": [
        {
          "data": {
            "text/plain": [
              "array([[0.5277056 , 0.56796145, 0.5761355 , ..., 0.52895206, 0.3785342 ,\n",
              "        0.36734363],\n",
              "       [0.53210115, 0.5726647 , 0.5717199 , ..., 0.5957104 , 0.6221315 ,\n",
              "        0.6101317 ],\n",
              "       [0.18178502, 0.19196188, 0.24195927, ..., 0.43508217, 0.3999713 ,\n",
              "        0.3909013 ],\n",
              "       ...,\n",
              "       [0.63205403, 0.68277365, 0.69991136, ..., 0.36609417, 0.37683022,\n",
              "        0.4687866 ],\n",
              "       [0.6169853 , 0.6092418 , 0.68291956, ..., 0.62025523, 0.62004787,\n",
              "        0.62026465],\n",
              "       [0.4464193 , 0.42042515, 0.4214387 , ..., 0.7326641 , 0.62414134,\n",
              "        0.55196506]], dtype=float32)"
            ]
          },
          "execution_count": 41,
          "metadata": {},
          "output_type": "execute_result"
        }
      ],
      "source": [
        "validation_features = np.concatenate((val_features['melspectrogram'], val_features['chroma']), axis=1)\n",
        "\n",
        "validation_features"
      ]
    },
    {
      "cell_type": "code",
      "execution_count": 42,
      "metadata": {
        "colab": {
          "base_uri": "https://localhost:8080/"
        },
        "id": "ZsmQJgK4sZHa",
        "outputId": "e4f8383d-9ae7-4605-c175-ef36449e5a79"
      },
      "outputs": [
        {
          "data": {
            "text/plain": [
              "(2430, 140)"
            ]
          },
          "execution_count": 42,
          "metadata": {},
          "output_type": "execute_result"
        }
      ],
      "source": [
        "validation_features.shape"
      ]
    },
    {
      "cell_type": "markdown",
      "metadata": {
        "id": "wnKq8m7gsZHa"
      },
      "source": [
        "### fit the model with training data"
      ]
    },
    {
      "cell_type": "code",
      "execution_count": 43,
      "metadata": {
        "colab": {
          "base_uri": "https://localhost:8080/",
          "height": 75
        },
        "id": "W90tgYfqsZHa",
        "outputId": "cc8c5df3-24a6-422c-d66e-e384df820700"
      },
      "outputs": [
        {
          "data": {
            "text/html": [
              "<style>#sk-container-id-2 {color: black;background-color: white;}#sk-container-id-2 pre{padding: 0;}#sk-container-id-2 div.sk-toggleable {background-color: white;}#sk-container-id-2 label.sk-toggleable__label {cursor: pointer;display: block;width: 100%;margin-bottom: 0;padding: 0.3em;box-sizing: border-box;text-align: center;}#sk-container-id-2 label.sk-toggleable__label-arrow:before {content: \"▸\";float: left;margin-right: 0.25em;color: #696969;}#sk-container-id-2 label.sk-toggleable__label-arrow:hover:before {color: black;}#sk-container-id-2 div.sk-estimator:hover label.sk-toggleable__label-arrow:before {color: black;}#sk-container-id-2 div.sk-toggleable__content {max-height: 0;max-width: 0;overflow: hidden;text-align: left;background-color: #f0f8ff;}#sk-container-id-2 div.sk-toggleable__content pre {margin: 0.2em;color: black;border-radius: 0.25em;background-color: #f0f8ff;}#sk-container-id-2 input.sk-toggleable__control:checked~div.sk-toggleable__content {max-height: 200px;max-width: 100%;overflow: auto;}#sk-container-id-2 input.sk-toggleable__control:checked~label.sk-toggleable__label-arrow:before {content: \"▾\";}#sk-container-id-2 div.sk-estimator input.sk-toggleable__control:checked~label.sk-toggleable__label {background-color: #d4ebff;}#sk-container-id-2 div.sk-label input.sk-toggleable__control:checked~label.sk-toggleable__label {background-color: #d4ebff;}#sk-container-id-2 input.sk-hidden--visually {border: 0;clip: rect(1px 1px 1px 1px);clip: rect(1px, 1px, 1px, 1px);height: 1px;margin: -1px;overflow: hidden;padding: 0;position: absolute;width: 1px;}#sk-container-id-2 div.sk-estimator {font-family: monospace;background-color: #f0f8ff;border: 1px dotted black;border-radius: 0.25em;box-sizing: border-box;margin-bottom: 0.5em;}#sk-container-id-2 div.sk-estimator:hover {background-color: #d4ebff;}#sk-container-id-2 div.sk-parallel-item::after {content: \"\";width: 100%;border-bottom: 1px solid gray;flex-grow: 1;}#sk-container-id-2 div.sk-label:hover label.sk-toggleable__label {background-color: #d4ebff;}#sk-container-id-2 div.sk-serial::before {content: \"\";position: absolute;border-left: 1px solid gray;box-sizing: border-box;top: 0;bottom: 0;left: 50%;z-index: 0;}#sk-container-id-2 div.sk-serial {display: flex;flex-direction: column;align-items: center;background-color: white;padding-right: 0.2em;padding-left: 0.2em;position: relative;}#sk-container-id-2 div.sk-item {position: relative;z-index: 1;}#sk-container-id-2 div.sk-parallel {display: flex;align-items: stretch;justify-content: center;background-color: white;position: relative;}#sk-container-id-2 div.sk-item::before, #sk-container-id-2 div.sk-parallel-item::before {content: \"\";position: absolute;border-left: 1px solid gray;box-sizing: border-box;top: 0;bottom: 0;left: 50%;z-index: -1;}#sk-container-id-2 div.sk-parallel-item {display: flex;flex-direction: column;z-index: 1;position: relative;background-color: white;}#sk-container-id-2 div.sk-parallel-item:first-child::after {align-self: flex-end;width: 50%;}#sk-container-id-2 div.sk-parallel-item:last-child::after {align-self: flex-start;width: 50%;}#sk-container-id-2 div.sk-parallel-item:only-child::after {width: 0;}#sk-container-id-2 div.sk-dashed-wrapped {border: 1px dashed gray;margin: 0 0.4em 0.5em 0.4em;box-sizing: border-box;padding-bottom: 0.4em;background-color: white;}#sk-container-id-2 div.sk-label label {font-family: monospace;font-weight: bold;display: inline-block;line-height: 1.2em;}#sk-container-id-2 div.sk-label-container {text-align: center;}#sk-container-id-2 div.sk-container {/* jupyter's `normalize.less` sets `[hidden] { display: none; }` but bootstrap.min.css set `[hidden] { display: none !important; }` so we also need the `!important` here to be able to override the default hidden behavior on the sphinx rendered scikit-learn.org. See: https://github.com/scikit-learn/scikit-learn/issues/21755 */display: inline-block !important;position: relative;}#sk-container-id-2 div.sk-text-repr-fallback {display: none;}</style><div id=\"sk-container-id-2\" class=\"sk-top-container\"><div class=\"sk-text-repr-fallback\"><pre>RandomForestClassifier(criterion=&#x27;entropy&#x27;, n_estimators=50)</pre><b>In a Jupyter environment, please rerun this cell to show the HTML representation or trust the notebook. <br />On GitHub, the HTML representation is unable to render, please try loading this page with nbviewer.org.</b></div><div class=\"sk-container\" hidden><div class=\"sk-item\"><div class=\"sk-estimator sk-toggleable\"><input class=\"sk-toggleable__control sk-hidden--visually\" id=\"sk-estimator-id-2\" type=\"checkbox\" checked><label for=\"sk-estimator-id-2\" class=\"sk-toggleable__label sk-toggleable__label-arrow\">RandomForestClassifier</label><div class=\"sk-toggleable__content\"><pre>RandomForestClassifier(criterion=&#x27;entropy&#x27;, n_estimators=50)</pre></div></div></div></div></div>"
            ],
            "text/plain": [
              "RandomForestClassifier(criterion='entropy', n_estimators=50)"
            ]
          },
          "execution_count": 43,
          "metadata": {},
          "output_type": "execute_result"
        }
      ],
      "source": [
        "rf = RandomForestClassifier(n_estimators=50, criterion='entropy')\n",
        "rf.fit(training_features, train_y)"
      ]
    },
    {
      "cell_type": "code",
      "execution_count": 44,
      "metadata": {
        "colab": {
          "base_uri": "https://localhost:8080/"
        },
        "id": "rFj1j0gVsZHa",
        "outputId": "1ebd098a-302d-4414-de0c-fde04ce30867"
      },
      "outputs": [
        {
          "name": "stdout",
          "output_type": "stream",
          "text": [
            "Training accuracy: 1.0\n",
            "Validation accuracy: 0.5555555555555556\n"
          ]
        }
      ],
      "source": [
        "print('Training accuracy:', rf.score(training_features, train_y))\n",
        "train_results['melspectrogram_chroma'] = rf.score(training_features, train_y)\n",
        "\n",
        "print('Validation accuracy:', rf.score(validation_features, val_y))\n",
        "val_results['melspectrogram_chroma'] = rf.score(validation_features, val_y)"
      ]
    },
    {
      "cell_type": "markdown",
      "metadata": {
        "id": "IG0vvsjjsZHa"
      },
      "source": [
        "### evaluate the results"
      ]
    },
    {
      "cell_type": "code",
      "execution_count": 45,
      "metadata": {
        "colab": {
          "base_uri": "https://localhost:8080/"
        },
        "id": "Xq_ubLZ6sZHb",
        "outputId": "6998ca54-bccd-4389-d8e4-63de49ba4859"
      },
      "outputs": [
        {
          "name": "stdout",
          "output_type": "stream",
          "text": [
            "Training classification Report \n",
            "\n",
            "              precision    recall  f1-score   support\n",
            "\n",
            "      barswa       1.00      1.00      1.00      1752\n",
            "      comsan       1.00      1.00      1.00      1713\n",
            "     eaywag1       1.00      1.00      1.00      1656\n",
            "\n",
            "    accuracy                           1.00      5121\n",
            "   macro avg       1.00      1.00      1.00      5121\n",
            "weighted avg       1.00      1.00      1.00      5121\n",
            "\n"
          ]
        }
      ],
      "source": [
        "train_yhat_result = rf.predict(training_features)\n",
        "\n",
        "print('Training classification Report \\n')\n",
        "print(classification_report(train_y, train_yhat_result, target_names=classes))"
      ]
    },
    {
      "cell_type": "code",
      "execution_count": 46,
      "metadata": {
        "colab": {
          "base_uri": "https://localhost:8080/"
        },
        "id": "dezXZ_cZsZHb",
        "outputId": "1a87fc79-46d3-4617-c6dc-a0e2d4d1a47e"
      },
      "outputs": [
        {
          "name": "stdout",
          "output_type": "stream",
          "text": [
            "Validation classification Report \n",
            "\n",
            "              precision    recall  f1-score   support\n",
            "\n",
            "      barswa       0.65      0.60      0.62      1032\n",
            "      comsan       0.54      0.54      0.54       618\n",
            "     eaywag1       0.46      0.51      0.48       780\n",
            "\n",
            "    accuracy                           0.56      2430\n",
            "   macro avg       0.55      0.55      0.55      2430\n",
            "weighted avg       0.56      0.56      0.56      2430\n",
            "\n"
          ]
        }
      ],
      "source": [
        "val_yhat_result = rf.predict(validation_features)\n",
        "\n",
        "print('Validation classification Report \\n')\n",
        "print(classification_report(val_y, val_yhat_result, target_names=classes))"
      ]
    },
    {
      "cell_type": "code",
      "execution_count": 47,
      "metadata": {
        "colab": {
          "base_uri": "https://localhost:8080/",
          "height": 472
        },
        "id": "DliJ_bQksZHb",
        "outputId": "ff6c639b-d152-435a-cf94-ee4956c71b51"
      },
      "outputs": [
        {
          "data": {
            "image/png": "[encoded data removed]",
            "text/plain": [
              "<Figure size 640x480 with 1 Axes>"
            ]
          },
          "metadata": {},
          "output_type": "display_data"
        }
      ],
      "source": [
        "train_cm = tf.math.confusion_matrix(train_y, train_yhat_result)\n",
        "\n",
        "ax = sns.heatmap(train_cm,\n",
        "                 annot=True,\n",
        "                 fmt='.0f',\n",
        "                 cmap='Blues',\n",
        "                 xticklabels=classes,\n",
        "                 yticklabels=classes,\n",
        "                 cbar=False)\n",
        "\n",
        "ax.set(xlabel='Predicted Label', ylabel='True Label')\n",
        "plt.title('Train Confusion Matrix')\n",
        "plt.show()"
      ]
    },
    {
      "cell_type": "code",
      "execution_count": 48,
      "metadata": {
        "colab": {
          "base_uri": "https://localhost:8080/",
          "height": 472
        },
        "id": "hPBrLgaksZHb",
        "outputId": "17795668-83a5-48f1-93d4-ce538698d2d1"
      },
      "outputs": [
        {
          "data": {
            "image/png": "[encoded data removed]",
            "text/plain": [
              "<Figure size 640x480 with 1 Axes>"
            ]
          },
          "metadata": {},
          "output_type": "display_data"
        }
      ],
      "source": [
        "val_cm = tf.math.confusion_matrix(val_y, val_yhat_result)\n",
        "\n",
        "ax = sns.heatmap(val_cm,\n",
        "                 annot=True,\n",
        "                 fmt='.0f',\n",
        "                 cmap='Blues',\n",
        "                 xticklabels=classes,\n",
        "                 yticklabels=classes,\n",
        "                 cbar=False)\n",
        "\n",
        "ax.set(xlabel='Predicted Label', ylabel='True Label')\n",
        "plt.title('Validation Confusion Matrix')\n",
        "plt.show()"
      ]
    },
    {
      "cell_type": "markdown",
      "metadata": {
        "id": "qj_eA1FGqYWR"
      },
      "source": [
        "## With melspectrogram & chroma & continents"
      ]
    },
    {
      "cell_type": "markdown",
      "metadata": {
        "id": "Xq8ryN5MqYWS"
      },
      "source": [
        "### create features"
      ]
    },
    {
      "cell_type": "code",
      "execution_count": 49,
      "metadata": {
        "colab": {
          "base_uri": "https://localhost:8080/"
        },
        "id": "UJmLoo7rqYWS",
        "outputId": "d1ae7344-c054-4bc2-f66f-b6a2db18fc19"
      },
      "outputs": [
        {
          "data": {
            "text/plain": [
              "array([[0.65433073, 0.69588238, 0.71231133, ..., 0.        , 1.        ,\n",
              "        0.        ],\n",
              "       [0.38403085, 0.50441653, 0.52794433, ..., 0.        , 1.        ,\n",
              "        0.        ],\n",
              "       [0.48056912, 0.52384883, 0.53395516, ..., 0.        , 1.        ,\n",
              "        0.        ],\n",
              "       ...,\n",
              "       [0.5318827 , 0.51836371, 0.46389982, ..., 0.        , 1.        ,\n",
              "        0.        ],\n",
              "       [0.04193026, 0.05771878, 0.15508689, ..., 0.        , 1.        ,\n",
              "        0.        ],\n",
              "       [0.65125245, 0.69587564, 0.71815908, ..., 0.        , 1.        ,\n",
              "        0.        ]])"
            ]
          },
          "execution_count": 49,
          "metadata": {},
          "output_type": "execute_result"
        }
      ],
      "source": [
        "training_features = np.concatenate((train_features['melspectrogram'], train_features['chroma'], train_continents), axis=1)\n",
        "\n",
        "training_features"
      ]
    },
    {
      "cell_type": "code",
      "execution_count": 50,
      "metadata": {
        "colab": {
          "base_uri": "https://localhost:8080/"
        },
        "id": "EiCzOkDEqYWS",
        "outputId": "0836c20a-2560-4c3d-9ab0-be83c20323be"
      },
      "outputs": [
        {
          "data": {
            "text/plain": [
              "(5121, 145)"
            ]
          },
          "execution_count": 50,
          "metadata": {},
          "output_type": "execute_result"
        }
      ],
      "source": [
        "training_features.shape"
      ]
    },
    {
      "cell_type": "code",
      "execution_count": 51,
      "metadata": {
        "colab": {
          "base_uri": "https://localhost:8080/"
        },
        "id": "2fWqZ6cmqYWS",
        "outputId": "60fe133d-fe24-4f81-aad0-861735b4a625"
      },
      "outputs": [
        {
          "data": {
            "text/plain": [
              "array([[0.52770561, 0.56796145, 0.57613552, ..., 0.        , 0.        ,\n",
              "        0.        ],\n",
              "       [0.53210115, 0.57266468, 0.57171988, ..., 0.        , 1.        ,\n",
              "        0.        ],\n",
              "       [0.18178502, 0.19196188, 0.24195927, ..., 0.        , 0.        ,\n",
              "        0.        ],\n",
              "       ...,\n",
              "       [0.63205403, 0.68277365, 0.69991136, ..., 0.        , 1.        ,\n",
              "        0.        ],\n",
              "       [0.61698532, 0.60924178, 0.68291956, ..., 0.        , 1.        ,\n",
              "        0.        ],\n",
              "       [0.4464193 , 0.42042515, 0.42143869, ..., 0.        , 1.        ,\n",
              "        0.        ]])"
            ]
          },
          "execution_count": 51,
          "metadata": {},
          "output_type": "execute_result"
        }
      ],
      "source": [
        "validation_features = np.concatenate((val_features['melspectrogram'], val_features['chroma'], val_continents), axis=1)\n",
        "\n",
        "validation_features"
      ]
    },
    {
      "cell_type": "code",
      "execution_count": 52,
      "metadata": {
        "colab": {
          "base_uri": "https://localhost:8080/"
        },
        "id": "LQbd3WFCqYWS",
        "outputId": "a98120c9-31e9-41b0-dffb-6409e82eb12c"
      },
      "outputs": [
        {
          "data": {
            "text/plain": [
              "(2430, 145)"
            ]
          },
          "execution_count": 52,
          "metadata": {},
          "output_type": "execute_result"
        }
      ],
      "source": [
        "validation_features.shape"
      ]
    },
    {
      "cell_type": "markdown",
      "metadata": {
        "id": "xNQ3yW26qYWS"
      },
      "source": [
        "### fit the model with training data"
      ]
    },
    {
      "cell_type": "code",
      "execution_count": 53,
      "metadata": {
        "colab": {
          "base_uri": "https://localhost:8080/",
          "height": 75
        },
        "id": "5ab2w3B4qYWS",
        "outputId": "8e51ddcd-6ca4-4eaa-e911-8167035801c9"
      },
      "outputs": [
        {
          "data": {
            "text/html": [
              "<style>#sk-container-id-3 {color: black;background-color: white;}#sk-container-id-3 pre{padding: 0;}#sk-container-id-3 div.sk-toggleable {background-color: white;}#sk-container-id-3 label.sk-toggleable__label {cursor: pointer;display: block;width: 100%;margin-bottom: 0;padding: 0.3em;box-sizing: border-box;text-align: center;}#sk-container-id-3 label.sk-toggleable__label-arrow:before {content: \"▸\";float: left;margin-right: 0.25em;color: #696969;}#sk-container-id-3 label.sk-toggleable__label-arrow:hover:before {color: black;}#sk-container-id-3 div.sk-estimator:hover label.sk-toggleable__label-arrow:before {color: black;}#sk-container-id-3 div.sk-toggleable__content {max-height: 0;max-width: 0;overflow: hidden;text-align: left;background-color: #f0f8ff;}#sk-container-id-3 div.sk-toggleable__content pre {margin: 0.2em;color: black;border-radius: 0.25em;background-color: #f0f8ff;}#sk-container-id-3 input.sk-toggleable__control:checked~div.sk-toggleable__content {max-height: 200px;max-width: 100%;overflow: auto;}#sk-container-id-3 input.sk-toggleable__control:checked~label.sk-toggleable__label-arrow:before {content: \"▾\";}#sk-container-id-3 div.sk-estimator input.sk-toggleable__control:checked~label.sk-toggleable__label {background-color: #d4ebff;}#sk-container-id-3 div.sk-label input.sk-toggleable__control:checked~label.sk-toggleable__label {background-color: #d4ebff;}#sk-container-id-3 input.sk-hidden--visually {border: 0;clip: rect(1px 1px 1px 1px);clip: rect(1px, 1px, 1px, 1px);height: 1px;margin: -1px;overflow: hidden;padding: 0;position: absolute;width: 1px;}#sk-container-id-3 div.sk-estimator {font-family: monospace;background-color: #f0f8ff;border: 1px dotted black;border-radius: 0.25em;box-sizing: border-box;margin-bottom: 0.5em;}#sk-container-id-3 div.sk-estimator:hover {background-color: #d4ebff;}#sk-container-id-3 div.sk-parallel-item::after {content: \"\";width: 100%;border-bottom: 1px solid gray;flex-grow: 1;}#sk-container-id-3 div.sk-label:hover label.sk-toggleable__label {background-color: #d4ebff;}#sk-container-id-3 div.sk-serial::before {content: \"\";position: absolute;border-left: 1px solid gray;box-sizing: border-box;top: 0;bottom: 0;left: 50%;z-index: 0;}#sk-container-id-3 div.sk-serial {display: flex;flex-direction: column;align-items: center;background-color: white;padding-right: 0.2em;padding-left: 0.2em;position: relative;}#sk-container-id-3 div.sk-item {position: relative;z-index: 1;}#sk-container-id-3 div.sk-parallel {display: flex;align-items: stretch;justify-content: center;background-color: white;position: relative;}#sk-container-id-3 div.sk-item::before, #sk-container-id-3 div.sk-parallel-item::before {content: \"\";position: absolute;border-left: 1px solid gray;box-sizing: border-box;top: 0;bottom: 0;left: 50%;z-index: -1;}#sk-container-id-3 div.sk-parallel-item {display: flex;flex-direction: column;z-index: 1;position: relative;background-color: white;}#sk-container-id-3 div.sk-parallel-item:first-child::after {align-self: flex-end;width: 50%;}#sk-container-id-3 div.sk-parallel-item:last-child::after {align-self: flex-start;width: 50%;}#sk-container-id-3 div.sk-parallel-item:only-child::after {width: 0;}#sk-container-id-3 div.sk-dashed-wrapped {border: 1px dashed gray;margin: 0 0.4em 0.5em 0.4em;box-sizing: border-box;padding-bottom: 0.4em;background-color: white;}#sk-container-id-3 div.sk-label label {font-family: monospace;font-weight: bold;display: inline-block;line-height: 1.2em;}#sk-container-id-3 div.sk-label-container {text-align: center;}#sk-container-id-3 div.sk-container {/* jupyter's `normalize.less` sets `[hidden] { display: none; }` but bootstrap.min.css set `[hidden] { display: none !important; }` so we also need the `!important` here to be able to override the default hidden behavior on the sphinx rendered scikit-learn.org. See: https://github.com/scikit-learn/scikit-learn/issues/21755 */display: inline-block !important;position: relative;}#sk-container-id-3 div.sk-text-repr-fallback {display: none;}</style><div id=\"sk-container-id-3\" class=\"sk-top-container\"><div class=\"sk-text-repr-fallback\"><pre>RandomForestClassifier(criterion=&#x27;entropy&#x27;, n_estimators=50)</pre><b>In a Jupyter environment, please rerun this cell to show the HTML representation or trust the notebook. <br />On GitHub, the HTML representation is unable to render, please try loading this page with nbviewer.org.</b></div><div class=\"sk-container\" hidden><div class=\"sk-item\"><div class=\"sk-estimator sk-toggleable\"><input class=\"sk-toggleable__control sk-hidden--visually\" id=\"sk-estimator-id-3\" type=\"checkbox\" checked><label for=\"sk-estimator-id-3\" class=\"sk-toggleable__label sk-toggleable__label-arrow\">RandomForestClassifier</label><div class=\"sk-toggleable__content\"><pre>RandomForestClassifier(criterion=&#x27;entropy&#x27;, n_estimators=50)</pre></div></div></div></div></div>"
            ],
            "text/plain": [
              "RandomForestClassifier(criterion='entropy', n_estimators=50)"
            ]
          },
          "execution_count": 53,
          "metadata": {},
          "output_type": "execute_result"
        }
      ],
      "source": [
        "rf = RandomForestClassifier(n_estimators=50, criterion='entropy')\n",
        "rf.fit(training_features, train_y)"
      ]
    },
    {
      "cell_type": "code",
      "execution_count": 54,
      "metadata": {
        "colab": {
          "base_uri": "https://localhost:8080/"
        },
        "id": "f51g8n9tqYWS",
        "outputId": "4bda27f7-c419-4590-e397-74bf293fca4a"
      },
      "outputs": [
        {
          "name": "stdout",
          "output_type": "stream",
          "text": [
            "Training accuracy: 1.0\n",
            "Validation accuracy: 0.6053497942386832\n"
          ]
        }
      ],
      "source": [
        "print('Training accuracy:', rf.score(training_features, train_y))\n",
        "train_results['melspectrogram_chroma_continents'] = rf.score(training_features, train_y)\n",
        "\n",
        "print('Validation accuracy:', rf.score(validation_features, val_y))\n",
        "val_results['melspectrogram_chroma_continents'] = rf.score(validation_features, val_y)"
      ]
    },
    {
      "cell_type": "markdown",
      "metadata": {
        "id": "61e7KlgwqYWS"
      },
      "source": [
        "### evaluate the results"
      ]
    },
    {
      "cell_type": "code",
      "execution_count": 55,
      "metadata": {
        "colab": {
          "base_uri": "https://localhost:8080/"
        },
        "id": "YS9C04d2qYWS",
        "outputId": "2cf474c6-37aa-439e-ee03-0170d950a56d"
      },
      "outputs": [
        {
          "name": "stdout",
          "output_type": "stream",
          "text": [
            "Training classification Report \n",
            "\n",
            "              precision    recall  f1-score   support\n",
            "\n",
            "      barswa       1.00      1.00      1.00      1752\n",
            "      comsan       1.00      1.00      1.00      1713\n",
            "     eaywag1       1.00      1.00      1.00      1656\n",
            "\n",
            "    accuracy                           1.00      5121\n",
            "   macro avg       1.00      1.00      1.00      5121\n",
            "weighted avg       1.00      1.00      1.00      5121\n",
            "\n"
          ]
        }
      ],
      "source": [
        "train_yhat_result = rf.predict(training_features)\n",
        "\n",
        "print('Training classification Report \\n')\n",
        "print(classification_report(train_y, train_yhat_result, target_names=classes))"
      ]
    },
    {
      "cell_type": "code",
      "execution_count": 56,
      "metadata": {
        "colab": {
          "base_uri": "https://localhost:8080/"
        },
        "id": "K9igOwIAqYWT",
        "outputId": "60c3be73-5cf8-4b24-df2e-6d9f2436f490"
      },
      "outputs": [
        {
          "name": "stdout",
          "output_type": "stream",
          "text": [
            "Validation classification Report \n",
            "\n",
            "              precision    recall  f1-score   support\n",
            "\n",
            "      barswa       0.73      0.64      0.68      1032\n",
            "      comsan       0.54      0.60      0.57       618\n",
            "     eaywag1       0.52      0.56      0.54       780\n",
            "\n",
            "    accuracy                           0.61      2430\n",
            "   macro avg       0.60      0.60      0.60      2430\n",
            "weighted avg       0.62      0.61      0.61      2430\n",
            "\n"
          ]
        }
      ],
      "source": [
        "val_yhat_result = rf.predict(validation_features)\n",
        "\n",
        "print('Validation classification Report \\n')\n",
        "print(classification_report(val_y, val_yhat_result, target_names=classes))"
      ]
    },
    {
      "cell_type": "code",
      "execution_count": 57,
      "metadata": {
        "colab": {
          "base_uri": "https://localhost:8080/",
          "height": 472
        },
        "id": "ajof-8yBqYWT",
        "outputId": "4bba5fa1-182b-442d-93d6-d02517a765c3"
      },
      "outputs": [
        {
          "data": {
            "image/png": "[encoded data removed]",
            "text/plain": [
              "<Figure size 640x480 with 1 Axes>"
            ]
          },
          "metadata": {},
          "output_type": "display_data"
        }
      ],
      "source": [
        "train_cm = tf.math.confusion_matrix(train_y, train_yhat_result)\n",
        "\n",
        "ax = sns.heatmap(train_cm,\n",
        "                 annot=True,\n",
        "                 fmt='.0f',\n",
        "                 cmap='Blues',\n",
        "                 xticklabels=classes,\n",
        "                 yticklabels=classes,\n",
        "                 cbar=False)\n",
        "\n",
        "ax.set(xlabel='Predicted Label', ylabel='True Label')\n",
        "plt.title('Train Confusion Matrix')\n",
        "plt.show()"
      ]
    },
    {
      "cell_type": "code",
      "execution_count": 58,
      "metadata": {
        "colab": {
          "base_uri": "https://localhost:8080/",
          "height": 472
        },
        "id": "UqzM-0yiqYWT",
        "outputId": "9e12507a-4131-4741-f855-2edfae61cf44"
      },
      "outputs": [
        {
          "data": {
            "image/png": "[encoded data removed]",
            "text/plain": [
              "<Figure size 640x480 with 1 Axes>"
            ]
          },
          "metadata": {},
          "output_type": "display_data"
        }
      ],
      "source": [
        "val_cm = tf.math.confusion_matrix(val_y, val_yhat_result)\n",
        "\n",
        "ax = sns.heatmap(val_cm,\n",
        "                 annot=True,\n",
        "                 fmt='.0f',\n",
        "                 cmap='Blues',\n",
        "                 xticklabels=classes,\n",
        "                 yticklabels=classes,\n",
        "                 cbar=False)\n",
        "\n",
        "ax.set(xlabel='Predicted Label', ylabel='True Label')\n",
        "plt.title('Validation Confusion Matrix')\n",
        "plt.show()"
      ]
    },
    {
      "cell_type": "markdown",
      "metadata": {
        "id": "8yAvgt7msmjr"
      },
      "source": [
        "## With melspectrogram & rms & spectral_centroid"
      ]
    },
    {
      "cell_type": "markdown",
      "metadata": {
        "id": "JJg6nGQmsmjs"
      },
      "source": [
        "### create features"
      ]
    },
    {
      "cell_type": "code",
      "execution_count": 59,
      "metadata": {
        "colab": {
          "base_uri": "https://localhost:8080/"
        },
        "id": "CscXQVw1smjs",
        "outputId": "96b7991c-2243-4184-c8c1-5c88d53fbcd7"
      },
      "outputs": [
        {
          "data": {
            "text/plain": [
              "array([[0.65433073, 0.6958824 , 0.7123113 , ..., 0.3476623 , 0.02368048,\n",
              "        0.34682631],\n",
              "       [0.38403085, 0.5044165 , 0.5279443 , ..., 0.4076096 , 0.01054307,\n",
              "        0.2953942 ],\n",
              "       [0.48056912, 0.52384883, 0.53395516, ..., 0.30977237, 0.00885758,\n",
              "        0.4134189 ],\n",
              "       ...,\n",
              "       [0.5318827 , 0.5183637 , 0.46389982, ..., 0.39740574, 0.01935637,\n",
              "        0.46964684],\n",
              "       [0.04193026, 0.05771878, 0.15508689, ..., 0.38224494, 0.00262789,\n",
              "        0.49295598],\n",
              "       [0.65125245, 0.69587564, 0.7181591 , ..., 0.47496927, 0.08726922,\n",
              "        0.46659127]], dtype=float32)"
            ]
          },
          "execution_count": 59,
          "metadata": {},
          "output_type": "execute_result"
        }
      ],
      "source": [
        "training_features = np.concatenate((train_features['melspectrogram'], train_features['rms'], train_features['spectral_centroid']), axis=1)\n",
        "\n",
        "training_features"
      ]
    },
    {
      "cell_type": "code",
      "execution_count": 60,
      "metadata": {
        "colab": {
          "base_uri": "https://localhost:8080/"
        },
        "id": "VhGoim5Dsmjs",
        "outputId": "0cec7ebe-4cfc-4a3e-bd28-dc77b7119b0c"
      },
      "outputs": [
        {
          "data": {
            "text/plain": [
              "(5121, 130)"
            ]
          },
          "execution_count": 60,
          "metadata": {},
          "output_type": "execute_result"
        }
      ],
      "source": [
        "training_features.shape"
      ]
    },
    {
      "cell_type": "code",
      "execution_count": 61,
      "metadata": {
        "colab": {
          "base_uri": "https://localhost:8080/"
        },
        "id": "MU7SY0YUsmjt",
        "outputId": "5d822ed0-81aa-4e94-b195-3f2e59952b7d"
      },
      "outputs": [
        {
          "data": {
            "text/plain": [
              "array([[0.5277056 , 0.56796145, 0.5761355 , ..., 0.3966272 , 0.0429501 ,\n",
              "        0.49498773],\n",
              "       [0.53210115, 0.5726647 , 0.5717199 , ..., 0.45309958, 0.01062703,\n",
              "        0.4484754 ],\n",
              "       [0.18178502, 0.19196188, 0.24195927, ..., 0.38380054, 0.01003272,\n",
              "        0.4108608 ],\n",
              "       ...,\n",
              "       [0.63205403, 0.68277365, 0.69991136, ..., 0.42176136, 0.08512991,\n",
              "        0.49598154],\n",
              "       [0.6169853 , 0.6092418 , 0.68291956, ..., 0.5003443 , 0.03307135,\n",
              "        0.32946208],\n",
              "       [0.4464193 , 0.42042515, 0.4214387 , ..., 0.4220938 , 0.01408768,\n",
              "        0.5016677 ]], dtype=float32)"
            ]
          },
          "execution_count": 61,
          "metadata": {},
          "output_type": "execute_result"
        }
      ],
      "source": [
        "validation_features = np.concatenate((val_features['melspectrogram'], val_features['rms'], val_features['spectral_centroid']), axis=1)\n",
        "\n",
        "validation_features"
      ]
    },
    {
      "cell_type": "code",
      "execution_count": 62,
      "metadata": {
        "colab": {
          "base_uri": "https://localhost:8080/"
        },
        "id": "_DEDons6smjt",
        "outputId": "52192577-d65f-414c-b793-d1492399ea1c"
      },
      "outputs": [
        {
          "data": {
            "text/plain": [
              "(2430, 130)"
            ]
          },
          "execution_count": 62,
          "metadata": {},
          "output_type": "execute_result"
        }
      ],
      "source": [
        "validation_features.shape"
      ]
    },
    {
      "cell_type": "markdown",
      "metadata": {
        "id": "msWpcouzsmjt"
      },
      "source": [
        "### fit the model with training data"
      ]
    },
    {
      "cell_type": "code",
      "execution_count": 63,
      "metadata": {
        "colab": {
          "base_uri": "https://localhost:8080/",
          "height": 75
        },
        "id": "XAtCSUkXsmjt",
        "outputId": "66acd3e6-dabd-4dd6-c8e9-9c7707bded59"
      },
      "outputs": [
        {
          "data": {
            "text/html": [
              "<style>#sk-container-id-4 {color: black;background-color: white;}#sk-container-id-4 pre{padding: 0;}#sk-container-id-4 div.sk-toggleable {background-color: white;}#sk-container-id-4 label.sk-toggleable__label {cursor: pointer;display: block;width: 100%;margin-bottom: 0;padding: 0.3em;box-sizing: border-box;text-align: center;}#sk-container-id-4 label.sk-toggleable__label-arrow:before {content: \"▸\";float: left;margin-right: 0.25em;color: #696969;}#sk-container-id-4 label.sk-toggleable__label-arrow:hover:before {color: black;}#sk-container-id-4 div.sk-estimator:hover label.sk-toggleable__label-arrow:before {color: black;}#sk-container-id-4 div.sk-toggleable__content {max-height: 0;max-width: 0;overflow: hidden;text-align: left;background-color: #f0f8ff;}#sk-container-id-4 div.sk-toggleable__content pre {margin: 0.2em;color: black;border-radius: 0.25em;background-color: #f0f8ff;}#sk-container-id-4 input.sk-toggleable__control:checked~div.sk-toggleable__content {max-height: 200px;max-width: 100%;overflow: auto;}#sk-container-id-4 input.sk-toggleable__control:checked~label.sk-toggleable__label-arrow:before {content: \"▾\";}#sk-container-id-4 div.sk-estimator input.sk-toggleable__control:checked~label.sk-toggleable__label {background-color: #d4ebff;}#sk-container-id-4 div.sk-label input.sk-toggleable__control:checked~label.sk-toggleable__label {background-color: #d4ebff;}#sk-container-id-4 input.sk-hidden--visually {border: 0;clip: rect(1px 1px 1px 1px);clip: rect(1px, 1px, 1px, 1px);height: 1px;margin: -1px;overflow: hidden;padding: 0;position: absolute;width: 1px;}#sk-container-id-4 div.sk-estimator {font-family: monospace;background-color: #f0f8ff;border: 1px dotted black;border-radius: 0.25em;box-sizing: border-box;margin-bottom: 0.5em;}#sk-container-id-4 div.sk-estimator:hover {background-color: #d4ebff;}#sk-container-id-4 div.sk-parallel-item::after {content: \"\";width: 100%;border-bottom: 1px solid gray;flex-grow: 1;}#sk-container-id-4 div.sk-label:hover label.sk-toggleable__label {background-color: #d4ebff;}#sk-container-id-4 div.sk-serial::before {content: \"\";position: absolute;border-left: 1px solid gray;box-sizing: border-box;top: 0;bottom: 0;left: 50%;z-index: 0;}#sk-container-id-4 div.sk-serial {display: flex;flex-direction: column;align-items: center;background-color: white;padding-right: 0.2em;padding-left: 0.2em;position: relative;}#sk-container-id-4 div.sk-item {position: relative;z-index: 1;}#sk-container-id-4 div.sk-parallel {display: flex;align-items: stretch;justify-content: center;background-color: white;position: relative;}#sk-container-id-4 div.sk-item::before, #sk-container-id-4 div.sk-parallel-item::before {content: \"\";position: absolute;border-left: 1px solid gray;box-sizing: border-box;top: 0;bottom: 0;left: 50%;z-index: -1;}#sk-container-id-4 div.sk-parallel-item {display: flex;flex-direction: column;z-index: 1;position: relative;background-color: white;}#sk-container-id-4 div.sk-parallel-item:first-child::after {align-self: flex-end;width: 50%;}#sk-container-id-4 div.sk-parallel-item:last-child::after {align-self: flex-start;width: 50%;}#sk-container-id-4 div.sk-parallel-item:only-child::after {width: 0;}#sk-container-id-4 div.sk-dashed-wrapped {border: 1px dashed gray;margin: 0 0.4em 0.5em 0.4em;box-sizing: border-box;padding-bottom: 0.4em;background-color: white;}#sk-container-id-4 div.sk-label label {font-family: monospace;font-weight: bold;display: inline-block;line-height: 1.2em;}#sk-container-id-4 div.sk-label-container {text-align: center;}#sk-container-id-4 div.sk-container {/* jupyter's `normalize.less` sets `[hidden] { display: none; }` but bootstrap.min.css set `[hidden] { display: none !important; }` so we also need the `!important` here to be able to override the default hidden behavior on the sphinx rendered scikit-learn.org. See: https://github.com/scikit-learn/scikit-learn/issues/21755 */display: inline-block !important;position: relative;}#sk-container-id-4 div.sk-text-repr-fallback {display: none;}</style><div id=\"sk-container-id-4\" class=\"sk-top-container\"><div class=\"sk-text-repr-fallback\"><pre>RandomForestClassifier(criterion=&#x27;entropy&#x27;, n_estimators=50)</pre><b>In a Jupyter environment, please rerun this cell to show the HTML representation or trust the notebook. <br />On GitHub, the HTML representation is unable to render, please try loading this page with nbviewer.org.</b></div><div class=\"sk-container\" hidden><div class=\"sk-item\"><div class=\"sk-estimator sk-toggleable\"><input class=\"sk-toggleable__control sk-hidden--visually\" id=\"sk-estimator-id-4\" type=\"checkbox\" checked><label for=\"sk-estimator-id-4\" class=\"sk-toggleable__label sk-toggleable__label-arrow\">RandomForestClassifier</label><div class=\"sk-toggleable__content\"><pre>RandomForestClassifier(criterion=&#x27;entropy&#x27;, n_estimators=50)</pre></div></div></div></div></div>"
            ],
            "text/plain": [
              "RandomForestClassifier(criterion='entropy', n_estimators=50)"
            ]
          },
          "execution_count": 63,
          "metadata": {},
          "output_type": "execute_result"
        }
      ],
      "source": [
        "rf = RandomForestClassifier(n_estimators=50, criterion='entropy')\n",
        "rf.fit(training_features, train_y)"
      ]
    },
    {
      "cell_type": "code",
      "execution_count": 64,
      "metadata": {
        "colab": {
          "base_uri": "https://localhost:8080/"
        },
        "id": "_dg5-VOTsmjt",
        "outputId": "da3e891b-05d6-498e-cadf-186af80d2586"
      },
      "outputs": [
        {
          "name": "stdout",
          "output_type": "stream",
          "text": [
            "Training accuracy: 1.0\n",
            "Validation accuracy: 0.5547325102880658\n"
          ]
        }
      ],
      "source": [
        "print('Training accuracy:', rf.score(training_features, train_y))\n",
        "train_results['melspectrogram_rms_spectral_centroid'] = rf.score(training_features, train_y)\n",
        "\n",
        "print('Validation accuracy:', rf.score(validation_features, val_y))\n",
        "val_results['melspectrogram_rms_spectral_centroid'] = rf.score(validation_features, val_y)"
      ]
    },
    {
      "cell_type": "markdown",
      "metadata": {
        "id": "5NcjmzcZsmjt"
      },
      "source": [
        "### evaluate the results"
      ]
    },
    {
      "cell_type": "code",
      "execution_count": 65,
      "metadata": {
        "colab": {
          "base_uri": "https://localhost:8080/"
        },
        "id": "maCkOxY2smjt",
        "outputId": "3cb1caff-7dcd-4cb8-d5a1-e915b3615ed6"
      },
      "outputs": [
        {
          "name": "stdout",
          "output_type": "stream",
          "text": [
            "Training classification Report \n",
            "\n",
            "              precision    recall  f1-score   support\n",
            "\n",
            "      barswa       1.00      1.00      1.00      1752\n",
            "      comsan       1.00      1.00      1.00      1713\n",
            "     eaywag1       1.00      1.00      1.00      1656\n",
            "\n",
            "    accuracy                           1.00      5121\n",
            "   macro avg       1.00      1.00      1.00      5121\n",
            "weighted avg       1.00      1.00      1.00      5121\n",
            "\n"
          ]
        }
      ],
      "source": [
        "train_yhat_result = rf.predict(training_features)\n",
        "\n",
        "print('Training classification Report \\n')\n",
        "print(classification_report(train_y, train_yhat_result, target_names=classes))"
      ]
    },
    {
      "cell_type": "code",
      "execution_count": 66,
      "metadata": {
        "colab": {
          "base_uri": "https://localhost:8080/"
        },
        "id": "1tzFQwzTsmju",
        "outputId": "5a85e1db-d3bf-425d-b9d3-f3b350526df3"
      },
      "outputs": [
        {
          "name": "stdout",
          "output_type": "stream",
          "text": [
            "Validation classification Report \n",
            "\n",
            "              precision    recall  f1-score   support\n",
            "\n",
            "      barswa       0.65      0.57      0.61      1032\n",
            "      comsan       0.53      0.58      0.55       618\n",
            "     eaywag1       0.47      0.52      0.49       780\n",
            "\n",
            "    accuracy                           0.55      2430\n",
            "   macro avg       0.55      0.56      0.55      2430\n",
            "weighted avg       0.56      0.55      0.56      2430\n",
            "\n"
          ]
        }
      ],
      "source": [
        "val_yhat_result = rf.predict(validation_features)\n",
        "\n",
        "print('Validation classification Report \\n')\n",
        "print(classification_report(val_y, val_yhat_result, target_names=classes))"
      ]
    },
    {
      "cell_type": "code",
      "execution_count": 67,
      "metadata": {
        "colab": {
          "base_uri": "https://localhost:8080/",
          "height": 472
        },
        "id": "rVowJP-hsmju",
        "outputId": "13aaae52-e752-4854-d639-06a18824f5f9"
      },
      "outputs": [
        {
          "data": {
            "image/png": "[encoded data removed]",
            "text/plain": [
              "<Figure size 640x480 with 1 Axes>"
            ]
          },
          "metadata": {},
          "output_type": "display_data"
        }
      ],
      "source": [
        "train_cm = tf.math.confusion_matrix(train_y, train_yhat_result)\n",
        "\n",
        "ax = sns.heatmap(train_cm,\n",
        "                 annot=True,\n",
        "                 fmt='.0f',\n",
        "                 cmap='Blues',\n",
        "                 xticklabels=classes,\n",
        "                 yticklabels=classes,\n",
        "                 cbar=False)\n",
        "\n",
        "ax.set(xlabel='Predicted Label', ylabel='True Label')\n",
        "plt.title('Train Confusion Matrix')\n",
        "plt.show()"
      ]
    },
    {
      "cell_type": "code",
      "execution_count": 68,
      "metadata": {
        "colab": {
          "base_uri": "https://localhost:8080/",
          "height": 472
        },
        "id": "7PY4jwITsmju",
        "outputId": "b1a5b608-6dd1-44c7-d66e-203e53095a26"
      },
      "outputs": [
        {
          "data": {
            "image/png": "[encoded data removed]",
            "text/plain": [
              "<Figure size 640x480 with 1 Axes>"
            ]
          },
          "metadata": {},
          "output_type": "display_data"
        }
      ],
      "source": [
        "val_cm = tf.math.confusion_matrix(val_y, val_yhat_result)\n",
        "\n",
        "ax = sns.heatmap(val_cm,\n",
        "                 annot=True,\n",
        "                 fmt='.0f',\n",
        "                 cmap='Blues',\n",
        "                 xticklabels=classes,\n",
        "                 yticklabels=classes,\n",
        "                 cbar=False)\n",
        "\n",
        "ax.set(xlabel='Predicted Label', ylabel='True Label')\n",
        "plt.title('Validation Confusion Matrix')\n",
        "plt.show()"
      ]
    },
    {
      "cell_type": "markdown",
      "metadata": {
        "id": "DGncsApRq4fa"
      },
      "source": [
        "## With melspectrogram & rms & continents"
      ]
    },
    {
      "cell_type": "markdown",
      "metadata": {
        "id": "sKcD5ukPq4fb"
      },
      "source": [
        "### create features"
      ]
    },
    {
      "cell_type": "code",
      "execution_count": 69,
      "metadata": {
        "colab": {
          "base_uri": "https://localhost:8080/"
        },
        "id": "8Enn3q6xq4fc",
        "outputId": "611c43bb-99dc-4396-af9f-8bdd830879dd"
      },
      "outputs": [
        {
          "data": {
            "text/plain": [
              "array([[0.65433073, 0.69588238, 0.71231133, ..., 0.        , 1.        ,\n",
              "        0.        ],\n",
              "       [0.38403085, 0.50441653, 0.52794433, ..., 0.        , 1.        ,\n",
              "        0.        ],\n",
              "       [0.48056912, 0.52384883, 0.53395516, ..., 0.        , 1.        ,\n",
              "        0.        ],\n",
              "       ...,\n",
              "       [0.5318827 , 0.51836371, 0.46389982, ..., 0.        , 1.        ,\n",
              "        0.        ],\n",
              "       [0.04193026, 0.05771878, 0.15508689, ..., 0.        , 1.        ,\n",
              "        0.        ],\n",
              "       [0.65125245, 0.69587564, 0.71815908, ..., 0.        , 1.        ,\n",
              "        0.        ]])"
            ]
          },
          "execution_count": 69,
          "metadata": {},
          "output_type": "execute_result"
        }
      ],
      "source": [
        "training_features = np.concatenate((train_features['melspectrogram'], train_features['rms'], train_continents), axis=1)\n",
        "\n",
        "training_features"
      ]
    },
    {
      "cell_type": "code",
      "execution_count": 70,
      "metadata": {
        "colab": {
          "base_uri": "https://localhost:8080/"
        },
        "id": "8SvxSsDDq4fc",
        "outputId": "15e86f2f-377f-4772-f359-4b5bb63d5c7c"
      },
      "outputs": [
        {
          "data": {
            "text/plain": [
              "(5121, 134)"
            ]
          },
          "execution_count": 70,
          "metadata": {},
          "output_type": "execute_result"
        }
      ],
      "source": [
        "training_features.shape"
      ]
    },
    {
      "cell_type": "code",
      "execution_count": 71,
      "metadata": {
        "colab": {
          "base_uri": "https://localhost:8080/"
        },
        "id": "OaqMVH_kq4fc",
        "outputId": "c6d13492-f52c-4863-9256-9f1c3598d8bf"
      },
      "outputs": [
        {
          "data": {
            "text/plain": [
              "array([[0.52770561, 0.56796145, 0.57613552, ..., 0.        , 0.        ,\n",
              "        0.        ],\n",
              "       [0.53210115, 0.57266468, 0.57171988, ..., 0.        , 1.        ,\n",
              "        0.        ],\n",
              "       [0.18178502, 0.19196188, 0.24195927, ..., 0.        , 0.        ,\n",
              "        0.        ],\n",
              "       ...,\n",
              "       [0.63205403, 0.68277365, 0.69991136, ..., 0.        , 1.        ,\n",
              "        0.        ],\n",
              "       [0.61698532, 0.60924178, 0.68291956, ..., 0.        , 1.        ,\n",
              "        0.        ],\n",
              "       [0.4464193 , 0.42042515, 0.42143869, ..., 0.        , 1.        ,\n",
              "        0.        ]])"
            ]
          },
          "execution_count": 71,
          "metadata": {},
          "output_type": "execute_result"
        }
      ],
      "source": [
        "validation_features = np.concatenate((val_features['melspectrogram'], val_features['rms'], val_continents), axis=1)\n",
        "\n",
        "validation_features"
      ]
    },
    {
      "cell_type": "code",
      "execution_count": 72,
      "metadata": {
        "colab": {
          "base_uri": "https://localhost:8080/"
        },
        "id": "dZ8EnlOkq4fc",
        "outputId": "0cb87e47-c77f-4220-e62d-d22dc2b2f969"
      },
      "outputs": [
        {
          "data": {
            "text/plain": [
              "(2430, 134)"
            ]
          },
          "execution_count": 72,
          "metadata": {},
          "output_type": "execute_result"
        }
      ],
      "source": [
        "validation_features.shape"
      ]
    },
    {
      "cell_type": "markdown",
      "metadata": {
        "id": "QZBqWmfwq4fc"
      },
      "source": [
        "### fit the model with training data"
      ]
    },
    {
      "cell_type": "code",
      "execution_count": 73,
      "metadata": {
        "colab": {
          "base_uri": "https://localhost:8080/",
          "height": 75
        },
        "id": "4fnicQN1q4fd",
        "outputId": "04cdcc8e-904f-4a19-c4a3-cd0823ba6abf"
      },
      "outputs": [
        {
          "data": {
            "text/html": [
              "<style>#sk-container-id-5 {color: black;background-color: white;}#sk-container-id-5 pre{padding: 0;}#sk-container-id-5 div.sk-toggleable {background-color: white;}#sk-container-id-5 label.sk-toggleable__label {cursor: pointer;display: block;width: 100%;margin-bottom: 0;padding: 0.3em;box-sizing: border-box;text-align: center;}#sk-container-id-5 label.sk-toggleable__label-arrow:before {content: \"▸\";float: left;margin-right: 0.25em;color: #696969;}#sk-container-id-5 label.sk-toggleable__label-arrow:hover:before {color: black;}#sk-container-id-5 div.sk-estimator:hover label.sk-toggleable__label-arrow:before {color: black;}#sk-container-id-5 div.sk-toggleable__content {max-height: 0;max-width: 0;overflow: hidden;text-align: left;background-color: #f0f8ff;}#sk-container-id-5 div.sk-toggleable__content pre {margin: 0.2em;color: black;border-radius: 0.25em;background-color: #f0f8ff;}#sk-container-id-5 input.sk-toggleable__control:checked~div.sk-toggleable__content {max-height: 200px;max-width: 100%;overflow: auto;}#sk-container-id-5 input.sk-toggleable__control:checked~label.sk-toggleable__label-arrow:before {content: \"▾\";}#sk-container-id-5 div.sk-estimator input.sk-toggleable__control:checked~label.sk-toggleable__label {background-color: #d4ebff;}#sk-container-id-5 div.sk-label input.sk-toggleable__control:checked~label.sk-toggleable__label {background-color: #d4ebff;}#sk-container-id-5 input.sk-hidden--visually {border: 0;clip: rect(1px 1px 1px 1px);clip: rect(1px, 1px, 1px, 1px);height: 1px;margin: -1px;overflow: hidden;padding: 0;position: absolute;width: 1px;}#sk-container-id-5 div.sk-estimator {font-family: monospace;background-color: #f0f8ff;border: 1px dotted black;border-radius: 0.25em;box-sizing: border-box;margin-bottom: 0.5em;}#sk-container-id-5 div.sk-estimator:hover {background-color: #d4ebff;}#sk-container-id-5 div.sk-parallel-item::after {content: \"\";width: 100%;border-bottom: 1px solid gray;flex-grow: 1;}#sk-container-id-5 div.sk-label:hover label.sk-toggleable__label {background-color: #d4ebff;}#sk-container-id-5 div.sk-serial::before {content: \"\";position: absolute;border-left: 1px solid gray;box-sizing: border-box;top: 0;bottom: 0;left: 50%;z-index: 0;}#sk-container-id-5 div.sk-serial {display: flex;flex-direction: column;align-items: center;background-color: white;padding-right: 0.2em;padding-left: 0.2em;position: relative;}#sk-container-id-5 div.sk-item {position: relative;z-index: 1;}#sk-container-id-5 div.sk-parallel {display: flex;align-items: stretch;justify-content: center;background-color: white;position: relative;}#sk-container-id-5 div.sk-item::before, #sk-container-id-5 div.sk-parallel-item::before {content: \"\";position: absolute;border-left: 1px solid gray;box-sizing: border-box;top: 0;bottom: 0;left: 50%;z-index: -1;}#sk-container-id-5 div.sk-parallel-item {display: flex;flex-direction: column;z-index: 1;position: relative;background-color: white;}#sk-container-id-5 div.sk-parallel-item:first-child::after {align-self: flex-end;width: 50%;}#sk-container-id-5 div.sk-parallel-item:last-child::after {align-self: flex-start;width: 50%;}#sk-container-id-5 div.sk-parallel-item:only-child::after {width: 0;}#sk-container-id-5 div.sk-dashed-wrapped {border: 1px dashed gray;margin: 0 0.4em 0.5em 0.4em;box-sizing: border-box;padding-bottom: 0.4em;background-color: white;}#sk-container-id-5 div.sk-label label {font-family: monospace;font-weight: bold;display: inline-block;line-height: 1.2em;}#sk-container-id-5 div.sk-label-container {text-align: center;}#sk-container-id-5 div.sk-container {/* jupyter's `normalize.less` sets `[hidden] { display: none; }` but bootstrap.min.css set `[hidden] { display: none !important; }` so we also need the `!important` here to be able to override the default hidden behavior on the sphinx rendered scikit-learn.org. See: https://github.com/scikit-learn/scikit-learn/issues/21755 */display: inline-block !important;position: relative;}#sk-container-id-5 div.sk-text-repr-fallback {display: none;}</style><div id=\"sk-container-id-5\" class=\"sk-top-container\"><div class=\"sk-text-repr-fallback\"><pre>RandomForestClassifier(criterion=&#x27;entropy&#x27;, n_estimators=50)</pre><b>In a Jupyter environment, please rerun this cell to show the HTML representation or trust the notebook. <br />On GitHub, the HTML representation is unable to render, please try loading this page with nbviewer.org.</b></div><div class=\"sk-container\" hidden><div class=\"sk-item\"><div class=\"sk-estimator sk-toggleable\"><input class=\"sk-toggleable__control sk-hidden--visually\" id=\"sk-estimator-id-5\" type=\"checkbox\" checked><label for=\"sk-estimator-id-5\" class=\"sk-toggleable__label sk-toggleable__label-arrow\">RandomForestClassifier</label><div class=\"sk-toggleable__content\"><pre>RandomForestClassifier(criterion=&#x27;entropy&#x27;, n_estimators=50)</pre></div></div></div></div></div>"
            ],
            "text/plain": [
              "RandomForestClassifier(criterion='entropy', n_estimators=50)"
            ]
          },
          "execution_count": 73,
          "metadata": {},
          "output_type": "execute_result"
        }
      ],
      "source": [
        "rf = RandomForestClassifier(n_estimators=50, criterion='entropy')\n",
        "rf.fit(training_features, train_y)"
      ]
    },
    {
      "cell_type": "code",
      "execution_count": 74,
      "metadata": {
        "colab": {
          "base_uri": "https://localhost:8080/"
        },
        "id": "-dBgnUCOq4fd",
        "outputId": "1ee14f5c-61e0-4278-b52c-f427abad49ef"
      },
      "outputs": [
        {
          "name": "stdout",
          "output_type": "stream",
          "text": [
            "Training accuracy: 1.0\n",
            "Validation accuracy: 0.5847736625514404\n"
          ]
        }
      ],
      "source": [
        "print('Training accuracy:', rf.score(training_features, train_y))\n",
        "train_results['melspectrogram_rms_continents'] = rf.score(training_features, train_y)\n",
        "\n",
        "print('Validation accuracy:', rf.score(validation_features, val_y))\n",
        "val_results['melspectrogram_rms_continents'] = rf.score(validation_features, val_y)"
      ]
    },
    {
      "cell_type": "markdown",
      "metadata": {
        "id": "XxwNs-vVq4fd"
      },
      "source": [
        "### evaluate the results"
      ]
    },
    {
      "cell_type": "code",
      "execution_count": 75,
      "metadata": {
        "colab": {
          "base_uri": "https://localhost:8080/"
        },
        "id": "XpKVPg04q4fd",
        "outputId": "769b19b9-6364-4cb6-8dd6-f0a839a34c7b"
      },
      "outputs": [
        {
          "name": "stdout",
          "output_type": "stream",
          "text": [
            "Training classification Report \n",
            "\n",
            "              precision    recall  f1-score   support\n",
            "\n",
            "      barswa       1.00      1.00      1.00      1752\n",
            "      comsan       1.00      1.00      1.00      1713\n",
            "     eaywag1       1.00      1.00      1.00      1656\n",
            "\n",
            "    accuracy                           1.00      5121\n",
            "   macro avg       1.00      1.00      1.00      5121\n",
            "weighted avg       1.00      1.00      1.00      5121\n",
            "\n"
          ]
        }
      ],
      "source": [
        "train_yhat_result = rf.predict(training_features)\n",
        "\n",
        "print('Training classification Report \\n')\n",
        "print(classification_report(train_y, train_yhat_result, target_names=classes))"
      ]
    },
    {
      "cell_type": "code",
      "execution_count": 76,
      "metadata": {
        "colab": {
          "base_uri": "https://localhost:8080/"
        },
        "id": "huTpL7Adq4fd",
        "outputId": "dd6acff7-70da-4929-8ce4-012b175074c1"
      },
      "outputs": [
        {
          "name": "stdout",
          "output_type": "stream",
          "text": [
            "Validation classification Report \n",
            "\n",
            "              precision    recall  f1-score   support\n",
            "\n",
            "      barswa       0.70      0.63      0.66      1032\n",
            "      comsan       0.55      0.57      0.56       618\n",
            "     eaywag1       0.49      0.54      0.51       780\n",
            "\n",
            "    accuracy                           0.58      2430\n",
            "   macro avg       0.58      0.58      0.58      2430\n",
            "weighted avg       0.59      0.58      0.59      2430\n",
            "\n"
          ]
        }
      ],
      "source": [
        "val_yhat_result = rf.predict(validation_features)\n",
        "\n",
        "print('Validation classification Report \\n')\n",
        "print(classification_report(val_y, val_yhat_result, target_names=classes))"
      ]
    },
    {
      "cell_type": "code",
      "execution_count": 77,
      "metadata": {
        "colab": {
          "base_uri": "https://localhost:8080/",
          "height": 472
        },
        "id": "4rN6Y1Ntq4fd",
        "outputId": "b5521d33-9cc1-4afd-bb8b-077f4e045d87"
      },
      "outputs": [
        {
          "data": {
            "image/png": "[encoded data removed]",
            "text/plain": [
              "<Figure size 640x480 with 1 Axes>"
            ]
          },
          "metadata": {},
          "output_type": "display_data"
        }
      ],
      "source": [
        "train_cm = tf.math.confusion_matrix(train_y, train_yhat_result)\n",
        "\n",
        "ax = sns.heatmap(train_cm,\n",
        "                 annot=True,\n",
        "                 fmt='.0f',\n",
        "                 cmap='Blues',\n",
        "                 xticklabels=classes,\n",
        "                 yticklabels=classes,\n",
        "                 cbar=False)\n",
        "\n",
        "ax.set(xlabel='Predicted Label', ylabel='True Label')\n",
        "plt.title('Train Confusion Matrix')\n",
        "plt.show()"
      ]
    },
    {
      "cell_type": "code",
      "execution_count": 78,
      "metadata": {
        "colab": {
          "base_uri": "https://localhost:8080/",
          "height": 472
        },
        "id": "_e4ZiAZ1q4fd",
        "outputId": "24739d4c-abf1-4355-df99-7349b1f345a5"
      },
      "outputs": [
        {
          "data": {
            "image/png": "[encoded data removed]",
            "text/plain": [
              "<Figure size 640x480 with 1 Axes>"
            ]
          },
          "metadata": {},
          "output_type": "display_data"
        }
      ],
      "source": [
        "val_cm = tf.math.confusion_matrix(val_y, val_yhat_result)\n",
        "\n",
        "ax = sns.heatmap(val_cm,\n",
        "                 annot=True,\n",
        "                 fmt='.0f',\n",
        "                 cmap='Blues',\n",
        "                 xticklabels=classes,\n",
        "                 yticklabels=classes,\n",
        "                 cbar=False)\n",
        "\n",
        "ax.set(xlabel='Predicted Label', ylabel='True Label')\n",
        "plt.title('Validation Confusion Matrix')\n",
        "plt.show()"
      ]
    },
    {
      "cell_type": "markdown",
      "metadata": {
        "id": "EB9Qn9-9rG3a"
      },
      "source": [
        "## With melspectrogram & spectral_centroid & continents"
      ]
    },
    {
      "cell_type": "markdown",
      "metadata": {
        "id": "MF24yQy9rG3b"
      },
      "source": [
        "### create features"
      ]
    },
    {
      "cell_type": "code",
      "execution_count": 79,
      "metadata": {
        "colab": {
          "base_uri": "https://localhost:8080/"
        },
        "id": "PsVw-IYUrG3b",
        "outputId": "907db80f-9ccf-4d59-a1b8-ddf98655b163"
      },
      "outputs": [
        {
          "data": {
            "text/plain": [
              "array([[0.65433073, 0.69588238, 0.71231133, ..., 0.        , 1.        ,\n",
              "        0.        ],\n",
              "       [0.38403085, 0.50441653, 0.52794433, ..., 0.        , 1.        ,\n",
              "        0.        ],\n",
              "       [0.48056912, 0.52384883, 0.53395516, ..., 0.        , 1.        ,\n",
              "        0.        ],\n",
              "       ...,\n",
              "       [0.5318827 , 0.51836371, 0.46389982, ..., 0.        , 1.        ,\n",
              "        0.        ],\n",
              "       [0.04193026, 0.05771878, 0.15508689, ..., 0.        , 1.        ,\n",
              "        0.        ],\n",
              "       [0.65125245, 0.69587564, 0.71815908, ..., 0.        , 1.        ,\n",
              "        0.        ]])"
            ]
          },
          "execution_count": 79,
          "metadata": {},
          "output_type": "execute_result"
        }
      ],
      "source": [
        "training_features = np.concatenate((train_features['melspectrogram'], train_features['spectral_centroid'], train_continents), axis=1)\n",
        "\n",
        "training_features"
      ]
    },
    {
      "cell_type": "code",
      "execution_count": 80,
      "metadata": {
        "colab": {
          "base_uri": "https://localhost:8080/"
        },
        "id": "EF32WUcarG3c",
        "outputId": "ef0136b8-3498-4e92-8bab-e703d1a55df6"
      },
      "outputs": [
        {
          "data": {
            "text/plain": [
              "(5121, 134)"
            ]
          },
          "execution_count": 80,
          "metadata": {},
          "output_type": "execute_result"
        }
      ],
      "source": [
        "training_features.shape"
      ]
    },
    {
      "cell_type": "code",
      "execution_count": 81,
      "metadata": {
        "colab": {
          "base_uri": "https://localhost:8080/"
        },
        "id": "4cq2D1d4rG3c",
        "outputId": "c2dba0e0-1660-418e-feff-a5c5f2888ce6"
      },
      "outputs": [
        {
          "data": {
            "text/plain": [
              "array([[0.52770561, 0.56796145, 0.57613552, ..., 0.        , 0.        ,\n",
              "        0.        ],\n",
              "       [0.53210115, 0.57266468, 0.57171988, ..., 0.        , 1.        ,\n",
              "        0.        ],\n",
              "       [0.18178502, 0.19196188, 0.24195927, ..., 0.        , 0.        ,\n",
              "        0.        ],\n",
              "       ...,\n",
              "       [0.63205403, 0.68277365, 0.69991136, ..., 0.        , 1.        ,\n",
              "        0.        ],\n",
              "       [0.61698532, 0.60924178, 0.68291956, ..., 0.        , 1.        ,\n",
              "        0.        ],\n",
              "       [0.4464193 , 0.42042515, 0.42143869, ..., 0.        , 1.        ,\n",
              "        0.        ]])"
            ]
          },
          "execution_count": 81,
          "metadata": {},
          "output_type": "execute_result"
        }
      ],
      "source": [
        "validation_features = np.concatenate((val_features['melspectrogram'], val_features['spectral_centroid'], val_continents), axis=1)\n",
        "\n",
        "validation_features"
      ]
    },
    {
      "cell_type": "code",
      "execution_count": 82,
      "metadata": {
        "colab": {
          "base_uri": "https://localhost:8080/"
        },
        "id": "hToy3sfErG3c",
        "outputId": "dc5f3f45-1cf7-489d-9c93-de7737cb848f"
      },
      "outputs": [
        {
          "data": {
            "text/plain": [
              "(2430, 134)"
            ]
          },
          "execution_count": 82,
          "metadata": {},
          "output_type": "execute_result"
        }
      ],
      "source": [
        "validation_features.shape"
      ]
    },
    {
      "cell_type": "markdown",
      "metadata": {
        "id": "vMw7PXk9rG3c"
      },
      "source": [
        "### fit the model with training data"
      ]
    },
    {
      "cell_type": "code",
      "execution_count": 83,
      "metadata": {
        "colab": {
          "base_uri": "https://localhost:8080/",
          "height": 75
        },
        "id": "e2L72kOkrG3c",
        "outputId": "4413457c-17d2-4d39-bd15-41dced44f9a5"
      },
      "outputs": [
        {
          "data": {
            "text/html": [
              "<style>#sk-container-id-6 {color: black;background-color: white;}#sk-container-id-6 pre{padding: 0;}#sk-container-id-6 div.sk-toggleable {background-color: white;}#sk-container-id-6 label.sk-toggleable__label {cursor: pointer;display: block;width: 100%;margin-bottom: 0;padding: 0.3em;box-sizing: border-box;text-align: center;}#sk-container-id-6 label.sk-toggleable__label-arrow:before {content: \"▸\";float: left;margin-right: 0.25em;color: #696969;}#sk-container-id-6 label.sk-toggleable__label-arrow:hover:before {color: black;}#sk-container-id-6 div.sk-estimator:hover label.sk-toggleable__label-arrow:before {color: black;}#sk-container-id-6 div.sk-toggleable__content {max-height: 0;max-width: 0;overflow: hidden;text-align: left;background-color: #f0f8ff;}#sk-container-id-6 div.sk-toggleable__content pre {margin: 0.2em;color: black;border-radius: 0.25em;background-color: #f0f8ff;}#sk-container-id-6 input.sk-toggleable__control:checked~div.sk-toggleable__content {max-height: 200px;max-width: 100%;overflow: auto;}#sk-container-id-6 input.sk-toggleable__control:checked~label.sk-toggleable__label-arrow:before {content: \"▾\";}#sk-container-id-6 div.sk-estimator input.sk-toggleable__control:checked~label.sk-toggleable__label {background-color: #d4ebff;}#sk-container-id-6 div.sk-label input.sk-toggleable__control:checked~label.sk-toggleable__label {background-color: #d4ebff;}#sk-container-id-6 input.sk-hidden--visually {border: 0;clip: rect(1px 1px 1px 1px);clip: rect(1px, 1px, 1px, 1px);height: 1px;margin: -1px;overflow: hidden;padding: 0;position: absolute;width: 1px;}#sk-container-id-6 div.sk-estimator {font-family: monospace;background-color: #f0f8ff;border: 1px dotted black;border-radius: 0.25em;box-sizing: border-box;margin-bottom: 0.5em;}#sk-container-id-6 div.sk-estimator:hover {background-color: #d4ebff;}#sk-container-id-6 div.sk-parallel-item::after {content: \"\";width: 100%;border-bottom: 1px solid gray;flex-grow: 1;}#sk-container-id-6 div.sk-label:hover label.sk-toggleable__label {background-color: #d4ebff;}#sk-container-id-6 div.sk-serial::before {content: \"\";position: absolute;border-left: 1px solid gray;box-sizing: border-box;top: 0;bottom: 0;left: 50%;z-index: 0;}#sk-container-id-6 div.sk-serial {display: flex;flex-direction: column;align-items: center;background-color: white;padding-right: 0.2em;padding-left: 0.2em;position: relative;}#sk-container-id-6 div.sk-item {position: relative;z-index: 1;}#sk-container-id-6 div.sk-parallel {display: flex;align-items: stretch;justify-content: center;background-color: white;position: relative;}#sk-container-id-6 div.sk-item::before, #sk-container-id-6 div.sk-parallel-item::before {content: \"\";position: absolute;border-left: 1px solid gray;box-sizing: border-box;top: 0;bottom: 0;left: 50%;z-index: -1;}#sk-container-id-6 div.sk-parallel-item {display: flex;flex-direction: column;z-index: 1;position: relative;background-color: white;}#sk-container-id-6 div.sk-parallel-item:first-child::after {align-self: flex-end;width: 50%;}#sk-container-id-6 div.sk-parallel-item:last-child::after {align-self: flex-start;width: 50%;}#sk-container-id-6 div.sk-parallel-item:only-child::after {width: 0;}#sk-container-id-6 div.sk-dashed-wrapped {border: 1px dashed gray;margin: 0 0.4em 0.5em 0.4em;box-sizing: border-box;padding-bottom: 0.4em;background-color: white;}#sk-container-id-6 div.sk-label label {font-family: monospace;font-weight: bold;display: inline-block;line-height: 1.2em;}#sk-container-id-6 div.sk-label-container {text-align: center;}#sk-container-id-6 div.sk-container {/* jupyter's `normalize.less` sets `[hidden] { display: none; }` but bootstrap.min.css set `[hidden] { display: none !important; }` so we also need the `!important` here to be able to override the default hidden behavior on the sphinx rendered scikit-learn.org. See: https://github.com/scikit-learn/scikit-learn/issues/21755 */display: inline-block !important;position: relative;}#sk-container-id-6 div.sk-text-repr-fallback {display: none;}</style><div id=\"sk-container-id-6\" class=\"sk-top-container\"><div class=\"sk-text-repr-fallback\"><pre>RandomForestClassifier(criterion=&#x27;entropy&#x27;, n_estimators=50)</pre><b>In a Jupyter environment, please rerun this cell to show the HTML representation or trust the notebook. <br />On GitHub, the HTML representation is unable to render, please try loading this page with nbviewer.org.</b></div><div class=\"sk-container\" hidden><div class=\"sk-item\"><div class=\"sk-estimator sk-toggleable\"><input class=\"sk-toggleable__control sk-hidden--visually\" id=\"sk-estimator-id-6\" type=\"checkbox\" checked><label for=\"sk-estimator-id-6\" class=\"sk-toggleable__label sk-toggleable__label-arrow\">RandomForestClassifier</label><div class=\"sk-toggleable__content\"><pre>RandomForestClassifier(criterion=&#x27;entropy&#x27;, n_estimators=50)</pre></div></div></div></div></div>"
            ],
            "text/plain": [
              "RandomForestClassifier(criterion='entropy', n_estimators=50)"
            ]
          },
          "execution_count": 83,
          "metadata": {},
          "output_type": "execute_result"
        }
      ],
      "source": [
        "rf = RandomForestClassifier(n_estimators=50, criterion='entropy')\n",
        "rf.fit(training_features, train_y)"
      ]
    },
    {
      "cell_type": "code",
      "execution_count": 84,
      "metadata": {
        "colab": {
          "base_uri": "https://localhost:8080/"
        },
        "id": "E4zZDeQzrG3c",
        "outputId": "645cd741-2f65-4410-e174-ddf2f7f3ca2b"
      },
      "outputs": [
        {
          "name": "stdout",
          "output_type": "stream",
          "text": [
            "Training accuracy: 1.0\n",
            "Validation accuracy: 0.574485596707819\n"
          ]
        }
      ],
      "source": [
        "print('Training accuracy:', rf.score(training_features, train_y))\n",
        "train_results['melspectrogram_spectral_centroid_continents'] = rf.score(training_features, train_y)\n",
        "\n",
        "print('Validation accuracy:', rf.score(validation_features, val_y))\n",
        "val_results['melspectrogram_spectral_centroid_continents'] = rf.score(validation_features, val_y)"
      ]
    },
    {
      "cell_type": "markdown",
      "metadata": {
        "id": "phVUTnI0rG3c"
      },
      "source": [
        "### evaluate the results"
      ]
    },
    {
      "cell_type": "code",
      "execution_count": 85,
      "metadata": {
        "colab": {
          "base_uri": "https://localhost:8080/"
        },
        "id": "5-fMVLc2rG3c",
        "outputId": "42e6a249-2848-4090-ba33-8ece79e3e120"
      },
      "outputs": [
        {
          "name": "stdout",
          "output_type": "stream",
          "text": [
            "Training classification Report \n",
            "\n",
            "              precision    recall  f1-score   support\n",
            "\n",
            "      barswa       1.00      1.00      1.00      1752\n",
            "      comsan       1.00      1.00      1.00      1713\n",
            "     eaywag1       1.00      1.00      1.00      1656\n",
            "\n",
            "    accuracy                           1.00      5121\n",
            "   macro avg       1.00      1.00      1.00      5121\n",
            "weighted avg       1.00      1.00      1.00      5121\n",
            "\n"
          ]
        }
      ],
      "source": [
        "train_yhat_result = rf.predict(training_features)\n",
        "\n",
        "print('Training classification Report \\n')\n",
        "print(classification_report(train_y, train_yhat_result, target_names=classes))"
      ]
    },
    {
      "cell_type": "code",
      "execution_count": 86,
      "metadata": {
        "colab": {
          "base_uri": "https://localhost:8080/"
        },
        "id": "6rnYSzrErG3c",
        "outputId": "f280fee4-81c1-4973-a73b-411b2890fe87"
      },
      "outputs": [
        {
          "name": "stdout",
          "output_type": "stream",
          "text": [
            "Validation classification Report \n",
            "\n",
            "              precision    recall  f1-score   support\n",
            "\n",
            "      barswa       0.68      0.60      0.64      1032\n",
            "      comsan       0.54      0.59      0.57       618\n",
            "     eaywag1       0.48      0.52      0.50       780\n",
            "\n",
            "    accuracy                           0.57      2430\n",
            "   macro avg       0.57      0.57      0.57      2430\n",
            "weighted avg       0.58      0.57      0.58      2430\n",
            "\n"
          ]
        }
      ],
      "source": [
        "val_yhat_result = rf.predict(validation_features)\n",
        "\n",
        "print('Validation classification Report \\n')\n",
        "print(classification_report(val_y, val_yhat_result, target_names=classes))"
      ]
    },
    {
      "cell_type": "code",
      "execution_count": 87,
      "metadata": {
        "colab": {
          "base_uri": "https://localhost:8080/",
          "height": 472
        },
        "id": "loZsN5LrrG3d",
        "outputId": "e65b469a-c095-4979-995b-72f7447f80ff"
      },
      "outputs": [
        {
          "data": {
            "image/png": "[encoded data removed]",
            "text/plain": [
              "<Figure size 640x480 with 1 Axes>"
            ]
          },
          "metadata": {},
          "output_type": "display_data"
        }
      ],
      "source": [
        "train_cm = tf.math.confusion_matrix(train_y, train_yhat_result)\n",
        "\n",
        "ax = sns.heatmap(train_cm,\n",
        "                 annot=True,\n",
        "                 fmt='.0f',\n",
        "                 cmap='Blues',\n",
        "                 xticklabels=classes,\n",
        "                 yticklabels=classes,\n",
        "                 cbar=False)\n",
        "\n",
        "ax.set(xlabel='Predicted Label', ylabel='True Label')\n",
        "plt.title('Train Confusion Matrix')\n",
        "plt.show()"
      ]
    },
    {
      "cell_type": "code",
      "execution_count": 88,
      "metadata": {
        "colab": {
          "base_uri": "https://localhost:8080/",
          "height": 472
        },
        "id": "LNi3bbO6rG3d",
        "outputId": "a6ac4798-2b7d-422c-ba08-6fa856a0ef48"
      },
      "outputs": [
        {
          "data": {
            "image/png": "[encoded data removed]",
            "text/plain": [
              "<Figure size 640x480 with 1 Axes>"
            ]
          },
          "metadata": {},
          "output_type": "display_data"
        }
      ],
      "source": [
        "val_cm = tf.math.confusion_matrix(val_y, val_yhat_result)\n",
        "\n",
        "ax = sns.heatmap(val_cm,\n",
        "                 annot=True,\n",
        "                 fmt='.0f',\n",
        "                 cmap='Blues',\n",
        "                 xticklabels=classes,\n",
        "                 yticklabels=classes,\n",
        "                 cbar=False)\n",
        "\n",
        "ax.set(xlabel='Predicted Label', ylabel='True Label')\n",
        "plt.title('Validation Confusion Matrix')\n",
        "plt.show()"
      ]
    },
    {
      "cell_type": "markdown",
      "metadata": {
        "id": "Cfyq2O6XrVWd"
      },
      "source": [
        "# Review results from all models"
      ]
    },
    {
      "cell_type": "code",
      "execution_count": 89,
      "metadata": {
        "colab": {
          "base_uri": "https://localhost:8080/",
          "height": 238
        },
        "id": "9Qt0tqxIrX8U",
        "outputId": "f4a4ebf0-bb33-46d1-dbd4-0e81a9da8c28"
      },
      "outputs": [
        {
          "data": {
            "text/html": [
              "\n",
              "  <div id=\"df-23e22f83-563f-47e9-91ea-80903953dbe0\" class=\"colab-df-container\">\n",
              "    <div>\n",
              "<style scoped>\n",
              "    .dataframe tbody tr th:only-of-type {\n",
              "        vertical-align: middle;\n",
              "    }\n",
              "\n",
              "    .dataframe tbody tr th {\n",
              "        vertical-align: top;\n",
              "    }\n",
              "\n",
              "    .dataframe thead th {\n",
              "        text-align: right;\n",
              "    }\n",
              "</style>\n",
              "<table border=\"1\" class=\"dataframe\">\n",
              "  <thead>\n",
              "    <tr style=\"text-align: right;\">\n",
              "      <th></th>\n",
              "      <th>Features</th>\n",
              "      <th>Train_Accuracy</th>\n",
              "      <th>Val_Accuracy</th>\n",
              "    </tr>\n",
              "  </thead>\n",
              "  <tbody>\n",
              "    <tr>\n",
              "      <th>0</th>\n",
              "      <td>melspectrogram</td>\n",
              "      <td>1.0</td>\n",
              "      <td>0.54</td>\n",
              "    </tr>\n",
              "    <tr>\n",
              "      <th>3</th>\n",
              "      <td>melspectrogram_rms_spectral_centroid</td>\n",
              "      <td>1.0</td>\n",
              "      <td>0.55</td>\n",
              "    </tr>\n",
              "    <tr>\n",
              "      <th>1</th>\n",
              "      <td>melspectrogram_chroma</td>\n",
              "      <td>1.0</td>\n",
              "      <td>0.56</td>\n",
              "    </tr>\n",
              "    <tr>\n",
              "      <th>5</th>\n",
              "      <td>melspectrogram_spectral_centroid_continents</td>\n",
              "      <td>1.0</td>\n",
              "      <td>0.57</td>\n",
              "    </tr>\n",
              "    <tr>\n",
              "      <th>4</th>\n",
              "      <td>melspectrogram_rms_continents</td>\n",
              "      <td>1.0</td>\n",
              "      <td>0.58</td>\n",
              "    </tr>\n",
              "    <tr>\n",
              "      <th>2</th>\n",
              "      <td>melspectrogram_chroma_continents</td>\n",
              "      <td>1.0</td>\n",
              "      <td>0.61</td>\n",
              "    </tr>\n",
              "  </tbody>\n",
              "</table>\n",
              "</div>\n",
              "    <div class=\"colab-df-buttons\">\n",
              "\n",
              "  <div class=\"colab-df-container\">\n",
              "    <button class=\"colab-df-convert\" onclick=\"convertToInteractive('df-23e22f83-563f-47e9-91ea-80903953dbe0')\"\n",
              "            title=\"Convert this dataframe to an interactive table.\"\n",
              "            style=\"display:none;\">\n",
              "\n",
              "  <svg xmlns=\"http://www.w3.org/2000/svg\" height=\"24px\" viewBox=\"0 -960 960 960\">\n",
              "    <path d=\"M120-120v-720h720v720H120Zm60-500h600v-160H180v160Zm220 220h160v-160H400v160Zm0 220h160v-160H400v160ZM180-400h160v-160H180v160Zm440 0h160v-160H620v160ZM180-180h160v-160H180v160Zm440 0h160v-160H620v160Z\"/>\n",
              "  </svg>\n",
              "    </button>\n",
              "\n",
              "  <style>\n",
              "    .colab-df-container {\n",
              "      display:flex;\n",
              "      gap: 12px;\n",
              "    }\n",
              "\n",
              "    .colab-df-convert {\n",
              "      background-color: #E8F0FE;\n",
              "      border: none;\n",
              "      border-radius: 50%;\n",
              "      cursor: pointer;\n",
              "      display: none;\n",
              "      fill: #1967D2;\n",
              "      height: 32px;\n",
              "      padding: 0 0 0 0;\n",
              "      width: 32px;\n",
              "    }\n",
              "\n",
              "    .colab-df-convert:hover {\n",
              "      background-color: #E2EBFA;\n",
              "      box-shadow: 0px 1px 2px rgba(60, 64, 67, 0.3), 0px 1px 3px 1px rgba(60, 64, 67, 0.15);\n",
              "      fill: #174EA6;\n",
              "    }\n",
              "\n",
              "    .colab-df-buttons div {\n",
              "      margin-bottom: 4px;\n",
              "    }\n",
              "\n",
              "    [theme=dark] .colab-df-convert {\n",
              "      background-color: #3B4455;\n",
              "      fill: #D2E3FC;\n",
              "    }\n",
              "\n",
              "    [theme=dark] .colab-df-convert:hover {\n",
              "      background-color: #434B5C;\n",
              "      box-shadow: 0px 1px 3px 1px rgba(0, 0, 0, 0.15);\n",
              "      filter: drop-shadow(0px 1px 2px rgba(0, 0, 0, 0.3));\n",
              "      fill: #FFFFFF;\n",
              "    }\n",
              "  </style>\n",
              "\n",
              "    <script>\n",
              "      const buttonEl =\n",
              "        document.querySelector('#df-23e22f83-563f-47e9-91ea-80903953dbe0 button.colab-df-convert');\n",
              "      buttonEl.style.display =\n",
              "        google.colab.kernel.accessAllowed ? 'block' : 'none';\n",
              "\n",
              "      async function convertToInteractive(key) {\n",
              "        const element = document.querySelector('#df-23e22f83-563f-47e9-91ea-80903953dbe0');\n",
              "        const dataTable =\n",
              "          await google.colab.kernel.invokeFunction('convertToInteractive',\n",
              "                                                    [key], {});\n",
              "        if (!dataTable) return;\n",
              "\n",
              "        const docLinkHtml = 'Like what you see? Visit the ' +\n",
              "          '<a target=\"_blank\" href=https://colab.research.google.com/notebooks/data_table.ipynb>data table notebook</a>'\n",
              "          + ' to learn more about interactive tables.';\n",
              "        element.innerHTML = '';\n",
              "        dataTable['output_type'] = 'display_data';\n",
              "        await google.colab.output.renderOutput(dataTable, element);\n",
              "        const docLink = document.createElement('div');\n",
              "        docLink.innerHTML = docLinkHtml;\n",
              "        element.appendChild(docLink);\n",
              "      }\n",
              "    </script>\n",
              "  </div>\n",
              "\n",
              "\n",
              "<div id=\"df-6096bb2f-c9d4-4eda-a871-66b0f42f2b91\">\n",
              "  <button class=\"colab-df-quickchart\" onclick=\"quickchart('df-6096bb2f-c9d4-4eda-a871-66b0f42f2b91')\"\n",
              "            title=\"Suggest charts.\"\n",
              "            style=\"display:none;\">\n",
              "\n",
              "<svg xmlns=\"http://www.w3.org/2000/svg\" height=\"24px\"viewBox=\"0 0 24 24\"\n",
              "     width=\"24px\">\n",
              "    <g>\n",
              "        <path d=\"M19 3H5c-1.1 0-2 .9-2 2v14c0 1.1.9 2 2 2h14c1.1 0 2-.9 2-2V5c0-1.1-.9-2-2-2zM9 17H7v-7h2v7zm4 0h-2V7h2v10zm4 0h-2v-4h2v4z\"/>\n",
              "    </g>\n",
              "</svg>\n",
              "  </button>\n",
              "\n",
              "<style>\n",
              "  .colab-df-quickchart {\n",
              "      --bg-color: #E8F0FE;\n",
              "      --fill-color: #1967D2;\n",
              "      --hover-bg-color: #E2EBFA;\n",
              "      --hover-fill-color: #174EA6;\n",
              "      --disabled-fill-color: #AAA;\n",
              "      --disabled-bg-color: #DDD;\n",
              "  }\n",
              "\n",
              "  [theme=dark] .colab-df-quickchart {\n",
              "      --bg-color: #3B4455;\n",
              "      --fill-color: #D2E3FC;\n",
              "      --hover-bg-color: #434B5C;\n",
              "      --hover-fill-color: #FFFFFF;\n",
              "      --disabled-bg-color: #3B4455;\n",
              "      --disabled-fill-color: #666;\n",
              "  }\n",
              "\n",
              "  .colab-df-quickchart {\n",
              "    background-color: var(--bg-color);\n",
              "    border: none;\n",
              "    border-radius: 50%;\n",
              "    cursor: pointer;\n",
              "    display: none;\n",
              "    fill: var(--fill-color);\n",
              "    height: 32px;\n",
              "    padding: 0;\n",
              "    width: 32px;\n",
              "  }\n",
              "\n",
              "  .colab-df-quickchart:hover {\n",
              "    background-color: var(--hover-bg-color);\n",
              "    box-shadow: 0 1px 2px rgba(60, 64, 67, 0.3), 0 1px 3px 1px rgba(60, 64, 67, 0.15);\n",
              "    fill: var(--button-hover-fill-color);\n",
              "  }\n",
              "\n",
              "  .colab-df-quickchart-complete:disabled,\n",
              "  .colab-df-quickchart-complete:disabled:hover {\n",
              "    background-color: var(--disabled-bg-color);\n",
              "    fill: var(--disabled-fill-color);\n",
              "    box-shadow: none;\n",
              "  }\n",
              "\n",
              "  .colab-df-spinner {\n",
              "    border: 2px solid var(--fill-color);\n",
              "    border-color: transparent;\n",
              "    border-bottom-color: var(--fill-color);\n",
              "    animation:\n",
              "      spin 1s steps(1) infinite;\n",
              "  }\n",
              "\n",
              "  @keyframes spin {\n",
              "    0% {\n",
              "      border-color: transparent;\n",
              "      border-bottom-color: var(--fill-color);\n",
              "      border-left-color: var(--fill-color);\n",
              "    }\n",
              "    20% {\n",
              "      border-color: transparent;\n",
              "      border-left-color: var(--fill-color);\n",
              "      border-top-color: var(--fill-color);\n",
              "    }\n",
              "    30% {\n",
              "      border-color: transparent;\n",
              "      border-left-color: var(--fill-color);\n",
              "      border-top-color: var(--fill-color);\n",
              "      border-right-color: var(--fill-color);\n",
              "    }\n",
              "    40% {\n",
              "      border-color: transparent;\n",
              "      border-right-color: var(--fill-color);\n",
              "      border-top-color: var(--fill-color);\n",
              "    }\n",
              "    60% {\n",
              "      border-color: transparent;\n",
              "      border-right-color: var(--fill-color);\n",
              "    }\n",
              "    80% {\n",
              "      border-color: transparent;\n",
              "      border-right-color: var(--fill-color);\n",
              "      border-bottom-color: var(--fill-color);\n",
              "    }\n",
              "    90% {\n",
              "      border-color: transparent;\n",
              "      border-bottom-color: var(--fill-color);\n",
              "    }\n",
              "  }\n",
              "</style>\n",
              "\n",
              "  <script>\n",
              "    async function quickchart(key) {\n",
              "      const quickchartButtonEl =\n",
              "        document.querySelector('#' + key + ' button');\n",
              "      quickchartButtonEl.disabled = true;  // To prevent multiple clicks.\n",
              "      quickchartButtonEl.classList.add('colab-df-spinner');\n",
              "      try {\n",
              "        const charts = await google.colab.kernel.invokeFunction(\n",
              "            'suggestCharts', [key], {});\n",
              "      } catch (error) {\n",
              "        console.error('Error during call to suggestCharts:', error);\n",
              "      }\n",
              "      quickchartButtonEl.classList.remove('colab-df-spinner');\n",
              "      quickchartButtonEl.classList.add('colab-df-quickchart-complete');\n",
              "    }\n",
              "    (() => {\n",
              "      let quickchartButtonEl =\n",
              "        document.querySelector('#df-6096bb2f-c9d4-4eda-a871-66b0f42f2b91 button');\n",
              "      quickchartButtonEl.style.display =\n",
              "        google.colab.kernel.accessAllowed ? 'block' : 'none';\n",
              "    })();\n",
              "  </script>\n",
              "</div>\n",
              "    </div>\n",
              "  </div>\n"
            ],
            "text/plain": [
              "                                      Features  Train_Accuracy  Val_Accuracy\n",
              "0                               melspectrogram             1.0          0.54\n",
              "3         melspectrogram_rms_spectral_centroid             1.0          0.55\n",
              "1                        melspectrogram_chroma             1.0          0.56\n",
              "5  melspectrogram_spectral_centroid_continents             1.0          0.57\n",
              "4                melspectrogram_rms_continents             1.0          0.58\n",
              "2             melspectrogram_chroma_continents             1.0          0.61"
            ]
          },
          "execution_count": 89,
          "metadata": {},
          "output_type": "execute_result"
        }
      ],
      "source": [
        "train_results_df = pd.DataFrame(list(train_results.items()), columns=['Features', 'Train_Accuracy']).round(2)\n",
        "val_results_df = pd.DataFrame(list(val_results.items()), columns=['Features', 'Val_Accuracy']).round(2)\n",
        "\n",
        "result_df = train_results_df.merge(val_results_df, on='Features')\n",
        "result_df = result_df.sort_values('Val_Accuracy')\n",
        "result_df"
      ]
    }
  ],
  "metadata": {
    "colab": {
      "collapsed_sections": [
        "90O0BIHuRxlJ",
        "2jcISvLVr3o_"
      ],
      "include_colab_link": true,
      "provenance": []
    },
    "kernelspec": {
      "display_name": "Python 3",
      "name": "python3"
    },
    "language_info": {
      "name": "python"
    }
  },
  "nbformat": 4,
  "nbformat_minor": 0
}
