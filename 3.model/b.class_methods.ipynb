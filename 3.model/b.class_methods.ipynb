{
  "cells": [
    {
      "cell_type": "markdown",
      "metadata": {
        "id": "RRAOS1-TKA-7"
      },
      "source": [
        "# Forewords"
      ]
    },
    {
      "cell_type": "markdown",
      "metadata": {
        "id": "3yIKRU9pKA-9"
      },
      "source": [
        "1. This notebook covers the creation and testing of the class methods for the modeling process for the project. Please follow the steps outlined in the previous notebooks to download and preprocess the dataset before attempting this notebook.\n",
        "2. If you followed the previous notebooks, you would have had the csv and the audio NumPy array objects saved on your Google Drive and ready for use.\n",
        "3. Please update the directory path below to your Google Drive path for the respective files as needed.\n",
        "4. The use of the class methods is not strictly neccessary to move forward with the project, especially if you have a large enough RAM to store all the audio features and labels for the training and validation sets. However, using the class methods will allow for more efficient memory management, therefore, highly recommended for this project."
      ]
    },
    {
      "cell_type": "markdown",
      "metadata": {
        "id": "view-in-github"
      },
      "source": [
        "<a href=\"https://colab.research.google.com/github/rachlllg/Project_Bird-Song-Classifier-with-Machine-Learning/blob/main/class_methods.ipynb\" target=\"_parent\"><img src=\"https://colab.research.google.com/assets/colab-badge.svg\" alt=\"Open In Colab\"/></a>"
      ]
    },
    {
      "cell_type": "markdown",
      "metadata": {
        "id": "FC-hlynJXTp0"
      },
      "source": [
        "# Import Libraries"
      ]
    },
    {
      "cell_type": "code",
      "execution_count": 1,
      "metadata": {
        "colab": {
          "base_uri": "https://localhost:8080/"
        },
        "id": "pwdOw0KgwT2a",
        "outputId": "7c4c035c-ddb2-42d3-e39e-23517c25e6f5"
      },
      "outputs": [
        {
          "output_type": "stream",
          "name": "stdout",
          "text": [
            "Drive already mounted at /content/drive; to attempt to forcibly remount, call drive.mount(\"/content/drive\", force_remount=True).\n"
          ]
        }
      ],
      "source": [
        "# For drive access\n",
        "from google.colab import drive\n",
        "drive.mount('/content/drive')\n",
        "\n",
        "# Standard libraries\n",
        "import numpy as np\n",
        "import pandas as pd\n",
        "import time\n",
        "\n",
        "# for audio\n",
        "import librosa\n",
        "\n",
        "# for normalization & avgpooling features\n",
        "from sklearn.preprocessing import MinMaxScaler\n",
        "import tensorflow as tf"
      ]
    },
    {
      "cell_type": "markdown",
      "metadata": {
        "id": "hwf1BPUjYnwS"
      },
      "source": [
        "# Self defined class method to extract framed audios and extract audio features"
      ]
    },
    {
      "cell_type": "code",
      "execution_count": 2,
      "metadata": {
        "id": "akGGWWHhYuml"
      },
      "outputs": [],
      "source": [
        "class Framed:\n",
        "\n",
        "  def __init__(self,\n",
        "               dataframe,\n",
        "               sr=16000,\n",
        "               window_size_s=5.0,\n",
        "               hop_size_s=2.5,\n",
        "               do_augment=False\n",
        "               ):\n",
        "    \"\"\"\n",
        "    Instantiate the Framed class, create train and val dfs.\n",
        "\n",
        "    The extract_framed() method is automatically called when the class is\n",
        "    instantiated to extract the framed audios and add to the train and val dfs.\n",
        "\n",
        "    Parameters:\n",
        "      dataframe (pd.DataFrame): DataFrame containing audio file information.\n",
        "      sr (int): Sample rate of the audio files.\n",
        "      window_size_s (float): Window size in seconds for framing the audio.\n",
        "      hop_size_s (float): Hop size in seconds for framing the audio.\n",
        "      augment (bool): Whether to apply augmentation to the audio.\n",
        "    \"\"\"\n",
        "    # instantiate class\n",
        "    self.sr = sr\n",
        "    self.frame_length = int(window_size_s * sr)\n",
        "    self.frame_step = int(hop_size_s * sr)\n",
        "\n",
        "    # split the dataframe to train and val by calling the _split_train_val() method\n",
        "    self.train_df, self.val_df = self._split_train_val(dataframe)\n",
        "\n",
        "    # add framed audios to train and val dfs by calling the extract_framed() method\n",
        "    # only training data could be augmented, validation is never augmented\n",
        "    self.extract_framed(self.train_df, augment=do_augment)\n",
        "    self.extract_framed(self.val_df, augment=False)\n",
        "\n",
        "\n",
        "  ########################################\n",
        "  # _split_train_val function is called when the class is instantiated\n",
        "  ########################################\n",
        "  def _split_train_val(self,\n",
        "                       dataframe):\n",
        "    \"\"\"\n",
        "    Split the dataframe to train and val based on predefined 'set' column.\n",
        "\n",
        "    Parameters:\n",
        "      dataframe (pd.DataFrame): DataFrame containing audio file information.\n",
        "\n",
        "    Returns:\n",
        "      tuple: Tuple of train and val dataframes containing audio file information.\n",
        "    \"\"\"\n",
        "    # extract the train set from dataframe & shuffle the train set\n",
        "    train_df = dataframe[dataframe['set'] == 'train']\n",
        "    train_df = train_df.sample(frac=1, random_state=1234)\n",
        "\n",
        "    # extract the val set from dataframe & shuffle the val set\n",
        "    val_df = dataframe[dataframe['set'] == 'val']\n",
        "    val_df = val_df.sample(frac=1, random_state=1234)\n",
        "\n",
        "    return train_df, val_df\n",
        "\n",
        "\n",
        "  ########################################\n",
        "  # augment function is called by extract_framed function if do_augment=True\n",
        "  ########################################\n",
        "  def augment(self, audio_array):\n",
        "    \"\"\"\n",
        "    Apply random augmentation if needed.\n",
        "\n",
        "    Parameters:\n",
        "      audio_array (npy): Training audio array.\n",
        "\n",
        "    Returns:\n",
        "      audio_array (npy): Augmented audio array.\n",
        "    \"\"\"\n",
        "    choice = np.random.choice(['original','noise','shift','pitch'])\n",
        "\n",
        "    # if the audio is short (less than 7 seconds in duration), stretch it first\n",
        "    if len(audio_array) <= 7*self.sr:\n",
        "      audio_array = librosa.effects.time_stretch(y=audio_array, rate=np.random.uniform(low=0, high=1))\n",
        "    # if the audio is not short, apply a random augmentation at random magnitude\n",
        "    elif choice == 'noise':\n",
        "      noise_amp = np.random.normal(loc=0.0, scale=0.05)*np.amax(audio_array)\n",
        "      audio_array = audio_array + noise_amp*np.random.normal(size=audio_array.shape[0])\n",
        "    elif choice == 'shift':\n",
        "      shift_range = int(np.random.uniform(low=-5, high=5)*1000)\n",
        "      audio_array = np.roll(audio_array, shift_range)\n",
        "    elif choice == 'pitch':\n",
        "      audio_array = librosa.effects.pitch_shift(y=audio_array, sr=self.sr, n_steps=np.random.uniform(low=0, high=1))\n",
        "    else:\n",
        "      audio_array = audio_array\n",
        "\n",
        "    return audio_array\n",
        "\n",
        "\n",
        "  ########################################\n",
        "  # extract_framed function is called when the class is instantiated to extract the framed audios\n",
        "  ########################################\n",
        "  def extract_framed(self, dataframe, augment):\n",
        "    \"\"\"\n",
        "    Load audio files from the given DataFrame, extract framed audios,\n",
        "    and add the framed audios to the given DataFrame\n",
        "\n",
        "    Parameters:\n",
        "      dataframe (pd.DataFrame): DataFrame containing audio file information.\n",
        "      augment (bool): Whether to apply augmentation to the audio.\n",
        "    \"\"\"\n",
        "    # load audios\n",
        "    audios = []\n",
        "    for filename in dataframe['filename_npy']:\n",
        "      audio = np.load('/content/drive/MyDrive/project/train_npy/' + filename)\n",
        "      # if augment is true, call the augment function to apply augmentation to the audio\n",
        "      if augment:\n",
        "        audio = self.augment(audio)\n",
        "      audios.append(audio)\n",
        "    assert len(audios) == len(dataframe)\n",
        "\n",
        "    # extract framed audios\n",
        "    framed = []\n",
        "    for audio in audios:\n",
        "      framed_audio = tf.signal.frame(audio, self.frame_length, self.frame_step, pad_end=False)\n",
        "      framed.append(framed_audio)\n",
        "    assert len(framed) == len(audios)\n",
        "\n",
        "    # add framed audios to df\n",
        "    dataframe['framed'] = framed"
      ]
    },
    {
      "cell_type": "code",
      "execution_count": 3,
      "metadata": {
        "id": "VcGKL7O7YzRW"
      },
      "outputs": [],
      "source": [
        "class Extraction:\n",
        "\n",
        "  def __init__(self,\n",
        "               train_df,\n",
        "               val_df,\n",
        "               sr=16000,\n",
        "               n_mfccs=20, #20 is the default n_mfccs from librosa\n",
        "               n_mels=20, #reduced from 128 default from librosa to 20\n",
        "               n_chroma=12, #12 is the default n_chroma from librosa\n",
        "               features=['mfcc'],\n",
        "               do_normalize=True,\n",
        "               do_avgpool=True #WARNING: THE KERNEL WILL CRASH IF YOU TRY TO EXTRACT ALL FEATURES WITHOUT AVGPOOL\n",
        "               ):\n",
        "    \"\"\"\n",
        "    Instantiate the Extraction class and extract the labels and features from train and val DataFrames.\n",
        "\n",
        "    The extract_features() method is automatically called to extract the labels and features from the given DataFrame.\n",
        "\n",
        "    Parameters:\n",
        "      train_df (pd.DataFrame): DataFrame containing training data.\n",
        "      val_df (pd.DataFrame): DataFrame containing validation data.\n",
        "      sr (int): Sample rate of the audio files.\n",
        "      n_mfccs (int): Number of MFCCs to extract.\n",
        "      n_mels (int): Number of Mel bands to extract.\n",
        "      n_chroma (int): Number of chroma bins to use.\n",
        "      features (list): List of features to extract.\n",
        "        accepted features: 'mfcc', 'chroma', 'rms', 'spectral_centroid', 'melspectrogram', 'continent', 'rating', 'type'.\n",
        "      normalize (bool): Whether to normalize the features.\n",
        "      maxpool (bool): Whether to maxpool the features.\n",
        "    \"\"\"\n",
        "    # instantiate class variables\n",
        "    self.sr = sr\n",
        "    self.n_mfccs = n_mfccs\n",
        "    self.n_mels = n_mels\n",
        "    self.n_chroma = n_chroma\n",
        "    self.do_normalize = do_normalize\n",
        "    self.do_avgpool = do_avgpool\n",
        "\n",
        "    # confirm features have been specified\n",
        "    assert len(features) != 0, \"Must Specify At Least One Feature In The Form Of A List.\"\n",
        "    self.features = features\n",
        "\n",
        "    # confirm features are valid\n",
        "    self.accepted_feature = ['mfcc', 'chroma', 'rms', 'spectral_centroid', 'melspectrogram', 'continent', 'rating', 'type']\n",
        "    for each in self.features:\n",
        "      assert each in self.accepted_feature, f\"{each} is not an accepted feature, only 'mfcc', 'chroma', 'rms', 'spectral_centroid', 'melspectrogram', 'continent', 'rating', and 'type' are accpeted features.\"\n",
        "\n",
        "    # extract train and val labels and features\n",
        "    self.train_y, self.train_features = self.extract_features(train_df)\n",
        "    self.val_y, self.val_features = self.extract_features(val_df)\n",
        "\n",
        "    # process the features by applying normalization or average pooling\n",
        "    self.train_features, self.val_features = self.process_features(self.train_features, self.val_features)\n",
        "\n",
        "\n",
        "  ########################################\n",
        "  # each of the extract_x() function is callable by the extract_features() function based on the features instantiated\n",
        "  # each of the features are extracted from librosa and transposed to shape (n_time, n_features)\n",
        "  ########################################\n",
        "  def extract_mfcc(self, each):\n",
        "    return np.transpose(librosa.feature.mfcc(y=np.array(each), sr=self.sr, n_mfcc=self.n_mfccs))\n",
        "\n",
        "  def extract_chroma(self, each):\n",
        "    return np.transpose(librosa.feature.chroma_stft(y=np.array(each), sr=self.sr, n_chroma=self.n_chroma))\n",
        "\n",
        "  def extract_rms(self, each):\n",
        "    return np.transpose(librosa.feature.rms(y=np.array(each)))\n",
        "\n",
        "  def extract_spectral_centroid(self, each):\n",
        "    return np.transpose(librosa.feature.spectral_centroid(y=np.array(each), sr=self.sr))\n",
        "\n",
        "  def extract_melspectrogram(self, each):\n",
        "    mel = librosa.feature.melspectrogram(y=np.array(each), sr=self.sr, n_mels=self.n_mels)\n",
        "    return np.transpose(librosa.power_to_db(mel))\n",
        "\n",
        "\n",
        "  ########################################\n",
        "  # normalization function is called by process_features() function for the features that require normalization\n",
        "  ########################################\n",
        "  def normalization(self, train_X, val_X, n_time, n_features):\n",
        "    \"\"\"\n",
        "    Normalize the train and val features\n",
        "\n",
        "    Parameters:\n",
        "      train_X (npy): Training feature\n",
        "      val_X (npy): Validation feature\n",
        "      n_time (int): Time axis\n",
        "      n_features (int): Feature axis\n",
        "\n",
        "    Returns:\n",
        "      train_X (npy): Normalized training feature\n",
        "      val_X (npy): Normalized validation feature\n",
        "    \"\"\"\n",
        "    # flatten the np arrays to 1D\n",
        "    train_X_reshape = train_X.reshape(-1, n_time * n_features)\n",
        "    val_X_reshape = val_X.reshape(-1, n_time * n_features)\n",
        "\n",
        "    # use minmaxscaler to normalize the train and val features\n",
        "    scaler = MinMaxScaler((0,1)).fit(train_X_reshape)\n",
        "    train_X_scaled = scaler.transform(train_X_reshape)\n",
        "    val_X_scaled = scaler.transform(val_X_reshape)\n",
        "\n",
        "    # reshape the features to the original shape (n_time, n_features)\n",
        "    train_X = train_X_scaled.reshape(-1, n_time, n_features)\n",
        "    val_X = val_X_scaled.reshape(-1, n_time, n_features)\n",
        "\n",
        "    return train_X, val_X\n",
        "\n",
        "\n",
        "  ########################################\n",
        "  # avgpooling function is called by process_features() function for the features that require average pooling\n",
        "  ########################################\n",
        "  def avgpooling(self, train_X, val_X, n_time, n_features):\n",
        "    \"\"\"\n",
        "    Average pooling the train and val features\n",
        "\n",
        "    Parameters:\n",
        "      train_X (npy): Training feature\n",
        "      val_X (npy): Validation feature\n",
        "      n_time (int): Time axis\n",
        "      n_features (int): Feature axis\n",
        "\n",
        "    Returns:\n",
        "      train_X (npy): Avgpooled training feature\n",
        "      val_X (npy): Avgpooled validation feature\n",
        "    \"\"\"\n",
        "    # instantiate the keras layers and model.\n",
        "    # the model only performs average pooling of inputs\n",
        "    tf.keras.backend.clear_session()\n",
        "    input = tf.keras.layers.Input(shape=(n_time, n_features))\n",
        "    global_avg_pooling = tf.keras.layers.GlobalAveragePooling1D()\n",
        "    pooled = global_avg_pooling(input)\n",
        "    pooling_model = tf.keras.models.Model(inputs=input, outputs=pooled)\n",
        "\n",
        "    # use the instantiated model to avgpool the train and val features\n",
        "    train_X = pooling_model.predict(train_X)\n",
        "    val_X = pooling_model.predict(val_X)\n",
        "\n",
        "    return train_X, val_X\n",
        "\n",
        "\n",
        "  ########################################\n",
        "  # process_features function is called when the class is instantiated\n",
        "  ########################################\n",
        "  def process_features(self, train_features_dict, val_features_dict):\n",
        "    \"\"\"\n",
        "    Apply normalization or average pooling to train and val features\n",
        "\n",
        "    Parameters:\n",
        "      train_features_dict (dict): Dictionary containing the training features\n",
        "      val_features_dict (dict): Dictionary containing the validation features\n",
        "\n",
        "    Returns:\n",
        "      tuple: Tuple containing normalized and/or average pooled training and validation features dictionary\n",
        "    \"\"\"\n",
        "    start_time = time.time()\n",
        "    display('features processing started ---------->')\n",
        "\n",
        "    for each in train_features_dict.keys():\n",
        "      # 'continent', 'rating', and 'type' do not need to be processed\n",
        "      if each == 'continent' or each == 'rating' or each == 'type':\n",
        "        pass\n",
        "      # process numeric features\n",
        "      else:\n",
        "        if each == 'mfcc':\n",
        "          n_features=self.n_mfccs\n",
        "        elif each == 'chroma':\n",
        "          n_features=self.n_chroma\n",
        "        elif each == 'rms' or each == 'spectral_centroid':\n",
        "          n_features=1\n",
        "        elif each == 'melspectrogram':\n",
        "          n_features=self.n_mels\n",
        "\n",
        "        # index the dictionary to find the value of the feature based on the feature name (key)\n",
        "        train_feature = train_features_dict[each]\n",
        "        val_feature = val_features_dict[each]\n",
        "\n",
        "        # call normalization or avgpooling function to apply normalization or average pooling to features\n",
        "        if self.do_normalize and self.do_avgpool:\n",
        "          train_features_dict[each], val_features_dict[each] = self.normalization(train_feature, val_feature, n_time=train_feature.shape[1], n_features=n_features)\n",
        "          train_features_dict[each], val_features_dict[each] = self.avgpooling(train_features_dict[each], val_features_dict[each], n_time=train_feature.shape[1], n_features=n_features)\n",
        "        elif self.do_normalize:\n",
        "          train_features_dict[each], val_features_dict[each] = self.normalization(train_feature, val_feature, n_time=train_feature.shape[1], n_features=n_features)\n",
        "        elif self.do_avgpool:\n",
        "          train_features_dict[each], val_features_dict[each] = self.avgpooling(train_feature, val_feature, n_time=train_feature.shape[1], n_features=n_features)\n",
        "        else:\n",
        "          train_features_dict[each], val_features_dict[each] = train_features_dict[each], val_features_dict[each]\n",
        "\n",
        "        display(f'{each} processed')\n",
        "\n",
        "    end_time = time.time()\n",
        "    display(f'features processing took {(end_time - start_time)/60:.1f} mins')\n",
        "\n",
        "    return train_features_dict, val_features_dict\n",
        "\n",
        "\n",
        "  ########################################\n",
        "  # extract_features function is called when the class is instantiated\n",
        "  ########################################\n",
        "  def extract_features(self, dataframe):\n",
        "    \"\"\"\n",
        "    Extract the label & features from the dataframes\n",
        "\n",
        "    Parameters:\n",
        "      dataframe (pd.DataFrame): DataFrame containing audio file information\n",
        "\n",
        "    Returns:\n",
        "      tuple: Tuple containing labels and a dictionary of extracted features\n",
        "    \"\"\"\n",
        "    start_time = time.time()\n",
        "    display(f'feature extraction started ---------->')\n",
        "\n",
        "    # create empty list and dict to store the labels and features\n",
        "    y = []\n",
        "    features_dict = {item: [] for item in self.features}\n",
        "\n",
        "    # iterate through each row of the dataframe to extract the label and features\n",
        "    for _, row in dataframe.iterrows():\n",
        "      label = row['primary_label']\n",
        "      framed = row['framed']\n",
        "\n",
        "      for each in framed:\n",
        "        y.append(label)\n",
        "\n",
        "        if 'continent' in self.features:\n",
        "          features_dict['continent'].append(row['continent'])\n",
        "        if 'rating' in self.features:\n",
        "          features_dict['rating'].append(row['rating'])\n",
        "        if 'type' in self.features:\n",
        "          features_dict['type'].append(row['type'])\n",
        "\n",
        "        # dynatically call the extract_x function to extract the listed features\n",
        "        for feature in self.features:\n",
        "          extract = f\"extract_{feature}\"\n",
        "          if hasattr(self, extract) and callable(func := getattr(self, extract)):\n",
        "            features_dict[feature].append(func(each))\n",
        "\n",
        "    # cast lists to np arrays\n",
        "    for each in features_dict.keys():\n",
        "      features_dict[each] = np.array(features_dict[each])\n",
        "    y = np.array(y)\n",
        "\n",
        "    end_time = time.time()\n",
        "    display(f'features extraction took {(end_time - start_time)/60:.1f} mins')\n",
        "\n",
        "    return y, features_dict\n"
      ]
    },
    {
      "cell_type": "markdown",
      "metadata": {
        "id": "1I0R6nWpXW58"
      },
      "source": [
        "# Load train_val.csv & create example_df to test the class methods"
      ]
    },
    {
      "cell_type": "code",
      "execution_count": 4,
      "metadata": {
        "colab": {
          "base_uri": "https://localhost:8080/",
          "height": 206
        },
        "id": "Lh1GK0faOiO3",
        "outputId": "23afdc02-e5d4-49b3-cabe-c3abdd7629ac"
      },
      "outputs": [
        {
          "output_type": "execute_result",
          "data": {
            "text/plain": [
              "  primary_label   type  latitude  longitude  rating             filename  \\\n",
              "0        comsan   call   51.9612     5.8104     2.0  comsan/XC528482.ogg   \n",
              "1        comsan   call   51.4522    -9.8189     4.0  comsan/XC667665.ogg   \n",
              "2        comsan   call   49.4452    22.6154     4.0  comsan/XC578772.ogg   \n",
              "3        comsan  blank   53.9299    -2.9833     2.5  comsan/XC702785.ogg   \n",
              "4        comsan   call   37.1379    -7.6303     3.0  comsan/XC494789.ogg   \n",
              "\n",
              "    duration country continent         filename_npy    set  \n",
              "0  18.233500      NL    EUROPE  comsan/XC528482.npy  train  \n",
              "1   6.556000      IE    EUROPE  comsan/XC667665.npy  train  \n",
              "2  31.268563      PL    EUROPE  comsan/XC578772.npy  train  \n",
              "3  55.431875      GB    EUROPE  comsan/XC702785.npy  train  \n",
              "4   5.760000      PT    EUROPE  comsan/XC494789.npy  train  "
            ],
            "text/html": [
              "\n",
              "  <div id=\"df-7e5f41ed-d927-4869-9fb1-ccb9619742f9\" class=\"colab-df-container\">\n",
              "    <div>\n",
              "<style scoped>\n",
              "    .dataframe tbody tr th:only-of-type {\n",
              "        vertical-align: middle;\n",
              "    }\n",
              "\n",
              "    .dataframe tbody tr th {\n",
              "        vertical-align: top;\n",
              "    }\n",
              "\n",
              "    .dataframe thead th {\n",
              "        text-align: right;\n",
              "    }\n",
              "</style>\n",
              "<table border=\"1\" class=\"dataframe\">\n",
              "  <thead>\n",
              "    <tr style=\"text-align: right;\">\n",
              "      <th></th>\n",
              "      <th>primary_label</th>\n",
              "      <th>type</th>\n",
              "      <th>latitude</th>\n",
              "      <th>longitude</th>\n",
              "      <th>rating</th>\n",
              "      <th>filename</th>\n",
              "      <th>duration</th>\n",
              "      <th>country</th>\n",
              "      <th>continent</th>\n",
              "      <th>filename_npy</th>\n",
              "      <th>set</th>\n",
              "    </tr>\n",
              "  </thead>\n",
              "  <tbody>\n",
              "    <tr>\n",
              "      <th>0</th>\n",
              "      <td>comsan</td>\n",
              "      <td>call</td>\n",
              "      <td>51.9612</td>\n",
              "      <td>5.8104</td>\n",
              "      <td>2.0</td>\n",
              "      <td>comsan/XC528482.ogg</td>\n",
              "      <td>18.233500</td>\n",
              "      <td>NL</td>\n",
              "      <td>EUROPE</td>\n",
              "      <td>comsan/XC528482.npy</td>\n",
              "      <td>train</td>\n",
              "    </tr>\n",
              "    <tr>\n",
              "      <th>1</th>\n",
              "      <td>comsan</td>\n",
              "      <td>call</td>\n",
              "      <td>51.4522</td>\n",
              "      <td>-9.8189</td>\n",
              "      <td>4.0</td>\n",
              "      <td>comsan/XC667665.ogg</td>\n",
              "      <td>6.556000</td>\n",
              "      <td>IE</td>\n",
              "      <td>EUROPE</td>\n",
              "      <td>comsan/XC667665.npy</td>\n",
              "      <td>train</td>\n",
              "    </tr>\n",
              "    <tr>\n",
              "      <th>2</th>\n",
              "      <td>comsan</td>\n",
              "      <td>call</td>\n",
              "      <td>49.4452</td>\n",
              "      <td>22.6154</td>\n",
              "      <td>4.0</td>\n",
              "      <td>comsan/XC578772.ogg</td>\n",
              "      <td>31.268563</td>\n",
              "      <td>PL</td>\n",
              "      <td>EUROPE</td>\n",
              "      <td>comsan/XC578772.npy</td>\n",
              "      <td>train</td>\n",
              "    </tr>\n",
              "    <tr>\n",
              "      <th>3</th>\n",
              "      <td>comsan</td>\n",
              "      <td>blank</td>\n",
              "      <td>53.9299</td>\n",
              "      <td>-2.9833</td>\n",
              "      <td>2.5</td>\n",
              "      <td>comsan/XC702785.ogg</td>\n",
              "      <td>55.431875</td>\n",
              "      <td>GB</td>\n",
              "      <td>EUROPE</td>\n",
              "      <td>comsan/XC702785.npy</td>\n",
              "      <td>train</td>\n",
              "    </tr>\n",
              "    <tr>\n",
              "      <th>4</th>\n",
              "      <td>comsan</td>\n",
              "      <td>call</td>\n",
              "      <td>37.1379</td>\n",
              "      <td>-7.6303</td>\n",
              "      <td>3.0</td>\n",
              "      <td>comsan/XC494789.ogg</td>\n",
              "      <td>5.760000</td>\n",
              "      <td>PT</td>\n",
              "      <td>EUROPE</td>\n",
              "      <td>comsan/XC494789.npy</td>\n",
              "      <td>train</td>\n",
              "    </tr>\n",
              "  </tbody>\n",
              "</table>\n",
              "</div>\n",
              "    <div class=\"colab-df-buttons\">\n",
              "\n",
              "  <div class=\"colab-df-container\">\n",
              "    <button class=\"colab-df-convert\" onclick=\"convertToInteractive('df-7e5f41ed-d927-4869-9fb1-ccb9619742f9')\"\n",
              "            title=\"Convert this dataframe to an interactive table.\"\n",
              "            style=\"display:none;\">\n",
              "\n",
              "  <svg xmlns=\"http://www.w3.org/2000/svg\" height=\"24px\" viewBox=\"0 -960 960 960\">\n",
              "    <path d=\"M120-120v-720h720v720H120Zm60-500h600v-160H180v160Zm220 220h160v-160H400v160Zm0 220h160v-160H400v160ZM180-400h160v-160H180v160Zm440 0h160v-160H620v160ZM180-180h160v-160H180v160Zm440 0h160v-160H620v160Z\"/>\n",
              "  </svg>\n",
              "    </button>\n",
              "\n",
              "  <style>\n",
              "    .colab-df-container {\n",
              "      display:flex;\n",
              "      gap: 12px;\n",
              "    }\n",
              "\n",
              "    .colab-df-convert {\n",
              "      background-color: #E8F0FE;\n",
              "      border: none;\n",
              "      border-radius: 50%;\n",
              "      cursor: pointer;\n",
              "      display: none;\n",
              "      fill: #1967D2;\n",
              "      height: 32px;\n",
              "      padding: 0 0 0 0;\n",
              "      width: 32px;\n",
              "    }\n",
              "\n",
              "    .colab-df-convert:hover {\n",
              "      background-color: #E2EBFA;\n",
              "      box-shadow: 0px 1px 2px rgba(60, 64, 67, 0.3), 0px 1px 3px 1px rgba(60, 64, 67, 0.15);\n",
              "      fill: #174EA6;\n",
              "    }\n",
              "\n",
              "    .colab-df-buttons div {\n",
              "      margin-bottom: 4px;\n",
              "    }\n",
              "\n",
              "    [theme=dark] .colab-df-convert {\n",
              "      background-color: #3B4455;\n",
              "      fill: #D2E3FC;\n",
              "    }\n",
              "\n",
              "    [theme=dark] .colab-df-convert:hover {\n",
              "      background-color: #434B5C;\n",
              "      box-shadow: 0px 1px 3px 1px rgba(0, 0, 0, 0.15);\n",
              "      filter: drop-shadow(0px 1px 2px rgba(0, 0, 0, 0.3));\n",
              "      fill: #FFFFFF;\n",
              "    }\n",
              "  </style>\n",
              "\n",
              "    <script>\n",
              "      const buttonEl =\n",
              "        document.querySelector('#df-7e5f41ed-d927-4869-9fb1-ccb9619742f9 button.colab-df-convert');\n",
              "      buttonEl.style.display =\n",
              "        google.colab.kernel.accessAllowed ? 'block' : 'none';\n",
              "\n",
              "      async function convertToInteractive(key) {\n",
              "        const element = document.querySelector('#df-7e5f41ed-d927-4869-9fb1-ccb9619742f9');\n",
              "        const dataTable =\n",
              "          await google.colab.kernel.invokeFunction('convertToInteractive',\n",
              "                                                    [key], {});\n",
              "        if (!dataTable) return;\n",
              "\n",
              "        const docLinkHtml = 'Like what you see? Visit the ' +\n",
              "          '<a target=\"_blank\" href=https://colab.research.google.com/notebooks/data_table.ipynb>data table notebook</a>'\n",
              "          + ' to learn more about interactive tables.';\n",
              "        element.innerHTML = '';\n",
              "        dataTable['output_type'] = 'display_data';\n",
              "        await google.colab.output.renderOutput(dataTable, element);\n",
              "        const docLink = document.createElement('div');\n",
              "        docLink.innerHTML = docLinkHtml;\n",
              "        element.appendChild(docLink);\n",
              "      }\n",
              "    </script>\n",
              "  </div>\n",
              "\n",
              "\n",
              "<div id=\"df-d18fe356-5ab9-4f2d-8456-7a49af855682\">\n",
              "  <button class=\"colab-df-quickchart\" onclick=\"quickchart('df-d18fe356-5ab9-4f2d-8456-7a49af855682')\"\n",
              "            title=\"Suggest charts.\"\n",
              "            style=\"display:none;\">\n",
              "\n",
              "<svg xmlns=\"http://www.w3.org/2000/svg\" height=\"24px\"viewBox=\"0 0 24 24\"\n",
              "     width=\"24px\">\n",
              "    <g>\n",
              "        <path d=\"M19 3H5c-1.1 0-2 .9-2 2v14c0 1.1.9 2 2 2h14c1.1 0 2-.9 2-2V5c0-1.1-.9-2-2-2zM9 17H7v-7h2v7zm4 0h-2V7h2v10zm4 0h-2v-4h2v4z\"/>\n",
              "    </g>\n",
              "</svg>\n",
              "  </button>\n",
              "\n",
              "<style>\n",
              "  .colab-df-quickchart {\n",
              "      --bg-color: #E8F0FE;\n",
              "      --fill-color: #1967D2;\n",
              "      --hover-bg-color: #E2EBFA;\n",
              "      --hover-fill-color: #174EA6;\n",
              "      --disabled-fill-color: #AAA;\n",
              "      --disabled-bg-color: #DDD;\n",
              "  }\n",
              "\n",
              "  [theme=dark] .colab-df-quickchart {\n",
              "      --bg-color: #3B4455;\n",
              "      --fill-color: #D2E3FC;\n",
              "      --hover-bg-color: #434B5C;\n",
              "      --hover-fill-color: #FFFFFF;\n",
              "      --disabled-bg-color: #3B4455;\n",
              "      --disabled-fill-color: #666;\n",
              "  }\n",
              "\n",
              "  .colab-df-quickchart {\n",
              "    background-color: var(--bg-color);\n",
              "    border: none;\n",
              "    border-radius: 50%;\n",
              "    cursor: pointer;\n",
              "    display: none;\n",
              "    fill: var(--fill-color);\n",
              "    height: 32px;\n",
              "    padding: 0;\n",
              "    width: 32px;\n",
              "  }\n",
              "\n",
              "  .colab-df-quickchart:hover {\n",
              "    background-color: var(--hover-bg-color);\n",
              "    box-shadow: 0 1px 2px rgba(60, 64, 67, 0.3), 0 1px 3px 1px rgba(60, 64, 67, 0.15);\n",
              "    fill: var(--button-hover-fill-color);\n",
              "  }\n",
              "\n",
              "  .colab-df-quickchart-complete:disabled,\n",
              "  .colab-df-quickchart-complete:disabled:hover {\n",
              "    background-color: var(--disabled-bg-color);\n",
              "    fill: var(--disabled-fill-color);\n",
              "    box-shadow: none;\n",
              "  }\n",
              "\n",
              "  .colab-df-spinner {\n",
              "    border: 2px solid var(--fill-color);\n",
              "    border-color: transparent;\n",
              "    border-bottom-color: var(--fill-color);\n",
              "    animation:\n",
              "      spin 1s steps(1) infinite;\n",
              "  }\n",
              "\n",
              "  @keyframes spin {\n",
              "    0% {\n",
              "      border-color: transparent;\n",
              "      border-bottom-color: var(--fill-color);\n",
              "      border-left-color: var(--fill-color);\n",
              "    }\n",
              "    20% {\n",
              "      border-color: transparent;\n",
              "      border-left-color: var(--fill-color);\n",
              "      border-top-color: var(--fill-color);\n",
              "    }\n",
              "    30% {\n",
              "      border-color: transparent;\n",
              "      border-left-color: var(--fill-color);\n",
              "      border-top-color: var(--fill-color);\n",
              "      border-right-color: var(--fill-color);\n",
              "    }\n",
              "    40% {\n",
              "      border-color: transparent;\n",
              "      border-right-color: var(--fill-color);\n",
              "      border-top-color: var(--fill-color);\n",
              "    }\n",
              "    60% {\n",
              "      border-color: transparent;\n",
              "      border-right-color: var(--fill-color);\n",
              "    }\n",
              "    80% {\n",
              "      border-color: transparent;\n",
              "      border-right-color: var(--fill-color);\n",
              "      border-bottom-color: var(--fill-color);\n",
              "    }\n",
              "    90% {\n",
              "      border-color: transparent;\n",
              "      border-bottom-color: var(--fill-color);\n",
              "    }\n",
              "  }\n",
              "</style>\n",
              "\n",
              "  <script>\n",
              "    async function quickchart(key) {\n",
              "      const quickchartButtonEl =\n",
              "        document.querySelector('#' + key + ' button');\n",
              "      quickchartButtonEl.disabled = true;  // To prevent multiple clicks.\n",
              "      quickchartButtonEl.classList.add('colab-df-spinner');\n",
              "      try {\n",
              "        const charts = await google.colab.kernel.invokeFunction(\n",
              "            'suggestCharts', [key], {});\n",
              "      } catch (error) {\n",
              "        console.error('Error during call to suggestCharts:', error);\n",
              "      }\n",
              "      quickchartButtonEl.classList.remove('colab-df-spinner');\n",
              "      quickchartButtonEl.classList.add('colab-df-quickchart-complete');\n",
              "    }\n",
              "    (() => {\n",
              "      let quickchartButtonEl =\n",
              "        document.querySelector('#df-d18fe356-5ab9-4f2d-8456-7a49af855682 button');\n",
              "      quickchartButtonEl.style.display =\n",
              "        google.colab.kernel.accessAllowed ? 'block' : 'none';\n",
              "    })();\n",
              "  </script>\n",
              "</div>\n",
              "    </div>\n",
              "  </div>\n"
            ]
          },
          "metadata": {},
          "execution_count": 4
        }
      ],
      "source": [
        "df = pd.read_csv('/content/drive/MyDrive/project/train_val.csv')\n",
        "\n",
        "df.head()"
      ]
    },
    {
      "cell_type": "code",
      "execution_count": 5,
      "metadata": {
        "colab": {
          "base_uri": "https://localhost:8080/",
          "height": 363
        },
        "id": "6DW1KrNdkMES",
        "outputId": "8df6bb47-6cb0-441a-e3eb-52673167f2c8"
      },
      "outputs": [
        {
          "output_type": "execute_result",
          "data": {
            "text/plain": [
              "     primary_label   type  latitude  longitude  rating              filename  \\\n",
              "0           comsan   call   51.9612     5.8104     2.0   comsan/XC528482.ogg   \n",
              "1           comsan   call   51.4522    -9.8189     4.0   comsan/XC667665.ogg   \n",
              "2           comsan   call   49.4452    22.6154     4.0   comsan/XC578772.ogg   \n",
              "3           comsan  blank   53.9299    -2.9833     2.5   comsan/XC702785.ogg   \n",
              "4           comsan   call   37.1379    -7.6303     3.0   comsan/XC494789.ogg   \n",
              "1039       eaywag1   call   52.7354    -0.6666     4.0  eaywag1/XC492232.ogg   \n",
              "1040       eaywag1   call   56.2566    12.5237     3.0  eaywag1/XC593974.ogg   \n",
              "1041       eaywag1   call   45.0243    34.1899     3.0  eaywag1/XC569651.ogg   \n",
              "1042        comsan   call   59.3794    24.2407     3.0   comsan/XC579372.ogg   \n",
              "1043        comsan   call   43.7412    -7.8670     5.0   comsan/XC644655.ogg   \n",
              "\n",
              "       duration country continent          filename_npy    set  \n",
              "0     18.233500      NL    EUROPE   comsan/XC528482.npy  train  \n",
              "1      6.556000      IE    EUROPE   comsan/XC667665.npy  train  \n",
              "2     31.268563      PL    EUROPE   comsan/XC578772.npy  train  \n",
              "3     55.431875      GB    EUROPE   comsan/XC702785.npy  train  \n",
              "4      5.760000      PT    EUROPE   comsan/XC494789.npy  train  \n",
              "1039   8.019625      GB    EUROPE  eaywag1/XC492232.npy    val  \n",
              "1040  11.016000      SE    EUROPE  eaywag1/XC593974.npy    val  \n",
              "1041  18.912688      UA    EUROPE  eaywag1/XC569651.npy    val  \n",
              "1042   7.105000      EE    EUROPE   comsan/XC579372.npy    val  \n",
              "1043   5.929812      ES    EUROPE   comsan/XC644655.npy    val  "
            ],
            "text/html": [
              "\n",
              "  <div id=\"df-2d0b4b71-5550-4a7b-9d19-bf52880586a3\" class=\"colab-df-container\">\n",
              "    <div>\n",
              "<style scoped>\n",
              "    .dataframe tbody tr th:only-of-type {\n",
              "        vertical-align: middle;\n",
              "    }\n",
              "\n",
              "    .dataframe tbody tr th {\n",
              "        vertical-align: top;\n",
              "    }\n",
              "\n",
              "    .dataframe thead th {\n",
              "        text-align: right;\n",
              "    }\n",
              "</style>\n",
              "<table border=\"1\" class=\"dataframe\">\n",
              "  <thead>\n",
              "    <tr style=\"text-align: right;\">\n",
              "      <th></th>\n",
              "      <th>primary_label</th>\n",
              "      <th>type</th>\n",
              "      <th>latitude</th>\n",
              "      <th>longitude</th>\n",
              "      <th>rating</th>\n",
              "      <th>filename</th>\n",
              "      <th>duration</th>\n",
              "      <th>country</th>\n",
              "      <th>continent</th>\n",
              "      <th>filename_npy</th>\n",
              "      <th>set</th>\n",
              "    </tr>\n",
              "  </thead>\n",
              "  <tbody>\n",
              "    <tr>\n",
              "      <th>0</th>\n",
              "      <td>comsan</td>\n",
              "      <td>call</td>\n",
              "      <td>51.9612</td>\n",
              "      <td>5.8104</td>\n",
              "      <td>2.0</td>\n",
              "      <td>comsan/XC528482.ogg</td>\n",
              "      <td>18.233500</td>\n",
              "      <td>NL</td>\n",
              "      <td>EUROPE</td>\n",
              "      <td>comsan/XC528482.npy</td>\n",
              "      <td>train</td>\n",
              "    </tr>\n",
              "    <tr>\n",
              "      <th>1</th>\n",
              "      <td>comsan</td>\n",
              "      <td>call</td>\n",
              "      <td>51.4522</td>\n",
              "      <td>-9.8189</td>\n",
              "      <td>4.0</td>\n",
              "      <td>comsan/XC667665.ogg</td>\n",
              "      <td>6.556000</td>\n",
              "      <td>IE</td>\n",
              "      <td>EUROPE</td>\n",
              "      <td>comsan/XC667665.npy</td>\n",
              "      <td>train</td>\n",
              "    </tr>\n",
              "    <tr>\n",
              "      <th>2</th>\n",
              "      <td>comsan</td>\n",
              "      <td>call</td>\n",
              "      <td>49.4452</td>\n",
              "      <td>22.6154</td>\n",
              "      <td>4.0</td>\n",
              "      <td>comsan/XC578772.ogg</td>\n",
              "      <td>31.268563</td>\n",
              "      <td>PL</td>\n",
              "      <td>EUROPE</td>\n",
              "      <td>comsan/XC578772.npy</td>\n",
              "      <td>train</td>\n",
              "    </tr>\n",
              "    <tr>\n",
              "      <th>3</th>\n",
              "      <td>comsan</td>\n",
              "      <td>blank</td>\n",
              "      <td>53.9299</td>\n",
              "      <td>-2.9833</td>\n",
              "      <td>2.5</td>\n",
              "      <td>comsan/XC702785.ogg</td>\n",
              "      <td>55.431875</td>\n",
              "      <td>GB</td>\n",
              "      <td>EUROPE</td>\n",
              "      <td>comsan/XC702785.npy</td>\n",
              "      <td>train</td>\n",
              "    </tr>\n",
              "    <tr>\n",
              "      <th>4</th>\n",
              "      <td>comsan</td>\n",
              "      <td>call</td>\n",
              "      <td>37.1379</td>\n",
              "      <td>-7.6303</td>\n",
              "      <td>3.0</td>\n",
              "      <td>comsan/XC494789.ogg</td>\n",
              "      <td>5.760000</td>\n",
              "      <td>PT</td>\n",
              "      <td>EUROPE</td>\n",
              "      <td>comsan/XC494789.npy</td>\n",
              "      <td>train</td>\n",
              "    </tr>\n",
              "    <tr>\n",
              "      <th>1039</th>\n",
              "      <td>eaywag1</td>\n",
              "      <td>call</td>\n",
              "      <td>52.7354</td>\n",
              "      <td>-0.6666</td>\n",
              "      <td>4.0</td>\n",
              "      <td>eaywag1/XC492232.ogg</td>\n",
              "      <td>8.019625</td>\n",
              "      <td>GB</td>\n",
              "      <td>EUROPE</td>\n",
              "      <td>eaywag1/XC492232.npy</td>\n",
              "      <td>val</td>\n",
              "    </tr>\n",
              "    <tr>\n",
              "      <th>1040</th>\n",
              "      <td>eaywag1</td>\n",
              "      <td>call</td>\n",
              "      <td>56.2566</td>\n",
              "      <td>12.5237</td>\n",
              "      <td>3.0</td>\n",
              "      <td>eaywag1/XC593974.ogg</td>\n",
              "      <td>11.016000</td>\n",
              "      <td>SE</td>\n",
              "      <td>EUROPE</td>\n",
              "      <td>eaywag1/XC593974.npy</td>\n",
              "      <td>val</td>\n",
              "    </tr>\n",
              "    <tr>\n",
              "      <th>1041</th>\n",
              "      <td>eaywag1</td>\n",
              "      <td>call</td>\n",
              "      <td>45.0243</td>\n",
              "      <td>34.1899</td>\n",
              "      <td>3.0</td>\n",
              "      <td>eaywag1/XC569651.ogg</td>\n",
              "      <td>18.912688</td>\n",
              "      <td>UA</td>\n",
              "      <td>EUROPE</td>\n",
              "      <td>eaywag1/XC569651.npy</td>\n",
              "      <td>val</td>\n",
              "    </tr>\n",
              "    <tr>\n",
              "      <th>1042</th>\n",
              "      <td>comsan</td>\n",
              "      <td>call</td>\n",
              "      <td>59.3794</td>\n",
              "      <td>24.2407</td>\n",
              "      <td>3.0</td>\n",
              "      <td>comsan/XC579372.ogg</td>\n",
              "      <td>7.105000</td>\n",
              "      <td>EE</td>\n",
              "      <td>EUROPE</td>\n",
              "      <td>comsan/XC579372.npy</td>\n",
              "      <td>val</td>\n",
              "    </tr>\n",
              "    <tr>\n",
              "      <th>1043</th>\n",
              "      <td>comsan</td>\n",
              "      <td>call</td>\n",
              "      <td>43.7412</td>\n",
              "      <td>-7.8670</td>\n",
              "      <td>5.0</td>\n",
              "      <td>comsan/XC644655.ogg</td>\n",
              "      <td>5.929812</td>\n",
              "      <td>ES</td>\n",
              "      <td>EUROPE</td>\n",
              "      <td>comsan/XC644655.npy</td>\n",
              "      <td>val</td>\n",
              "    </tr>\n",
              "  </tbody>\n",
              "</table>\n",
              "</div>\n",
              "    <div class=\"colab-df-buttons\">\n",
              "\n",
              "  <div class=\"colab-df-container\">\n",
              "    <button class=\"colab-df-convert\" onclick=\"convertToInteractive('df-2d0b4b71-5550-4a7b-9d19-bf52880586a3')\"\n",
              "            title=\"Convert this dataframe to an interactive table.\"\n",
              "            style=\"display:none;\">\n",
              "\n",
              "  <svg xmlns=\"http://www.w3.org/2000/svg\" height=\"24px\" viewBox=\"0 -960 960 960\">\n",
              "    <path d=\"M120-120v-720h720v720H120Zm60-500h600v-160H180v160Zm220 220h160v-160H400v160Zm0 220h160v-160H400v160ZM180-400h160v-160H180v160Zm440 0h160v-160H620v160ZM180-180h160v-160H180v160Zm440 0h160v-160H620v160Z\"/>\n",
              "  </svg>\n",
              "    </button>\n",
              "\n",
              "  <style>\n",
              "    .colab-df-container {\n",
              "      display:flex;\n",
              "      gap: 12px;\n",
              "    }\n",
              "\n",
              "    .colab-df-convert {\n",
              "      background-color: #E8F0FE;\n",
              "      border: none;\n",
              "      border-radius: 50%;\n",
              "      cursor: pointer;\n",
              "      display: none;\n",
              "      fill: #1967D2;\n",
              "      height: 32px;\n",
              "      padding: 0 0 0 0;\n",
              "      width: 32px;\n",
              "    }\n",
              "\n",
              "    .colab-df-convert:hover {\n",
              "      background-color: #E2EBFA;\n",
              "      box-shadow: 0px 1px 2px rgba(60, 64, 67, 0.3), 0px 1px 3px 1px rgba(60, 64, 67, 0.15);\n",
              "      fill: #174EA6;\n",
              "    }\n",
              "\n",
              "    .colab-df-buttons div {\n",
              "      margin-bottom: 4px;\n",
              "    }\n",
              "\n",
              "    [theme=dark] .colab-df-convert {\n",
              "      background-color: #3B4455;\n",
              "      fill: #D2E3FC;\n",
              "    }\n",
              "\n",
              "    [theme=dark] .colab-df-convert:hover {\n",
              "      background-color: #434B5C;\n",
              "      box-shadow: 0px 1px 3px 1px rgba(0, 0, 0, 0.15);\n",
              "      filter: drop-shadow(0px 1px 2px rgba(0, 0, 0, 0.3));\n",
              "      fill: #FFFFFF;\n",
              "    }\n",
              "  </style>\n",
              "\n",
              "    <script>\n",
              "      const buttonEl =\n",
              "        document.querySelector('#df-2d0b4b71-5550-4a7b-9d19-bf52880586a3 button.colab-df-convert');\n",
              "      buttonEl.style.display =\n",
              "        google.colab.kernel.accessAllowed ? 'block' : 'none';\n",
              "\n",
              "      async function convertToInteractive(key) {\n",
              "        const element = document.querySelector('#df-2d0b4b71-5550-4a7b-9d19-bf52880586a3');\n",
              "        const dataTable =\n",
              "          await google.colab.kernel.invokeFunction('convertToInteractive',\n",
              "                                                    [key], {});\n",
              "        if (!dataTable) return;\n",
              "\n",
              "        const docLinkHtml = 'Like what you see? Visit the ' +\n",
              "          '<a target=\"_blank\" href=https://colab.research.google.com/notebooks/data_table.ipynb>data table notebook</a>'\n",
              "          + ' to learn more about interactive tables.';\n",
              "        element.innerHTML = '';\n",
              "        dataTable['output_type'] = 'display_data';\n",
              "        await google.colab.output.renderOutput(dataTable, element);\n",
              "        const docLink = document.createElement('div');\n",
              "        docLink.innerHTML = docLinkHtml;\n",
              "        element.appendChild(docLink);\n",
              "      }\n",
              "    </script>\n",
              "  </div>\n",
              "\n",
              "\n",
              "<div id=\"df-e7dbbe8d-1794-47c7-8e14-b457fae56a2b\">\n",
              "  <button class=\"colab-df-quickchart\" onclick=\"quickchart('df-e7dbbe8d-1794-47c7-8e14-b457fae56a2b')\"\n",
              "            title=\"Suggest charts.\"\n",
              "            style=\"display:none;\">\n",
              "\n",
              "<svg xmlns=\"http://www.w3.org/2000/svg\" height=\"24px\"viewBox=\"0 0 24 24\"\n",
              "     width=\"24px\">\n",
              "    <g>\n",
              "        <path d=\"M19 3H5c-1.1 0-2 .9-2 2v14c0 1.1.9 2 2 2h14c1.1 0 2-.9 2-2V5c0-1.1-.9-2-2-2zM9 17H7v-7h2v7zm4 0h-2V7h2v10zm4 0h-2v-4h2v4z\"/>\n",
              "    </g>\n",
              "</svg>\n",
              "  </button>\n",
              "\n",
              "<style>\n",
              "  .colab-df-quickchart {\n",
              "      --bg-color: #E8F0FE;\n",
              "      --fill-color: #1967D2;\n",
              "      --hover-bg-color: #E2EBFA;\n",
              "      --hover-fill-color: #174EA6;\n",
              "      --disabled-fill-color: #AAA;\n",
              "      --disabled-bg-color: #DDD;\n",
              "  }\n",
              "\n",
              "  [theme=dark] .colab-df-quickchart {\n",
              "      --bg-color: #3B4455;\n",
              "      --fill-color: #D2E3FC;\n",
              "      --hover-bg-color: #434B5C;\n",
              "      --hover-fill-color: #FFFFFF;\n",
              "      --disabled-bg-color: #3B4455;\n",
              "      --disabled-fill-color: #666;\n",
              "  }\n",
              "\n",
              "  .colab-df-quickchart {\n",
              "    background-color: var(--bg-color);\n",
              "    border: none;\n",
              "    border-radius: 50%;\n",
              "    cursor: pointer;\n",
              "    display: none;\n",
              "    fill: var(--fill-color);\n",
              "    height: 32px;\n",
              "    padding: 0;\n",
              "    width: 32px;\n",
              "  }\n",
              "\n",
              "  .colab-df-quickchart:hover {\n",
              "    background-color: var(--hover-bg-color);\n",
              "    box-shadow: 0 1px 2px rgba(60, 64, 67, 0.3), 0 1px 3px 1px rgba(60, 64, 67, 0.15);\n",
              "    fill: var(--button-hover-fill-color);\n",
              "  }\n",
              "\n",
              "  .colab-df-quickchart-complete:disabled,\n",
              "  .colab-df-quickchart-complete:disabled:hover {\n",
              "    background-color: var(--disabled-bg-color);\n",
              "    fill: var(--disabled-fill-color);\n",
              "    box-shadow: none;\n",
              "  }\n",
              "\n",
              "  .colab-df-spinner {\n",
              "    border: 2px solid var(--fill-color);\n",
              "    border-color: transparent;\n",
              "    border-bottom-color: var(--fill-color);\n",
              "    animation:\n",
              "      spin 1s steps(1) infinite;\n",
              "  }\n",
              "\n",
              "  @keyframes spin {\n",
              "    0% {\n",
              "      border-color: transparent;\n",
              "      border-bottom-color: var(--fill-color);\n",
              "      border-left-color: var(--fill-color);\n",
              "    }\n",
              "    20% {\n",
              "      border-color: transparent;\n",
              "      border-left-color: var(--fill-color);\n",
              "      border-top-color: var(--fill-color);\n",
              "    }\n",
              "    30% {\n",
              "      border-color: transparent;\n",
              "      border-left-color: var(--fill-color);\n",
              "      border-top-color: var(--fill-color);\n",
              "      border-right-color: var(--fill-color);\n",
              "    }\n",
              "    40% {\n",
              "      border-color: transparent;\n",
              "      border-right-color: var(--fill-color);\n",
              "      border-top-color: var(--fill-color);\n",
              "    }\n",
              "    60% {\n",
              "      border-color: transparent;\n",
              "      border-right-color: var(--fill-color);\n",
              "    }\n",
              "    80% {\n",
              "      border-color: transparent;\n",
              "      border-right-color: var(--fill-color);\n",
              "      border-bottom-color: var(--fill-color);\n",
              "    }\n",
              "    90% {\n",
              "      border-color: transparent;\n",
              "      border-bottom-color: var(--fill-color);\n",
              "    }\n",
              "  }\n",
              "</style>\n",
              "\n",
              "  <script>\n",
              "    async function quickchart(key) {\n",
              "      const quickchartButtonEl =\n",
              "        document.querySelector('#' + key + ' button');\n",
              "      quickchartButtonEl.disabled = true;  // To prevent multiple clicks.\n",
              "      quickchartButtonEl.classList.add('colab-df-spinner');\n",
              "      try {\n",
              "        const charts = await google.colab.kernel.invokeFunction(\n",
              "            'suggestCharts', [key], {});\n",
              "      } catch (error) {\n",
              "        console.error('Error during call to suggestCharts:', error);\n",
              "      }\n",
              "      quickchartButtonEl.classList.remove('colab-df-spinner');\n",
              "      quickchartButtonEl.classList.add('colab-df-quickchart-complete');\n",
              "    }\n",
              "    (() => {\n",
              "      let quickchartButtonEl =\n",
              "        document.querySelector('#df-e7dbbe8d-1794-47c7-8e14-b457fae56a2b button');\n",
              "      quickchartButtonEl.style.display =\n",
              "        google.colab.kernel.accessAllowed ? 'block' : 'none';\n",
              "    })();\n",
              "  </script>\n",
              "</div>\n",
              "    </div>\n",
              "  </div>\n"
            ]
          },
          "metadata": {},
          "execution_count": 5
        }
      ],
      "source": [
        "example_df = pd.concat([df.head(5), df.tail(5)])\n",
        "example_df"
      ]
    },
    {
      "cell_type": "code",
      "execution_count": 6,
      "metadata": {
        "colab": {
          "base_uri": "https://localhost:8080/"
        },
        "id": "3pW2nnxSPc82",
        "outputId": "8b092c03-c011-4e63-a0b1-002339d8c667"
      },
      "outputs": [
        {
          "output_type": "execute_result",
          "data": {
            "text/plain": [
              "4        5.760000\n",
              "1043     5.929812\n",
              "1        6.556000\n",
              "1042     7.105000\n",
              "1039     8.019625\n",
              "1040    11.016000\n",
              "0       18.233500\n",
              "1041    18.912688\n",
              "2       31.268563\n",
              "3       55.431875\n",
              "Name: duration, dtype: float64"
            ]
          },
          "metadata": {},
          "execution_count": 6
        }
      ],
      "source": [
        "example_df['duration'].sort_values()"
      ]
    },
    {
      "cell_type": "code",
      "execution_count": 7,
      "metadata": {
        "colab": {
          "base_uri": "https://localhost:8080/"
        },
        "id": "5KEQ_z59SY59",
        "outputId": "f10e1f26-f1f7-4ec8-99f9-966a9b67116f"
      },
      "outputs": [
        {
          "output_type": "stream",
          "name": "stdout",
          "text": [
            "CPU times: user 2.83 s, sys: 316 ms, total: 3.14 s\n",
            "Wall time: 5.61 s\n"
          ]
        }
      ],
      "source": [
        "%%time\n",
        "\n",
        "framed = Framed(example_df,\n",
        "               window_size_s=5.0,\n",
        "               hop_size_s=2.5,\n",
        "               do_augment=True)"
      ]
    },
    {
      "cell_type": "code",
      "execution_count": 8,
      "metadata": {
        "colab": {
          "base_uri": "https://localhost:8080/",
          "height": 206
        },
        "id": "ju6lQ6g4UlTt",
        "outputId": "8ae1d4eb-2fd5-475f-cb94-bcea81b2a525"
      },
      "outputs": [
        {
          "output_type": "execute_result",
          "data": {
            "text/plain": [
              "  primary_label   type  latitude  longitude  rating             filename  \\\n",
              "4        comsan   call   37.1379    -7.6303     3.0  comsan/XC494789.ogg   \n",
              "0        comsan   call   51.9612     5.8104     2.0  comsan/XC528482.ogg   \n",
              "1        comsan   call   51.4522    -9.8189     4.0  comsan/XC667665.ogg   \n",
              "2        comsan   call   49.4452    22.6154     4.0  comsan/XC578772.ogg   \n",
              "3        comsan  blank   53.9299    -2.9833     2.5  comsan/XC702785.ogg   \n",
              "\n",
              "    duration country continent         filename_npy    set  \\\n",
              "4   5.760000      PT    EUROPE  comsan/XC494789.npy  train   \n",
              "0  18.233500      NL    EUROPE  comsan/XC528482.npy  train   \n",
              "1   6.556000      IE    EUROPE  comsan/XC667665.npy  train   \n",
              "2  31.268563      PL    EUROPE  comsan/XC578772.npy  train   \n",
              "3  55.431875      GB    EUROPE  comsan/XC702785.npy  train   \n",
              "\n",
              "                                              framed  \n",
              "4  ((tf.Tensor(-1.2212125e-05, shape=(), dtype=fl...  \n",
              "0  ((tf.Tensor(-0.0029895390239467307, shape=(), ...  \n",
              "1  ((tf.Tensor(1.4402971e-05, shape=(), dtype=flo...  \n",
              "2  ((tf.Tensor(-0.00014392172171481495, shape=(),...  \n",
              "3  ((tf.Tensor(0.0005660690803182515, shape=(), d...  "
            ],
            "text/html": [
              "\n",
              "  <div id=\"df-dec410d5-0d60-43b4-b0c4-ab27416bdc18\" class=\"colab-df-container\">\n",
              "    <div>\n",
              "<style scoped>\n",
              "    .dataframe tbody tr th:only-of-type {\n",
              "        vertical-align: middle;\n",
              "    }\n",
              "\n",
              "    .dataframe tbody tr th {\n",
              "        vertical-align: top;\n",
              "    }\n",
              "\n",
              "    .dataframe thead th {\n",
              "        text-align: right;\n",
              "    }\n",
              "</style>\n",
              "<table border=\"1\" class=\"dataframe\">\n",
              "  <thead>\n",
              "    <tr style=\"text-align: right;\">\n",
              "      <th></th>\n",
              "      <th>primary_label</th>\n",
              "      <th>type</th>\n",
              "      <th>latitude</th>\n",
              "      <th>longitude</th>\n",
              "      <th>rating</th>\n",
              "      <th>filename</th>\n",
              "      <th>duration</th>\n",
              "      <th>country</th>\n",
              "      <th>continent</th>\n",
              "      <th>filename_npy</th>\n",
              "      <th>set</th>\n",
              "      <th>framed</th>\n",
              "    </tr>\n",
              "  </thead>\n",
              "  <tbody>\n",
              "    <tr>\n",
              "      <th>4</th>\n",
              "      <td>comsan</td>\n",
              "      <td>call</td>\n",
              "      <td>37.1379</td>\n",
              "      <td>-7.6303</td>\n",
              "      <td>3.0</td>\n",
              "      <td>comsan/XC494789.ogg</td>\n",
              "      <td>5.760000</td>\n",
              "      <td>PT</td>\n",
              "      <td>EUROPE</td>\n",
              "      <td>comsan/XC494789.npy</td>\n",
              "      <td>train</td>\n",
              "      <td>((tf.Tensor(-1.2212125e-05, shape=(), dtype=fl...</td>\n",
              "    </tr>\n",
              "    <tr>\n",
              "      <th>0</th>\n",
              "      <td>comsan</td>\n",
              "      <td>call</td>\n",
              "      <td>51.9612</td>\n",
              "      <td>5.8104</td>\n",
              "      <td>2.0</td>\n",
              "      <td>comsan/XC528482.ogg</td>\n",
              "      <td>18.233500</td>\n",
              "      <td>NL</td>\n",
              "      <td>EUROPE</td>\n",
              "      <td>comsan/XC528482.npy</td>\n",
              "      <td>train</td>\n",
              "      <td>((tf.Tensor(-0.0029895390239467307, shape=(), ...</td>\n",
              "    </tr>\n",
              "    <tr>\n",
              "      <th>1</th>\n",
              "      <td>comsan</td>\n",
              "      <td>call</td>\n",
              "      <td>51.4522</td>\n",
              "      <td>-9.8189</td>\n",
              "      <td>4.0</td>\n",
              "      <td>comsan/XC667665.ogg</td>\n",
              "      <td>6.556000</td>\n",
              "      <td>IE</td>\n",
              "      <td>EUROPE</td>\n",
              "      <td>comsan/XC667665.npy</td>\n",
              "      <td>train</td>\n",
              "      <td>((tf.Tensor(1.4402971e-05, shape=(), dtype=flo...</td>\n",
              "    </tr>\n",
              "    <tr>\n",
              "      <th>2</th>\n",
              "      <td>comsan</td>\n",
              "      <td>call</td>\n",
              "      <td>49.4452</td>\n",
              "      <td>22.6154</td>\n",
              "      <td>4.0</td>\n",
              "      <td>comsan/XC578772.ogg</td>\n",
              "      <td>31.268563</td>\n",
              "      <td>PL</td>\n",
              "      <td>EUROPE</td>\n",
              "      <td>comsan/XC578772.npy</td>\n",
              "      <td>train</td>\n",
              "      <td>((tf.Tensor(-0.00014392172171481495, shape=(),...</td>\n",
              "    </tr>\n",
              "    <tr>\n",
              "      <th>3</th>\n",
              "      <td>comsan</td>\n",
              "      <td>blank</td>\n",
              "      <td>53.9299</td>\n",
              "      <td>-2.9833</td>\n",
              "      <td>2.5</td>\n",
              "      <td>comsan/XC702785.ogg</td>\n",
              "      <td>55.431875</td>\n",
              "      <td>GB</td>\n",
              "      <td>EUROPE</td>\n",
              "      <td>comsan/XC702785.npy</td>\n",
              "      <td>train</td>\n",
              "      <td>((tf.Tensor(0.0005660690803182515, shape=(), d...</td>\n",
              "    </tr>\n",
              "  </tbody>\n",
              "</table>\n",
              "</div>\n",
              "    <div class=\"colab-df-buttons\">\n",
              "\n",
              "  <div class=\"colab-df-container\">\n",
              "    <button class=\"colab-df-convert\" onclick=\"convertToInteractive('df-dec410d5-0d60-43b4-b0c4-ab27416bdc18')\"\n",
              "            title=\"Convert this dataframe to an interactive table.\"\n",
              "            style=\"display:none;\">\n",
              "\n",
              "  <svg xmlns=\"http://www.w3.org/2000/svg\" height=\"24px\" viewBox=\"0 -960 960 960\">\n",
              "    <path d=\"M120-120v-720h720v720H120Zm60-500h600v-160H180v160Zm220 220h160v-160H400v160Zm0 220h160v-160H400v160ZM180-400h160v-160H180v160Zm440 0h160v-160H620v160ZM180-180h160v-160H180v160Zm440 0h160v-160H620v160Z\"/>\n",
              "  </svg>\n",
              "    </button>\n",
              "\n",
              "  <style>\n",
              "    .colab-df-container {\n",
              "      display:flex;\n",
              "      gap: 12px;\n",
              "    }\n",
              "\n",
              "    .colab-df-convert {\n",
              "      background-color: #E8F0FE;\n",
              "      border: none;\n",
              "      border-radius: 50%;\n",
              "      cursor: pointer;\n",
              "      display: none;\n",
              "      fill: #1967D2;\n",
              "      height: 32px;\n",
              "      padding: 0 0 0 0;\n",
              "      width: 32px;\n",
              "    }\n",
              "\n",
              "    .colab-df-convert:hover {\n",
              "      background-color: #E2EBFA;\n",
              "      box-shadow: 0px 1px 2px rgba(60, 64, 67, 0.3), 0px 1px 3px 1px rgba(60, 64, 67, 0.15);\n",
              "      fill: #174EA6;\n",
              "    }\n",
              "\n",
              "    .colab-df-buttons div {\n",
              "      margin-bottom: 4px;\n",
              "    }\n",
              "\n",
              "    [theme=dark] .colab-df-convert {\n",
              "      background-color: #3B4455;\n",
              "      fill: #D2E3FC;\n",
              "    }\n",
              "\n",
              "    [theme=dark] .colab-df-convert:hover {\n",
              "      background-color: #434B5C;\n",
              "      box-shadow: 0px 1px 3px 1px rgba(0, 0, 0, 0.15);\n",
              "      filter: drop-shadow(0px 1px 2px rgba(0, 0, 0, 0.3));\n",
              "      fill: #FFFFFF;\n",
              "    }\n",
              "  </style>\n",
              "\n",
              "    <script>\n",
              "      const buttonEl =\n",
              "        document.querySelector('#df-dec410d5-0d60-43b4-b0c4-ab27416bdc18 button.colab-df-convert');\n",
              "      buttonEl.style.display =\n",
              "        google.colab.kernel.accessAllowed ? 'block' : 'none';\n",
              "\n",
              "      async function convertToInteractive(key) {\n",
              "        const element = document.querySelector('#df-dec410d5-0d60-43b4-b0c4-ab27416bdc18');\n",
              "        const dataTable =\n",
              "          await google.colab.kernel.invokeFunction('convertToInteractive',\n",
              "                                                    [key], {});\n",
              "        if (!dataTable) return;\n",
              "\n",
              "        const docLinkHtml = 'Like what you see? Visit the ' +\n",
              "          '<a target=\"_blank\" href=https://colab.research.google.com/notebooks/data_table.ipynb>data table notebook</a>'\n",
              "          + ' to learn more about interactive tables.';\n",
              "        element.innerHTML = '';\n",
              "        dataTable['output_type'] = 'display_data';\n",
              "        await google.colab.output.renderOutput(dataTable, element);\n",
              "        const docLink = document.createElement('div');\n",
              "        docLink.innerHTML = docLinkHtml;\n",
              "        element.appendChild(docLink);\n",
              "      }\n",
              "    </script>\n",
              "  </div>\n",
              "\n",
              "\n",
              "<div id=\"df-380a5dd3-c686-4e6f-96ca-8b40a183db20\">\n",
              "  <button class=\"colab-df-quickchart\" onclick=\"quickchart('df-380a5dd3-c686-4e6f-96ca-8b40a183db20')\"\n",
              "            title=\"Suggest charts.\"\n",
              "            style=\"display:none;\">\n",
              "\n",
              "<svg xmlns=\"http://www.w3.org/2000/svg\" height=\"24px\"viewBox=\"0 0 24 24\"\n",
              "     width=\"24px\">\n",
              "    <g>\n",
              "        <path d=\"M19 3H5c-1.1 0-2 .9-2 2v14c0 1.1.9 2 2 2h14c1.1 0 2-.9 2-2V5c0-1.1-.9-2-2-2zM9 17H7v-7h2v7zm4 0h-2V7h2v10zm4 0h-2v-4h2v4z\"/>\n",
              "    </g>\n",
              "</svg>\n",
              "  </button>\n",
              "\n",
              "<style>\n",
              "  .colab-df-quickchart {\n",
              "      --bg-color: #E8F0FE;\n",
              "      --fill-color: #1967D2;\n",
              "      --hover-bg-color: #E2EBFA;\n",
              "      --hover-fill-color: #174EA6;\n",
              "      --disabled-fill-color: #AAA;\n",
              "      --disabled-bg-color: #DDD;\n",
              "  }\n",
              "\n",
              "  [theme=dark] .colab-df-quickchart {\n",
              "      --bg-color: #3B4455;\n",
              "      --fill-color: #D2E3FC;\n",
              "      --hover-bg-color: #434B5C;\n",
              "      --hover-fill-color: #FFFFFF;\n",
              "      --disabled-bg-color: #3B4455;\n",
              "      --disabled-fill-color: #666;\n",
              "  }\n",
              "\n",
              "  .colab-df-quickchart {\n",
              "    background-color: var(--bg-color);\n",
              "    border: none;\n",
              "    border-radius: 50%;\n",
              "    cursor: pointer;\n",
              "    display: none;\n",
              "    fill: var(--fill-color);\n",
              "    height: 32px;\n",
              "    padding: 0;\n",
              "    width: 32px;\n",
              "  }\n",
              "\n",
              "  .colab-df-quickchart:hover {\n",
              "    background-color: var(--hover-bg-color);\n",
              "    box-shadow: 0 1px 2px rgba(60, 64, 67, 0.3), 0 1px 3px 1px rgba(60, 64, 67, 0.15);\n",
              "    fill: var(--button-hover-fill-color);\n",
              "  }\n",
              "\n",
              "  .colab-df-quickchart-complete:disabled,\n",
              "  .colab-df-quickchart-complete:disabled:hover {\n",
              "    background-color: var(--disabled-bg-color);\n",
              "    fill: var(--disabled-fill-color);\n",
              "    box-shadow: none;\n",
              "  }\n",
              "\n",
              "  .colab-df-spinner {\n",
              "    border: 2px solid var(--fill-color);\n",
              "    border-color: transparent;\n",
              "    border-bottom-color: var(--fill-color);\n",
              "    animation:\n",
              "      spin 1s steps(1) infinite;\n",
              "  }\n",
              "\n",
              "  @keyframes spin {\n",
              "    0% {\n",
              "      border-color: transparent;\n",
              "      border-bottom-color: var(--fill-color);\n",
              "      border-left-color: var(--fill-color);\n",
              "    }\n",
              "    20% {\n",
              "      border-color: transparent;\n",
              "      border-left-color: var(--fill-color);\n",
              "      border-top-color: var(--fill-color);\n",
              "    }\n",
              "    30% {\n",
              "      border-color: transparent;\n",
              "      border-left-color: var(--fill-color);\n",
              "      border-top-color: var(--fill-color);\n",
              "      border-right-color: var(--fill-color);\n",
              "    }\n",
              "    40% {\n",
              "      border-color: transparent;\n",
              "      border-right-color: var(--fill-color);\n",
              "      border-top-color: var(--fill-color);\n",
              "    }\n",
              "    60% {\n",
              "      border-color: transparent;\n",
              "      border-right-color: var(--fill-color);\n",
              "    }\n",
              "    80% {\n",
              "      border-color: transparent;\n",
              "      border-right-color: var(--fill-color);\n",
              "      border-bottom-color: var(--fill-color);\n",
              "    }\n",
              "    90% {\n",
              "      border-color: transparent;\n",
              "      border-bottom-color: var(--fill-color);\n",
              "    }\n",
              "  }\n",
              "</style>\n",
              "\n",
              "  <script>\n",
              "    async function quickchart(key) {\n",
              "      const quickchartButtonEl =\n",
              "        document.querySelector('#' + key + ' button');\n",
              "      quickchartButtonEl.disabled = true;  // To prevent multiple clicks.\n",
              "      quickchartButtonEl.classList.add('colab-df-spinner');\n",
              "      try {\n",
              "        const charts = await google.colab.kernel.invokeFunction(\n",
              "            'suggestCharts', [key], {});\n",
              "      } catch (error) {\n",
              "        console.error('Error during call to suggestCharts:', error);\n",
              "      }\n",
              "      quickchartButtonEl.classList.remove('colab-df-spinner');\n",
              "      quickchartButtonEl.classList.add('colab-df-quickchart-complete');\n",
              "    }\n",
              "    (() => {\n",
              "      let quickchartButtonEl =\n",
              "        document.querySelector('#df-380a5dd3-c686-4e6f-96ca-8b40a183db20 button');\n",
              "      quickchartButtonEl.style.display =\n",
              "        google.colab.kernel.accessAllowed ? 'block' : 'none';\n",
              "    })();\n",
              "  </script>\n",
              "</div>\n",
              "    </div>\n",
              "  </div>\n"
            ]
          },
          "metadata": {},
          "execution_count": 8
        }
      ],
      "source": [
        "framed.train_df"
      ]
    },
    {
      "cell_type": "code",
      "execution_count": 9,
      "metadata": {
        "colab": {
          "base_uri": "https://localhost:8080/",
          "height": 206
        },
        "id": "lGemH8GhUoiI",
        "outputId": "24a5053f-359b-440a-9683-fdee312c4113"
      },
      "outputs": [
        {
          "output_type": "execute_result",
          "data": {
            "text/plain": [
              "     primary_label  type  latitude  longitude  rating              filename  \\\n",
              "1043        comsan  call   43.7412    -7.8670     5.0   comsan/XC644655.ogg   \n",
              "1039       eaywag1  call   52.7354    -0.6666     4.0  eaywag1/XC492232.ogg   \n",
              "1040       eaywag1  call   56.2566    12.5237     3.0  eaywag1/XC593974.ogg   \n",
              "1041       eaywag1  call   45.0243    34.1899     3.0  eaywag1/XC569651.ogg   \n",
              "1042        comsan  call   59.3794    24.2407     3.0   comsan/XC579372.ogg   \n",
              "\n",
              "       duration country continent          filename_npy  set  \\\n",
              "1043   5.929812      ES    EUROPE   comsan/XC644655.npy  val   \n",
              "1039   8.019625      GB    EUROPE  eaywag1/XC492232.npy  val   \n",
              "1040  11.016000      SE    EUROPE  eaywag1/XC593974.npy  val   \n",
              "1041  18.912688      UA    EUROPE  eaywag1/XC569651.npy  val   \n",
              "1042   7.105000      EE    EUROPE   comsan/XC579372.npy  val   \n",
              "\n",
              "                                                 framed  \n",
              "1043  ((tf.Tensor(-7.086841e-06, shape=(), dtype=flo...  \n",
              "1039  ((tf.Tensor(8.97795e-06, shape=(), dtype=float...  \n",
              "1040  ((tf.Tensor(2.6969647e-06, shape=(), dtype=flo...  \n",
              "1041  ((tf.Tensor(3.4074765e-07, shape=(), dtype=flo...  \n",
              "1042  ((tf.Tensor(6.3799234e-06, shape=(), dtype=flo...  "
            ],
            "text/html": [
              "\n",
              "  <div id=\"df-d859bf2e-1b9c-4001-a1f4-8a357e5eacc0\" class=\"colab-df-container\">\n",
              "    <div>\n",
              "<style scoped>\n",
              "    .dataframe tbody tr th:only-of-type {\n",
              "        vertical-align: middle;\n",
              "    }\n",
              "\n",
              "    .dataframe tbody tr th {\n",
              "        vertical-align: top;\n",
              "    }\n",
              "\n",
              "    .dataframe thead th {\n",
              "        text-align: right;\n",
              "    }\n",
              "</style>\n",
              "<table border=\"1\" class=\"dataframe\">\n",
              "  <thead>\n",
              "    <tr style=\"text-align: right;\">\n",
              "      <th></th>\n",
              "      <th>primary_label</th>\n",
              "      <th>type</th>\n",
              "      <th>latitude</th>\n",
              "      <th>longitude</th>\n",
              "      <th>rating</th>\n",
              "      <th>filename</th>\n",
              "      <th>duration</th>\n",
              "      <th>country</th>\n",
              "      <th>continent</th>\n",
              "      <th>filename_npy</th>\n",
              "      <th>set</th>\n",
              "      <th>framed</th>\n",
              "    </tr>\n",
              "  </thead>\n",
              "  <tbody>\n",
              "    <tr>\n",
              "      <th>1043</th>\n",
              "      <td>comsan</td>\n",
              "      <td>call</td>\n",
              "      <td>43.7412</td>\n",
              "      <td>-7.8670</td>\n",
              "      <td>5.0</td>\n",
              "      <td>comsan/XC644655.ogg</td>\n",
              "      <td>5.929812</td>\n",
              "      <td>ES</td>\n",
              "      <td>EUROPE</td>\n",
              "      <td>comsan/XC644655.npy</td>\n",
              "      <td>val</td>\n",
              "      <td>((tf.Tensor(-7.086841e-06, shape=(), dtype=flo...</td>\n",
              "    </tr>\n",
              "    <tr>\n",
              "      <th>1039</th>\n",
              "      <td>eaywag1</td>\n",
              "      <td>call</td>\n",
              "      <td>52.7354</td>\n",
              "      <td>-0.6666</td>\n",
              "      <td>4.0</td>\n",
              "      <td>eaywag1/XC492232.ogg</td>\n",
              "      <td>8.019625</td>\n",
              "      <td>GB</td>\n",
              "      <td>EUROPE</td>\n",
              "      <td>eaywag1/XC492232.npy</td>\n",
              "      <td>val</td>\n",
              "      <td>((tf.Tensor(8.97795e-06, shape=(), dtype=float...</td>\n",
              "    </tr>\n",
              "    <tr>\n",
              "      <th>1040</th>\n",
              "      <td>eaywag1</td>\n",
              "      <td>call</td>\n",
              "      <td>56.2566</td>\n",
              "      <td>12.5237</td>\n",
              "      <td>3.0</td>\n",
              "      <td>eaywag1/XC593974.ogg</td>\n",
              "      <td>11.016000</td>\n",
              "      <td>SE</td>\n",
              "      <td>EUROPE</td>\n",
              "      <td>eaywag1/XC593974.npy</td>\n",
              "      <td>val</td>\n",
              "      <td>((tf.Tensor(2.6969647e-06, shape=(), dtype=flo...</td>\n",
              "    </tr>\n",
              "    <tr>\n",
              "      <th>1041</th>\n",
              "      <td>eaywag1</td>\n",
              "      <td>call</td>\n",
              "      <td>45.0243</td>\n",
              "      <td>34.1899</td>\n",
              "      <td>3.0</td>\n",
              "      <td>eaywag1/XC569651.ogg</td>\n",
              "      <td>18.912688</td>\n",
              "      <td>UA</td>\n",
              "      <td>EUROPE</td>\n",
              "      <td>eaywag1/XC569651.npy</td>\n",
              "      <td>val</td>\n",
              "      <td>((tf.Tensor(3.4074765e-07, shape=(), dtype=flo...</td>\n",
              "    </tr>\n",
              "    <tr>\n",
              "      <th>1042</th>\n",
              "      <td>comsan</td>\n",
              "      <td>call</td>\n",
              "      <td>59.3794</td>\n",
              "      <td>24.2407</td>\n",
              "      <td>3.0</td>\n",
              "      <td>comsan/XC579372.ogg</td>\n",
              "      <td>7.105000</td>\n",
              "      <td>EE</td>\n",
              "      <td>EUROPE</td>\n",
              "      <td>comsan/XC579372.npy</td>\n",
              "      <td>val</td>\n",
              "      <td>((tf.Tensor(6.3799234e-06, shape=(), dtype=flo...</td>\n",
              "    </tr>\n",
              "  </tbody>\n",
              "</table>\n",
              "</div>\n",
              "    <div class=\"colab-df-buttons\">\n",
              "\n",
              "  <div class=\"colab-df-container\">\n",
              "    <button class=\"colab-df-convert\" onclick=\"convertToInteractive('df-d859bf2e-1b9c-4001-a1f4-8a357e5eacc0')\"\n",
              "            title=\"Convert this dataframe to an interactive table.\"\n",
              "            style=\"display:none;\">\n",
              "\n",
              "  <svg xmlns=\"http://www.w3.org/2000/svg\" height=\"24px\" viewBox=\"0 -960 960 960\">\n",
              "    <path d=\"M120-120v-720h720v720H120Zm60-500h600v-160H180v160Zm220 220h160v-160H400v160Zm0 220h160v-160H400v160ZM180-400h160v-160H180v160Zm440 0h160v-160H620v160ZM180-180h160v-160H180v160Zm440 0h160v-160H620v160Z\"/>\n",
              "  </svg>\n",
              "    </button>\n",
              "\n",
              "  <style>\n",
              "    .colab-df-container {\n",
              "      display:flex;\n",
              "      gap: 12px;\n",
              "    }\n",
              "\n",
              "    .colab-df-convert {\n",
              "      background-color: #E8F0FE;\n",
              "      border: none;\n",
              "      border-radius: 50%;\n",
              "      cursor: pointer;\n",
              "      display: none;\n",
              "      fill: #1967D2;\n",
              "      height: 32px;\n",
              "      padding: 0 0 0 0;\n",
              "      width: 32px;\n",
              "    }\n",
              "\n",
              "    .colab-df-convert:hover {\n",
              "      background-color: #E2EBFA;\n",
              "      box-shadow: 0px 1px 2px rgba(60, 64, 67, 0.3), 0px 1px 3px 1px rgba(60, 64, 67, 0.15);\n",
              "      fill: #174EA6;\n",
              "    }\n",
              "\n",
              "    .colab-df-buttons div {\n",
              "      margin-bottom: 4px;\n",
              "    }\n",
              "\n",
              "    [theme=dark] .colab-df-convert {\n",
              "      background-color: #3B4455;\n",
              "      fill: #D2E3FC;\n",
              "    }\n",
              "\n",
              "    [theme=dark] .colab-df-convert:hover {\n",
              "      background-color: #434B5C;\n",
              "      box-shadow: 0px 1px 3px 1px rgba(0, 0, 0, 0.15);\n",
              "      filter: drop-shadow(0px 1px 2px rgba(0, 0, 0, 0.3));\n",
              "      fill: #FFFFFF;\n",
              "    }\n",
              "  </style>\n",
              "\n",
              "    <script>\n",
              "      const buttonEl =\n",
              "        document.querySelector('#df-d859bf2e-1b9c-4001-a1f4-8a357e5eacc0 button.colab-df-convert');\n",
              "      buttonEl.style.display =\n",
              "        google.colab.kernel.accessAllowed ? 'block' : 'none';\n",
              "\n",
              "      async function convertToInteractive(key) {\n",
              "        const element = document.querySelector('#df-d859bf2e-1b9c-4001-a1f4-8a357e5eacc0');\n",
              "        const dataTable =\n",
              "          await google.colab.kernel.invokeFunction('convertToInteractive',\n",
              "                                                    [key], {});\n",
              "        if (!dataTable) return;\n",
              "\n",
              "        const docLinkHtml = 'Like what you see? Visit the ' +\n",
              "          '<a target=\"_blank\" href=https://colab.research.google.com/notebooks/data_table.ipynb>data table notebook</a>'\n",
              "          + ' to learn more about interactive tables.';\n",
              "        element.innerHTML = '';\n",
              "        dataTable['output_type'] = 'display_data';\n",
              "        await google.colab.output.renderOutput(dataTable, element);\n",
              "        const docLink = document.createElement('div');\n",
              "        docLink.innerHTML = docLinkHtml;\n",
              "        element.appendChild(docLink);\n",
              "      }\n",
              "    </script>\n",
              "  </div>\n",
              "\n",
              "\n",
              "<div id=\"df-59c079d1-2bb0-4248-94bb-8d9fc830549c\">\n",
              "  <button class=\"colab-df-quickchart\" onclick=\"quickchart('df-59c079d1-2bb0-4248-94bb-8d9fc830549c')\"\n",
              "            title=\"Suggest charts.\"\n",
              "            style=\"display:none;\">\n",
              "\n",
              "<svg xmlns=\"http://www.w3.org/2000/svg\" height=\"24px\"viewBox=\"0 0 24 24\"\n",
              "     width=\"24px\">\n",
              "    <g>\n",
              "        <path d=\"M19 3H5c-1.1 0-2 .9-2 2v14c0 1.1.9 2 2 2h14c1.1 0 2-.9 2-2V5c0-1.1-.9-2-2-2zM9 17H7v-7h2v7zm4 0h-2V7h2v10zm4 0h-2v-4h2v4z\"/>\n",
              "    </g>\n",
              "</svg>\n",
              "  </button>\n",
              "\n",
              "<style>\n",
              "  .colab-df-quickchart {\n",
              "      --bg-color: #E8F0FE;\n",
              "      --fill-color: #1967D2;\n",
              "      --hover-bg-color: #E2EBFA;\n",
              "      --hover-fill-color: #174EA6;\n",
              "      --disabled-fill-color: #AAA;\n",
              "      --disabled-bg-color: #DDD;\n",
              "  }\n",
              "\n",
              "  [theme=dark] .colab-df-quickchart {\n",
              "      --bg-color: #3B4455;\n",
              "      --fill-color: #D2E3FC;\n",
              "      --hover-bg-color: #434B5C;\n",
              "      --hover-fill-color: #FFFFFF;\n",
              "      --disabled-bg-color: #3B4455;\n",
              "      --disabled-fill-color: #666;\n",
              "  }\n",
              "\n",
              "  .colab-df-quickchart {\n",
              "    background-color: var(--bg-color);\n",
              "    border: none;\n",
              "    border-radius: 50%;\n",
              "    cursor: pointer;\n",
              "    display: none;\n",
              "    fill: var(--fill-color);\n",
              "    height: 32px;\n",
              "    padding: 0;\n",
              "    width: 32px;\n",
              "  }\n",
              "\n",
              "  .colab-df-quickchart:hover {\n",
              "    background-color: var(--hover-bg-color);\n",
              "    box-shadow: 0 1px 2px rgba(60, 64, 67, 0.3), 0 1px 3px 1px rgba(60, 64, 67, 0.15);\n",
              "    fill: var(--button-hover-fill-color);\n",
              "  }\n",
              "\n",
              "  .colab-df-quickchart-complete:disabled,\n",
              "  .colab-df-quickchart-complete:disabled:hover {\n",
              "    background-color: var(--disabled-bg-color);\n",
              "    fill: var(--disabled-fill-color);\n",
              "    box-shadow: none;\n",
              "  }\n",
              "\n",
              "  .colab-df-spinner {\n",
              "    border: 2px solid var(--fill-color);\n",
              "    border-color: transparent;\n",
              "    border-bottom-color: var(--fill-color);\n",
              "    animation:\n",
              "      spin 1s steps(1) infinite;\n",
              "  }\n",
              "\n",
              "  @keyframes spin {\n",
              "    0% {\n",
              "      border-color: transparent;\n",
              "      border-bottom-color: var(--fill-color);\n",
              "      border-left-color: var(--fill-color);\n",
              "    }\n",
              "    20% {\n",
              "      border-color: transparent;\n",
              "      border-left-color: var(--fill-color);\n",
              "      border-top-color: var(--fill-color);\n",
              "    }\n",
              "    30% {\n",
              "      border-color: transparent;\n",
              "      border-left-color: var(--fill-color);\n",
              "      border-top-color: var(--fill-color);\n",
              "      border-right-color: var(--fill-color);\n",
              "    }\n",
              "    40% {\n",
              "      border-color: transparent;\n",
              "      border-right-color: var(--fill-color);\n",
              "      border-top-color: var(--fill-color);\n",
              "    }\n",
              "    60% {\n",
              "      border-color: transparent;\n",
              "      border-right-color: var(--fill-color);\n",
              "    }\n",
              "    80% {\n",
              "      border-color: transparent;\n",
              "      border-right-color: var(--fill-color);\n",
              "      border-bottom-color: var(--fill-color);\n",
              "    }\n",
              "    90% {\n",
              "      border-color: transparent;\n",
              "      border-bottom-color: var(--fill-color);\n",
              "    }\n",
              "  }\n",
              "</style>\n",
              "\n",
              "  <script>\n",
              "    async function quickchart(key) {\n",
              "      const quickchartButtonEl =\n",
              "        document.querySelector('#' + key + ' button');\n",
              "      quickchartButtonEl.disabled = true;  // To prevent multiple clicks.\n",
              "      quickchartButtonEl.classList.add('colab-df-spinner');\n",
              "      try {\n",
              "        const charts = await google.colab.kernel.invokeFunction(\n",
              "            'suggestCharts', [key], {});\n",
              "      } catch (error) {\n",
              "        console.error('Error during call to suggestCharts:', error);\n",
              "      }\n",
              "      quickchartButtonEl.classList.remove('colab-df-spinner');\n",
              "      quickchartButtonEl.classList.add('colab-df-quickchart-complete');\n",
              "    }\n",
              "    (() => {\n",
              "      let quickchartButtonEl =\n",
              "        document.querySelector('#df-59c079d1-2bb0-4248-94bb-8d9fc830549c button');\n",
              "      quickchartButtonEl.style.display =\n",
              "        google.colab.kernel.accessAllowed ? 'block' : 'none';\n",
              "    })();\n",
              "  </script>\n",
              "</div>\n",
              "    </div>\n",
              "  </div>\n"
            ]
          },
          "metadata": {},
          "execution_count": 9
        }
      ],
      "source": [
        "framed.val_df"
      ]
    },
    {
      "cell_type": "code",
      "execution_count": 10,
      "metadata": {
        "id": "grOlKtzHkxdA"
      },
      "outputs": [],
      "source": [
        "features_list = ['mfcc', 'chroma', 'rms', 'spectral_centroid', 'melspectrogram', 'continent', 'type', 'rating']"
      ]
    },
    {
      "cell_type": "code",
      "execution_count": 11,
      "metadata": {
        "colab": {
          "base_uri": "https://localhost:8080/",
          "height": 499
        },
        "id": "fWWuSjt_kzMV",
        "outputId": "f7ab3cb8-b037-4c46-c9a9-aa3d9429320d"
      },
      "outputs": [
        {
          "output_type": "display_data",
          "data": {
            "text/plain": [
              "'feature extraction started ---------->'"
            ],
            "application/vnd.google.colaboratory.intrinsic+json": {
              "type": "string"
            }
          },
          "metadata": {}
        },
        {
          "output_type": "stream",
          "name": "stderr",
          "text": [
            "/usr/local/lib/python3.10/dist-packages/librosa/core/pitch.py:101: UserWarning: Trying to estimate tuning from empty frequency set.\n",
            "  return pitch_tuning(\n"
          ]
        },
        {
          "output_type": "display_data",
          "data": {
            "text/plain": [
              "'features extraction took 0.1 mins'"
            ],
            "application/vnd.google.colaboratory.intrinsic+json": {
              "type": "string"
            }
          },
          "metadata": {}
        },
        {
          "output_type": "display_data",
          "data": {
            "text/plain": [
              "'feature extraction started ---------->'"
            ],
            "application/vnd.google.colaboratory.intrinsic+json": {
              "type": "string"
            }
          },
          "metadata": {}
        },
        {
          "output_type": "display_data",
          "data": {
            "text/plain": [
              "'features extraction took 0.0 mins'"
            ],
            "application/vnd.google.colaboratory.intrinsic+json": {
              "type": "string"
            }
          },
          "metadata": {}
        },
        {
          "output_type": "display_data",
          "data": {
            "text/plain": [
              "'features processing started ---------->'"
            ],
            "application/vnd.google.colaboratory.intrinsic+json": {
              "type": "string"
            }
          },
          "metadata": {}
        },
        {
          "output_type": "stream",
          "name": "stdout",
          "text": [
            "2/2 [==============================] - 0s 5ms/step\n",
            "1/1 [==============================] - 0s 22ms/step\n"
          ]
        },
        {
          "output_type": "display_data",
          "data": {
            "text/plain": [
              "'mfcc processed'"
            ],
            "application/vnd.google.colaboratory.intrinsic+json": {
              "type": "string"
            }
          },
          "metadata": {}
        },
        {
          "output_type": "stream",
          "name": "stdout",
          "text": [
            "2/2 [==============================] - 0s 8ms/step\n",
            "1/1 [==============================] - 0s 19ms/step\n"
          ]
        },
        {
          "output_type": "display_data",
          "data": {
            "text/plain": [
              "'chroma processed'"
            ],
            "application/vnd.google.colaboratory.intrinsic+json": {
              "type": "string"
            }
          },
          "metadata": {}
        },
        {
          "output_type": "stream",
          "name": "stdout",
          "text": [
            "2/2 [==============================] - 0s 5ms/step\n",
            "1/1 [==============================] - 0s 18ms/step\n"
          ]
        },
        {
          "output_type": "display_data",
          "data": {
            "text/plain": [
              "'rms processed'"
            ],
            "application/vnd.google.colaboratory.intrinsic+json": {
              "type": "string"
            }
          },
          "metadata": {}
        },
        {
          "output_type": "stream",
          "name": "stdout",
          "text": [
            "2/2 [==============================] - 0s 6ms/step\n",
            "1/1 [==============================] - 0s 19ms/step\n"
          ]
        },
        {
          "output_type": "display_data",
          "data": {
            "text/plain": [
              "'spectral_centroid processed'"
            ],
            "application/vnd.google.colaboratory.intrinsic+json": {
              "type": "string"
            }
          },
          "metadata": {}
        },
        {
          "output_type": "stream",
          "name": "stderr",
          "text": [
            "WARNING:tensorflow:5 out of the last 13 calls to <function Model.make_predict_function.<locals>.predict_function at 0x7f7cc8ffd360> triggered tf.function retracing. Tracing is expensive and the excessive number of tracings could be due to (1) creating @tf.function repeatedly in a loop, (2) passing tensors with different shapes, (3) passing Python objects instead of tensors. For (1), please define your @tf.function outside of the loop. For (2), @tf.function has reduce_retracing=True option that can avoid unnecessary retracing. For (3), please refer to https://www.tensorflow.org/guide/function#controlling_retracing and https://www.tensorflow.org/api_docs/python/tf/function for  more details.\n"
          ]
        },
        {
          "output_type": "stream",
          "name": "stdout",
          "text": [
            "2/2 [==============================] - 0s 4ms/step\n",
            "1/1 [==============================] - 0s 19ms/step\n"
          ]
        },
        {
          "output_type": "display_data",
          "data": {
            "text/plain": [
              "'melspectrogram processed'"
            ],
            "application/vnd.google.colaboratory.intrinsic+json": {
              "type": "string"
            }
          },
          "metadata": {}
        },
        {
          "output_type": "display_data",
          "data": {
            "text/plain": [
              "'features processing took 0.0 mins'"
            ],
            "application/vnd.google.colaboratory.intrinsic+json": {
              "type": "string"
            }
          },
          "metadata": {}
        },
        {
          "output_type": "stream",
          "name": "stdout",
          "text": [
            "CPU times: user 6.04 s, sys: 2.99 s, total: 9.03 s\n",
            "Wall time: 10.5 s\n"
          ]
        }
      ],
      "source": [
        "%%time\n",
        "\n",
        "features = Extraction(framed.train_df,\n",
        "                      framed.val_df,\n",
        "                      features=features_list,\n",
        "                      do_normalize=True,\n",
        "                      do_avgpool=True)"
      ]
    },
    {
      "cell_type": "code",
      "execution_count": 12,
      "metadata": {
        "colab": {
          "base_uri": "https://localhost:8080/",
          "height": 52
        },
        "id": "uA-mTxNcmzer",
        "outputId": "ba0bfcf2-8fdf-420a-ecc5-1bec65ff9231"
      },
      "outputs": [
        {
          "output_type": "display_data",
          "data": {
            "text/plain": [
              "(40,)"
            ]
          },
          "metadata": {}
        },
        {
          "output_type": "display_data",
          "data": {
            "text/plain": [
              "array(['comsan', 'comsan', 'comsan', 'comsan', 'comsan'], dtype='<U6')"
            ]
          },
          "metadata": {}
        }
      ],
      "source": [
        "train_y = features.train_y\n",
        "\n",
        "display(train_y.shape)\n",
        "display(train_y[:5])"
      ]
    },
    {
      "cell_type": "code",
      "execution_count": 13,
      "metadata": {
        "colab": {
          "base_uri": "https://localhost:8080/",
          "height": 617
        },
        "id": "oyJ24Dupm2GN",
        "outputId": "5f49b4f0-d306-42ea-bd37-e7b7327cf3f8"
      },
      "outputs": [
        {
          "output_type": "display_data",
          "data": {
            "text/plain": [
              "'mfcc'"
            ],
            "application/vnd.google.colaboratory.intrinsic+json": {
              "type": "string"
            }
          },
          "metadata": {}
        },
        {
          "output_type": "display_data",
          "data": {
            "text/plain": [
              "(40, 20)"
            ]
          },
          "metadata": {}
        },
        {
          "output_type": "display_data",
          "data": {
            "text/plain": [
              "array([0.7427209 , 0.20581514, 0.13455339, 0.43117392, 0.44616732,\n",
              "       0.445525  , 0.46254006, 0.5670132 , 0.39506927, 0.42854863,\n",
              "       0.2934668 , 0.39010987, 0.21329486, 0.22916535, 0.19343816,\n",
              "       0.16317555, 0.10437053, 0.23615992, 0.0448035 , 0.27527472],\n",
              "      dtype=float32)"
            ]
          },
          "metadata": {}
        },
        {
          "output_type": "display_data",
          "data": {
            "text/plain": [
              "'chroma'"
            ],
            "application/vnd.google.colaboratory.intrinsic+json": {
              "type": "string"
            }
          },
          "metadata": {}
        },
        {
          "output_type": "display_data",
          "data": {
            "text/plain": [
              "(40, 12)"
            ]
          },
          "metadata": {}
        },
        {
          "output_type": "display_data",
          "data": {
            "text/plain": [
              "array([0.61081326, 0.6407694 , 0.7264329 , 0.7448724 , 0.6790618 ,\n",
              "       0.7163921 , 0.5891423 , 0.6046873 , 0.6165784 , 0.5552559 ,\n",
              "       0.5983539 , 0.60385174], dtype=float32)"
            ]
          },
          "metadata": {}
        },
        {
          "output_type": "display_data",
          "data": {
            "text/plain": [
              "'rms'"
            ],
            "application/vnd.google.colaboratory.intrinsic+json": {
              "type": "string"
            }
          },
          "metadata": {}
        },
        {
          "output_type": "display_data",
          "data": {
            "text/plain": [
              "(40, 1)"
            ]
          },
          "metadata": {}
        },
        {
          "output_type": "display_data",
          "data": {
            "text/plain": [
              "array([0.05255991], dtype=float32)"
            ]
          },
          "metadata": {}
        },
        {
          "output_type": "display_data",
          "data": {
            "text/plain": [
              "'spectral_centroid'"
            ],
            "application/vnd.google.colaboratory.intrinsic+json": {
              "type": "string"
            }
          },
          "metadata": {}
        },
        {
          "output_type": "display_data",
          "data": {
            "text/plain": [
              "(40, 1)"
            ]
          },
          "metadata": {}
        },
        {
          "output_type": "display_data",
          "data": {
            "text/plain": [
              "array([0.76229584], dtype=float32)"
            ]
          },
          "metadata": {}
        },
        {
          "output_type": "display_data",
          "data": {
            "text/plain": [
              "'melspectrogram'"
            ],
            "application/vnd.google.colaboratory.intrinsic+json": {
              "type": "string"
            }
          },
          "metadata": {}
        },
        {
          "output_type": "display_data",
          "data": {
            "text/plain": [
              "(40, 20)"
            ]
          },
          "metadata": {}
        },
        {
          "output_type": "display_data",
          "data": {
            "text/plain": [
              "array([0.5381515 , 0.37269425, 0.37597787, 0.53354734, 0.56264013,\n",
              "       0.6113426 , 0.6772857 , 0.73664606, 0.78619957, 0.91693234,\n",
              "       0.96727914, 0.98384106, 0.9828732 , 0.9606077 , 0.9671836 ,\n",
              "       0.6439813 , 0.64516133, 0.743132  , 0.81357414, 0.8961234 ],\n",
              "      dtype=float32)"
            ]
          },
          "metadata": {}
        },
        {
          "output_type": "display_data",
          "data": {
            "text/plain": [
              "'continent'"
            ],
            "application/vnd.google.colaboratory.intrinsic+json": {
              "type": "string"
            }
          },
          "metadata": {}
        },
        {
          "output_type": "display_data",
          "data": {
            "text/plain": [
              "(40,)"
            ]
          },
          "metadata": {}
        },
        {
          "output_type": "display_data",
          "data": {
            "text/plain": [
              "'EUROPE'"
            ],
            "application/vnd.google.colaboratory.intrinsic+json": {
              "type": "string"
            }
          },
          "metadata": {}
        },
        {
          "output_type": "display_data",
          "data": {
            "text/plain": [
              "'type'"
            ],
            "application/vnd.google.colaboratory.intrinsic+json": {
              "type": "string"
            }
          },
          "metadata": {}
        },
        {
          "output_type": "display_data",
          "data": {
            "text/plain": [
              "(40,)"
            ]
          },
          "metadata": {}
        },
        {
          "output_type": "display_data",
          "data": {
            "text/plain": [
              "'call'"
            ],
            "application/vnd.google.colaboratory.intrinsic+json": {
              "type": "string"
            }
          },
          "metadata": {}
        },
        {
          "output_type": "display_data",
          "data": {
            "text/plain": [
              "'rating'"
            ],
            "application/vnd.google.colaboratory.intrinsic+json": {
              "type": "string"
            }
          },
          "metadata": {}
        },
        {
          "output_type": "display_data",
          "data": {
            "text/plain": [
              "(40,)"
            ]
          },
          "metadata": {}
        },
        {
          "output_type": "display_data",
          "data": {
            "text/plain": [
              "3.0"
            ]
          },
          "metadata": {}
        }
      ],
      "source": [
        "train_features = features.train_features\n",
        "\n",
        "for key in train_features.keys():\n",
        "  display(key)\n",
        "  display(train_features[key].shape)\n",
        "  display(train_features[key][0])"
      ]
    },
    {
      "cell_type": "code",
      "execution_count": 14,
      "metadata": {
        "colab": {
          "base_uri": "https://localhost:8080/",
          "height": 52
        },
        "id": "SsRTj5y9m6M9",
        "outputId": "e36b9e23-b72a-4ec3-d83b-6148d3c21ce4"
      },
      "outputs": [
        {
          "output_type": "display_data",
          "data": {
            "text/plain": [
              "(13,)"
            ]
          },
          "metadata": {}
        },
        {
          "output_type": "display_data",
          "data": {
            "text/plain": [
              "array(['comsan', 'eaywag1', 'eaywag1', 'eaywag1', 'eaywag1'], dtype='<U7')"
            ]
          },
          "metadata": {}
        }
      ],
      "source": [
        "val_y = features.val_y\n",
        "val_y = np.array(val_y)\n",
        "\n",
        "display(val_y.shape)\n",
        "display(val_y[:5])"
      ]
    },
    {
      "cell_type": "code",
      "execution_count": 15,
      "metadata": {
        "colab": {
          "base_uri": "https://localhost:8080/",
          "height": 617
        },
        "id": "IHUoCXnFm89Q",
        "outputId": "e306bc8f-534c-447c-9d74-44627e68f903"
      },
      "outputs": [
        {
          "output_type": "display_data",
          "data": {
            "text/plain": [
              "'mfcc'"
            ],
            "application/vnd.google.colaboratory.intrinsic+json": {
              "type": "string"
            }
          },
          "metadata": {}
        },
        {
          "output_type": "display_data",
          "data": {
            "text/plain": [
              "(13, 20)"
            ]
          },
          "metadata": {}
        },
        {
          "output_type": "display_data",
          "data": {
            "text/plain": [
              "array([-0.09305231,  1.104807  ,  1.2074847 ,  1.5024759 ,  1.1166075 ,\n",
              "        1.1644051 ,  0.8122131 ,  1.2262616 ,  0.73352337,  0.7984767 ,\n",
              "        0.7414374 ,  0.95097125,  1.3437722 ,  0.9253728 ,  1.0289221 ,\n",
              "        0.79905325,  0.8307996 ,  0.9090003 ,  0.7373432 ,  0.93721193],\n",
              "      dtype=float32)"
            ]
          },
          "metadata": {}
        },
        {
          "output_type": "display_data",
          "data": {
            "text/plain": [
              "'chroma'"
            ],
            "application/vnd.google.colaboratory.intrinsic+json": {
              "type": "string"
            }
          },
          "metadata": {}
        },
        {
          "output_type": "display_data",
          "data": {
            "text/plain": [
              "(13, 12)"
            ]
          },
          "metadata": {}
        },
        {
          "output_type": "display_data",
          "data": {
            "text/plain": [
              "array([0.09687231, 0.09037615, 0.12890504, 0.22399275, 0.40237024,\n",
              "       0.6029498 , 0.85613585, 0.89852566, 0.86298704, 0.8093161 ,\n",
              "       0.56014264, 0.2702567 ], dtype=float32)"
            ]
          },
          "metadata": {}
        },
        {
          "output_type": "display_data",
          "data": {
            "text/plain": [
              "'rms'"
            ],
            "application/vnd.google.colaboratory.intrinsic+json": {
              "type": "string"
            }
          },
          "metadata": {}
        },
        {
          "output_type": "display_data",
          "data": {
            "text/plain": [
              "(13, 1)"
            ]
          },
          "metadata": {}
        },
        {
          "output_type": "display_data",
          "data": {
            "text/plain": [
              "array([0.11229729], dtype=float32)"
            ]
          },
          "metadata": {}
        },
        {
          "output_type": "display_data",
          "data": {
            "text/plain": [
              "'spectral_centroid'"
            ],
            "application/vnd.google.colaboratory.intrinsic+json": {
              "type": "string"
            }
          },
          "metadata": {}
        },
        {
          "output_type": "display_data",
          "data": {
            "text/plain": [
              "(13, 1)"
            ]
          },
          "metadata": {}
        },
        {
          "output_type": "display_data",
          "data": {
            "text/plain": [
              "array([0.21533456], dtype=float32)"
            ]
          },
          "metadata": {}
        },
        {
          "output_type": "display_data",
          "data": {
            "text/plain": [
              "'melspectrogram'"
            ],
            "application/vnd.google.colaboratory.intrinsic+json": {
              "type": "string"
            }
          },
          "metadata": {}
        },
        {
          "output_type": "display_data",
          "data": {
            "text/plain": [
              "(13, 20)"
            ]
          },
          "metadata": {}
        },
        {
          "output_type": "display_data",
          "data": {
            "text/plain": [
              "array([ 0.8768805 ,  0.3380551 ,  0.22273085,  0.00999372, -0.09355186,\n",
              "       -0.07294122, -0.06786255, -0.20101918, -0.29758716, -0.33090132,\n",
              "       -0.22231796, -0.22743276, -0.2567322 , -0.2839716 , -0.2762019 ,\n",
              "       -0.12873568,  0.07311958,  0.18702364, -0.04665495, -0.27313286],\n",
              "      dtype=float32)"
            ]
          },
          "metadata": {}
        },
        {
          "output_type": "display_data",
          "data": {
            "text/plain": [
              "'continent'"
            ],
            "application/vnd.google.colaboratory.intrinsic+json": {
              "type": "string"
            }
          },
          "metadata": {}
        },
        {
          "output_type": "display_data",
          "data": {
            "text/plain": [
              "(13,)"
            ]
          },
          "metadata": {}
        },
        {
          "output_type": "display_data",
          "data": {
            "text/plain": [
              "'EUROPE'"
            ],
            "application/vnd.google.colaboratory.intrinsic+json": {
              "type": "string"
            }
          },
          "metadata": {}
        },
        {
          "output_type": "display_data",
          "data": {
            "text/plain": [
              "'type'"
            ],
            "application/vnd.google.colaboratory.intrinsic+json": {
              "type": "string"
            }
          },
          "metadata": {}
        },
        {
          "output_type": "display_data",
          "data": {
            "text/plain": [
              "(13,)"
            ]
          },
          "metadata": {}
        },
        {
          "output_type": "display_data",
          "data": {
            "text/plain": [
              "'call'"
            ],
            "application/vnd.google.colaboratory.intrinsic+json": {
              "type": "string"
            }
          },
          "metadata": {}
        },
        {
          "output_type": "display_data",
          "data": {
            "text/plain": [
              "'rating'"
            ],
            "application/vnd.google.colaboratory.intrinsic+json": {
              "type": "string"
            }
          },
          "metadata": {}
        },
        {
          "output_type": "display_data",
          "data": {
            "text/plain": [
              "(13,)"
            ]
          },
          "metadata": {}
        },
        {
          "output_type": "display_data",
          "data": {
            "text/plain": [
              "5.0"
            ]
          },
          "metadata": {}
        }
      ],
      "source": [
        "val_features = features.val_features\n",
        "\n",
        "for key in val_features.keys():\n",
        "  display(key)\n",
        "  display(val_features[key].shape)\n",
        "  display(val_features[key][0])"
      ]
    }
  ],
  "metadata": {
    "colab": {
      "provenance": []
    },
    "kernelspec": {
      "display_name": "Python 3",
      "name": "python3"
    },
    "language_info": {
      "name": "python"
    }
  },
  "nbformat": 4,
  "nbformat_minor": 0
}